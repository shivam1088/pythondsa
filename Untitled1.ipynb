{
 "cells": [
  {
   "cell_type": "code",
   "execution_count": 4,
   "id": "b51a15a7",
   "metadata": {},
   "outputs": [
    {
     "name": "stdout",
     "output_type": "stream",
     "text": [
      "enter a line of text:sfdfghfge\n",
      "upper case data: SFDFGHFGE\n"
     ]
    }
   ],
   "source": [
    "def converter(kvr):\n",
    "    def caseconverter():\n",
    "        text=kvr()\n",
    "        res=text.upper()\n",
    "        return res\n",
    "    return caseconverter\n",
    "@converter\n",
    "def getline():\n",
    "    line=input(\"enter a line of text:\")\n",
    "    return line\n",
    "res=getline()\n",
    "print(\"upper case data:\",res)"
   ]
  },
  {
   "cell_type": "code",
   "execution_count": 3,
   "id": "4fb238c5",
   "metadata": {},
   "outputs": [
    {
     "data": {
      "text/plain": [
       "array(['10', 'rossume', '34', '5', 'True', '(4+5j)'], dtype='<U64')"
      ]
     },
     "execution_count": 3,
     "metadata": {},
     "output_type": "execute_result"
    }
   ],
   "source": [
    "import numpy as np\n",
    "b=np.array([10,'rossume',34,5,True,4+5j])\n",
    "b"
   ]
  },
  {
   "cell_type": "code",
   "execution_count": 9,
   "id": "13d07297",
   "metadata": {},
   "outputs": [
    {
     "name": "stdout",
     "output_type": "stream",
     "text": [
      "7\n",
      "1\n",
      "6\n",
      "5\n",
      "1\n",
      "===================================\n",
      "1026\n",
      "1040\n",
      "1005\n",
      "1030\n",
      "1077\n",
      "===========================\n"
     ]
    }
   ],
   "source": [
    "import random\n",
    "for i in range(1,6):\n",
    "    print(random.randrange(10))\n",
    "print(\"===================================\")\n",
    "for i in range(1,6):\n",
    "    print(random.randrange(1000,1100))\n",
    "print('===========================')"
   ]
  },
  {
   "cell_type": "code",
   "execution_count": 10,
   "id": "1ae5facb",
   "metadata": {},
   "outputs": [
    {
     "name": "stdout",
     "output_type": "stream",
     "text": [
      "76\n"
     ]
    }
   ],
   "source": [
    "import random\n",
    "print(random.randint(10,150))"
   ]
  },
  {
   "cell_type": "code",
   "execution_count": 13,
   "id": "93a67a4c",
   "metadata": {},
   "outputs": [
    {
     "name": "stdout",
     "output_type": "stream",
     "text": [
      "['k', 'j', 'r', '%', '&']\n"
     ]
    },
    {
     "ename": "TypeError",
     "evalue": "bad operand type for unary -: 'list'",
     "output_type": "error",
     "traceback": [
      "\u001b[1;31m---------------------------------------------------------------------------\u001b[0m",
      "\u001b[1;31mTypeError\u001b[0m                                 Traceback (most recent call last)",
      "\u001b[1;32m~\\AppData\\Local\\Temp\\ipykernel_27580\\427944601.py\u001b[0m in \u001b[0;36m<module>\u001b[1;34m\u001b[0m\n\u001b[0;32m      1\u001b[0m \u001b[1;32mimport\u001b[0m \u001b[0mrandom\u001b[0m\u001b[1;33m\u001b[0m\u001b[1;33m\u001b[0m\u001b[0m\n\u001b[0;32m      2\u001b[0m \u001b[0ms\u001b[0m\u001b[1;33m=\u001b[0m\u001b[1;34m\"ABCabcERTYUertyu$%^&*#@!%^&ghjkiyl\"\u001b[0m\u001b[1;33m\u001b[0m\u001b[1;33m\u001b[0m\u001b[0m\n\u001b[1;32m----> 3\u001b[1;33m \u001b[0mprint\u001b[0m\u001b[1;33m(\u001b[0m\u001b[0mrandom\u001b[0m\u001b[1;33m.\u001b[0m\u001b[0msample\u001b[0m\u001b[1;33m(\u001b[0m\u001b[0ms\u001b[0m\u001b[1;33m,\u001b[0m\u001b[1;36m5\u001b[0m\u001b[1;33m)\u001b[0m\u001b[1;33m)\u001b[0m\u001b[1;33m-\u001b[0m\u001b[1;33m-\u001b[0m\u001b[1;33m-\u001b[0m\u001b[1;33m-\u001b[0m\u001b[1;33m-\u001b[0m\u001b[1;33m-\u001b[0m\u001b[1;33m-\u001b[0m\u001b[1;33m-\u001b[0m\u001b[1;33m-\u001b[0m\u001b[1;33m-\u001b[0m\u001b[1;33m[\u001b[0m\u001b[1;34m'A'\u001b[0m\u001b[1;33m,\u001b[0m \u001b[1;34m'*'\u001b[0m\u001b[1;33m,\u001b[0m \u001b[1;34m'^'\u001b[0m\u001b[1;33m,\u001b[0m \u001b[1;34m'j'\u001b[0m\u001b[1;33m,\u001b[0m \u001b[1;34m't'\u001b[0m\u001b[1;33m]\u001b[0m\u001b[1;33m\u001b[0m\u001b[1;33m\u001b[0m\u001b[0m\n\u001b[0m\u001b[0;32m      4\u001b[0m \u001b[0mprint\u001b[0m\u001b[1;33m(\u001b[0m\u001b[0mrandom\u001b[0m\u001b[1;33m.\u001b[0m\u001b[0msample\u001b[0m\u001b[1;33m(\u001b[0m\u001b[0ms\u001b[0m\u001b[1;33m,\u001b[0m\u001b[1;36m5\u001b[0m\u001b[1;33m)\u001b[0m\u001b[1;33m)\u001b[0m\u001b[1;33m-\u001b[0m\u001b[1;33m-\u001b[0m\u001b[1;33m-\u001b[0m\u001b[1;33m-\u001b[0m\u001b[1;33m-\u001b[0m\u001b[1;33m-\u001b[0m\u001b[1;33m-\u001b[0m\u001b[1;33m-\u001b[0m\u001b[1;33m-\u001b[0m\u001b[1;33m[\u001b[0m\u001b[1;34m'%'\u001b[0m\u001b[1;33m,\u001b[0m \u001b[1;34m'l'\u001b[0m\u001b[1;33m,\u001b[0m \u001b[1;34m'b'\u001b[0m\u001b[1;33m,\u001b[0m \u001b[1;34m'C'\u001b[0m\u001b[1;33m,\u001b[0m \u001b[1;34m'y'\u001b[0m\u001b[1;33m]\u001b[0m\u001b[1;33m\u001b[0m\u001b[1;33m\u001b[0m\u001b[0m\n\u001b[0;32m      5\u001b[0m \u001b[0mprint\u001b[0m\u001b[1;33m(\u001b[0m\u001b[0mrandom\u001b[0m\u001b[1;33m.\u001b[0m\u001b[0msample\u001b[0m\u001b[1;33m(\u001b[0m\u001b[0ms\u001b[0m\u001b[1;33m,\u001b[0m\u001b[1;36m5\u001b[0m\u001b[1;33m)\u001b[0m\u001b[1;33m)\u001b[0m\u001b[1;33m-\u001b[0m\u001b[1;33m-\u001b[0m\u001b[1;33m-\u001b[0m\u001b[1;33m-\u001b[0m\u001b[1;33m-\u001b[0m\u001b[1;33m-\u001b[0m\u001b[1;33m-\u001b[0m\u001b[1;33m-\u001b[0m\u001b[1;33m-\u001b[0m\u001b[1;33m-\u001b[0m\u001b[1;33m[\u001b[0m\u001b[1;34m'%'\u001b[0m\u001b[1;33m,\u001b[0m \u001b[1;34m'e'\u001b[0m\u001b[1;33m,\u001b[0m \u001b[1;34m'Y'\u001b[0m\u001b[1;33m,\u001b[0m \u001b[1;34m'j'\u001b[0m\u001b[1;33m,\u001b[0m \u001b[1;34m'u'\u001b[0m\u001b[1;33m]\u001b[0m\u001b[1;33m\u001b[0m\u001b[1;33m\u001b[0m\u001b[0m\n",
      "\u001b[1;31mTypeError\u001b[0m: bad operand type for unary -: 'list'"
     ]
    }
   ],
   "source": [
    "import random\n",
    "s=\"ABCabcERTYUertyu$%^&*#@!%^&ghjkiyl\"\n",
    "print(random.sample(s,5))----------['A', '*', '^', 'j', 't']\n",
    "print(random.sample(s,5))---------['%', 'l', 'b', 'C', 'y']\n",
    "print(random.sample(s,5))----------['%', 'e', 'Y', 'j', 'u']\n"
   ]
  },
  {
   "cell_type": "code",
   "execution_count": 5,
   "id": "9862ac29",
   "metadata": {},
   "outputs": [
    {
     "name": "stdout",
     "output_type": "stream",
     "text": [
      "file already exist\n"
     ]
    }
   ],
   "source": [
    "try:\n",
    "    with open(\"shi.data\",\"x\") as fp:\n",
    "        print(\"file opened in write mode\")\n",
    "        print(\"---------------------------------\")\n",
    "        print(\"file name:\",fp.name)\n",
    "        print(\"file opening mode\",fp.mode)\n",
    "        print(\"Is this File Readable:\",fp.readable())\n",
    "        print(\"Is this File Writable:\",fp.writable())\n",
    "        print(\"Is this File closed:\",fp.closed)\n",
    "except FileExistsError:\n",
    "    print(\"file already exist\")"
   ]
  },
  {
   "cell_type": "code",
   "execution_count": 5,
   "id": "f58e8d54",
   "metadata": {},
   "outputs": [
    {
     "name": "stdout",
     "output_type": "stream",
     "text": [
      "0\n",
      "1\n",
      "2\n",
      "['Gfg', 'is', 'best', 'is', 'is', 'is', 'is', 'is', 'is', 'is', 'Gfg', 'Gfg', 'Gfg', 'Gfg', 'Gfg', 'Gfg', 'Gfg']\n"
     ]
    }
   ],
   "source": [
    "l=['Gfg', 'is', 'best']\n",
    "l2=[0, 1, 2,1,1,1,1,1,1,1,0,0,0,0,0,0,0]\n",
    "for i in range(len(l)):\n",
    "    print(i)\n",
    "    for j in range(len(l2)):\n",
    "        if l2[j]==i:\n",
    "            l2[j]=l[i]\n",
    "print(l2)"
   ]
  },
  {
   "cell_type": "code",
   "execution_count": 7,
   "id": "5b6af133",
   "metadata": {},
   "outputs": [
    {
     "name": "stdout",
     "output_type": "stream",
     "text": [
      "file does not exist\n"
     ]
    }
   ],
   "source": [
    "import csv\n",
    "try:\n",
    "    with open(\"emp.csv\",\"r\") as fp:\n",
    "        print(\"================================\")\n",
    "        csvr=csv.reader(fp)\n",
    "        for record in csvr:\n",
    "            for val in record:\n",
    "                print(\"{}\".format(val),end=\"\\t\")\n",
    "                print()\n",
    "        print(\"================================\")\n",
    "except FileNotFoundError:\n",
    "    print(\"file does not exist\")"
   ]
  },
  {
   "cell_type": "code",
   "execution_count": 10,
   "id": "72baa8c8",
   "metadata": {},
   "outputs": [
    {
     "ename": "SyntaxError",
     "evalue": "EOL while scanning string literal (2795538777.py, line 4)",
     "output_type": "error",
     "traceback": [
      "\u001b[1;36m  File \u001b[1;32m\"C:\\Users\\shivam kumar gupta\\AppData\\Local\\Temp\\ipykernel_10464\\2795538777.py\"\u001b[1;36m, line \u001b[1;32m4\u001b[0m\n\u001b[1;33m    print(\"--------------------------------------------------\u001b[0m\n\u001b[1;37m                                                             ^\u001b[0m\n\u001b[1;31mSyntaxError\u001b[0m\u001b[1;31m:\u001b[0m EOL while scanning string literal\n"
     ]
    }
   ],
   "source": [
    "import csv # Step-1\n",
    "with open(\"emp.csv\",\"a\") as fp:\n",
    "    while(True):\n",
    "        print(\"--------------------------------------------------\n",
    "        --\")\n",
    "        #accept the employee values from KBD\n",
    "        eno=int(input(\"Enter Employee Number:\"))\n",
    "        ename=input(\"Enter Employee Name:\")\n",
    "        sal=float(input(\"Enter Employee Salary:\"))\n",
    "        dsg=input(\"Enter Employee Desgination:\")\n",
    "        #create an empty list\n",
    "        lst=list()\n",
    "        #append employee Data to list object\n",
    "        lst.append(eno)\n",
    "        lst.append(ename)\n",
    "        lst.append(sal)\n",
    "        lst.append(dsg)\n",
    "        #create an object ccsv.Writer object\n",
    "        csvwr=csv.writer(fp)\n",
    "        #write record data to csv file---writerow()\n",
    "        csvwr.writerow(lst)\n",
    "        print(\"Recod Saved in a File:\")\n",
    "        print(\"--------------------------------------------------\n",
    "        --\")\n",
    "        ch=input(\"Do u want to insert another Record(yes/no):\")\n",
    "        if(ch.lower()==\"no\"):\n",
    "              break"
   ]
  },
  {
   "cell_type": "code",
   "execution_count": 11,
   "id": "ef0a5474",
   "metadata": {
    "scrolled": true
   },
   "outputs": [
    {
     "name": "stdout",
     "output_type": "stream",
     "text": [
      "10\n",
      "15\n",
      "20\n",
      "25\n",
      "30\n",
      "35\n",
      "40\n",
      "45\n",
      "50\n",
      "55\n",
      "60\n",
      "65\n",
      "70\n",
      "75\n",
      "80\n",
      "85\n",
      "90\n",
      "95\n"
     ]
    }
   ],
   "source": [
    "r=range(10,100,5)\n",
    "for val in r:\n",
    "    print(val)"
   ]
  },
  {
   "cell_type": "code",
   "execution_count": 20,
   "id": "68668821",
   "metadata": {},
   "outputs": [
    {
     "name": "stdout",
     "output_type": "stream",
     "text": [
      "content of g= <generator object kvr at 0x0000021A157792E0>\n",
      "=================================\n",
      "0\n",
      "1\n",
      "2\n",
      "3\n",
      "4\n",
      "5\n",
      "6\n",
      "7\n",
      "8\n",
      "9\n",
      "10\n",
      "11\n",
      "12\n",
      "13\n",
      "14\n",
      "15\n",
      "16\n",
      "17\n",
      "18\n",
      "19\n",
      "20\n",
      "------------------------------------\n"
     ]
    }
   ],
   "source": [
    "def kvr(begin,end):\n",
    "    while(begin<=end):\n",
    "        yield begin\n",
    "        begin+=1\n",
    "g=kvr(10,20)\n",
    "print(\"content of g=\",g)\n",
    "print(\"========================\")\n",
    "while(True):\n",
    "    try:\n",
    "        print(next(g))\n",
    "    except StopIteration:\n",
    "        print(\"-------------------------------\")\n",
    "        break\n",
    "print(\"\")"
   ]
  },
  {
   "cell_type": "code",
   "execution_count": 22,
   "id": "8bb07f9f",
   "metadata": {},
   "outputs": [
    {
     "name": "stdout",
     "output_type": "stream",
     "text": [
      "python\n",
      "java\n",
      "DSA\n",
      "DSC\n"
     ]
    }
   ],
   "source": [
    "def getcourse():\n",
    "    yield \"python\"\n",
    "    yield \"java\"\n",
    "    yield \"DSA\"\n",
    "    yield \"DSC\"\n",
    "crs=getcourse()\n",
    "print(next(crs))\n",
    "print(next(crs))\n",
    "print(next(crs))\n",
    "print(next(crs))"
   ]
  },
  {
   "cell_type": "code",
   "execution_count": 25,
   "id": "9e784e46",
   "metadata": {},
   "outputs": [
    {
     "name": "stdout",
     "output_type": "stream",
     "text": [
      "shivam\n",
      "kumar\n",
      "gupta\n",
      "good\n",
      "Boy\n"
     ]
    },
    {
     "ename": "StopIteration",
     "evalue": "",
     "output_type": "error",
     "traceback": [
      "\u001b[1;31m---------------------------------------------------------------------------\u001b[0m",
      "\u001b[1;31mStopIteration\u001b[0m                             Traceback (most recent call last)",
      "\u001b[1;32m~\\AppData\\Local\\Temp\\ipykernel_10464\\3438753678.py\u001b[0m in \u001b[0;36m<module>\u001b[1;34m\u001b[0m\n\u001b[0;32m     11\u001b[0m \u001b[0mprint\u001b[0m\u001b[1;33m(\u001b[0m\u001b[0mnext\u001b[0m\u001b[1;33m(\u001b[0m\u001b[0mcs\u001b[0m\u001b[1;33m)\u001b[0m\u001b[1;33m)\u001b[0m\u001b[1;33m\u001b[0m\u001b[1;33m\u001b[0m\u001b[0m\n\u001b[0;32m     12\u001b[0m \u001b[0mprint\u001b[0m\u001b[1;33m(\u001b[0m\u001b[0mnext\u001b[0m\u001b[1;33m(\u001b[0m\u001b[0mcs\u001b[0m\u001b[1;33m)\u001b[0m\u001b[1;33m)\u001b[0m\u001b[1;33m\u001b[0m\u001b[1;33m\u001b[0m\u001b[0m\n\u001b[1;32m---> 13\u001b[1;33m \u001b[0mprint\u001b[0m\u001b[1;33m(\u001b[0m\u001b[0mnext\u001b[0m\u001b[1;33m(\u001b[0m\u001b[0mcs\u001b[0m\u001b[1;33m)\u001b[0m\u001b[1;33m)\u001b[0m\u001b[1;33m\u001b[0m\u001b[1;33m\u001b[0m\u001b[0m\n\u001b[0m",
      "\u001b[1;31mStopIteration\u001b[0m: "
     ]
    }
   ],
   "source": [
    "def crs():\n",
    "    yield \"shivam\"\n",
    "    yield \"kumar\"\n",
    "    yield \"gupta\"\n",
    "    yield \"good\"\n",
    "    yield \"Boy\"\n",
    "cs=crs()\n",
    "print(next(cs))\n",
    "print(next(cs))\n",
    "print(next(cs))\n",
    "print(next(cs))\n",
    "print(next(cs))\n",
    "print(next(cs))"
   ]
  },
  {
   "cell_type": "code",
   "execution_count": 29,
   "id": "9230e806",
   "metadata": {},
   "outputs": [
    {
     "name": "stdout",
     "output_type": "stream",
     "text": [
      "17\n"
     ]
    }
   ],
   "source": [
    "msg=\"dfjhsUYTYGJBB*^%\"\n",
    "x=msg.count(\"\")\n",
    "print(x)"
   ]
  },
  {
   "cell_type": "code",
   "execution_count": 30,
   "id": "f9ed7a16",
   "metadata": {},
   "outputs": [
    {
     "ename": "NameError",
     "evalue": "name 'Stopiteration' is not defined",
     "output_type": "error",
     "traceback": [
      "\u001b[1;31m---------------------------------------------------------------------------\u001b[0m",
      "\u001b[1;31mTypeError\u001b[0m                                 Traceback (most recent call last)",
      "\u001b[1;32m~\\AppData\\Local\\Temp\\ipykernel_10464\\2129458354.py\u001b[0m in \u001b[0;36m<module>\u001b[1;34m\u001b[0m\n\u001b[0;32m      4\u001b[0m     \u001b[1;32mtry\u001b[0m\u001b[1;33m:\u001b[0m\u001b[1;33m\u001b[0m\u001b[1;33m\u001b[0m\u001b[0m\n\u001b[1;32m----> 5\u001b[1;33m         \u001b[0mitem\u001b[0m\u001b[1;33m=\u001b[0m\u001b[0mnext\u001b[0m\u001b[1;33m(\u001b[0m\u001b[0ms\u001b[0m\u001b[1;33m)\u001b[0m\u001b[1;33m\u001b[0m\u001b[1;33m\u001b[0m\u001b[0m\n\u001b[0m\u001b[0;32m      6\u001b[0m         \u001b[0mprint\u001b[0m\u001b[1;33m(\u001b[0m\u001b[0mitem\u001b[0m\u001b[1;33m)\u001b[0m\u001b[1;33m\u001b[0m\u001b[1;33m\u001b[0m\u001b[0m\n",
      "\u001b[1;31mTypeError\u001b[0m: 'str' object is not an iterator",
      "\nDuring handling of the above exception, another exception occurred:\n",
      "\u001b[1;31mNameError\u001b[0m                                 Traceback (most recent call last)",
      "\u001b[1;32m~\\AppData\\Local\\Temp\\ipykernel_10464\\2129458354.py\u001b[0m in \u001b[0;36m<module>\u001b[1;34m\u001b[0m\n\u001b[0;32m      5\u001b[0m         \u001b[0mitem\u001b[0m\u001b[1;33m=\u001b[0m\u001b[0mnext\u001b[0m\u001b[1;33m(\u001b[0m\u001b[0ms\u001b[0m\u001b[1;33m)\u001b[0m\u001b[1;33m\u001b[0m\u001b[1;33m\u001b[0m\u001b[0m\n\u001b[0;32m      6\u001b[0m         \u001b[0mprint\u001b[0m\u001b[1;33m(\u001b[0m\u001b[0mitem\u001b[0m\u001b[1;33m)\u001b[0m\u001b[1;33m\u001b[0m\u001b[1;33m\u001b[0m\u001b[0m\n\u001b[1;32m----> 7\u001b[1;33m     \u001b[1;32mexcept\u001b[0m \u001b[0mStopiteration\u001b[0m\u001b[1;33m:\u001b[0m\u001b[1;33m\u001b[0m\u001b[1;33m\u001b[0m\u001b[0m\n\u001b[0m\u001b[0;32m      8\u001b[0m         \u001b[1;32mbreak\u001b[0m\u001b[1;33m\u001b[0m\u001b[1;33m\u001b[0m\u001b[0m\n",
      "\u001b[1;31mNameError\u001b[0m: name 'Stopiteration' is not defined"
     ]
    }
   ],
   "source": [
    "s=\"python\"\n",
    "itobj=iter(s)\n",
    "while(True):\n",
    "    try:\n",
    "        item=next(s)\n",
    "        print(item)\n",
    "    except Stopiteration:\n",
    "        break"
   ]
  },
  {
   "cell_type": "code",
   "execution_count": 33,
   "id": "008f3dce",
   "metadata": {},
   "outputs": [
    {
     "name": "stdout",
     "output_type": "stream",
     "text": [
      "apple\n",
      "banana\n",
      "cherry\n"
     ]
    },
    {
     "ename": "StopIteration",
     "evalue": "",
     "output_type": "error",
     "traceback": [
      "\u001b[1;31m---------------------------------------------------------------------------\u001b[0m",
      "\u001b[1;31mStopIteration\u001b[0m                             Traceback (most recent call last)",
      "\u001b[1;32m~\\AppData\\Local\\Temp\\ipykernel_10464\\674361726.py\u001b[0m in \u001b[0;36m<module>\u001b[1;34m\u001b[0m\n\u001b[0;32m      5\u001b[0m \u001b[1;33m\u001b[0m\u001b[0m\n\u001b[0;32m      6\u001b[0m \u001b[0mprint\u001b[0m\u001b[1;33m(\u001b[0m\u001b[0mnext\u001b[0m\u001b[1;33m(\u001b[0m\u001b[0mmyit\u001b[0m\u001b[1;33m)\u001b[0m\u001b[1;33m)\u001b[0m\u001b[1;33m\u001b[0m\u001b[1;33m\u001b[0m\u001b[0m\n\u001b[1;32m----> 7\u001b[1;33m \u001b[0mprint\u001b[0m\u001b[1;33m(\u001b[0m\u001b[0mnext\u001b[0m\u001b[1;33m(\u001b[0m\u001b[0mmyit\u001b[0m\u001b[1;33m)\u001b[0m\u001b[1;33m)\u001b[0m\u001b[1;33m\u001b[0m\u001b[1;33m\u001b[0m\u001b[0m\n\u001b[0m",
      "\u001b[1;31mStopIteration\u001b[0m: "
     ]
    }
   ],
   "source": [
    "mytuple=(\"apple\",\"banana\",\"cherry\")\n",
    "myit=iter(mytuple)\n",
    "print(next(myit))\n",
    "print(next(myit))\n",
    "print(next(myit))\n",
    "print(next(myit))"
   ]
  },
  {
   "cell_type": "code",
   "execution_count": 37,
   "id": "3c423b0b",
   "metadata": {},
   "outputs": [
    {
     "name": "stdout",
     "output_type": "stream",
     "text": [
      "=========================\n",
      "type of lst= <class 'list'>\n",
      "type of lstiter <class 'list_iterator'>\n",
      "10\n",
      "20\n",
      "30\n",
      "40\n",
      "50\n",
      "60\n",
      "70\n",
      "80\n",
      "90\n",
      "---------------------------------------------------\n"
     ]
    }
   ],
   "source": [
    "lst=[10,20,30,40,50,60,70,80,90]\n",
    "lstiter=iter(lst)\n",
    "print(\"=========================\")\n",
    "print(\"type of lst=\",type(lst))\n",
    "print(\"type of lstiter\",type(lstiter))\n",
    "print(next(lstiter))\n",
    "while(True):\n",
    "    try:\n",
    "        print(next(lstiter))\n",
    "    except StopIteration:\n",
    "        print(\"---------------------------------------------------\")\n",
    "        break"
   ]
  },
  {
   "cell_type": "code",
   "execution_count": 3,
   "id": "8d93de64",
   "metadata": {},
   "outputs": [
    {
     "name": "stdout",
     "output_type": "stream",
     "text": [
      "p\n",
      "y\n",
      "t\n",
      "h\n",
      "o\n",
      "n\n"
     ]
    }
   ],
   "source": [
    "s='python'\n",
    "itobj=iter(s)\n",
    "while(True):\n",
    "    try:\n",
    "        item=next(itobj)\n",
    "        print(item)\n",
    "    except StopIteration:\n",
    "        break    "
   ]
  },
  {
   "cell_type": "code",
   "execution_count": 39,
   "id": "4135300d",
   "metadata": {},
   "outputs": [
    {
     "name": "stdout",
     "output_type": "stream",
     "text": [
      "raju\n",
      "raja\n",
      "shivam\n"
     ]
    },
    {
     "ename": "StopIteration",
     "evalue": "",
     "output_type": "error",
     "traceback": [
      "\u001b[1;31m---------------------------------------------------------------------------\u001b[0m",
      "\u001b[1;31mStopIteration\u001b[0m                             Traceback (most recent call last)",
      "\u001b[1;32m~\\AppData\\Local\\Temp\\ipykernel_10464\\646442334.py\u001b[0m in \u001b[0;36m<module>\u001b[1;34m\u001b[0m\n\u001b[0;32m      4\u001b[0m \u001b[0mprint\u001b[0m\u001b[1;33m(\u001b[0m\u001b[0mnext\u001b[0m\u001b[1;33m(\u001b[0m\u001b[0mmyit\u001b[0m\u001b[1;33m)\u001b[0m\u001b[1;33m)\u001b[0m\u001b[1;33m\u001b[0m\u001b[1;33m\u001b[0m\u001b[0m\n\u001b[0;32m      5\u001b[0m \u001b[0mprint\u001b[0m\u001b[1;33m(\u001b[0m\u001b[0mnext\u001b[0m\u001b[1;33m(\u001b[0m\u001b[0mmyit\u001b[0m\u001b[1;33m)\u001b[0m\u001b[1;33m)\u001b[0m\u001b[1;33m\u001b[0m\u001b[1;33m\u001b[0m\u001b[0m\n\u001b[1;32m----> 6\u001b[1;33m \u001b[0mprint\u001b[0m\u001b[1;33m(\u001b[0m\u001b[0mnext\u001b[0m\u001b[1;33m(\u001b[0m\u001b[0mmyit\u001b[0m\u001b[1;33m)\u001b[0m\u001b[1;33m)\u001b[0m\u001b[1;33m\u001b[0m\u001b[1;33m\u001b[0m\u001b[0m\n\u001b[0m",
      "\u001b[1;31mStopIteration\u001b[0m: "
     ]
    }
   ],
   "source": [
    "mytuple=(\"raju\",\"raja\",\"shivam\")\n",
    "myit=iter(mytuple)\n",
    "print(next(myit))\n",
    "print(next(myit))\n",
    "print(next(myit))\n",
    "print(next(myit))"
   ]
  },
  {
   "cell_type": "code",
   "execution_count": 45,
   "id": "6179734d",
   "metadata": {},
   "outputs": [
    {
     "name": "stdout",
     "output_type": "stream",
     "text": [
      "type of tuple= <class 'tuple'>\n",
      "type of tpliter= <class 'tuple_iterator'>\n",
      "=================================\n",
      "10\n",
      "rossume\n",
      "34.45\n",
      "True\n",
      "(3+5j)\n",
      "=================================\n"
     ]
    }
   ],
   "source": [
    "tpl=(10,\"rossume\",34.45,True,3+5j)\n",
    "tpliter=iter(tpl)\n",
    "print(\"type of tuple=\",type(tpl))\n",
    "print(\"type of tpliter=\",type(tpliter))\n",
    "print(\"=================================\")\n",
    "while(True):\n",
    "    try:\n",
    "        print(next(tpliter))\n",
    "    except StopIteration:\n",
    "        print(\"=================================\")\n",
    "        break"
   ]
  },
  {
   "cell_type": "code",
   "execution_count": 48,
   "id": "7a9d20a4",
   "metadata": {},
   "outputs": [
    {
     "name": "stdout",
     "output_type": "stream",
     "text": [
      "type of diter= {10: 'python', 20: 'DSC', 30: 'java', 40: 'java script'}\n",
      "type of diter= <dict_keyiterator object at 0x0000021A1578A720>\n",
      "\t10---->python\n",
      "\t20---->DSC\n",
      "\t30---->java\n",
      "\t40---->java script\n",
      "--------------------------\n"
     ]
    }
   ],
   "source": [
    "d={10:\"python\",20:\"DSC\",30:\"java\",40:\"java script\"}\n",
    "diter=iter(d)\n",
    "print(\"type of diter=\",d)\n",
    "print(\"type of diter=\",diter)\n",
    "while(True):\n",
    "    try:\n",
    "        k=next(diter)\n",
    "        v=d[k]\n",
    "        print(\"\\t{}---->{}\".format(k,v))\n",
    "    except StopIteration:\n",
    "        print(\"--------------------------\")\n",
    "        break"
   ]
  },
  {
   "cell_type": "code",
   "execution_count": 49,
   "id": "d98a4190",
   "metadata": {},
   "outputs": [
    {
     "name": "stdout",
     "output_type": "stream",
     "text": [
      "type of diter= {10: 'python', 20: 'DSC', 30: 'java', 40: 'java script'}\n",
      "type of diter= <dict_keyiterator object at 0x0000021A15696270>\n",
      "============================\n",
      "\t10======>python\n",
      "\t20======>DSC\n",
      "\t30======>java\n",
      "\t40======>java script\n",
      "===================================\n"
     ]
    }
   ],
   "source": [
    "d={10:\"python\",20:\"DSC\",30:\"java\",40:\"java script\"}\n",
    "diter=iter(d)\n",
    "print(\"type of diter=\",d)\n",
    "print(\"type of diter=\",diter)\n",
    "print(\"============================\")\n",
    "for k in diter:\n",
    "    print(\"\\t{}======>{}\".format(k,d[k]))\n",
    "print(\"===================================\")"
   ]
  },
  {
   "cell_type": "code",
   "execution_count": 54,
   "id": "ff4b80a8",
   "metadata": {},
   "outputs": [
    {
     "name": "stdout",
     "output_type": "stream",
     "text": [
      "type of s <class 'str'>\n",
      "Type of siter= <class 'str_iterator'>\n",
      "\tp\n",
      "===========================\n",
      "\ty\n",
      "===========================\n",
      "\tt\n",
      "===========================\n",
      "\th\n",
      "===========================\n",
      "\to\n",
      "===========================\n",
      "\tn\n",
      "===========================\n"
     ]
    }
   ],
   "source": [
    "s=\"python\"\n",
    "siter=iter(s)\n",
    "print(\"type of s\",type(s))\n",
    "print(\"Type of siter=\",type(siter))\n",
    "for i in siter:\n",
    "    print(\"\\t{}\".format(i))\n",
    "    print(\"===========================\") "
   ]
  },
  {
   "cell_type": "code",
   "execution_count": 56,
   "id": "5c11703d",
   "metadata": {},
   "outputs": [
    {
     "name": "stdout",
     "output_type": "stream",
     "text": [
      "============================\n",
      "type of r <class 'range'>\n",
      "type of riter= <class 'range_iterator'>\n",
      "\t10\n",
      "\t15\n",
      "\t20\n",
      "\t25\n",
      "\t30\n",
      "\t35\n",
      "\t40\n",
      "\t45\n",
      "\t50\n",
      "\t55\n",
      "\t60\n",
      "\t65\n",
      "\t70\n",
      "\t75\n",
      "\t80\n",
      "\t85\n",
      "\t90\n",
      "\t95\n"
     ]
    }
   ],
   "source": [
    "r=range(10,100,5)\n",
    "riter=iter(r)\n",
    "print(\"============================\")\n",
    "print(\"type of r\",type(r))\n",
    "print(\"type of riter=\",type(riter))\n",
    "for i in riter:\n",
    "    print(\"\\t{}\".format(i))"
   ]
  },
  {
   "cell_type": "code",
   "execution_count": 59,
   "id": "070a7638",
   "metadata": {},
   "outputs": [
    {
     "name": "stdout",
     "output_type": "stream",
     "text": [
      "\n",
      " type of sh= <class 'cx_Oracle.Connection'>\n",
      "python program obtain connection from oracle DB\n"
     ]
    }
   ],
   "source": [
    "import cx_Oracle\n",
    "try:\n",
    "    sh=cx_Oracle.connect(\"system/12345@localhost/XE\")\n",
    "    print(\"\\n type of sh=\",type(sh))\n",
    "    print(\"python program obtain connection from oracle DB\")\n",
    "except cx_Oracle.DatabaseError as db:\n",
    "    print(\"Ur Username or password is wrong-check once\")"
   ]
  },
  {
   "cell_type": "code",
   "execution_count": 61,
   "id": "12190b68",
   "metadata": {},
   "outputs": [
    {
     "name": "stdout",
     "output_type": "stream",
     "text": [
      "\n",
      "Python obtains connection from oracle db\n",
      "\n",
      "type of cur= <class 'cx_Oracle.Cursor'>\n",
      "python program creates cursor object\n"
     ]
    }
   ],
   "source": [
    "import cx_Oracle\n",
    "try:\n",
    "    con=cx_Oracle.connect(\"system/12345@localhost/XE\")\n",
    "    print(\"\\nPython obtains connection from oracle db\")\n",
    "    cur=con.cursor()\n",
    "    print(\"\\ntype of cur=\",type(cur))\n",
    "    print(\"python program creates cursor object\")\n",
    "except cx_Oracle.DatabaseError as db:\n",
    "    print(\"problem in oralce db:\",db)   "
   ]
  },
  {
   "cell_type": "code",
   "execution_count": 65,
   "id": "65829c75",
   "metadata": {},
   "outputs": [
    {
     "name": "stdout",
     "output_type": "stream",
     "text": [
      "employee table created succssfully in oracle database\n"
     ]
    }
   ],
   "source": [
    "import cx_Oracle\n",
    "def tablecreate():\n",
    "    try:\n",
    "        con=cx_Oracle.connect(\"system/12345@localhost/xe\")\n",
    "        cur=con.cursor()\n",
    "        ct=\"create table employee5(eno number(10),ename varchar(2))\"\n",
    "        cur.execute(ct)\n",
    "        print(\"employee table created succssfully in oracle database\")\n",
    "    except cx_Oracle.DatabaseError as db:\n",
    "        print(\"problem in oracle database\",db)\n",
    "tablecreate()"
   ]
  },
  {
   "cell_type": "code",
   "execution_count": 70,
   "id": "4c5e09ee",
   "metadata": {},
   "outputs": [
    {
     "name": "stdout",
     "output_type": "stream",
     "text": [
      "employee table created successfully in oracle database\n"
     ]
    }
   ],
   "source": [
    "import cx_Oracle \n",
    "def tablealter():\n",
    "    try:\n",
    "        con = cx_Oracle.connect(\"system/12345@127.0.0.1/xe\")\n",
    "        cur=con.cursor()\n",
    "        At=\"Alter table stu add(sadd varchar(30))\"\n",
    "        cur.execute(At)\n",
    "        print(\"employee table created successfully in oracle database\")\n",
    "    except cx_Oracle.DatabaseError as db:\n",
    "        print(\"problem in oracle db\",db)\n",
    "tablealter()"
   ]
  },
  {
   "cell_type": "code",
   "execution_count": 73,
   "id": "d71fad5a",
   "metadata": {},
   "outputs": [
    {
     "name": "stdout",
     "output_type": "stream",
     "text": [
      "employee table altered succssfully from oracle database veryfy\n"
     ]
    }
   ],
   "source": [
    "import cx_Oracle\n",
    "def tabledrop():\n",
    "    try:\n",
    "        con=cx_Oracle.connect(\"system/12345@127.0.0.1/xe\")\n",
    "        cur=con.cursor()\n",
    "        aq=\"drop table employee4\"\n",
    "        cur.execute(aq)\n",
    "        print(\"employee table altered succssfully from oracle database veryfy\")\n",
    "    except cx_Oracle.DatabaseError as db:\n",
    "        print(\"problem in oracle db\",db)\n",
    "tabledrop()"
   ]
  },
  {
   "cell_type": "code",
   "execution_count": 75,
   "id": "ca6633af",
   "metadata": {},
   "outputs": [
    {
     "name": "stdout",
     "output_type": "stream",
     "text": [
      "problem in db ORA-00942: table or view does not exist\n"
     ]
    }
   ],
   "source": [
    "import cx_Oracle\n",
    "def insertrecord():\n",
    "    try:\n",
    "        con=cx_Oracle.connect(\"system/12345@127.0.0.1/xe\")\n",
    "        cur=con.cursor()\n",
    "        iq=\"insert into employee4 values(10,'shivam')\"\n",
    "        cur.execute(iq)\n",
    "        print(\"table inserted successfully\")\n",
    "    except cx_Oracle.DatabaseError as db:\n",
    "        print(\"problem in db\",db)\n",
    "insertrecord()"
   ]
  },
  {
   "cell_type": "code",
   "execution_count": 81,
   "id": "b0ddc689",
   "metadata": {},
   "outputs": [
    {
     "name": "stdout",
     "output_type": "stream",
     "text": [
      "----------------------\n",
      "content of s1 before adding= {}\n",
      "content of s2 before adding {}\n",
      "=================================\n",
      "content of s1 after adding= {'sno': 10, 'sname': 'shivam', 'add': 'satna'}\n",
      "content of s2 after adding= {'sno': 20, 'sname': 'shiva', 'add': 'satna-maihar'}\n"
     ]
    }
   ],
   "source": [
    "class student:\n",
    "   \n",
    "\n",
    "\n",
    "#main program\n",
    "s1=student()\n",
    "s2=student()\n",
    "print(\"----------------------\")\n",
    "print(\"content of s1 before adding=\",s1.__dict__)\n",
    "print(\"content of s2 before adding\",s2.__dict__)\n",
    "print(\"=================================\")\n",
    "s1.sno=10\n",
    "s1.sname='shivam'\n",
    "s1.add='satna'\n",
    "s2.sno=20\n",
    "s2.sname='shiva'\n",
    "s2.add='satna-maihar'\n",
    "print(\"content of s1 after adding=\",s1.__dict__)\n",
    "print(\"content of s2 after adding=\",s2.__dict__)"
   ]
  },
  {
   "cell_type": "code",
   "execution_count": 86,
   "id": "1de4f906",
   "metadata": {},
   "outputs": [
    {
     "name": "stdout",
     "output_type": "stream",
     "text": [
      "enter student number:34\n",
      "enter student name:sdf\n",
      "enter marks:45\n",
      "student number=34\n",
      "student name=sdf\n",
      "student marks=45.0\n",
      "enter student number:34\n",
      "enter student name:sd\n",
      "enter marks:345\n",
      "student number=34\n",
      "student name=sd\n",
      "student marks=345.0\n"
     ]
    }
   ],
   "source": [
    "class Student():\n",
    "    def readstuddata(self):\n",
    "        self.sno=int(input(\"enter student number:\"))\n",
    "        self.sname=input(\"enter student name:\")\n",
    "        self.smarks=float(input(\"enter marks:\"))\n",
    "    def dispstuddata(self):\n",
    "        print(\"student number={}\".format(self.sno))\n",
    "        print(\"student name={}\".format(self.sname))\n",
    "        print(\"student marks={}\".format(self.smarks))\n",
    "s1=Student()\n",
    "s2=Student()\n",
    "s1.readstuddata()\n",
    "s1.dispstuddata()\n",
    "s2.readstuddata()\n",
    "s2.dispstuddata()"
   ]
  },
  {
   "cell_type": "code",
   "execution_count": null,
   "id": "dbb98da8",
   "metadata": {},
   "outputs": [],
   "source": [
    "def sample(nums):\n",
    "    a=0\n",
    "    b=0\n",
    "    while(b<len(nums)):\n",
    "        if(nums[b]!=0):\n",
    "            nums[a],nums[b]=nums[a],nums[b]\n",
    "            a=a+1\n",
    "        b=b+1\n",
    "nums=[0,1,0,3,45,67,0,3]\n",
    "sample(nums)\n",
    "print(nums)"
   ]
  },
  {
   "cell_type": "code",
   "execution_count": null,
   "id": "873a194f",
   "metadata": {},
   "outputs": [],
   "source": [
    "n=10\n",
    "s={x:x**2 for x in range(1,n+1)}\n",
    "print(s)"
   ]
  },
  {
   "cell_type": "code",
   "execution_count": 17,
   "id": "8b7e7df1",
   "metadata": {},
   "outputs": [
    {
     "data": {
      "text/plain": [
       "1"
      ]
     },
     "execution_count": 17,
     "metadata": {},
     "output_type": "execute_result"
    }
   ],
   "source": [
    "s=\"hello\"\n",
    "s.count(\"h\")\n"
   ]
  },
  {
   "cell_type": "code",
   "execution_count": 20,
   "id": "5dfe6840",
   "metadata": {},
   "outputs": [
    {
     "name": "stdout",
     "output_type": "stream",
     "text": [
      "{'q': 4, 'w': 5, 'e': 3}\n"
     ]
    }
   ],
   "source": [
    "x=\"qwqwweweqwqe\"\n",
    "s={}\n",
    "for i in x:\n",
    "    if i in s:\n",
    "        s[i]=s[i]+1\n",
    "    else:\n",
    "        s[i]=1\n",
    "print(s)"
   ]
  },
  {
   "cell_type": "code",
   "execution_count": 24,
   "id": "d6057a70",
   "metadata": {},
   "outputs": [
    {
     "name": "stdout",
     "output_type": "stream",
     "text": [
      "{'h': 1, 'e': 1, 'l': 1, 'o': 4}\n"
     ]
    }
   ],
   "source": [
    "from collections import Counter\n",
    "s=\"heloooo\"\n",
    "c=Counter(s)\n",
    "cd=dict(c)\n",
    "print(cd)"
   ]
  },
  {
   "cell_type": "code",
   "execution_count": 11,
   "id": "d240ea04",
   "metadata": {},
   "outputs": [
    {
     "name": "stdout",
     "output_type": "stream",
     "text": [
      "doveloper python am i \n"
     ]
    }
   ],
   "source": [
    "s=\"i am python doveloper\"\n",
    "str=\"\"\n",
    "s=s.split()\n",
    "for i in range(len(s)-1,-1,-1):\n",
    "    str =str+s[i]\n",
    "    str=str+\" \"\n",
    "print(str)"
   ]
  },
  {
   "cell_type": "code",
   "execution_count": 4,
   "id": "63b0d3b6",
   "metadata": {},
   "outputs": [
    {
     "name": "stdout",
     "output_type": "stream",
     "text": [
      "{'r': 2, 'a': 4, 'j': 2, 'u': 2, 'b': 1, 'h': 2}\n"
     ]
    }
   ],
   "source": [
    "s=\"rajurajubhaha\"\n",
    "x={}\n",
    "for i in s:\n",
    "    if i in x:\n",
    "        x[i]=x[i]+1\n",
    "    else:\n",
    "        x[i]=1\n",
    "print(x)"
   ]
  },
  {
   "cell_type": "code",
   "execution_count": 5,
   "id": "129a9758",
   "metadata": {},
   "outputs": [
    {
     "name": "stdout",
     "output_type": "stream",
     "text": [
      "{'s': 3, 'd': 4, 'f': 4}\n"
     ]
    }
   ],
   "source": [
    "from collections import Counter\n",
    "s=\"sdfdfsdfsdf\"\n",
    "c=Counter(s)\n",
    "cd=dict(c)\n",
    "print(cd)"
   ]
  },
  {
   "cell_type": "code",
   "execution_count": 12,
   "id": "96caf459",
   "metadata": {},
   "outputs": [
    {
     "name": "stdout",
     "output_type": "stream",
     "text": [
      "phone the up pick please gupta shivam \n"
     ]
    }
   ],
   "source": [
    "s=\" shivam gupta please pick up the phone\"\n",
    "str=\"\"\n",
    "s=s.split()\n",
    "for i in range(len(s)-1,-1,-1):\n",
    "    str=str+s[i]\n",
    "    str=str+\" \"\n",
    "print(str)"
   ]
  },
  {
   "cell_type": "code",
   "execution_count": 14,
   "id": "88704bfb",
   "metadata": {},
   "outputs": [
    {
     "name": "stdout",
     "output_type": "stream",
     "text": [
      "udhjao bhai raju \n"
     ]
    }
   ],
   "source": [
    "s=\"raju bhai udhjao\"\n",
    "str=\"\"\n",
    "s=s.split()\n",
    "for i in range(len(s)-1,-1,-1):\n",
    "    str=str+s[i]\n",
    "    str=str+\" \"\n",
    "print(str)"
   ]
  },
  {
   "cell_type": "code",
   "execution_count": null,
   "id": "0c75138b",
   "metadata": {},
   "outputs": [],
   "source": [
    "def sample(num):\n",
    "    s=0\n",
    "    x=0\n",
    "    while(x<len(num)):\n",
    "        if(num[x]!=0):\n",
    "            num[s],num[x]=num[x],num[s]\n",
    "        s=s+1\n",
    "    x=x+1\n",
    "num=[2,3,0,56,0,23,0,4]\n",
    "sample(num)\n",
    "print(num)"
   ]
  },
  {
   "cell_type": "code",
   "execution_count": null,
   "id": "6de7cb9d",
   "metadata": {},
   "outputs": [],
   "source": [
    "\n",
    "class Employee:\n",
    "    def __init__(self,eno,ename):\n",
    "        print(\"i am from constructor\")\n",
    "        self.eno=eno\n",
    "        self.ename=ename\n",
    "        print(\"============================\")\n",
    "        print(\"Employee number:\".format(self.eno))\n",
    "        print(\"Employee name:\".format(self.ename))\n",
    "        print(\"=============================\")\n",
    "    def __del__(self):\n",
    "        print(\"garbage collection\")\n",
    "print(\"program execution started:\")\n",
    "e1=Employee(10,\"rossume\")\n",
    "e2=Employee(20,\"Travis\")\n",
    "print(\"program execution ended\")\n",
    "\n"
   ]
  },
  {
   "cell_type": "code",
   "execution_count": 6,
   "id": "52cd03ca",
   "metadata": {},
   "outputs": [
    {
     "name": "stdout",
     "output_type": "stream",
     "text": [
      "[1, 2, 3, 5, 7, 8, 9, 4]\n",
      "[1, 2, 3, 4, 5, 7, 8, 9]\n"
     ]
    }
   ],
   "source": [
    "lst=[1,2,3,5,7,8,9]\n",
    "l=[]\n",
    "target=4\n",
    "for i in lst:\n",
    "    if target not in lst:\n",
    "        lst.append(target)\n",
    "print(lst)\n",
    "lst.sort()\n",
    "print(lst)\n"
   ]
  },
  {
   "cell_type": "code",
   "execution_count": 12,
   "id": "64dfa9e8",
   "metadata": {},
   "outputs": [
    {
     "name": "stdout",
     "output_type": "stream",
     "text": [
      "{'banana': 3, 'rama': 2, 'shammy': 1, 'india': 1, 'noida': 1, 'america': 2, 'pakistan': 2, 'happy': 1}\n",
      "['america', 'banana', 'happy', 'india', 'noida', 'pakistan', 'rama', 'shammy']\n"
     ]
    }
   ],
   "source": [
    "lst=[\"banana\",\"rama\",\"shammy\",\"india\",\"noida\",\"america\",\"pakistan\",\"happy\"]\n",
    "target='a'\n",
    "d={}\n",
    "for i in lst:\n",
    "    v=i.count('a')\n",
    "    d[i]=v\n",
    "print(d)\n"
   ]
  },
  {
   "cell_type": "code",
   "execution_count": 16,
   "id": "6dd6889e",
   "metadata": {},
   "outputs": [
    {
     "name": "stdout",
     "output_type": "stream",
     "text": [
      "['banana', 'rama', 'america', 'pakistan', 'noida', 'shammy', 'india', 'happy']\n"
     ]
    }
   ],
   "source": [
    "lst=[\"banana\",\"rama\",\"shammy\",\"india\",\"noida\",\"america\",\"pakistan\",\"happy\"]\n",
    "target='a'\n",
    "d=[]\n",
    "for i in range(len(lst)):\n",
    "    for j in range(len(lst)):\n",
    "        if lst[i].count(target)>lst[j].count(target):\n",
    "            temp=lst[i]\n",
    "            lst[i]=lst[j]\n",
    "            lst[j]=temp\n",
    "print(lst)"
   ]
  },
  {
   "cell_type": "code",
   "execution_count": 23,
   "id": "6b244421",
   "metadata": {},
   "outputs": [
    {
     "name": "stdout",
     "output_type": "stream",
     "text": [
      "enter a number:12\n",
      "not\n"
     ]
    }
   ],
   "source": [
    "n=int(input('enter a number:'))\n",
    "if n<0:\n",
    "    print('invalid input')\n",
    "else:\n",
    "    res='True'\n",
    "    for i in range(2,n):\n",
    "        if n%i==0:\n",
    "            res='False'\n",
    "            break\n",
    "if res=='True':\n",
    "    print('prime')\n",
    "else:\n",
    "    print('not')"
   ]
  },
  {
   "cell_type": "code",
   "execution_count": 3,
   "id": "4e8e691e",
   "metadata": {},
   "outputs": [
    {
     "name": "stdout",
     "output_type": "stream",
     "text": [
      "[False, True, True, False, False, True, False, True, False, False]\n"
     ]
    }
   ],
   "source": [
    "lst=[10,5,10,20,10,5,15,20,10,20]\n",
    "l=[]\n",
    "c5=0\n",
    "c10=0\n",
    "c20=0\n",
    "for i in lst:\n",
    "    if i==5:\n",
    "        c5=c5+1\n",
    "        l.append(True)\n",
    "    elif i==10 and c5>=1:\n",
    "        c10=c10+1\n",
    "        c5=c5-1\n",
    "        l.append(True)\n",
    "    elif i==20 and c5>=3:\n",
    "        c20=c20+1\n",
    "        c5=c5-3\n",
    "        l.append(True)\n",
    "    elif i==20 and c10>=1 and c5>=1:\n",
    "        c20=c20+1\n",
    "        c10=c10-1\n",
    "        c5=c5-1\n",
    "        l.append(True)\n",
    "    else:\n",
    "        l.append(False)\n",
    "print(l)"
   ]
  },
  {
   "cell_type": "code",
   "execution_count": 6,
   "id": "3991ed80",
   "metadata": {},
   "outputs": [
    {
     "name": "stdout",
     "output_type": "stream",
     "text": [
      "[[1], [1, 2], [1, 2, 4], [2], [2, 4], [4]]\n"
     ]
    }
   ],
   "source": [
    "lst=[1,2,4]\n",
    "l1=[]\n",
    "for i in range(len(lst)):\n",
    "    for j in range(1,len(lst)+1):\n",
    "        if lst[i:j]:\n",
    "            l1.append(lst[i:j])\n",
    "print(l1)"
   ]
  },
  {
   "cell_type": "code",
   "execution_count": 12,
   "id": "cdad3e03",
   "metadata": {},
   "outputs": [
    {
     "name": "stdout",
     "output_type": "stream",
     "text": [
      "[('a', 1), ('a', 2), ('b', 1), ('b', 2)]\n"
     ]
    }
   ],
   "source": [
    "lst=['a','b']\n",
    "lst1=[1,2]\n",
    "l=[]\n",
    "for i in range(len(lst)):\n",
    "    for j in range(len(lst1)):\n",
    "        l.append((lst[i],lst1[j]))\n",
    "print(l)"
   ]
  },
  {
   "cell_type": "code",
   "execution_count": 24,
   "id": "92592832",
   "metadata": {},
   "outputs": [
    {
     "name": "stdout",
     "output_type": "stream",
     "text": [
      "['1', '1', '2', '3', '4', '5', '1', '2']\n",
      "['5', '1', '4', '2', '3']\n"
     ]
    }
   ],
   "source": [
    "l = [1, 1, 2, 3, 4, 5, 1, 2]\n",
    "ele=1\n",
    "a=list(map(str,l))\n",
    "print(a)\n",
    "aa=set(a)\n",
    "v=list(aa)\n",
    "print(v)"
   ]
  },
  {
   "cell_type": "code",
   "execution_count": 30,
   "id": "96d938de",
   "metadata": {},
   "outputs": [
    {
     "name": "stdout",
     "output_type": "stream",
     "text": [
      "[(4, 5, 6, 3), (1, 3, 5, 6), (6, 6, 7, 8)]\n"
     ]
    }
   ],
   "source": [
    "lst = [(4, 5, 6, 3), (5, 5, 6, 9), (1, 3, 5, 6), (6, 6, 7, 8)]\n",
    "l = []\n",
    "k = 5\n",
    "for i in lst:\n",
    "    skip=False\n",
    "    for j in range(len(i)-1):\n",
    "        if i[j]==k and i[j+1]==k:\n",
    "            skip=True\n",
    "            break\n",
    "    if not skip:\n",
    "        l.append(i)\n",
    "print(l)"
   ]
  },
  {
   "cell_type": "code",
   "execution_count": 32,
   "id": "cdef06ec",
   "metadata": {},
   "outputs": [
    {
     "name": "stdout",
     "output_type": "stream",
     "text": [
      "[(4, 4, 3), (3, 4, 9)]\n"
     ]
    }
   ],
   "source": [
    "lst = [(4, 5, 6, 4, 4), (4, 4, 3), (4, 4, 4), (3, 4, 9)]\n",
    "k=3\n",
    "N=1\n",
    "l=[]\n",
    "for i in lst:\n",
    "    if i.count(k)==N:\n",
    "        l.append(i)\n",
    "print(l)"
   ]
  },
  {
   "cell_type": "code",
   "execution_count": 36,
   "id": "ddc6b758",
   "metadata": {},
   "outputs": [
    {
     "name": "stdout",
     "output_type": "stream",
     "text": [
      "3\n",
      "ama\n",
      "ama\n"
     ]
    }
   ],
   "source": [
    "s='amaama'\n",
    "h=int(len(s)/2)\n",
    "print(h)\n",
    "h1=s[:h]\n",
    "print(h1)\n",
    "h2=s[h:]\n",
    "print(h2)"
   ]
  },
  {
   "cell_type": "code",
   "execution_count": 39,
   "id": "95b04530",
   "metadata": {},
   "outputs": [
    {
     "name": "stdout",
     "output_type": "stream",
     "text": [
      "['code', 'practice', 'quiz', 'geeks']\n",
      "code practice quiz geeks\n"
     ]
    }
   ],
   "source": [
    "str=\"geeks quiz practice code\"\n",
    "s=str.split()\n",
    "s=s[::-1]\n",
    "s=' '.join(s)\n",
    "print(s)"
   ]
  },
  {
   "cell_type": "code",
   "execution_count": 48,
   "id": "2f055c27",
   "metadata": {},
   "outputs": [
    {
     "name": "stdout",
     "output_type": "stream",
     "text": [
      "adsfdsfdf34545fghgh567fhhADFDFGDG34df0\n"
     ]
    }
   ],
   "source": [
    "s='adsfdsfdf345&^$%^45fghgh567fhhADFDFGDG34df0'\n",
    "ss=''\n",
    "for i in s:\n",
    "    if i.isalpha() or i.isdigit():\n",
    "        ss=ss+i\n",
    "print(ss)"
   ]
  },
  {
   "cell_type": "code",
   "execution_count": 57,
   "id": "65d90605",
   "metadata": {},
   "outputs": [
    {
     "name": "stdout",
     "output_type": "stream",
     "text": [
      "{'u', 'i', 'a', 'o', 'e'}\n",
      "True\n"
     ]
    }
   ],
   "source": [
    "s=\"geeksforgeekaieous\"\n",
    "s=s.lower()\n",
    "vowels=set('aeiou')\n",
    "sd=set()\n",
    "for i in s:\n",
    "    if i in vowels:\n",
    "        sd.add(i)\n",
    "print(sd)\n",
    "if len(sd)==len(vowels):\n",
    "    print(True)\n",
    "else:\n",
    "    print(False)"
   ]
  },
  {
   "cell_type": "code",
   "execution_count": 72,
   "id": "ebadd190",
   "metadata": {},
   "outputs": [
    {
     "name": "stdout",
     "output_type": "stream",
     "text": [
      "[0, 4, 0, 1, 7, 5, 6, 9]\n"
     ]
    }
   ],
   "source": [
    "s = 'zero four zero one seven five six nine'\n",
    "s=s.split()\n",
    "d={'zero':0,'one':1,'Two':2,'Tree':3,'four':4,'five':5,'six':6,'seven':7,'eight':8,'nine':9,'ten':10}\n",
    "l=[]\n",
    "for i in s:\n",
    "    if i in d:\n",
    "        v=d.get(i)\n",
    "        l.append(v)\n",
    "print(l)"
   ]
  },
  {
   "cell_type": "code",
   "execution_count": 83,
   "id": "449dc927",
   "metadata": {},
   "outputs": [
    {
     "name": "stdout",
     "output_type": "stream",
     "text": [
      "\n"
     ]
    }
   ],
   "source": [
    "s = 'zero four zero one'\n",
    "l=[]\n",
    "ss=''\n",
    "for i in s:\n",
    "    if i=='zero':\n",
    "         ss=ss+i\n",
    "print(ss)"
   ]
  },
  {
   "cell_type": "code",
   "execution_count": 84,
   "id": "d4d12c71",
   "metadata": {},
   "outputs": [
    {
     "name": "stdout",
     "output_type": "stream",
     "text": [
      "{'Gfg': 2, 'is': 2, 'GFG': 1, 'gfg': 1, 'best': 1}\n"
     ]
    }
   ],
   "source": [
    "s = 'Gfg is is GFG gfg Gfg best'\n",
    "s=s.split()\n",
    "d={}\n",
    "for i in s:\n",
    "    if i in d:\n",
    "        d[i]=d[i]+1\n",
    "    else:\n",
    "        d[i]=1\n",
    "print(d)"
   ]
  },
  {
   "cell_type": "code",
   "execution_count": 89,
   "id": "eb389bbc",
   "metadata": {},
   "outputs": [
    {
     "name": "stdout",
     "output_type": "stream",
     "text": [
      "{'g': 3, 'e': 7, 'k': 3, 's': 3, ' ': 3, 'a': 1, 'r': 3, 'f': 2, 'o': 2}\n",
      "7\n"
     ]
    }
   ],
   "source": [
    "s = 'geeks are for geeksforgeeks'\n",
    "d={}\n",
    "target='e'\n",
    "for i in s:\n",
    "    if i in d:\n",
    "        d[i]=d[i]+1\n",
    "    else:\n",
    "        d[i]=1\n",
    "print(d)\n",
    "v=d.get(target)\n",
    "print(v)"
   ]
  },
  {
   "cell_type": "code",
   "execution_count": 1,
   "id": "a02be864",
   "metadata": {},
   "outputs": [
    {
     "name": "stdout",
     "output_type": "stream",
     "text": [
      "voibdvmb\n"
     ]
    }
   ],
   "source": [
    "s='voidbvmd'\n",
    "l=[]\n",
    "ss=''\n",
    "d={'v':'v','m':'m','n':'n','i':'i','d':'b','b':'d','o':'o'}\n",
    "for i in s:\n",
    "    if i in d:\n",
    "        v=d.get(i)\n",
    "        ss=ss+v\n",
    "print(ss)"
   ]
  },
  {
   "cell_type": "code",
   "execution_count": 105,
   "id": "46c3dc1b",
   "metadata": {},
   "outputs": [
    {
     "name": "stdout",
     "output_type": "stream",
     "text": [
      "2\n",
      "4\n",
      "7\n",
      "12\n",
      "10\n",
      "15\n",
      "['g', 'e', '@', 'k', '@', 'f', 'o', '@', 'g', 'e', '@', 'k', '@', ' ', 'i', '@', ' ', 'b', 'e', 's', 't']\n"
     ]
    }
   ],
   "source": [
    "s=\"geeksforgeeks is best\"\n",
    "ss=list(s)\n",
    "tst=[2,4,7,12,10,15]\n",
    "rep='@'\n",
    "for i in tst:\n",
    "    print(i)\n",
    "    ss[i]=rep\n",
    "print(ss)"
   ]
  },
  {
   "cell_type": "code",
   "execution_count": 109,
   "id": "5d10dc20",
   "metadata": {},
   "outputs": [
    {
     "name": "stdout",
     "output_type": "stream",
     "text": [
      "['g', 'e', '@', 'k', '@', 'f', 'o', '@', 'g', 'e', '@', 'k', '@', ' ', 'i', '@', ' ', 'b', 'e', 's', 't']\n"
     ]
    }
   ],
   "source": [
    "s=\"geeksforgeeks is best\"\n",
    "tst=[2,4,7,12,10,15]\n",
    "rep='@'\n",
    "l=[]\n",
    "for i in s:\n",
    "    l.append(i)\n",
    "for i in tst:\n",
    "    l[i]=rep\n",
    "print(l)"
   ]
  },
  {
   "cell_type": "code",
   "execution_count": 113,
   "id": "9f0563ec",
   "metadata": {},
   "outputs": [
    {
     "name": "stdout",
     "output_type": "stream",
     "text": [
      "['gfg', 'is', 'best']\n"
     ]
    }
   ],
   "source": [
    "lst=['gfg','','','is','     ','best']\n",
    "l=[]\n",
    "for i in lst:\n",
    "    if i.strip():\n",
    "        l.append(i)\n",
    "print(l)"
   ]
  },
  {
   "cell_type": "code",
   "execution_count": 118,
   "id": "18ed64ae",
   "metadata": {},
   "outputs": [
    {
     "name": "stdout",
     "output_type": "stream",
     "text": [
      "GfgisbestforGeeks\n"
     ]
    }
   ],
   "source": [
    "s='Gfg, is best: for ! Geeks ;'\n",
    "ss=''\n",
    "for i in s:\n",
    "    if i.isalpha():\n",
    "        ss=ss+i\n",
    "print(ss)"
   ]
  },
  {
   "cell_type": "code",
   "execution_count": 133,
   "id": "d7542689",
   "metadata": {},
   "outputs": [
    {
     "name": "stdout",
     "output_type": "stream",
     "text": [
      "{'e': 'ee', 'k': 'eek', 's': 'eeks', 'g': 'eeksg'}\n",
      "geeks\n"
     ]
    }
   ],
   "source": [
    "s = \"e!e!k!s!g\"\n",
    "s1 = \"g!e!e!k!s\"\n",
    "l=''\n",
    "l1=''\n",
    "d={}\n",
    "d1={}\n",
    "for i in s:\n",
    "    if i.isalpha():\n",
    "        l=l+i\n",
    "        d[i]=l\n",
    "print(d)\n",
    "for j in s1:\n",
    "    if j.isalpha():\n",
    "        l1=l1+j\n",
    "print(l1)"
   ]
  },
  {
   "cell_type": "code",
   "execution_count": 139,
   "id": "0d818f84",
   "metadata": {},
   "outputs": [
    {
     "name": "stdout",
     "output_type": "stream",
     "text": [
      "['gfg', 'xit', 'is']\n"
     ]
    }
   ],
   "source": [
    "lst = ['allx', 'lovex', 'gfg', 'xit', 'is', 'bestx']\n",
    "sfx='x'\n",
    "for i in lst[:]:\n",
    "    if i.endswith(sfx):\n",
    "        lst.remove(i)\n",
    "print(lst)"
   ]
  },
  {
   "cell_type": "code",
   "execution_count": null,
   "id": "1389129c",
   "metadata": {},
   "outputs": [],
   "source": [
    "s=\"geekforgeeks\"\n"
   ]
  },
  {
   "cell_type": "code",
   "execution_count": 152,
   "id": "f9c09262",
   "metadata": {},
   "outputs": [
    {
     "name": "stdout",
     "output_type": "stream",
     "text": [
      "{'a': 4, 'ab': 2, 'aba': 2, 'abab': 1, 'ababa': 1, 'ababaa': 1, 'b': 2, 'ba': 2, 'bab': 1, 'baba': 1, 'babaa': 1, 'abaa': 1, 'baa': 1, 'aa': 1}\n"
     ]
    }
   ],
   "source": [
    "s = 'ababaa'\n",
    "\n",
    "l=[]\n",
    "for i in range(len(s)):\n",
    "    for j in range(i+1,len(s)+1):\n",
    "        if s[i:j]:\n",
    "            l.append(s[i:j])\n",
    "d={}\n",
    "for k in l:\n",
    "    v=l.count(k)\n",
    "    d[k]=v\n",
    "print(d)"
   ]
  },
  {
   "cell_type": "code",
   "execution_count": 164,
   "id": "05d4bb11",
   "metadata": {},
   "outputs": [
    {
     "ename": "TypeError",
     "evalue": "'str' object is not callable",
     "output_type": "error",
     "traceback": [
      "\u001b[1;31m---------------------------------------------------------------------------\u001b[0m",
      "\u001b[1;31mTypeError\u001b[0m                                 Traceback (most recent call last)",
      "\u001b[1;32m~\\AppData\\Local\\Temp\\ipykernel_13880\\1300874691.py\u001b[0m in \u001b[0;36m<module>\u001b[1;34m\u001b[0m\n\u001b[0;32m      3\u001b[0m \u001b[0ml\u001b[0m\u001b[1;33m=\u001b[0m\u001b[1;33m[\u001b[0m\u001b[1;33m]\u001b[0m\u001b[1;33m\u001b[0m\u001b[1;33m\u001b[0m\u001b[0m\n\u001b[0;32m      4\u001b[0m \u001b[1;32mfor\u001b[0m \u001b[0mi\u001b[0m \u001b[1;32min\u001b[0m \u001b[0mrange\u001b[0m\u001b[1;33m(\u001b[0m\u001b[0mlen\u001b[0m\u001b[1;33m(\u001b[0m\u001b[0ms\u001b[0m\u001b[1;33m)\u001b[0m\u001b[1;33m-\u001b[0m\u001b[1;36m1\u001b[0m\u001b[1;33m,\u001b[0m\u001b[1;33m-\u001b[0m\u001b[1;36m1\u001b[0m\u001b[1;33m,\u001b[0m\u001b[1;33m-\u001b[0m\u001b[1;36m1\u001b[0m\u001b[1;33m)\u001b[0m\u001b[1;33m:\u001b[0m\u001b[1;33m\u001b[0m\u001b[1;33m\u001b[0m\u001b[0m\n\u001b[1;32m----> 5\u001b[1;33m     \u001b[1;32mif\u001b[0m \u001b[0ms\u001b[0m\u001b[1;33m[\u001b[0m\u001b[0mi\u001b[0m\u001b[1;33m]\u001b[0m\u001b[1;33m>=\u001b[0m\u001b[0mstr\u001b[0m\u001b[1;33m(\u001b[0m\u001b[1;36m1\u001b[0m\u001b[1;33m)\u001b[0m\u001b[1;33m:\u001b[0m\u001b[1;33m\u001b[0m\u001b[1;33m\u001b[0m\u001b[0m\n\u001b[0m\u001b[0;32m      6\u001b[0m         \u001b[1;32mbreak\u001b[0m\u001b[1;33m\u001b[0m\u001b[1;33m\u001b[0m\u001b[0m\n\u001b[0;32m      7\u001b[0m     \u001b[1;32melse\u001b[0m\u001b[1;33m:\u001b[0m\u001b[1;33m\u001b[0m\u001b[1;33m\u001b[0m\u001b[0m\n",
      "\u001b[1;31mTypeError\u001b[0m: 'str' object is not callable"
     ]
    }
   ],
   "source": [
    "s = \"1203000\"\n",
    "ss=''\n",
    "l=[]\n",
    "for i in range(len(s)-1,-1,-1):\n",
    "    if s[i]>=str(1):\n",
    "        break\n",
    "    else:\n",
    "        ss=ss+s[i]\n",
    "print(ss)"
   ]
  },
  {
   "cell_type": "code",
   "execution_count": 167,
   "id": "a4e62ae4",
   "metadata": {},
   "outputs": [
    {
     "ename": "TypeError",
     "evalue": "'int' object is not iterable",
     "output_type": "error",
     "traceback": [
      "\u001b[1;31m---------------------------------------------------------------------------\u001b[0m",
      "\u001b[1;31mTypeError\u001b[0m                                 Traceback (most recent call last)",
      "\u001b[1;32m~\\AppData\\Local\\Temp\\ipykernel_13880\\709817763.py\u001b[0m in \u001b[0;36m<module>\u001b[1;34m\u001b[0m\n\u001b[0;32m      2\u001b[0m \u001b[0mss\u001b[0m\u001b[1;33m=\u001b[0m\u001b[1;34m''\u001b[0m\u001b[1;33m\u001b[0m\u001b[1;33m\u001b[0m\u001b[0m\n\u001b[0;32m      3\u001b[0m \u001b[1;32mfor\u001b[0m \u001b[0mi\u001b[0m \u001b[1;32min\u001b[0m \u001b[0mrange\u001b[0m\u001b[1;33m(\u001b[0m\u001b[0mlen\u001b[0m\u001b[1;33m(\u001b[0m\u001b[0ms\u001b[0m\u001b[1;33m)\u001b[0m\u001b[1;33m-\u001b[0m\u001b[1;36m1\u001b[0m\u001b[1;33m,\u001b[0m\u001b[1;33m-\u001b[0m\u001b[1;36m1\u001b[0m\u001b[1;33m,\u001b[0m\u001b[1;33m-\u001b[0m\u001b[1;36m1\u001b[0m\u001b[1;33m)\u001b[0m\u001b[1;33m:\u001b[0m\u001b[1;33m\u001b[0m\u001b[1;33m\u001b[0m\u001b[0m\n\u001b[1;32m----> 4\u001b[1;33m    \u001b[1;32mif\u001b[0m \u001b[0ms\u001b[0m\u001b[1;33m[\u001b[0m\u001b[0mi\u001b[0m\u001b[1;33m]\u001b[0m\u001b[1;33m>=\u001b[0m\u001b[0mstr\u001b[0m\u001b[1;33m(\u001b[0m\u001b[0mlist\u001b[0m\u001b[1;33m(\u001b[0m\u001b[0mi\u001b[0m\u001b[1;33m)\u001b[0m\u001b[1;33m)\u001b[0m\u001b[1;33m:\u001b[0m\u001b[1;33m\u001b[0m\u001b[1;33m\u001b[0m\u001b[0m\n\u001b[0m\u001b[0;32m      5\u001b[0m        \u001b[1;32mbreak\u001b[0m\u001b[1;33m\u001b[0m\u001b[1;33m\u001b[0m\u001b[0m\n\u001b[0;32m      6\u001b[0m    \u001b[1;32melse\u001b[0m\u001b[1;33m:\u001b[0m\u001b[1;33m\u001b[0m\u001b[1;33m\u001b[0m\u001b[0m\n",
      "\u001b[1;31mTypeError\u001b[0m: 'int' object is not iterable"
     ]
    }
   ],
   "source": [
    " \"1203000\"\n",
    "ss=''\n",
    "for i in range(len(s)-1,-1,-1):\n",
    "    if s[i]>=str(list(i)):\n"
   ]
  },
  {
   "cell_type": "code",
   "execution_count": 24,
   "id": "577ab36e",
   "metadata": {},
   "outputs": [
    {
     "name": "stdout",
     "output_type": "stream",
     "text": [
      "0 Gfg is good\n",
      "1 for Geeks\n",
      "2 I love Gfg\n",
      "3 Gfg is useful\n",
      "[0, 3]\n"
     ]
    }
   ],
   "source": [
    "lst = [\"Gfg is good\", \"for Geeks\", \"I love Gfg\", \"Gfg is useful\"]\n",
    "kk='is'\n",
    "res=[]\n",
    "for k,v in enumerate(lst):\n",
    "    print(k,v)\n",
    "    if kk in v:\n",
    "        res.append(k)\n",
    "print(res)"
   ]
  },
  {
   "cell_type": "code",
   "execution_count": 26,
   "id": "b2fc2c50",
   "metadata": {},
   "outputs": [
    {
     "name": "stdout",
     "output_type": "stream",
     "text": [
      "[0, 1, 3]\n"
     ]
    }
   ],
   "source": [
    "st = [\"Gfg is good\", \"for Geeks\", \"I love Gfg\", \"Gfg is useful\"]\n",
    "kk='s'\n",
    "res=[]\n",
    "for i in range(len(st)):\n",
    "    if kk in st[i]:\n",
    "        res.append(i)\n",
    "print(res)"
   ]
  },
  {
   "cell_type": "code",
   "execution_count": 30,
   "id": "53412ad3",
   "metadata": {},
   "outputs": [
    {
     "name": "stdout",
     "output_type": "stream",
     "text": [
      "['gfg', 'is', 'best', 'for', 'all', 'geeks']\n",
      "['gfg', 'is', 'for', 'geeks']\n"
     ]
    }
   ],
   "source": [
    "s = \"gfg is best for all geeks\"\n",
    "sublst=['best','all']\n",
    "s=s.split()\n",
    "print(s)\n",
    "res=[]\n",
    "for i in s:\n",
    "    if i in sublst:\n",
    "        pass\n",
    "    else:\n",
    "        res.append(i)\n",
    "print(res)"
   ]
  },
  {
   "cell_type": "code",
   "execution_count": 33,
   "id": "8c858743",
   "metadata": {},
   "outputs": [
    {
     "name": "stdout",
     "output_type": "stream",
     "text": [
      "['geeks', 'geeks is best ', ' geeks']\n",
      "geeksfor\n"
     ]
    }
   ],
   "source": [
    "s = 'geeksforgeeks is best for geeks'\n",
    "sub='for'\n",
    "s=s.split(sub)\n",
    "print(s)\n",
    "ss=s[0]+sub\n",
    "print(ss)"
   ]
  },
  {
   "cell_type": "code",
   "execution_count": 36,
   "id": "8d78edd4",
   "metadata": {},
   "outputs": [
    {
     "name": "stdout",
     "output_type": "stream",
     "text": [
      "eesees\n",
      "True\n"
     ]
    }
   ],
   "source": [
    "s='geeksforgeeks'\n",
    "k='sees'\n",
    "ss=''\n",
    "for i in s:\n",
    "    if i in k:\n",
    "        ss=ss+i\n",
    "print(ss)\n",
    "res=False\n",
    "if ss.find(k)!=1:\n",
    "    res=True\n",
    "print(res)"
   ]
  },
  {
   "cell_type": "code",
   "execution_count": 37,
   "id": "bfd354fd",
   "metadata": {},
   "outputs": [
    {
     "name": "stdout",
     "output_type": "stream",
     "text": [
      "[[1, 1], [2, 8], [3, 27], [5, 125]]\n"
     ]
    }
   ],
   "source": [
    "lst=[1,2,3,5]\n",
    "l=[]\n",
    "for i in lst :\n",
    "    i=[i,i**3]\n",
    "    l.append(i)\n",
    "print(l)"
   ]
  },
  {
   "cell_type": "code",
   "execution_count": 38,
   "id": "918ff439",
   "metadata": {},
   "outputs": [
    {
     "name": "stdout",
     "output_type": "stream",
     "text": [
      "sxixax\n"
     ]
    }
   ],
   "source": [
    "x='shivam'\n",
    "#sxixax\n",
    "s=''\n",
    "for i in range(len(x)):\n",
    "    if i%2!=0:\n",
    "        s=s+'x'\n",
    "    else:\n",
    "        s=s+x[i]\n",
    "print(s)"
   ]
  },
  {
   "cell_type": "code",
   "execution_count": 43,
   "id": "e89a1f05",
   "metadata": {},
   "outputs": [
    {
     "name": "stdout",
     "output_type": "stream",
     "text": [
      "sxixax\n"
     ]
    }
   ],
   "source": [
    "x='shivam'\n",
    "#sxixax\n",
    "s=''\n",
    "lst=[s+x[i]+'x' for i in range(len(x)) if i%2==0]\n",
    "l=''.join(lst)\n",
    "print(l)"
   ]
  },
  {
   "cell_type": "code",
   "execution_count": 44,
   "id": "83261d28",
   "metadata": {},
   "outputs": [
    {
     "name": "stdout",
     "output_type": "stream",
     "text": [
      "[3, 4, 5, 6, 6, 7, 8, 9]\n"
     ]
    }
   ],
   "source": [
    "lst=[3,4,5,6]\n",
    "tpl=(6,7,8,9)\n",
    "print(lst+list(tpl))\n"
   ]
  },
  {
   "cell_type": "code",
   "execution_count": 45,
   "id": "ab9ddba2",
   "metadata": {},
   "outputs": [
    {
     "name": "stdout",
     "output_type": "stream",
     "text": [
      "49\n"
     ]
    }
   ],
   "source": [
    "tup = (5, 20, 3, 7, 6, 8)\n",
    "c=0\n",
    "for i in tup:\n",
    "    c=c+i\n",
    "print(c)"
   ]
  },
  {
   "cell_type": "code",
   "execution_count": 50,
   "id": "daea019b",
   "metadata": {},
   "outputs": [
    {
     "name": "stdout",
     "output_type": "stream",
     "text": [
      "[(1, 100, 4), (2, 100, 6), (3, 100, 1)]\n"
     ]
    }
   ],
   "source": [
    "lst = [(1, 3, 4), (2, 4, 6), (3, 8, 1)]\n",
    "l=[]\n",
    "for i in lst:\n",
    "    i=list(i)\n",
    "    i[-2]=100\n",
    "    i=tuple(i)\n",
    "    l.append(i)\n",
    "print(l)"
   ]
  },
  {
   "cell_type": "code",
   "execution_count": 53,
   "id": "bc3d8909",
   "metadata": {},
   "outputs": [
    {
     "name": "stdout",
     "output_type": "stream",
     "text": [
      "(5, 35, 56, 80)\n"
     ]
    }
   ],
   "source": [
    "tup = (1, 5, 7, 8, 10)\n",
    "res=tuple(i*j for i,j in zip(tup,tup[1:]))\n",
    "print(res)"
   ]
  },
  {
   "cell_type": "code",
   "execution_count": 59,
   "id": "cea8ee9e",
   "metadata": {},
   "outputs": [
    {
     "name": "stdout",
     "output_type": "stream",
     "text": [
      "[(4, 5), (8, 6, 7), (3, 4, 6, 7)]\n"
     ]
    }
   ],
   "source": [
    "lst = [(4, 5), (4,), (8, 6, 7), (1,), (3, 4, 6, 7)]\n",
    "k = 1\n",
    "l=[]\n",
    "for i in lst:\n",
    "    if len(i)!=k:\n",
    "        l.append(i)\n",
    "print(l)"
   ]
  },
  {
   "cell_type": "code",
   "execution_count": 63,
   "id": "0694da21",
   "metadata": {},
   "outputs": [
    {
     "name": "stdout",
     "output_type": "stream",
     "text": [
      "(None, 2) 2\n",
      "(None, None) 2\n",
      "(3, 4) 2\n",
      "(12, 3) 2\n",
      "(None,) 1\n",
      "[(None, 2), (3, 4), (12, 3)]\n"
     ]
    }
   ],
   "source": [
    "lst = [(None, 2), (None, None), (3, 4), (12, 3), (None,)]\n",
    "l = []\n",
    "for i in lst:\n",
    "    print(i,len(i))\n",
    "    if not (i.count(None)==len(i)):\n",
    "        l.append(i)\n",
    "print(l)"
   ]
  },
  {
   "cell_type": "code",
   "execution_count": 70,
   "id": "95d9e845",
   "metadata": {},
   "outputs": [
    {
     "name": "stdout",
     "output_type": "stream",
     "text": [
      "[('Geeks', 8), ('for', 24), ('Geeks', 30)]\n"
     ]
    }
   ],
   "source": [
    "lst=[('for', 24), ('Geeks', 8), ('Geeks', 30)]\n",
    "for i in range(len(lst)):\n",
    "    for j in range(i+1,len(lst)):\n",
    "       \n",
    "        if lst[i][1]>lst[j][1]:\n",
    "            temp=lst[i]\n",
    "            lst[i]=lst[j]\n",
    "            lst[j]=temp\n",
    "print(lst)"
   ]
  },
  {
   "cell_type": "code",
   "execution_count": 75,
   "id": "f912b261",
   "metadata": {},
   "outputs": [
    {
     "name": "stdout",
     "output_type": "stream",
     "text": [
      "{4: 3, 5: 4, 6: 2}\n"
     ]
    }
   ],
   "source": [
    "tup = [4, 5, 4, 5, 6, 6, 5, 5, 4]\n",
    "d={}\n",
    "for i in tup:\n",
    "    if i in d:\n",
    "        d[i]=d[i]+1\n",
    "    else:\n",
    "        d[i]=1\n",
    "print(d)        "
   ]
  },
  {
   "cell_type": "code",
   "execution_count": 86,
   "id": "5b4a8893",
   "metadata": {},
   "outputs": [
    {
     "name": "stdout",
     "output_type": "stream",
     "text": [
      "[(7, 9, 6)]\n"
     ]
    }
   ],
   "source": [
    "lst = [(6, 4, 1), (7, 9, 6), (12, 18, 22)]\n",
    "l=[]\n",
    "k=2\n",
    "c=0\n",
    "for i in lst:\n",
    "    for j in i:\n",
    "        if j%k==0:\n",
    "            c=c+1\n",
    "    if c==len(i):\n",
    "        l.append(i)\n",
    "print(l)"
   ]
  },
  {
   "cell_type": "code",
   "execution_count": 92,
   "id": "e333d90c",
   "metadata": {},
   "outputs": [
    {
     "name": "stdout",
     "output_type": "stream",
     "text": [
      "{('hi', 'bye'): 2, ('Geeks', 'forGeeks'): 1, ('a', 'b'): 2}\n"
     ]
    }
   ],
   "source": [
    "lst=[[('hi', 'bye')], [('Geeks', 'forGeeks')],[('a', 'b')], [('hi', 'bye')], [('a', 'b')]]\n",
    "ele=('a','b')\n",
    "d={}\n",
    "for i in lst:\n",
    "    for j in i:\n",
    "        if j in d:\n",
    "            d[j]=d[j]+1\n",
    "        else:\n",
    "            d[j]=1\n",
    "print(d)  "
   ]
  },
  {
   "cell_type": "code",
   "execution_count": 105,
   "id": "c5e9e1ad",
   "metadata": {},
   "outputs": [
    {
     "name": "stdout",
     "output_type": "stream",
     "text": [
      "[1, 3, 5, 2]\n"
     ]
    }
   ],
   "source": [
    "tup = (1, 3, 5, 2, 3, 5, 1, 1, 3)\n",
    "l=[]\n",
    "for i in tup:\n",
    "    if tup.count(i)>=1 and i not in l:\n",
    "        l.append(i)\n",
    "print(l)"
   ]
  },
  {
   "cell_type": "code",
   "execution_count": 106,
   "id": "fd8674c1",
   "metadata": {},
   "outputs": [
    {
     "name": "stdout",
     "output_type": "stream",
     "text": [
      "[1, 3, 5, 2]\n"
     ]
    }
   ],
   "source": [
    "tup = (1, 3, 5, 2, 3, 5, 1, 1, 3)\n",
    "l=[]\n",
    "for i in tup:\n",
    "    if i not in l:\n",
    "        l.append(i)\n",
    "print(l)"
   ]
  },
  {
   "cell_type": "code",
   "execution_count": 110,
   "id": "708632dc",
   "metadata": {},
   "outputs": [
    {
     "name": "stdout",
     "output_type": "stream",
     "text": [
      "15\n",
      "3\n",
      "3\n",
      "9\n",
      "45\n",
      "56\n",
      "48\n",
      "15339455648\n",
      "['1', '5', '3', '9', '4', '6', '8']\n"
     ]
    }
   ],
   "source": [
    "lst = [(15, 3), (3, 9), (45, 56), (48,)]\n",
    "res = []\n",
    "x=''\n",
    "for i in lst:\n",
    "    for j in i:\n",
    "        print(j)\n",
    "        x=x+str(j)\n",
    "print(x)\n",
    "l=[]\n",
    "for i in x:\n",
    "    if i not in l:\n",
    "        l.append(i)\n",
    "print(l)"
   ]
  },
  {
   "cell_type": "code",
   "execution_count": 49,
   "id": "d0874cf5",
   "metadata": {},
   "outputs": [
    {
     "name": "stdout",
     "output_type": "stream",
     "text": [
      "[0, 1, 0, 1, 1, 1, 1, 1, 0, 0]\n"
     ]
    }
   ],
   "source": [
    "lst=[1,0,1,0,0,0,0,0,1,1]\n",
    "res=[]\n",
    "for i in lst:\n",
    "    v=-(i-1)\n",
    "    res.append(v)\n",
    "print(res)"
   ]
  },
  {
   "cell_type": "code",
   "execution_count": 115,
   "id": "c123a056",
   "metadata": {},
   "outputs": [
    {
     "name": "stdout",
     "output_type": "stream",
     "text": [
      "[5, 6, 3, 8]\n"
     ]
    }
   ],
   "source": [
    "tpl = ([5], [6], [3], [8])\n",
    "l=[]\n",
    "for i in tpl:\n",
    "    for j in i:\n",
    "        l.append(j)\n",
    "print(l)"
   ]
  },
  {
   "cell_type": "code",
   "execution_count": 27,
   "id": "a1539d5b",
   "metadata": {},
   "outputs": [
    {
     "name": "stdout",
     "output_type": "stream",
     "text": [
      "1 4 6 5 8 2 9 1 10 "
     ]
    }
   ],
   "source": [
    "st = [('1', '4', '6'), ('5', '8'), ('2', '9'), ('1', '10')]\n",
    "l=[]\n",
    "for i in st:\n",
    "    for j in i:\n",
    "        print(j,end=' ')"
   ]
  },
  {
   "cell_type": "code",
   "execution_count": 48,
   "id": "62bfc90d",
   "metadata": {},
   "outputs": [
    {
     "name": "stdout",
     "output_type": "stream",
     "text": [
      "[2, 'gfg', 3, 'gfg', 4, 'gfg']\n"
     ]
    }
   ],
   "source": [
    "l=[2,3,4]\n",
    "s='gfg'\n",
    "lst=[]\n",
    "for i in l:\n",
    "    lst.append([i,s])\n",
    "l1=[]\n",
    "for i in lst:\n",
    "    for j in i:\n",
    "        l1.append(j)\n",
    "print(l1)"
   ]
  },
  {
   "cell_type": "code",
   "execution_count": 2,
   "id": "c63d8df1",
   "metadata": {},
   "outputs": [
    {
     "name": "stdout",
     "output_type": "stream",
     "text": [
      "['rar', 'mam', 'malayalam', 'mom', 'nayan']\n"
     ]
    }
   ],
   "source": [
    "l=['rar','mam','malayalam','shiva','mom','raju','nayan']\n",
    "lst=[]\n",
    "for i in l:\n",
    "    if i==i[::-1]:\n",
    "        lst.append(i)\n",
    "print(lst)"
   ]
  },
  {
   "cell_type": "code",
   "execution_count": 4,
   "id": "81f9632b",
   "metadata": {},
   "outputs": [
    {
     "name": "stdout",
     "output_type": "stream",
     "text": [
      "enter a stringsdf\n",
      "enter a second stringfg\n",
      "['sdf'] ['fg']\n"
     ]
    }
   ],
   "source": [
    "s=input('enter a string')\n",
    "s1=input('enter a second string')\n",
    "s2=s.split()\n",
    "s3=s1.split()\n",
    "print(s2,s3)"
   ]
  },
  {
   "cell_type": "code",
   "execution_count": 8,
   "id": "58ca5cb2",
   "metadata": {},
   "outputs": [
    {
     "name": "stdout",
     "output_type": "stream",
     "text": [
      "enter a position:3\n",
      "enter a seond position:1\n",
      "[1, 4, 3, 2, 56, 6, 87]\n"
     ]
    }
   ],
   "source": [
    "lst=[1,2,3,4,56,6,87]\n",
    "p1=int(input(\"enter a position:\"))\n",
    "p2=int(input('enter a seond position:'))\n",
    "for i in range(len(lst)):\n",
    "    for j in range(i+1,len(lst)):\n",
    "        temp=lst[p1]\n",
    "        lst[p1]=lst[p2]\n",
    "        lst[p2]=temp\n",
    "print(lst)"
   ]
  },
  {
   "cell_type": "code",
   "execution_count": 18,
   "id": "6262554f",
   "metadata": {},
   "outputs": [
    {
     "name": "stdout",
     "output_type": "stream",
     "text": [
      "anna\n"
     ]
    }
   ],
   "source": [
    "s = \"locoannamadam\"\n",
    "l=[]\n",
    "for i in range(len(s)):\n",
    "    for j in range(i+1,len(s)+1):\n",
    "        v=s[i:j]\n",
    "        if v==v[::-1]:\n",
    "            l.append(v)\n",
    "ls=list(set(l))\n",
    "print(ls[-2])"
   ]
  },
  {
   "cell_type": "code",
   "execution_count": 23,
   "id": "f7e98a76",
   "metadata": {},
   "outputs": [
    {
     "name": "stdout",
     "output_type": "stream",
     "text": [
      "[0, 1, 2, 3, 4, 5] [0, 0, 0, 1, 1, 2, 2, 3, 4, 5, 5, 5]\n",
      "['_', '_', '_', '_', '_', '_', '_', '_', '_', '_', '_', '_']\n",
      "[0, 1, 2, 3, 4, 5, '_', '_', '_', '_', '_', '_', '_', '_', '_', '_', '_', '_']\n"
     ]
    }
   ],
   "source": [
    "lst=[0,0,0,0,1,1,1,2,2,2,3,3,4,4,5,5,5,5]\n",
    "l1=[]\n",
    "l2=[]\n",
    "for i in lst:\n",
    "    if i not in l1:\n",
    "        l1.append(i)\n",
    "    else:\n",
    "        l2.append(i)\n",
    "print(l1,l2)\n",
    "l3=[]\n",
    "for i in l2:\n",
    "    v='_'\n",
    "    for i in v:\n",
    "        l3.append(i)\n",
    "print(l3)\n",
    "l1.extend(l3)\n",
    "print(l1)"
   ]
  },
  {
   "cell_type": "code",
   "execution_count": 26,
   "id": "225aee01",
   "metadata": {},
   "outputs": [
    {
     "name": "stdout",
     "output_type": "stream",
     "text": [
      "[0, 1, 2, 3, 4, 5, '_', '_', '_', '_', '_', '_', '_', '_', '_', '_', '_', '_']\n"
     ]
    }
   ],
   "source": [
    "lst=[0,0,0,0,1,1,1,2,2,2,3,3,4,4,5,5,5,5]\n",
    "l=len(lst)\n",
    "s=set(lst)\n",
    "s1=len(s)\n",
    "l1=list(s)\n",
    "diff=l-s1\n",
    "lst1=['_']*diff\n",
    "l1.extend(lst1)\n",
    "print(l1)"
   ]
  },
  {
   "cell_type": "code",
   "execution_count": 30,
   "id": "340e4673",
   "metadata": {},
   "outputs": [
    {
     "name": "stdout",
     "output_type": "stream",
     "text": [
      "[-1, -3]\n"
     ]
    }
   ],
   "source": [
    "lst=[-1,-1,2,-3,-3,4]\n",
    "l1=[]\n",
    "for i in lst:\n",
    "    if lst.count(i)>1 and i not in l1:\n",
    "        l1.append(i)\n",
    "print(l1)"
   ]
  },
  {
   "cell_type": "code",
   "execution_count": 32,
   "id": "da0bd9f7",
   "metadata": {},
   "outputs": [
    {
     "name": "stdout",
     "output_type": "stream",
     "text": [
      "cgerty\n",
      "cgertyab\n"
     ]
    }
   ],
   "source": [
    "s=\"abbacagerty\"\n",
    "ss=''\n",
    "for i in s:\n",
    "    if s.count(i)==1:\n",
    "        ss=ss+i\n",
    "print(ss)\n",
    "for i in s:\n",
    "    if i not in ss:\n",
    "        ss=ss+i\n",
    "print(ss)"
   ]
  },
  {
   "cell_type": "code",
   "execution_count": null,
   "id": "594f6844",
   "metadata": {},
   "outputs": [],
   "source": [
    "lst = [[4, 5, 6], [2, 4, 5], [6, 7, 5]]\n",
    "for i in lst:\n",
    "    i.sort()\n",
    "    lst.append(i)\n",
    "print(lst)"
   ]
  },
  {
   "cell_type": "code",
   "execution_count": 5,
   "id": "2f043630",
   "metadata": {},
   "outputs": [
    {
     "name": "stdout",
     "output_type": "stream",
     "text": [
      "enter a number:5\n",
      "1 \n",
      "2 3 \n",
      "4 5 6 \n",
      "7 8 9 10 \n"
     ]
    }
   ],
   "source": [
    "n=int(input('enter a number:'))\n",
    "c=1\n",
    "for i in range(1,n):\n",
    "    for j in range(1,n):\n",
    "        if (j<=i):\n",
    "            print(c,end=' ')\n",
    "            c=c+1\n",
    "        else:\n",
    "            print('',end='')\n",
    "    print()"
   ]
  },
  {
   "cell_type": "code",
   "execution_count": 12,
   "id": "1d850340",
   "metadata": {},
   "outputs": [
    {
     "name": "stdout",
     "output_type": "stream",
     "text": [
      "['1', '2', '3', '5', '6']\n"
     ]
    }
   ],
   "source": [
    "s = \"1: Prakhar Agrawal, 2: Manish Kumar Rai, 3: Rishabh Gupta56\"\n",
    "s1=list(s)\n",
    "l1=[]\n",
    "for i in s1:\n",
    "    if i.isdigit():\n",
    "        l1.append(i)\n",
    "print(l1)"
   ]
  },
  {
   "cell_type": "code",
   "execution_count": 27,
   "id": "efb38149",
   "metadata": {},
   "outputs": [
    {
     "name": "stdout",
     "output_type": "stream",
     "text": [
      "enter a numbre:5\n",
      "76\n"
     ]
    }
   ],
   "source": [
    "n=int(input('enter a numbre:'))\n",
    "res=1\n",
    "for i in range(1,n+1):\n",
    "    res=res+i*n\n",
    "print(res)"
   ]
  },
  {
   "cell_type": "code",
   "execution_count": null,
   "id": "990beefa",
   "metadata": {},
   "outputs": [
    {
     "name": "stdout",
     "output_type": "stream",
     "text": [
      "enter a numbre:5\n"
     ]
    }
   ],
   "source": [
    "n=int(input('enter a numbre:'))\n",
    "res=1\n",
    "i=1\n",
    "while(n>i):\n",
    "    res=n*i\n",
    "    i=i-1\n",
    "print(res)"
   ]
  },
  {
   "cell_type": "code",
   "execution_count": 8,
   "id": "95c68f29",
   "metadata": {},
   "outputs": [
    {
     "name": "stdout",
     "output_type": "stream",
     "text": [
      "{1: 1, 2: 1, 3: 1, 5: 1, 6: 3, 8: 1, 9: 1}\n",
      "4\n",
      "6\n"
     ]
    }
   ],
   "source": [
    "l=[1,2,3,5,6,6,6,8,9]\n",
    "d={}\n",
    "for i in l:\n",
    "    d[i]=d.get(i,0)+1\n",
    "print(d)\n",
    "k=list(d.keys())\n",
    "v=list(d.values())\n",
    "s=max(v)\n",
    "ss=v.index(s)\n",
    "print(ss)\n",
    "print(k[ss])"
   ]
  },
  {
   "cell_type": "code",
   "execution_count": 16,
   "id": "1bc037cd",
   "metadata": {},
   "outputs": [
    {
     "name": "stdout",
     "output_type": "stream",
     "text": [
      "enter a number:5\n",
      "120\n"
     ]
    }
   ],
   "source": [
    "n=int(input(\"enter a number:\"))\n",
    "f=1\n",
    "for i in range(1,n+1):\n",
    "    f=f*i\n",
    "print(f)"
   ]
  },
  {
   "cell_type": "code",
   "execution_count": 12,
   "id": "31c1a04d",
   "metadata": {},
   "outputs": [
    {
     "name": "stdout",
     "output_type": "stream",
     "text": [
      "enter a number:5\n",
      "120\n"
     ]
    }
   ],
   "source": [
    "n=int(input('enter a number:'))\n",
    "fact=1\n",
    "i=1\n",
    "while(i<=n):\n",
    "    fact=fact*i\n",
    "    i=i+1\n",
    "print(fact)"
   ]
  },
  {
   "cell_type": "code",
   "execution_count": 19,
   "id": "ed03d9f8",
   "metadata": {},
   "outputs": [
    {
     "name": "stdout",
     "output_type": "stream",
     "text": [
      "['ge', 'gee', 'geek', 'geeks', 'geeksf', 'geeksfo', 'ee', 'eek', 'eeks', 'eeksf', 'eeksfo', 'ek', 'eks', 'eksf', 'eksfo', 'ks', 'ksf', 'ksfo', 'sf', 'sfo', 'fo']\n"
     ]
    }
   ],
   "source": [
    "a='geeksfor'\n",
    "l=[]\n",
    "for i in range(len(a)):\n",
    "    for j in range(i+1,len(a)):\n",
    "        v=a[i:j]\n",
    "        if len(v)>1:\n",
    "            l.append(v)\n",
    "print(l)"
   ]
  },
  {
   "cell_type": "code",
   "execution_count": 30,
   "id": "6f9629dd",
   "metadata": {},
   "outputs": [
    {
     "name": "stdout",
     "output_type": "stream",
     "text": [
      "{'ab': 3, 'cd': 2, 'abc': 2, 'bc': 2}\n"
     ]
    }
   ],
   "source": [
    "a = 'abacdabcabcd'\n",
    "l=[]\n",
    "for i in range(len(a)):\n",
    "    for j in range(len(a)+1):\n",
    "        v=a[i:j]\n",
    "        if len(v)>1:\n",
    "            l.append(v)\n",
    "# print(l)\n",
    "d={}\n",
    "for i in l:\n",
    "    v=l.count(i)\n",
    "    if v>1:\n",
    "        d[i]=v\n",
    "print(d)"
   ]
  },
  {
   "cell_type": "code",
   "execution_count": 4,
   "id": "a2e5d0c6",
   "metadata": {},
   "outputs": [
    {
     "name": "stdout",
     "output_type": "stream",
     "text": [
      "['geeksfor', 'kesssssssks', 'bestess', 'sshhiva', 'ramasshanj']\n",
      "['kesssssssks', 'bestess', 'sshhiva', 'ramasshanj', 'geeksfor']\n"
     ]
    }
   ],
   "source": [
    "s='geeksfor kesssssssks bestess sshhiva ramasshanj'\n",
    "s=s.split()\n",
    "print(s)\n",
    "tg='s'\n",
    "lst=[]\n",
    "for i in range(len(s)):\n",
    "    for j in range(i+1,len(s)):\n",
    "        if s[i].count(tg)<s[j].count(tg):\n",
    "            temp=s[i]\n",
    "            s[i]=s[j]\n",
    "            s[j]=temp\n",
    "print(s)"
   ]
  },
  {
   "cell_type": "code",
   "execution_count": 9,
   "id": "8169d22a",
   "metadata": {},
   "outputs": [
    {
     "name": "stdout",
     "output_type": "stream",
     "text": [
      "{'': 15, 'a': 3, 'ab': 2, 'aba': 2, 'abab': 1, 'ababa': 1, 'b': 2, 'ba': 2, 'bab': 1, 'baba': 1}\n"
     ]
    }
   ],
   "source": [
    "s='ababa'\n",
    "d={}\n",
    "ss=''\n",
    "for i in range(len(s)):\n",
    "    for j in range(len(s)+1):\n",
    "        v=s[i:j]\n",
    "        if v in d:\n",
    "            d[v]=d[v]+1\n",
    "        else:\n",
    "            d[v]=1\n",
    "print(d)"
   ]
  },
  {
   "cell_type": "code",
   "execution_count": 13,
   "id": "1a1dca7c",
   "metadata": {},
   "outputs": [
    {
     "name": "stdout",
     "output_type": "stream",
     "text": [
      "['raju', ' is ', ' a ', ' good', ' boy']\n"
     ]
    }
   ],
   "source": [
    "s='raju, is , a , good, boy'\n",
    "s=s.split(',')\n",
    "print(s)"
   ]
  },
  {
   "cell_type": "code",
   "execution_count": 15,
   "id": "a27b6758",
   "metadata": {},
   "outputs": [
    {
     "name": "stdout",
     "output_type": "stream",
     "text": [
      "['g', 'e', 'e', 'k', 's', 'g', 'e', 'e', 'k', 's']\n"
     ]
    }
   ],
   "source": [
    "s='geeksforgeeks'\n",
    "count=0\n",
    "res=[]\n",
    "for i in range(len(s)):\n",
    "    if s.count(s[i])>1:\n",
    "        lst.append(s[i])\n",
    "print(lst)"
   ]
  },
  {
   "cell_type": "code",
   "execution_count": 16,
   "id": "137f5116",
   "metadata": {},
   "outputs": [
    {
     "name": "stdout",
     "output_type": "stream",
     "text": [
      "['gfg', 'xit', 'is']\n"
     ]
    }
   ],
   "source": [
    "lst = [\"allx\", \"lovex\", \"gfg\", \"xit\", \"is\", \"bestx\"]\n",
    "ss='x'\n",
    "res=[]\n",
    "for i in lst:\n",
    "    if not i.endswith(ss):\n",
    "        res.append(i)\n",
    "print(res)"
   ]
  },
  {
   "cell_type": "code",
   "execution_count": 21,
   "id": "31ac561f",
   "metadata": {},
   "outputs": [
    {
     "name": "stdout",
     "output_type": "stream",
     "text": [
      "GfgisbestforGeeks\n"
     ]
    }
   ],
   "source": [
    "s='Gfg, is best: for ! Geeks ;'\n",
    "ss=''\n",
    "l=[]\n",
    "for i in s:\n",
    "    if i.isalpha():\n",
    "        ss=ss+i\n",
    "print(ss)"
   ]
  },
  {
   "cell_type": "code",
   "execution_count": 27,
   "id": "35795e2e",
   "metadata": {},
   "outputs": [
    {
     "name": "stdout",
     "output_type": "stream",
     "text": [
      "['g', 'e', '*', 'k', '*', 'f', 'o', '*', 'g', 'e', '*', 'k', 's', ' ', 'i', 's', ' ', 'b', 'e', 's', 't']\n",
      "ge*k*fo*ge*ks is best\n"
     ]
    }
   ],
   "source": [
    "s = 'geeksforgeeks is best'\n",
    "s1=list(s)\n",
    "l=[2,4,7,10]\n",
    "rpl='*'\n",
    "for i in range(len(s)):\n",
    "    if i in l:\n",
    "        s1[i]=rpl\n",
    "print(s1)\n",
    "s2=''.join(s1)\n",
    "print(s2)"
   ]
  },
  {
   "cell_type": "code",
   "execution_count": 32,
   "id": "e57d6907",
   "metadata": {},
   "outputs": [
    {
     "name": "stdout",
     "output_type": "stream",
     "text": [
      "['gfg', 'gb', 'dfd']\n"
     ]
    }
   ],
   "source": [
    "s='gfgagbadfd'\n",
    "vowels=['a','e','i','o','u']\n",
    "ss=''\n",
    "l=[]\n",
    "for i in s:\n",
    "    if i not in vowels:\n",
    "        ss=ss+i\n",
    "    else:\n",
    "        l.append(ss)\n",
    "        ss=''\n",
    "l.append(ss)\n",
    "print(l)"
   ]
  },
  {
   "cell_type": "code",
   "execution_count": 35,
   "id": "82ea1dcf",
   "metadata": {},
   "outputs": [
    {
     "name": "stdout",
     "output_type": "stream",
     "text": [
      "Geeksforgeeks\n",
      "is\n",
      "best\n",
      "for\n",
      "geeks\n",
      "and\n",
      "CS\n",
      "['Geeksforgeeks', 'is', 'gfg', 'gfg', 'geeks', 'and', 'gfg']\n"
     ]
    }
   ],
   "source": [
    "s = 'Geeksforgeeks is best for geeks and CS'\n",
    "s=s.split()\n",
    "ss=['best','for','CS']\n",
    "rw='gfg'\n",
    "for i in range(len(s)):\n",
    "    print(s[i])\n",
    "    if s[i] in ss:\n",
    "        s[i]=rw\n",
    "print(s)"
   ]
  },
  {
   "cell_type": "code",
   "execution_count": 57,
   "id": "f96d795d",
   "metadata": {},
   "outputs": [
    {
     "name": "stdout",
     "output_type": "stream",
     "text": [
      "GFGaBstuforigeks\n"
     ]
    }
   ],
   "source": [
    "s = 'GFGaBstuforigeks'\n",
    "vowels='aeiou'\n",
    "ss=''\n",
    "l=[]\n",
    "for i in s:\n",
    "    "
   ]
  },
  {
   "cell_type": "code",
   "execution_count": 61,
   "id": "a85d4dc9",
   "metadata": {},
   "outputs": [
    {
     "name": "stdout",
     "output_type": "stream",
     "text": [
      "2123\n",
      "['2', '1', '2', '3']\n"
     ]
    }
   ],
   "source": [
    "s = 'sshiivvv'\n",
    "c=1\n",
    "ss=''\n",
    "for i in range(len(s)-1):\n",
    "    if s[i]==s[i+1]:\n",
    "        c=c+1\n",
    "    else:\n",
    "        ss=ss+str(c)\n",
    "        c=1\n",
    "ss=ss+str(c)\n",
    "print(ss)\n",
    "l=[]\n",
    "for i in ss:\n",
    "    l.append(i)\n",
    "print(l)"
   ]
  },
  {
   "cell_type": "code",
   "execution_count": 84,
   "id": "604f7086",
   "metadata": {},
   "outputs": [
    {
     "name": "stdout",
     "output_type": "stream",
     "text": [
      "[0, 4, 0, 1]\n"
     ]
    }
   ],
   "source": [
    "s = 'zero four zero one'\n",
    "s=s.split()\n",
    "l=[]\n",
    "d={'one':1,'zero':0,'two':2,'three':3,'four':4,'five':5,'six':6,'seven':7}\n",
    "for i in s:\n",
    "    if i in d:\n",
    "        v=d.get(i)\n",
    "        l.append(v)\n",
    "print(l)"
   ]
  },
  {
   "cell_type": "code",
   "execution_count": 1,
   "id": "6f20418b",
   "metadata": {},
   "outputs": [
    {
     "name": "stdout",
     "output_type": "stream",
     "text": [
      "[['A', 'B', 'C'], ['A', 'C', 'B'], ['B', 'A', 'C'], ['B', 'C', 'A'], ['C', 'A', 'B'], ['C', 'B', 'A']]\n"
     ]
    }
   ],
   "source": [
    "s = 'ABC'\n",
    "l3=[]\n",
    "for i in s:\n",
    "    l3.append(i)\n",
    "\n",
    "l=[]\n",
    "for i in l3:\n",
    "    for j in l3:\n",
    "        for k in l3:\n",
    "            if i!=j and j!=k and k!=i:\n",
    "                l.append([i,j,k])\n",
    "print(l)"
   ]
  },
  {
   "cell_type": "code",
   "execution_count": 7,
   "id": "1963aed3",
   "metadata": {},
   "outputs": [
    {
     "name": "stdout",
     "output_type": "stream",
     "text": [
      "('Gfg', 3)\n",
      "('is', 8)\n"
     ]
    }
   ],
   "source": [
    "lst = ['Gfg', 3, 'is', 8] \n",
    "k = ['name', 'id'] \n",
    "for i in zip(lst[::2],lst[1::2]):\n",
    "    print(i)"
   ]
  },
  {
   "cell_type": "code",
   "execution_count": 17,
   "id": "0e1b2385",
   "metadata": {},
   "outputs": [
    {
     "name": "stdout",
     "output_type": "stream",
     "text": [
      "{('a', 'b'): (1, 2), ('c', 'd'): (3, 4), ('e', 'f'): (5, 6)}\n"
     ]
    }
   ],
   "source": [
    "t = [['a', 'b', 1, 2], ['c', 'd', 3, 4], ['e', 'f', 5, 6]]\n",
    "res={}\n",
    "for i in t:\n",
    "    res[tuple(i[:2])]=tuple(i[2:])\n",
    "print(res)"
   ]
  },
  {
   "cell_type": "code",
   "execution_count": 10,
   "id": "91594fa2",
   "metadata": {},
   "outputs": [
    {
     "name": "stdout",
     "output_type": "stream",
     "text": [
      "[5, 6, 3, 9]\n"
     ]
    }
   ],
   "source": [
    "t = [5, 6, [], 3, [], [], 9]\n",
    "lst=[i for i in t if i!=[]]\n",
    "print(lst)"
   ]
  },
  {
   "cell_type": "code",
   "execution_count": 18,
   "id": "a8bfe6f1",
   "metadata": {},
   "outputs": [
    {
     "name": "stdout",
     "output_type": "stream",
     "text": [
      "{('a', 'b'): (1, 2), ('c', 'd'): (3, 4), ('e', 'f'): (5, 6)}\n"
     ]
    }
   ],
   "source": [
    "t = [['a', 'b', 1, 2], ['c', 'd', 3, 4], ['e', 'f', 5, 6]]\n",
    "d={(i[0],i[1]):tuple(i[2:])  for i in t}\n",
    "print(d)"
   ]
  },
  {
   "cell_type": "code",
   "execution_count": 22,
   "id": "2b511635",
   "metadata": {},
   "outputs": [
    {
     "name": "stdout",
     "output_type": "stream",
     "text": [
      "{('a', 'b'): (1, 2), ('c', 'd'): (3, 4), ('e', 'f'): (5, 6)}\n"
     ]
    }
   ],
   "source": [
    "t = [['a', 'b', 1, 2], ['c', 'd', 3, 4], ['e', 'f', 5, 6]]\n",
    "d={}\n",
    "for i in t:\n",
    "    k=tuple(i[0:2])\n",
    "    v=tuple(i[2:])\n",
    "    d[k]=v\n",
    "print(d)\n",
    "    "
   ]
  },
  {
   "cell_type": "code",
   "execution_count": 24,
   "id": "d973e10a",
   "metadata": {},
   "outputs": [
    {
     "name": "stdout",
     "output_type": "stream",
     "text": [
      "[[6, 4, 1], [8, 7], [10, 8, 4]]\n"
     ]
    }
   ],
   "source": [
    "t = [[4, 1, 6], [7, 8], [4, 10, 8]]\n",
    "l=[]\n",
    "for i in t:\n",
    "    i.sort(reverse=True)\n",
    "    l.append(i)\n",
    "print(l)"
   ]
  },
  {
   "cell_type": "code",
   "execution_count": 31,
   "id": "9a284f87",
   "metadata": {},
   "outputs": [
    {
     "name": "stdout",
     "output_type": "stream",
     "text": [
      "[[(4, 6), (5, 6)], [(2, 5), (4, 5)], [(6, 5), (7, 5)]]\n"
     ]
    }
   ],
   "source": [
    "from itertools import product\n",
    "t = [[4, 5, 6], [2, 4, 5], [6, 7, 5]]\n",
    "res=[]\n",
    "for i in t:\n",
    "    res.append(list(product(i[:-1],[i[-1]])))\n",
    "print(res)"
   ]
  },
  {
   "cell_type": "code",
   "execution_count": 44,
   "id": "46cc8c21",
   "metadata": {},
   "outputs": [
    {
     "name": "stdout",
     "output_type": "stream",
     "text": [
      "[[[4, 6], [5, 6]], [[2, 5], [4, 5]], [[6, 5], [7, 5]]]\n"
     ]
    }
   ],
   "source": [
    "t = [[4, 5, 6], [2, 4, 5], [6, 7, 5]]\n",
    "l=[]\n",
    "for i in t:\n",
    "    temp=[]\n",
    "    for j in range(len(i)-1):\n",
    "        temp.append([i[j],i[-1]])\n",
    "    l.append(temp)\n",
    "print(l)"
   ]
  },
  {
   "cell_type": "code",
   "execution_count": 46,
   "id": "4cec876c",
   "metadata": {},
   "outputs": [
    {
     "name": "stdout",
     "output_type": "stream",
     "text": [
      "[[[4, 6], [5, 6]], [[2, 5], [4, 5]], [[6, 5], [7, 5]]]\n"
     ]
    }
   ],
   "source": [
    "t = [[4, 5, 6], [2, 4, 5], [6, 7, 5]]\n",
    "lst=[]\n",
    "for i in t:\n",
    "    temp=[]\n",
    "    for j in range(len(i)-1):\n",
    "        temp.append([i[j],i[-1]])\n",
    "    lst.append(temp)\n",
    "print(lst)"
   ]
  },
  {
   "cell_type": "code",
   "execution_count": 51,
   "id": "de8b5526",
   "metadata": {},
   "outputs": [
    {
     "name": "stdout",
     "output_type": "stream",
     "text": [
      "[1, 2, 5, 8, 4] 5\n"
     ]
    }
   ],
   "source": [
    "t = [1, 2, 2, 5, 8, 4, 4, 8]\n",
    "l1=[]\n",
    "c=0\n",
    "for i in t:\n",
    "    if i not in l1:\n",
    "        c=c+1\n",
    "        l1.append(i)\n",
    "print(l1,c)"
   ]
  },
  {
   "cell_type": "code",
   "execution_count": 81,
   "id": "626fc125",
   "metadata": {},
   "outputs": [
    {
     "name": "stdout",
     "output_type": "stream",
     "text": [
      "1\n",
      "2\n",
      "3\n",
      "1\n",
      "2\n"
     ]
    }
   ],
   "source": [
    "s='shi123gup12rs'\n",
    "l=[]\n",
    "d=[]\n",
    "f=[]\n",
    "for i in range(len(s)):\n",
    "    if s[i].isalpha():\n",
    "        for j in s[i]:\n",
    "            l.append(j)\n",
    "            kk=l[::-1]\n",
    "    else:\n",
    "        d.append(s[i])\n",
    "        f.append(i)\n",
    "for k in d:\n",
    "    print(k)\n",
    "# for j in f:\n",
    "#     kk.insert(j,k)\n",
    "    "
   ]
  },
  {
   "cell_type": "code",
   "execution_count": null,
   "id": "1e8ce36d",
   "metadata": {},
   "outputs": [],
   "source": []
  },
  {
   "cell_type": "code",
   "execution_count": null,
   "id": "77cecdd0",
   "metadata": {},
   "outputs": [],
   "source": []
  }
 ],
 "metadata": {
  "kernelspec": {
   "display_name": "Python 3 (ipykernel)",
   "language": "python",
   "name": "python3"
  },
  "language_info": {
   "codemirror_mode": {
    "name": "ipython",
    "version": 3
   },
   "file_extension": ".py",
   "mimetype": "text/x-python",
   "name": "python",
   "nbconvert_exporter": "python",
   "pygments_lexer": "ipython3",
   "version": "3.9.13"
  }
 },
 "nbformat": 4,
 "nbformat_minor": 5
}
