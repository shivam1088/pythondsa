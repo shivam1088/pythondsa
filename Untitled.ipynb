{
 "cells": [
  {
   "cell_type": "code",
   "execution_count": 5,
   "id": "44e1752d",
   "metadata": {},
   "outputs": [
    {
     "name": "stdout",
     "output_type": "stream",
     "text": [
      "[4, 4, 3, 3, 4, 3, 4, 3]\n",
      "[4, 3]\n"
     ]
    }
   ],
   "source": [
    "lst = [4, 6, 4, 3, 3, 4, 3, 4, 3, 8]\n",
    "k = 3\n",
    "l=[]\n",
    "for i in lst:\n",
    "    if lst.count(i)>k:\n",
    "        l.append(i)\n",
    "print(l)\n",
    "ll=[]\n",
    "for i in l:\n",
    "    if i not in ll:\n",
    "        ll.append(i)\n",
    "print(ll)"
   ]
  },
  {
   "cell_type": "code",
   "execution_count": 1,
   "id": "4126fcab",
   "metadata": {},
   "outputs": [
    {
     "name": "stdout",
     "output_type": "stream",
     "text": [
      "     name  marks  place\n",
      "0  shivam     10  satna\n",
      "1     ram     20   rewa\n",
      "2    raju     30   rewa\n",
      "3    ramu     40   mahu\n"
     ]
    }
   ],
   "source": [
    "import pandas as pd\n",
    "d={'name':['shivam','ram','raju','ramu'],'marks':[10,20,30,40],'place':['satna','rewa','rewa','mahu']}\n",
    "df=pd.DataFrame(d)\n",
    "print(df)"
   ]
  },
  {
   "cell_type": "code",
   "execution_count": 6,
   "id": "033f8c0b",
   "metadata": {},
   "outputs": [],
   "source": [
    "df.to_csv('friends.csv',index=False)"
   ]
  },
  {
   "cell_type": "code",
   "execution_count": 10,
   "id": "deb2848e",
   "metadata": {},
   "outputs": [
    {
     "name": "stdout",
     "output_type": "stream",
     "text": [
      "     name  marks  place\n",
      "0  shivam     10  satna\n",
      "1     ram     20   rewa\n"
     ]
    }
   ],
   "source": [
    "df1=pd.read_csv('friends.csv')\n",
    "print(df1.head(2))"
   ]
  },
  {
   "cell_type": "code",
   "execution_count": 6,
   "id": "454ce541",
   "metadata": {},
   "outputs": [
    {
     "name": "stdout",
     "output_type": "stream",
     "text": [
      "True\n"
     ]
    }
   ],
   "source": [
    "t = [4, 5, 6, 7, 3, 9]\n",
    "i,j=3,10\n",
    "res=all(ele>=i and ele<j for ele in t)\n",
    "print(res)"
   ]
  },
  {
   "cell_type": "code",
   "execution_count": 51,
   "id": "f6b4c3bd",
   "metadata": {
    "scrolled": true
   },
   "outputs": [
    {
     "name": "stdout",
     "output_type": "stream",
     "text": [
      "[[1], [1, 2], [1, 2, 3], [2], [2, 3], [3]]\n"
     ]
    }
   ],
   "source": [
    "l=[1,2,3]\n",
    "l1=[]\n",
    "for i in range(len(l)+1):\n",
    "    for j in range(len(l)+1):\n",
    "        if l[i:j]:\n",
    "            l1.append(l[i:j])\n",
    "print(l1)"
   ]
  },
  {
   "cell_type": "code",
   "execution_count": 49,
   "id": "cd51adba",
   "metadata": {},
   "outputs": [
    {
     "name": "stdout",
     "output_type": "stream",
     "text": [
      "[('a', 1), ('a', 2), ('b', 1), ('b', 2)]\n"
     ]
    }
   ],
   "source": [
    "l1=['a','b']\n",
    "l2=[1,2]\n",
    "l3=[]\n",
    "for i in range(len(l1)):\n",
    "    for j in range(len(l2)):\n",
    "        l3.append((l1[i],l2[j]))\n",
    "print(l3)"
   ]
  },
  {
   "cell_type": "code",
   "execution_count": 56,
   "id": "9d37bcb8",
   "metadata": {},
   "outputs": [
    {
     "name": "stdout",
     "output_type": "stream",
     "text": [
      "[, , 2, 3, 4, 5, , 2]\n"
     ]
    }
   ],
   "source": [
    "l=[1, 1, 2, 3, 4, 5, 1, 2] \n",
    "lst=str(l)\n",
    "l=lst.replace('1','')\n",
    "ls=lst.replac\n",
    "print(l)   "
   ]
  },
  {
   "cell_type": "code",
   "execution_count": 3,
   "id": "c853e136",
   "metadata": {},
   "outputs": [
    {
     "name": "stdout",
     "output_type": "stream",
     "text": [
      "[[1], [1, 2], [1, 2, 3], [2], [2, 3], [3]]\n"
     ]
    }
   ],
   "source": [
    "a=[1,2,3]\n",
    "l=[]\n",
    "for i in range(len(a)):\n",
    "    for j in range(i+1,len(a)+1):\n",
    "        if a[i:j]:\n",
    "            l.append(a[i:j])\n",
    "print(l)"
   ]
  },
  {
   "cell_type": "code",
   "execution_count": 17,
   "id": "cf1d2d0b",
   "metadata": {},
   "outputs": [
    {
     "name": "stdout",
     "output_type": "stream",
     "text": [
      "[['a', 1], ['a', 2], ['a', 3], ['b', 1], ['b', 2], ['b', 3], ['c', 1], ['c', 2], ['c', 3]]\n"
     ]
    }
   ],
   "source": [
    "a=['a','b','c']\n",
    "b=[1,2,3]\n",
    "l=[]\n",
    "for i in range(len(b)):\n",
    "    for j in range(len(a)):\n",
    "        l.append([a[i],b[j]])\n",
    "print(l)"
   ]
  },
  {
   "cell_type": "code",
   "execution_count": 20,
   "id": "0c9be393",
   "metadata": {},
   "outputs": [
    {
     "name": "stdout",
     "output_type": "stream",
     "text": [
      "[2, 3, 4, 5, 2]\n"
     ]
    }
   ],
   "source": [
    "# l=[1, 1, 2, 3, 4, 5, 1, 2]\n",
    "# l2=[]\n",
    "# for i in l:\n",
    "#     if i==1:\n",
    "#         pass\n",
    "#     else:\n",
    "#         l2.append(i)\n",
    "# print(l2)\n",
    "        "
   ]
  },
  {
   "cell_type": "code",
   "execution_count": 22,
   "id": "7254d4d8",
   "metadata": {},
   "outputs": [
    {
     "name": "stdout",
     "output_type": "stream",
     "text": [
      "[2, 3, 4, 5, 2]\n"
     ]
    }
   ],
   "source": [
    "l=[1, 1, 2, 3, 4, 5, 1, 2]\n",
    "lst=[i for i in l if i!=1]\n",
    "print(lst)"
   ]
  },
  {
   "cell_type": "code",
   "execution_count": 37,
   "id": "67496446",
   "metadata": {},
   "outputs": [
    {
     "name": "stdout",
     "output_type": "stream",
     "text": [
      "(4, 5)\n"
     ]
    },
    {
     "ename": "TypeError",
     "evalue": "argument of type 'int' is not iterable",
     "output_type": "error",
     "traceback": [
      "\u001b[1;31m---------------------------------------------------------------------------\u001b[0m",
      "\u001b[1;31mTypeError\u001b[0m                                 Traceback (most recent call last)",
      "\u001b[1;32m~\\AppData\\Local\\Temp\\ipykernel_3676\\740720711.py\u001b[0m in \u001b[0;36m<module>\u001b[1;34m\u001b[0m\n\u001b[0;32m      4\u001b[0m \u001b[1;32mfor\u001b[0m \u001b[0mi\u001b[0m \u001b[1;32min\u001b[0m \u001b[0mrange\u001b[0m\u001b[1;33m(\u001b[0m\u001b[0mlen\u001b[0m\u001b[1;33m(\u001b[0m\u001b[0ml\u001b[0m\u001b[1;33m)\u001b[0m\u001b[1;33m)\u001b[0m\u001b[1;33m:\u001b[0m\u001b[1;33m\u001b[0m\u001b[1;33m\u001b[0m\u001b[0m\n\u001b[0;32m      5\u001b[0m     \u001b[0mprint\u001b[0m\u001b[1;33m(\u001b[0m\u001b[0ml\u001b[0m\u001b[1;33m[\u001b[0m\u001b[0mi\u001b[0m\u001b[1;33m]\u001b[0m\u001b[1;33m)\u001b[0m\u001b[1;33m\u001b[0m\u001b[1;33m\u001b[0m\u001b[0m\n\u001b[1;32m----> 6\u001b[1;33m     \u001b[1;32mif\u001b[0m \u001b[0ml\u001b[0m\u001b[1;33m[\u001b[0m\u001b[0mi\u001b[0m\u001b[1;33m]\u001b[0m \u001b[1;32min\u001b[0m \u001b[0mk\u001b[0m\u001b[1;33m:\u001b[0m\u001b[1;33m\u001b[0m\u001b[1;33m\u001b[0m\u001b[0m\n\u001b[0m\u001b[0;32m      7\u001b[0m         \u001b[0ml1\u001b[0m\u001b[1;33m.\u001b[0m\u001b[0mappend\u001b[0m\u001b[1;33m(\u001b[0m\u001b[0ml\u001b[0m\u001b[1;33m[\u001b[0m\u001b[0mi\u001b[0m\u001b[1;33m]\u001b[0m\u001b[1;33m)\u001b[0m\u001b[1;33m\u001b[0m\u001b[1;33m\u001b[0m\u001b[0m\n\u001b[0;32m      8\u001b[0m \u001b[0mprint\u001b[0m\u001b[1;33m(\u001b[0m\u001b[0ml1\u001b[0m\u001b[1;33m)\u001b[0m\u001b[1;33m\u001b[0m\u001b[1;33m\u001b[0m\u001b[0m\n",
      "\u001b[1;31mTypeError\u001b[0m: argument of type 'int' is not iterable"
     ]
    }
   ],
   "source": [
    "l = [(4, 5), (5, 6), (1, 3), (0, 0)]\n",
    "k = 0 \n",
    "l1=[]\n",
    "for i in range(len(l)):\n",
    "    print(l[i])  "
   ]
  },
  {
   "cell_type": "code",
   "execution_count": 5,
   "id": "f16d3483",
   "metadata": {},
   "outputs": [
    {
     "name": "stdout",
     "output_type": "stream",
     "text": [
      "[[0, 1], [1, 5], [2, 4]]\n"
     ]
    }
   ],
   "source": [
    "lst = [2, 3, 4,5,1,2]\n",
    "target=5\n",
    "l1=[]\n",
    "l2=[]\n",
    "for i in range(len(lst)):\n",
    "    for j in range(i+1,len(lst)):\n",
    "        if lst[i]+lst[j]==target:\n",
    "            l1.append(i)\n",
    "            l1.append(j)\n",
    "            l2.append(l1)\n",
    "            l1=[]\n",
    "print(l2)"
   ]
  },
  {
   "cell_type": "code",
   "execution_count": 15,
   "id": "b968368e",
   "metadata": {},
   "outputs": [
    {
     "name": "stdout",
     "output_type": "stream",
     "text": [
      "[1, 2, 3, 4, 6, 8, 9, 10, 45]\n",
      "2\n"
     ]
    }
   ],
   "source": [
    "lst=[1,2,4,6,8,9,10,45]\n",
    "target=3\n",
    "if target not in lst:\n",
    "    lst.append(target)\n",
    "lst.sort()\n",
    "print(lst)\n",
    "for i in lst:\n",
    "    v=lst.index(target)\n",
    "print(v)"
   ]
  },
  {
   "cell_type": "code",
   "execution_count": 1,
   "id": "20b80ae0",
   "metadata": {},
   "outputs": [
    {
     "name": "stdout",
     "output_type": "stream",
     "text": [
      "2\n"
     ]
    }
   ],
   "source": [
    "lst=[1,2,4,6,8,9,10,45]\n",
    "target=3\n",
    "if target not in lst:\n",
    "    lst.append(target)\n",
    "lst.sort()\n",
    "print(lst.index(target))"
   ]
  },
  {
   "cell_type": "code",
   "execution_count": 4,
   "id": "141a02aa",
   "metadata": {},
   "outputs": [
    {
     "name": "stdout",
     "output_type": "stream",
     "text": [
      "['shaaaaaaaaammy', 'banana', 'rama', 'america', 'pakistan', 'india', 'noida', 'happy']\n"
     ]
    }
   ],
   "source": [
    "lst=[\"banana\",\"rama\",\"shaaaaaaaaammy\",\"india\",\"noida\",\"america\",\"pakistan\",\"happy\"]\n",
    "target='a'\n",
    "for i in range(len(lst)):\n",
    "    for j in range(i+1,len(lst)):\n",
    "        if lst[i].count(target)<lst[j].count(target):\n",
    "            temp=lst[i]\n",
    "            lst[i]=lst[j]\n",
    "            lst[j]=temp\n",
    "print(lst)"
   ]
  },
  {
   "cell_type": "code",
   "execution_count": 10,
   "id": "0b2557a1",
   "metadata": {},
   "outputs": [
    {
     "name": "stdout",
     "output_type": "stream",
     "text": [
      "iaeeoee\n",
      "giaksfergeoksee\n"
     ]
    }
   ],
   "source": [
    "s = \"geeksforgeeksai\"\n",
    "vowels='aeiou'\n",
    "ss=''\n",
    "for i in s:\n",
    "    if i in vowels:\n",
    "        ss=i+ss\n",
    "print(ss)\n",
    "s1=''\n",
    "for i in s:\n",
    "    if i in vowels:\n",
    "        s1=s1+ss[0]\n",
    "        ss=ss[1:]\n",
    "    else:\n",
    "        s1=s1+i\n",
    "print(s1)    "
   ]
  },
  {
   "cell_type": "code",
   "execution_count": 10,
   "id": "add99f55",
   "metadata": {},
   "outputs": [
    {
     "name": "stdout",
     "output_type": "stream",
     "text": [
      "{'a': 10, 'b': 5, 'c': 4}\n",
      "a10b5c4"
     ]
    }
   ],
   "source": [
    "s=\"aaaaabbbbbccccaaaaa\"\n",
    "d={}\n",
    "for i in s:\n",
    "    v=s.count(i)\n",
    "    d[i]=v\n",
    "print(d)\n",
    "for k,v in d.items():\n",
    "    print(k+str(v),end='')"
   ]
  },
  {
   "cell_type": "code",
   "execution_count": 38,
   "id": "2c7378c4",
   "metadata": {},
   "outputs": [
    {
     "name": "stdout",
     "output_type": "stream",
     "text": [
      "5b5c4a1d2a4a\n"
     ]
    }
   ],
   "source": [
    "s=\"aaaaabbbbbccccaddaaaat\"\n",
    "ss=''\n",
    "c=1\n",
    "for i in range(1,len(s)-1):\n",
    "    if s[i]==s[i-1]:\n",
    "        c=c+1\n",
    "    else:\n",
    "        ss=ss+str(c)+s[i]\n",
    "        c=1\n",
    "ss=ss+str(c)+s[i]\n",
    "print(ss)"
   ]
  },
  {
   "cell_type": "code",
   "execution_count": 1,
   "id": "08b218ee",
   "metadata": {},
   "outputs": [
    {
     "name": "stdout",
     "output_type": "stream",
     "text": [
      "5a5b4c1a2d5a1t\n"
     ]
    }
   ],
   "source": [
    "s=\"aaaaabbbbbccccaddaaaaat\"\n",
    "prev=s[0]\n",
    "ss=''\n",
    "c=1\n",
    "for i in range(1,len(s)):\n",
    "    if s[i]==prev:\n",
    "        c=c+1\n",
    "    else:\n",
    "        ss=ss+str(c)+prev\n",
    "        prev=s[i]\n",
    "        c=1\n",
    "ss=ss+str(c)+s[i]\n",
    "print(ss)"
   ]
  },
  {
   "cell_type": "code",
   "execution_count": 3,
   "id": "10bcc445",
   "metadata": {},
   "outputs": [
    {
     "name": "stdout",
     "output_type": "stream",
     "text": [
      "(4, 5, 5, 4)\n",
      "(5, 4, 3)\n",
      "[(4, 5, 5, 4)]\n"
     ]
    }
   ],
   "source": [
    "lst = [(4, 5, 5, 4), (5, 4, 3)]\n",
    "k=5\n",
    "n=2\n",
    "res=[]\n",
    "for i in lst:\n",
    "    print(i)\n",
    "    if i.count(k)==n:\n",
    "        res.append(i)\n",
    "print(res)"
   ]
  },
  {
   "cell_type": "code",
   "execution_count": 4,
   "id": "ddf2b9e5",
   "metadata": {},
   "outputs": [
    {
     "name": "stdout",
     "output_type": "stream",
     "text": [
      "[(4, 5, 5, 4)]\n"
     ]
    }
   ],
   "source": [
    "lst = [(4, 5, 5, 4), (5, 4, 3)]\n",
    "k=5\n",
    "n=2\n",
    "l=[i for i in lst if i.count(k)==n]\n",
    "print(l)"
   ]
  },
  {
   "cell_type": "code",
   "execution_count": 42,
   "id": "62f97e9c",
   "metadata": {},
   "outputs": [
    {
     "name": "stdout",
     "output_type": "stream",
     "text": [
      "['efg', 'is', 'bGst', 'for', 'eGGks']\n"
     ]
    }
   ],
   "source": [
    "lst = ['Gfg', 'is', 'best', 'for', 'Geeks']\n",
    "l=[]\n",
    "for i in lst:\n",
    "    v=i.replace('G','^')\n",
    "    vv=v.replace('e','%')\n",
    "    vv1=vv.replace('%','G')\n",
    "    v1=vv1.replace('^','e')\n",
    "    l.append(v1)\n",
    "print(l)"
   ]
  },
  {
   "cell_type": "code",
   "execution_count": 43,
   "id": "49d7010c",
   "metadata": {},
   "outputs": [
    {
     "name": "stdout",
     "output_type": "stream",
     "text": [
      "['skeeg', 'rof', 'skeeg', 'si', 'tseb']\n"
     ]
    }
   ],
   "source": [
    "l = [\"geeks\", \"for\", \"geeks\", \"is\", \"best\"]\n",
    "lst=[]\n",
    "for i in l:\n",
    "    lst.append(i[::-1])\n",
    "print(lst)"
   ]
  },
  {
   "cell_type": "code",
   "execution_count": 1,
   "id": "f811f8a2",
   "metadata": {
    "scrolled": true
   },
   "outputs": [
    {
     "name": "stdout",
     "output_type": "stream",
     "text": [
      "['Gfg', 'is', 'good', 'for', 'learning']\n",
      "['Gfg', 'is', 'for', 'geeks']\n",
      "['I', 'love', 'G4G']\n",
      "['learning', 'love']\n"
     ]
    }
   ],
   "source": [
    "l = ['Gfg is good for learning', 'Gfg is for geeks', 'I love G4G']\n",
    "k='l'\n",
    "res=[]\n",
    "for i in l:\n",
    "    s=i.split()\n",
    "    for i in s:\n",
    "        if i[0]==k:\n",
    "            res.append(i)\n",
    "print(res)            "
   ]
  },
  {
   "cell_type": "code",
   "execution_count": 64,
   "id": "7eceff3c",
   "metadata": {},
   "outputs": [
    {
     "name": "stdout",
     "output_type": "stream",
     "text": [
      "['learning', 'love']\n"
     ]
    }
   ],
   "source": [
    "l = ['Gfg is good for learning', 'Gfg is for geeks', 'I love G4G']\n",
    "k='l'\n",
    "res=[ele for temp in l for ele in temp.split() if ele[0]==k]\n",
    "print(res)"
   ]
  },
  {
   "cell_type": "code",
   "execution_count": 62,
   "id": "b46f43dd",
   "metadata": {},
   "outputs": [
    {
     "name": "stdout",
     "output_type": "stream",
     "text": [
      "['learning', 'love']\n"
     ]
    }
   ],
   "source": [
    "l = ['Gfg is good for learning', 'Gfg is for geeks', 'I love G4G']\n",
    "k='l'\n",
    "lst=[i for j in l for i in j.split() if i[0]==k]\n",
    "print(lst)"
   ]
  },
  {
   "cell_type": "code",
   "execution_count": 69,
   "id": "794dc5f9",
   "metadata": {},
   "outputs": [
    {
     "name": "stdout",
     "output_type": "stream",
     "text": [
      "['good', 'geeks']\n"
     ]
    }
   ],
   "source": [
    "l = ['Gfg is good for learning', 'Gfg is for geeks', 'I love G4G']\n",
    "k='g'\n",
    "res=[]\n",
    "for i in l:\n",
    "    for j in i.split():\n",
    "        if j[0]==k:\n",
    "            res.append(j)\n",
    "print(res)"
   ]
  },
  {
   "cell_type": "code",
   "execution_count": 75,
   "id": "03f57ac5",
   "metadata": {},
   "outputs": [
    {
     "name": "stdout",
     "output_type": "stream",
     "text": [
      "3\n",
      "['gfgisbest', 'gfgfreak', 'gfgCS']\n"
     ]
    }
   ],
   "source": [
    "t = ['gfgisbest', 'geeks', 'gfgfreak', 'gfgCS', 'Gcourses']\n",
    "tp='gfg'\n",
    "res=0\n",
    "lst=[]\n",
    "for i in t:\n",
    "    if i.startswith(tp):\n",
    "        lst.append(i)\n",
    "        res=res+1\n",
    "print(res)\n",
    "print(lst)"
   ]
  },
  {
   "cell_type": "code",
   "execution_count": 79,
   "id": "c20e61b1",
   "metadata": {},
   "outputs": [
    {
     "name": "stdout",
     "output_type": "stream",
     "text": [
      "['gfgisbest', 'gfgfreak', 'gfgCS']\n"
     ]
    }
   ],
   "source": [
    "t = ['gfgisbest', 'geeks', 'gfgfreak', 'gfgCS', 'Gcourses']\n",
    "tp='gfg'\n",
    "res=[i for i in t if i.startswith(tp)]\n",
    "print(res)"
   ]
  },
  {
   "cell_type": "code",
   "execution_count": 82,
   "id": "6e12bd54",
   "metadata": {},
   "outputs": [
    {
     "name": "stdout",
     "output_type": "stream",
     "text": [
      "['Gfg', 'is', 'best', 'for', 'Geeks', 'Preparing']\n"
     ]
    }
   ],
   "source": [
    "s=['Gfg is best', 'for Geeks', 'Preparing']\n",
    "lst=[]\n",
    "for i in s:\n",
    "    for j in i.split():\n",
    "        lst.append(j)\n",
    "print(lst)"
   ]
  },
  {
   "cell_type": "code",
   "execution_count": 83,
   "id": "be7e8ed5",
   "metadata": {},
   "outputs": [
    {
     "name": "stdout",
     "output_type": "stream",
     "text": [
      "['Gfg', 'is', 'best', 'for', 'Geeks', 'Preparing']\n"
     ]
    }
   ],
   "source": [
    "s=['Gfg is best', 'for Geeks', 'Preparing']\n",
    "lst=[j for i in s for j in i.split()]\n",
    "print(lst)"
   ]
  },
  {
   "cell_type": "code",
   "execution_count": 90,
   "id": "c5a0d8c4",
   "metadata": {},
   "outputs": [
    {
     "name": "stdout",
     "output_type": "stream",
     "text": [
      "['geeksforgeek']\n"
     ]
    }
   ],
   "source": [
    "t = ['geeksforgeek', 'best', 'geeks', 'and']\n",
    "task='geek'\n",
    "res=[]\n",
    "for i in t:\n",
    "    if i.endswith(task):\n",
    "        res.append(i)\n",
    "print(res)"
   ]
  },
  {
   "cell_type": "code",
   "execution_count": 92,
   "id": "91806484",
   "metadata": {},
   "outputs": [
    {
     "name": "stdout",
     "output_type": "stream",
     "text": [
      "['geeksforgeek', 'geeks']\n"
     ]
    }
   ],
   "source": [
    "t = ['geeksforgeek', 'best', 'geeks', 'and']\n",
    "task='geek'\n",
    "lst=[i for i in t if i.startswith(task)]\n",
    "print(lst)"
   ]
  },
  {
   "cell_type": "code",
   "execution_count": 96,
   "id": "db1007aa",
   "metadata": {},
   "outputs": [
    {
     "name": "stdout",
     "output_type": "stream",
     "text": [
      "['G', '*', 'G', '*', '*', '*', '*', '*', '*']\n"
     ]
    }
   ],
   "source": [
    "lst = ['G', 'F', 'G', 'I', 'S', 'B', 'E', 'S', 'T']\n",
    "rplc='*'\n",
    "retc='G'\n",
    "for i in range(len(lst)):\n",
    "    if lst[i] not in retc:\n",
    "        lst[i]=rplc\n",
    "print(lst)"
   ]
  },
  {
   "cell_type": "code",
   "execution_count": 109,
   "id": "758c4632",
   "metadata": {},
   "outputs": [
    {
     "name": "stdout",
     "output_type": "stream",
     "text": [
      "['is', 'best']\n"
     ]
    }
   ],
   "source": [
    "t = ['gfg', 'is', 'best', 'for', 'geeks']\n",
    "lt = ['g', 'o']\n",
    "res=[]\n",
    "res=[i for i in t if all(ch not in i for ch in lt)]\n",
    "print(res)"
   ]
  },
  {
   "cell_type": "code",
   "execution_count": 113,
   "id": "ed96efab",
   "metadata": {},
   "outputs": [
    {
     "name": "stdout",
     "output_type": "stream",
     "text": [
      "[' g f gB', ' f o rG', ' a n dC', ' a n dC o m p u t e rS', ' a n dC o m p u t e rS c i e n c eS']\n"
     ]
    }
   ],
   "source": [
    "t = ['gfgBest', 'forGeeks', 'andComputerScienceStudents']\n",
    "res=[]\n",
    "alphabt='abcdefghijklmnopqrstuvwxyz'\n",
    "for i in t:\n",
    "    s=''\n",
    "    for j in i:\n",
    "        if (j in alphabt):\n",
    "            s=s+' '+j\n",
    "        else:\n",
    "            s=s+j\n",
    "            res.append(s)\n",
    "print(res)"
   ]
  },
  {
   "cell_type": "code",
   "execution_count": 13,
   "id": "19beb255",
   "metadata": {},
   "outputs": [
    {
     "name": "stdout",
     "output_type": "stream",
     "text": [
      "['i', 'am', 'laxmi']\n",
      "am\n"
     ]
    }
   ],
   "source": [
    "s = \"i am laxmi\"\n",
    "s=s.split()\n",
    "print(s)\n",
    "res=[]\n",
    "for i in range(len(s)):\n",
    "#     print(len(s[i]))\n",
    "    if len(s[i])%2==0:\n",
    "        print(s[i])"
   ]
  },
  {
   "cell_type": "code",
   "execution_count": 15,
   "id": "68b779bb",
   "metadata": {},
   "outputs": [
    {
     "name": "stdout",
     "output_type": "stream",
     "text": [
      "['This', 'is', 'python', 'language']\n"
     ]
    }
   ],
   "source": [
    "s = \"This is a python language\"\n",
    "lst=[i for i in s.split() if len(i)%2==0]\n",
    "print(lst)"
   ]
  },
  {
   "cell_type": "code",
   "execution_count": 16,
   "id": "2e3b001f",
   "metadata": {},
   "outputs": [
    {
     "name": "stdout",
     "output_type": "stream",
     "text": [
      "['am']\n"
     ]
    }
   ],
   "source": [
    "s = \"i am laxmi\"\n",
    "s=s.split()\n",
    "lst=list(filter(lambda i:len(i)%2==0,s))\n",
    "print(lst)"
   ]
  },
  {
   "cell_type": "code",
   "execution_count": 28,
   "id": "c1959edf",
   "metadata": {},
   "outputs": [
    {
     "name": "stdout",
     "output_type": "stream",
     "text": [
      "geeksfoRGEEK\n"
     ]
    }
   ],
   "source": [
    "s = 'geeksforgeek'\n",
    "ss=len(s)//2\n",
    "res=''\n",
    "for i in range(len(s)):\n",
    "    if i>ss:\n",
    "        res=res+s[i].upper()\n",
    "    else:\n",
    "        res=res+s[i]\n",
    "print(res)"
   ]
  },
  {
   "cell_type": "code",
   "execution_count": 61,
   "id": "ac8a66d2",
   "metadata": {},
   "outputs": [
    {
     "name": "stdout",
     "output_type": "stream",
     "text": [
      "Hello World "
     ]
    }
   ],
   "source": [
    "s= 'hello world' \n",
    "s=s.split()\n",
    "ss=''\n",
    "for i in s:\n",
    "    print(i[0].upper()+i[1:],end=' ')"
   ]
  },
  {
   "cell_type": "code",
   "execution_count": 66,
   "id": "8bdba1b7",
   "metadata": {},
   "outputs": [
    {
     "name": "stdout",
     "output_type": "stream",
     "text": [
      "hellO worlD "
     ]
    }
   ],
   "source": [
    "s= 'hello world' \n",
    "s=s.split()\n",
    "for i in s:\n",
    "    print(i[:-1]+i[-1].upper(),end=' ')"
   ]
  },
  {
   "cell_type": "code",
   "execution_count": 5,
   "id": "6d5dfee3",
   "metadata": {},
   "outputs": [
    {
     "name": "stdout",
     "output_type": "stream",
     "text": [
      "['code', 'practice', 'quiz', 'geeks']\n"
     ]
    }
   ],
   "source": [
    "s=\"geeks quiz practice code\"\n",
    "s=s.split()\n",
    "s=s[::-1]\n",
    "print(s)\n",
    "# print(s)\n",
    "# for i in range(len(s)-1,-1,-1):\n",
    "#     print(s[i],end=' ')"
   ]
  },
  {
   "cell_type": "code",
   "execution_count": 10,
   "id": "5018dcbb",
   "metadata": {},
   "outputs": [
    {
     "name": "stdout",
     "output_type": "stream",
     "text": [
      "['is', 'python', 'yt']\n"
     ]
    }
   ],
   "source": [
    "s=\"this is a python ase yt language\"\n",
    "s=s.split()\n",
    "ss=[]\n",
    "for i in range(len(s)):\n",
    "    if i%2!=0:\n",
    "        ss.append(s[i])\n",
    "print(ss)"
   ]
  },
  {
   "cell_type": "code",
   "execution_count": 14,
   "id": "d6494f57",
   "metadata": {},
   "outputs": [
    {
     "name": "stdout",
     "output_type": "stream",
     "text": [
      "not\n"
     ]
    }
   ],
   "source": [
    "s=' ABeeIghiObhkUul'\n",
    "s=s.lower()\n",
    "vowels='aeiou'\n",
    "ss=set(vowels)\n",
    "s1=set()\n",
    "for i in s:\n",
    "    if i in ss:\n",
    "        s1.add(i)\n",
    "    else:\n",
    "        pass\n",
    "if len(s1)==len(ss):\n",
    "    print('yes')\n",
    "else:\n",
    "    print('not')"
   ]
  },
  {
   "cell_type": "code",
   "execution_count": 15,
   "id": "bd22256d",
   "metadata": {},
   "outputs": [
    {
     "name": "stdout",
     "output_type": "stream",
     "text": [
      "5\n"
     ]
    }
   ],
   "source": [
    "s='GeeksforGeeks'\n",
    "vowels='aeiou'\n",
    "c=0\n",
    "for i in s:\n",
    "    if i in vowels:\n",
    "        c=c+1\n",
    "print(c)"
   ]
  },
  {
   "cell_type": "code",
   "execution_count": 22,
   "id": "2e67a52d",
   "metadata": {},
   "outputs": [
    {
     "name": "stdout",
     "output_type": "stream",
     "text": [
      "eeoee 5\n"
     ]
    }
   ],
   "source": [
    "s='GeeksforGeeks'\n",
    "vowels='aeiou'\n",
    "ss=''\n",
    "c=0\n",
    "for i in s:\n",
    "    if i in vowels:\n",
    "        ss=ss+i\n",
    "        c=c+1\n",
    "print(ss,c)"
   ]
  },
  {
   "cell_type": "code",
   "execution_count": 43,
   "id": "14da5d3a",
   "metadata": {},
   "outputs": [
    {
     "name": "stdout",
     "output_type": "stream",
     "text": [
      "geksfor \n",
      "['g', 'k', 'f', 'r']\n"
     ]
    }
   ],
   "source": [
    "s='geeksforgeeks '\n",
    "ss=''\n",
    "for i in s:\n",
    "    if i not  in ss:\n",
    "        ss=ss+i\n",
    "print(ss)\n",
    "l1=[]\n",
    "for i in range(len(ss)):\n",
    "    if i%2==0:\n",
    "        l1.append(ss[i])\n",
    "print(l1)"
   ]
  },
  {
   "cell_type": "code",
   "execution_count": 5,
   "id": "b37cdc92",
   "metadata": {},
   "outputs": [
    {
     "name": "stdout",
     "output_type": "stream",
     "text": [
      "{'g': 2, 'e': 4, 'k': 2, 's': 2, 'f': 1, 'o': 1, 'r': 1, ' ': 1}\n",
      "e\n"
     ]
    }
   ],
   "source": [
    "s='geeksforgeeks '\n",
    "d={}\n",
    "for i in s:\n",
    "    if i in d:\n",
    "        d[i]=d[i]+1\n",
    "    else:\n",
    "        d[i]=1\n",
    "print(d)\n",
    "ss=max(d,key=d.get)\n",
    "print(ss)"
   ]
  },
  {
   "cell_type": "code",
   "execution_count": 39,
   "id": "7e75a235",
   "metadata": {},
   "outputs": [
    {
     "name": "stdout",
     "output_type": "stream",
     "text": [
      "G s\n",
      "e f\n"
     ]
    }
   ],
   "source": [
    "s='GeeksforGeeks'\n",
    "s1=min(s)\n",
    "s2=max(s)\n",
    "print(s1,s2)\n",
    "res=max(s,key=lambda x:s.count(x))\n",
    "res1=min(s,key=lambda x:s.count(x))\n",
    "print(res,res1)"
   ]
  },
  {
   "cell_type": "code",
   "execution_count": 41,
   "id": "d6303aa2",
   "metadata": {},
   "outputs": [
    {
     "name": "stdout",
     "output_type": "stream",
     "text": [
      "['g', 'e', 'f', 'r', 'e', 'k']\n"
     ]
    }
   ],
   "source": [
    "s='geekforgeeks' \n",
    "lst=[]\n",
    "for i in range(len(s)):\n",
    "    if i%2==0:\n",
    "        lst.append(s[i])\n",
    "print(lst)     "
   ]
  },
  {
   "cell_type": "code",
   "execution_count": 45,
   "id": "49e10247",
   "metadata": {},
   "outputs": [
    {
     "name": "stdout",
     "output_type": "stream",
     "text": [
      "['o', 'f', 'r']\n"
     ]
    }
   ],
   "source": [
    "s='geeksforgeeks'\n",
    "ss=set(s)\n",
    "lst=[]\n",
    "for i in ss:\n",
    "    if s.count(i)%2!=0:\n",
    "        lst.append(i)\n",
    "print(lst)"
   ]
  },
  {
   "cell_type": "code",
   "execution_count": 3,
   "id": "3a000171",
   "metadata": {},
   "outputs": [
    {
     "name": "stdout",
     "output_type": "stream",
     "text": [
      "2\n",
      "2\n",
      "3\n",
      "4\n",
      "2\n",
      "2\n",
      "2\n",
      "a2b4c2a2b2\n"
     ]
    }
   ],
   "source": [
    "a= \"aabbbbccaabb\"\n",
    "lst=a[0]\n",
    "c=1\n",
    "ss=''\n",
    "for i in range(1,len(a)):\n",
    "    if a[i]==lst:\n",
    "        c=c+1\n",
    "        print(c)\n",
    "    else:\n",
    "        ss=ss+lst+str(c)\n",
    "        lst=a[i]\n",
    "        c=1\n",
    "ss=ss+a[i]+str(c)\n",
    "print(ss)"
   ]
  },
  {
   "cell_type": "code",
   "execution_count": 26,
   "id": "7ccb31d9",
   "metadata": {},
   "outputs": [
    {
     "name": "stdout",
     "output_type": "stream",
     "text": [
      "{'a': 4, 'b': 6, 'c': 2}\n",
      "a4b6c2"
     ]
    }
   ],
   "source": [
    "a= \"aabbbbccaabb\"\n",
    "d={}\n",
    "for i in a:\n",
    "    v=a.count(i)\n",
    "    d[i]=v\n",
    "print(d)\n",
    "for k,v in d.items():\n",
    "    print(k+str(v),end='')"
   ]
  },
  {
   "cell_type": "code",
   "execution_count": 30,
   "id": "5ab58953",
   "metadata": {},
   "outputs": [
    {
     "name": "stdout",
     "output_type": "stream",
     "text": [
      "the\n",
      "cater\n",
      "was\n",
      "ratted\n",
      "by\n",
      "the\n",
      "batter\n",
      "['the', 'r', 'was', 'r', 'by', 'the', 'r']\n"
     ]
    }
   ],
   "source": [
    "s=\"the cater was ratted by the batter\"\n",
    "s=s.split()\n",
    "l=[\"r\"]\n",
    "for i in range(len(s)):\n",
    "    print(s[i])\n",
    "    for j in l:\n",
    "        if j in s[i]:\n",
    "            s[i]=j\n",
    "print(s)"
   ]
  },
  {
   "cell_type": "code",
   "execution_count": 36,
   "id": "b2f44dfe",
   "metadata": {},
   "outputs": [
    {
     "name": "stdout",
     "output_type": "stream",
     "text": [
      "{2: 4, 4: 2, 45: 2, 6: 1, 3: 12, 1: 2}\n",
      "[2, 4, 45, 6, 3, 1] [4, 2, 2, 1, 12, 2]\n",
      "4\n",
      "3\n"
     ]
    }
   ],
   "source": [
    "lst=[2,4,45,6,4,2,3,3,3,3,3,3,3,3,3,3,2,2,3,1,3,1,45]\n",
    "d={}\n",
    "for i in lst:\n",
    "    if i in d:\n",
    "        d[i]=d[i]+1\n",
    "    else:\n",
    "        d[i]=1\n",
    "print(d)\n",
    "v=list(d.values())\n",
    "k=list(d.keys())\n",
    "print(k,v)\n",
    "vm=v.index(max(v))\n",
    "print(vm)\n",
    "print(k[vm])"
   ]
  },
  {
   "cell_type": "code",
   "execution_count": 37,
   "id": "deb01a2f",
   "metadata": {},
   "outputs": [
    {
     "name": "stdout",
     "output_type": "stream",
     "text": [
      "1\n",
      "2\n",
      "3\n",
      "4\n",
      "5\n",
      "6\n",
      "7\n",
      "8\n",
      "9\n",
      "10\n"
     ]
    }
   ],
   "source": [
    "def func(n):\n",
    "    if n>10:\n",
    "        return \n",
    "    else:\n",
    "        print(n)\n",
    "        func(n+1)\n",
    "n=1\n",
    "func(n)"
   ]
  },
  {
   "cell_type": "code",
   "execution_count": 5,
   "id": "eb8bfdec",
   "metadata": {},
   "outputs": [
    {
     "name": "stdout",
     "output_type": "stream",
     "text": [
      "[2, 2, 3, 4, 5, 5, 25]\n",
      "3\n"
     ]
    }
   ],
   "source": [
    "lst=[2,3,5,2,5,25]\n",
    "target=4\n",
    "lst.append(target)\n",
    "lst.sort()\n",
    "print(lst)\n",
    "v=lst.index(target)\n",
    "print(v)"
   ]
  },
  {
   "cell_type": "code",
   "execution_count": 8,
   "id": "00ac4977",
   "metadata": {},
   "outputs": [
    {
     "name": "stdout",
     "output_type": "stream",
     "text": [
      "5\n"
     ]
    }
   ],
   "source": [
    "lst=[2,3,5,2,5,25]\n",
    "target=12\n",
    "l=[]\n",
    "for i in lst:\n",
    "    if target not in lst:\n",
    "        lst.append(target)\n",
    "lst.sort()\n",
    "v=lst.index(target)\n",
    "print(v)"
   ]
  },
  {
   "cell_type": "code",
   "execution_count": 6,
   "id": "faf380af",
   "metadata": {},
   "outputs": [
    {
     "name": "stdout",
     "output_type": "stream",
     "text": [
      "[(4, 5, 9), (7, 6)]\n"
     ]
    }
   ],
   "source": [
    "lst=[(4, 5, 9), (3, -2, 3), (-3, 5, 6), (7, 6)]\n",
    "res=[]\n",
    "for i in lst:\n",
    "    x=sorted(i)\n",
    "    x=list(map(str,x))\n",
    "    s=''.join(x)\n",
    "    if  not s.startswith('-'):\n",
    "        res.append(i)\n",
    "print(res)"
   ]
  },
  {
   "cell_type": "code",
   "execution_count": 7,
   "id": "96973eff",
   "metadata": {},
   "outputs": [
    {
     "name": "stdout",
     "output_type": "stream",
     "text": [
      "[1, 3, 5, 2]\n"
     ]
    }
   ],
   "source": [
    "tup = (1, 3, 5, 2, 3, 5, 1, 1, 3)\n",
    "res=[]\n",
    "for i in tup:\n",
    "    if i not in res:\n",
    "        res.append(i)\n",
    "print(res)"
   ]
  },
  {
   "cell_type": "code",
   "execution_count": 10,
   "id": "2d014d98",
   "metadata": {},
   "outputs": [
    {
     "name": "stdout",
     "output_type": "stream",
     "text": [
      "[[4, 7, 8], [1, 2, 3], [9, 10, 11]]\n"
     ]
    }
   ],
   "source": [
    "tup = ([4, 7, 8], [1, 2, 3], [4, 7, 8], [9, 10, 11], [1, 2, 3])\n",
    "res=[]\n",
    "for i in tup:\n",
    "    if i not in res:\n",
    "        res.append(i)\n",
    "print(res)"
   ]
  },
  {
   "cell_type": "code",
   "execution_count": 14,
   "id": "31b6a188",
   "metadata": {},
   "outputs": [
    {
     "name": "stdout",
     "output_type": "stream",
     "text": [
      "['1', '3', '6', '5', '9', '4', '8']\n"
     ]
    }
   ],
   "source": [
    "lst = [(15, 3), (3, 9), (45, 56), (48,)]\n",
    "x=''\n",
    "for i in lst:\n",
    "    for j in i:\n",
    "        x=x+str(j)\n",
    "s=set()\n",
    "for i in x:\n",
    "    s.add(i)\n",
    "ss=list(s)\n",
    "print(ss)"
   ]
  },
  {
   "cell_type": "code",
   "execution_count": 15,
   "id": "4d0fb94f",
   "metadata": {},
   "outputs": [
    {
     "name": "stdout",
     "output_type": "stream",
     "text": [
      "1\n",
      "4\n",
      "6\n",
      "5\n",
      "8\n",
      "2\n",
      "9\n",
      "1\n",
      "10\n"
     ]
    }
   ],
   "source": [
    "lst = [('1', '4', '6'), ('5', '8'), ('2', '9'), ('1', '10')]\n",
    "for i in lst:\n",
    "    for j in i:\n",
    "        print(j)"
   ]
  },
  {
   "cell_type": "code",
   "execution_count": 18,
   "id": "2fef62d9",
   "metadata": {},
   "outputs": [
    {
     "name": "stdout",
     "output_type": "stream",
     "text": [
      "[('csa', 234), ('aa', 30), ('bab', 29), ('aaaa', 28), ('bb', 21)]\n"
     ]
    }
   ],
   "source": [
    "l = [(\"aaaa\", 28), (\"aa\", 30), (\"bab\", 29), (\"bb\", 21), (\"csa\", 234)]\n",
    "for i in range(len(l)):\n",
    "    for j in range(len(l)):\n",
    "        if l[i][1]>l[j][1]:\n",
    "            temp=l[i]\n",
    "            l[i]=l[j]\n",
    "            l[j]=temp\n",
    "print(l)"
   ]
  },
  {
   "cell_type": "code",
   "execution_count": 24,
   "id": "ffaab652",
   "metadata": {},
   "outputs": [
    {
     "name": "stdout",
     "output_type": "stream",
     "text": [
      "['5 Gfg', '6 Gfg', '7 Gfg']\n"
     ]
    }
   ],
   "source": [
    "tup = (5, 6, 7)\n",
    "k='Gfg'\n",
    "res=[]\n",
    "for i in tup:\n",
    "    s=str(i)+' '+k\n",
    "    res.append(s)\n",
    "print(res)"
   ]
  },
  {
   "cell_type": "code",
   "execution_count": 38,
   "id": "e3e3cbe4",
   "metadata": {},
   "outputs": [
    {
     "name": "stdout",
     "output_type": "stream",
     "text": [
      "[5, 'Gfg', 6, 'Gfg', 7, 'Gfg']\n"
     ]
    }
   ],
   "source": [
    "tup = (5, 6, 7)\n",
    "k='Gfg'\n",
    "res=[]\n",
    "for i in tup:\n",
    "    res.append([i,k])\n",
    "l=[]\n",
    "for i in res:\n",
    "    for j in i:\n",
    "        l.append(j)\n",
    "print(l)"
   ]
  },
  {
   "cell_type": "code",
   "execution_count": 42,
   "id": "e929a269",
   "metadata": {},
   "outputs": [
    {
     "name": "stdout",
     "output_type": "stream",
     "text": [
      "[0, 1, 0, 1, 0, 1, 1, 1, 1, 0]\n"
     ]
    }
   ],
   "source": [
    "l=[1,0,1,0,1,0,0,0,0,1]\n",
    "res=[]\n",
    "for i in l:\n",
    "    v=(1-i)\n",
    "    res.append(v)\n",
    "print(res)\n",
    "    "
   ]
  },
  {
   "cell_type": "code",
   "execution_count": 12,
   "id": "c9078088",
   "metadata": {},
   "outputs": [
    {
     "ename": "IndentationError",
     "evalue": "expected an indented block (1739652802.py, line 5)",
     "output_type": "error",
     "traceback": [
      "\u001b[1;36m  File \u001b[1;32m\"C:\\Users\\shivam kumar gupta\\AppData\\Local\\Temp\\ipykernel_6892\\1739652802.py\"\u001b[1;36m, line \u001b[1;32m5\u001b[0m\n\u001b[1;33m    \u001b[0m\n\u001b[1;37m    ^\u001b[0m\n\u001b[1;31mIndentationError\u001b[0m\u001b[1;31m:\u001b[0m expected an indented block\n"
     ]
    }
   ],
   "source": [
    "n=8\n",
    "for i in range(1,n+1):\n",
    "   "
   ]
  },
  {
   "cell_type": "code",
   "execution_count": 13,
   "id": "1eb8c3f1",
   "metadata": {},
   "outputs": [
    {
     "name": "stdout",
     "output_type": "stream",
     "text": [
      "1 ==\n",
      "[1, 1, 1, 1, 1, 1, 1, 1, 1, 1]\n",
      "2 ==\n",
      "[0, 1, 0, 1, 0, 1, 0, 1, 0, 1]\n",
      "3 ==\n",
      "[1, 1, 0, 0, 0, 1, 1, 1, 0, 0]\n",
      "4 ==\n",
      "[0, 1, 0, 0, 1, 1, 1, 1, 1, 0]\n",
      "5 ==\n",
      "[1, 1, 0, 0, 1, 0, 1, 1, 1, 0]\n",
      "6 ==\n",
      "[0, 1, 0, 0, 1, 0, 0, 1, 1, 0]\n",
      "7 ==\n",
      "[1, 1, 0, 0, 1, 0, 0, 0, 1, 0]\n",
      "8 ==\n",
      "[0, 1, 0, 0, 1, 0, 0, 0, 0, 0]\n",
      "9 ==\n",
      "[1, 1, 0, 0, 1, 0, 0, 0, 0, 1]\n",
      "10 ==\n",
      "[0, 1, 0, 0, 1, 0, 0, 0, 0, 1]\n",
      "3\n",
      "7\n"
     ]
    }
   ],
   "source": [
    "lst = [0,0,0,0,0,0,0,0,0,0]\n",
    "v=0\n",
    "for i in range(len(lst)):\n",
    "    v=v+1\n",
    "    print(v,'==')\n",
    "    for j in range(0,len(lst),v):\n",
    "        lst[j]=-(lst[j]-1)\n",
    "    print(lst)\n",
    "v=lst.count(1)\n",
    "vv=lst.count(0)\n",
    "print(v)\n",
    "print(vv)"
   ]
  },
  {
   "cell_type": "code",
   "execution_count": 16,
   "id": "1d63fafc",
   "metadata": {},
   "outputs": [
    {
     "name": "stdout",
     "output_type": "stream",
     "text": [
      "['rar', 'mam', 'malayalam', 'mom', 'nayan'] ['shiva', 'raju']\n"
     ]
    }
   ],
   "source": [
    "l=['rar','mam','malayalam','shiva','mom','raju','nayan']\n",
    "l1=[]\n",
    "l2=[]\n",
    "for i in range(len(l)):\n",
    "    if(l[i]==l[i][::-1]):\n",
    "        l1.append(l[i])\n",
    "    else:\n",
    "        l2.append(l[i])\n",
    "print(l1,l2)"
   ]
  },
  {
   "cell_type": "code",
   "execution_count": 19,
   "id": "343628a0",
   "metadata": {},
   "outputs": [
    {
     "name": "stdout",
     "output_type": "stream",
     "text": [
      "not a prime number:\n"
     ]
    }
   ],
   "source": [
    "lst=[1,2,3,4,5,6,7,8,9,0]\n",
    "l1=[]\n",
    "for i in range(len(lst)):\n",
    "    if lst[i]%2==0:        "
   ]
  },
  {
   "cell_type": "code",
   "execution_count": 27,
   "id": "54b2f55c",
   "metadata": {},
   "outputs": [
    {
     "name": "stdout",
     "output_type": "stream",
     "text": [
      "3\n",
      "4\n",
      "5\n",
      "6\n",
      "7\n",
      "8\n",
      "9\n"
     ]
    }
   ],
   "source": [
    "n=[1,2,3,4,5,6,7,8,9]\n",
    "l1=[]\n",
    "l2=[]\n",
    "for i in range(2,len(n)):\n",
    "    print(n[i])\n",
    "#     if n[i]%i==0:\n",
    "#         l1.append(False)\n",
    "#     else:\n",
    "#         l1.append(True)\n",
    "# print(l1)\n",
    "    "
   ]
  },
  {
   "cell_type": "code",
   "execution_count": 9,
   "id": "b389c38c",
   "metadata": {},
   "outputs": [
    {
     "name": "stdout",
     "output_type": "stream",
     "text": [
      "[1, 1, 1, 1, 1, 1, 1, 1, 1, 1]\n",
      "[0, 1, 0, 1, 0, 1, 0, 1, 0, 1]\n",
      "[1, 1, 0, 0, 0, 1, 1, 1, 0, 0]\n",
      "[0, 1, 0, 0, 1, 1, 1, 1, 1, 0]\n",
      "[1, 1, 0, 0, 1, 0, 1, 1, 1, 0]\n",
      "[0, 1, 0, 0, 1, 0, 0, 1, 1, 0]\n",
      "[1, 1, 0, 0, 1, 0, 0, 0, 1, 0]\n",
      "[0, 1, 0, 0, 1, 0, 0, 0, 0, 0]\n",
      "[1, 1, 0, 0, 1, 0, 0, 0, 0, 1]\n",
      "[0, 1, 0, 0, 1, 0, 0, 0, 0, 1]\n",
      "3 7\n"
     ]
    }
   ],
   "source": []
  },
  {
   "cell_type": "code",
   "execution_count": null,
   "id": "d92043ec",
   "metadata": {},
   "outputs": [],
   "source": [
    "s=input('enter a string')\n",
    "s1=input('enter a second string')\n",
    "s2=sorted(s)\n",
    "s3=sorted(s1)\n",
    "print(s2,s3)\n",
    "if s2==s3:\n",
    "    print('this is a poligram')\n",
    "else:\n",
    "    print('not')"
   ]
  },
  {
   "cell_type": "code",
   "execution_count": 35,
   "id": "e25020f7",
   "metadata": {},
   "outputs": [
    {
     "name": "stdout",
     "output_type": "stream",
     "text": [
      "0\n",
      "1\n",
      "2\n",
      "3\n",
      "4\n",
      "5\n",
      "6\n",
      "7\n",
      "8\n",
      "9\n",
      "0\n",
      "2\n",
      "4\n",
      "6\n",
      "8\n",
      "0\n",
      "3\n",
      "6\n",
      "9\n",
      "0\n",
      "4\n",
      "8\n",
      "0\n",
      "5\n",
      "0\n",
      "6\n",
      "0\n",
      "7\n",
      "0\n",
      "8\n",
      "0\n",
      "9\n",
      "0\n"
     ]
    }
   ],
   "source": []
  },
  {
   "cell_type": "code",
   "execution_count": 3,
   "id": "b1e93dc9",
   "metadata": {},
   "outputs": [
    {
     "name": "stdout",
     "output_type": "stream",
     "text": [
      "['mam', 'malayalam', 'shiva', 'moaaaaaaam', 'nayan', 'raju', 'rar']\n"
     ]
    }
   ],
   "source": [
    "l=['rar','mam','malayalam','shiva','moaaaaaaam','raju','nayan']\n",
    "target='r'\n",
    "for i in range(len(l)):\n",
    "    for j in range(i+1,len(l)):\n",
    "        if l[i].count(target)>l[j].count(target):\n",
    "            temp=l[i]\n",
    "            l[i]=l[j]\n",
    "            l[j]=temp\n",
    "print(l)"
   ]
  },
  {
   "cell_type": "code",
   "execution_count": 10,
   "id": "06fb2c83",
   "metadata": {},
   "outputs": [
    {
     "name": "stdout",
     "output_type": "stream",
     "text": [
      "sxixaxrxjx\n"
     ]
    }
   ],
   "source": [
    "s='shivamraju'\n",
    "ss=''\n",
    "#sxixax\n",
    "for i in range(0,len(s)):\n",
    "    if i%2!=0:\n",
    "        ss=ss+'x'\n",
    "    else:\n",
    "        ss=ss+s[i]\n",
    "print(ss)"
   ]
  },
  {
   "cell_type": "code",
   "execution_count": 15,
   "id": "a3a3376e",
   "metadata": {},
   "outputs": [
    {
     "name": "stdout",
     "output_type": "stream",
     "text": [
      "[4]\n"
     ]
    }
   ],
   "source": [
    "lst = [4, 6, 4, 3, 3, 4, 3, 4, 6, 6]\n",
    "l1=[]\n",
    "for i in lst:\n",
    "    if lst.count(i)!=3 and i not in l1:\n",
    "        l1.append(i)\n",
    "print(l1)"
   ]
  },
  {
   "cell_type": "code",
   "execution_count": 24,
   "id": "1ff3b212",
   "metadata": {},
   "outputs": [
    {
     "name": "stdout",
     "output_type": "stream",
     "text": [
      "[]\n"
     ]
    }
   ],
   "source": [
    "s='abc'\n",
    "# s=s.split()\n",
    "l1=[]\n",
    "for i in s:\n",
    "    for j in i:\n",
    "        for k in j:\n",
    "            if i!=j and j!=k and k!=i:\n",
    "                l1.append([i,j,k])\n",
    "print(l1)"
   ]
  },
  {
   "cell_type": "code",
   "execution_count": null,
   "id": "40c9cb64",
   "metadata": {},
   "outputs": [],
   "source": [
    "l=[5,10,15,20,25,35,5,15,10,20]\n",
    "c5=0\n",
    "c10=0\n",
    "c20=0\n",
    "for i in l:\n",
    "    if i==5:\n",
    "        c5=c5+1\n",
    "        l.append(True)\n",
    "    elif i==10 and c5<=1:\n",
    "        c5=c5-1\n",
    "        c10=c10+1\n",
    "        l.append(True)\n",
    "    elif i==20 and c5<=1 and c10<=1:\n",
    "        c5=c5-1\n",
    "        c10=c10-1\n",
    "        c20=c20+1\n",
    "        l.append(True)\n",
    "    elif i==20 and c5<=3:\n",
    "        c5=c5-3\n",
    "        c20=c20+1\n",
    "        l.append(True)\n",
    "    else:\n",
    "        l.append(False)\n",
    "print(l)"
   ]
  },
  {
   "cell_type": "code",
   "execution_count": 23,
   "id": "76a0b50d",
   "metadata": {},
   "outputs": [
    {
     "name": "stdout",
     "output_type": "stream",
     "text": [
      "9 7\n"
     ]
    }
   ],
   "source": [
    "lst=[1,0,2,3,4,5,6,7,8,9]\n",
    "target=8\n",
    "l=[]\n",
    "l1=[]\n",
    "for i in lst:\n",
    "    if i>target:\n",
    "        l.append(i)\n",
    "    elif i<target:\n",
    "        l1.append(i)\n",
    "print(min(l),max(l1))"
   ]
  },
  {
   "cell_type": "code",
   "execution_count": 34,
   "id": "43436509",
   "metadata": {},
   "outputs": [
    {
     "name": "stdout",
     "output_type": "stream",
     "text": [
      "enter a number:10\n",
      "[0, 6, 7, 8, 9]\n"
     ]
    }
   ],
   "source": [
    "n=int(input('enter a number:'))\n",
    "l=[]\n",
    "for i in range(n):\n",
    "    l.append(i)\n",
    "l1=[1,2,3,4,5]\n",
    "for i in l1:\n",
    "    l.remove(i)\n",
    "print(l)"
   ]
  },
  {
   "cell_type": "code",
   "execution_count": null,
   "id": "7aea6866",
   "metadata": {},
   "outputs": [],
   "source": [
    "    "
   ]
  },
  {
   "cell_type": "code",
   "execution_count": 74,
   "id": "bac0fe59",
   "metadata": {},
   "outputs": [
    {
     "name": "stdout",
     "output_type": "stream",
     "text": [
      "Geek\n",
      "eek\n",
      "ek\n",
      "k\n"
     ]
    }
   ],
   "source": [
    "s='Geek'\n",
    "l=[]\n",
    "for i in range(len(s)):\n",
    "    for j in range(i,len(s)):\n",
    "        print(s[j],end='')\n",
    "    print()"
   ]
  },
  {
   "cell_type": "code",
   "execution_count": 103,
   "id": "d488f50e",
   "metadata": {},
   "outputs": [
    {
     "name": "stdout",
     "output_type": "stream",
     "text": [
      "énter a number5\n",
      "1234\n",
      "234\n",
      "34\n",
      "4\n"
     ]
    }
   ],
   "source": [
    "s=int(input(\"énter a number\"))   \n",
    "for i in range(1,s):\n",
    "    for j in range(i,s):\n",
    "        print(j,end='')\n",
    "    print()"
   ]
  },
  {
   "cell_type": "code",
   "execution_count": 104,
   "id": "65b70626",
   "metadata": {},
   "outputs": [
    {
     "name": "stdout",
     "output_type": "stream",
     "text": [
      "raju\n",
      "raj\n",
      "ra\n",
      "r\n"
     ]
    }
   ],
   "source": [
    "s='raju'\n",
    "for i in range(len(s)):\n",
    "    for j in range(i+1,len(s)):\n",
    "        print()"
   ]
  },
  {
   "cell_type": "code",
   "execution_count": 106,
   "id": "c8823ac7",
   "metadata": {},
   "outputs": [
    {
     "name": "stdout",
     "output_type": "stream",
     "text": [
      "enter a stringjaybhai\n",
      "iahbyaj\n"
     ]
    }
   ],
   "source": [
    "n=input('enter a string')\n",
    "s=''\n",
    "for i in n:\n",
    "    s=i+s\n",
    "print(s)"
   ]
  },
  {
   "cell_type": "code",
   "execution_count": 108,
   "id": "b2656054",
   "metadata": {},
   "outputs": [
    {
     "name": "stdout",
     "output_type": "stream",
     "text": [
      "enter a stringdad\n",
      "enter a second strbad\n",
      "not\n"
     ]
    }
   ],
   "source": [
    "s=input('enter a string')\n",
    "s1=input('enter a second str')\n",
    "if sorted(s)==sorted(s1):\n",
    "    print('yes')\n",
    "else:\n",
    "    print('not')"
   ]
  },
  {
   "cell_type": "code",
   "execution_count": 3,
   "id": "454e1c19",
   "metadata": {},
   "outputs": [
    {
     "name": "stdout",
     "output_type": "stream",
     "text": [
      "enter a str456\n",
      "456\n",
      "45\n",
      "4\n"
     ]
    }
   ],
   "source": [
    "s=input('enter a str')\n",
    "for i in range(len(s),0,-1):\n",
    "    print(s[:i])"
   ]
  },
  {
   "cell_type": "code",
   "execution_count": 6,
   "id": "c07d5cdd",
   "metadata": {},
   "outputs": [
    {
     "name": "stdout",
     "output_type": "stream",
     "text": [
      "enter a number:7\n",
      "1\n",
      "5\n",
      "9\n",
      "13\n",
      "17\n",
      "21\n",
      "25\n"
     ]
    }
   ],
   "source": [
    "n=int(input('enter a number:'))\n",
    "for i in range(n):\n",
    "    v=1+i*4\n",
    "    print(v)"
   ]
  },
  {
   "cell_type": "code",
   "execution_count": 11,
   "id": "ce4795d4",
   "metadata": {},
   "outputs": [
    {
     "name": "stdout",
     "output_type": "stream",
     "text": [
      "[{'org': 'apple', 'category': 'food', 'contribute': 600}, {'org': 'banana', 'category': 'food', 'contribute': 300}, {'org': 'tomato', 'category': 'vegetable', 'contribute': 2000}]\n"
     ]
    }
   ],
   "source": [
    "l=[{'org':'apple','category':'food','contribute':400},\n",
    "   {'org':'apple','category':'food','contribute':200},\n",
    "   {'org':'banana','category':'food','contribute':300},\n",
    "   {'org':'tomato','category':'vegetable','contribute':2000}]\n",
    "l1=[]\n",
    "for i in range(len(l)):\n",
    "    c=0\n",
    "    for j in range(i+1,len(l)):\n",
    "        if l[i]['org']==l[j]['org'] and l[i]['category']==l[j]['category']:\n",
    "            l[j]['contribute']+=l[i]['contribute']\n",
    "            c=c+1\n",
    "    if c==0:\n",
    "        l1.append(l[i])\n",
    "print(l1)"
   ]
  },
  {
   "cell_type": "code",
   "execution_count": null,
   "id": "e079b9e7",
   "metadata": {},
   "outputs": [],
   "source": []
  },
  {
   "cell_type": "code",
   "execution_count": null,
   "id": "556492bd",
   "metadata": {},
   "outputs": [],
   "source": [
    "a='abcsasd'\n",
    "b='1234'\n",
    "c='raju'\n",
    "i,j,k=0,0,0\n",
    "output=''\n",
    "while i<len(a) or j<len(b) or k<len(c):\n",
    "    if len(a)>i:\n",
    "        output+=a[i]\n",
    "        i=i+1\n",
    "    if len(b)>j:\n",
    "        output+=b[j]\n",
    "        j=j+1\n",
    "    if len(c)>k:\n",
    "        output+=c[k]\n",
    "        k=k+1\n",
    "print(output)"
   ]
  },
  {
   "cell_type": "code",
   "execution_count": 16,
   "id": "b0d7cb39",
   "metadata": {},
   "outputs": [
    {
     "name": "stdout",
     "output_type": "stream",
     "text": [
      "geeksforgeeks\n",
      "e\n"
     ]
    }
   ],
   "source": [
    "l1 = ['geeksforgeeks']\n",
    "l = ['e', 'b', 'g', 'f']\n",
    "l2=''.join(l1)\n",
    "print(l2)\n",
    "d={}\n",
    "for i in l2:\n",
    "    if i in l:\n",
    "        if i in d:\n",
    "            d[i]=d[i]+1\n",
    "        else:\n",
    "            d[i]=1\n",
    "v=max(d,key=d.get)\n",
    "print(v)"
   ]
  },
  {
   "cell_type": "code",
   "execution_count": 13,
   "id": "5faf6bbd",
   "metadata": {},
   "outputs": [
    {
     "name": "stdout",
     "output_type": "stream",
     "text": [
      "{'k', 'e', 't', 'b', 'i', 'g'}\n"
     ]
    }
   ],
   "source": [
    "s = 'geekforgeeks is best for geeks'\n",
    "s1=list(s)\n",
    "l1=[]\n",
    "for i in s1:\n",
    "    if s1.count(i)%2!=0:\n",
    "        l1.append(i)\n",
    "print(set(l1))"
   ]
  },
  {
   "cell_type": "code",
   "execution_count": 18,
   "id": "a57b397e",
   "metadata": {},
   "outputs": [
    {
     "name": "stdout",
     "output_type": "stream",
     "text": [
      "{'g': 2, 'e': 4, 'k': 2, 's': 2, ' ': 2, 'f': 1, 'o': 1, 'r': 1}\n",
      "e\n"
     ]
    }
   ],
   "source": [
    "s='geeks for geeks'\n",
    "d={}\n",
    "for i in s:\n",
    "    if i in d:\n",
    "        d[i]=d[i]+1\n",
    "    else:\n",
    "        d[i]=1\n",
    "print(d)\n",
    "v=max(d,key=d.get)\n",
    "print(v)"
   ]
  },
  {
   "cell_type": "code",
   "execution_count": 22,
   "id": "d5c0a83e",
   "metadata": {},
   "outputs": [
    {
     "name": "stdout",
     "output_type": "stream",
     "text": [
      "accepted\n"
     ]
    }
   ],
   "source": [
    "s='ABeeIGListKitUul'\n",
    "s=s.lower()\n",
    "vowel='aeiou'\n",
    "s1=set()\n",
    "for i in s:\n",
    "    if i in vowel:\n",
    "        s1.add(i)\n",
    "    else:\n",
    "        pass\n",
    "if len(s1)==len(vowel):\n",
    "    print('accepted')\n",
    "else:\n",
    "    print('not')"
   ]
  },
  {
   "cell_type": "code",
   "execution_count": 29,
   "id": "8598a71b",
   "metadata": {},
   "outputs": [
    {
     "name": "stdout",
     "output_type": "stream",
     "text": [
      "['hello', 'world']\n",
      "['HellO', 'WorlD']\n"
     ]
    }
   ],
   "source": [
    "s='hello world'\n",
    "s=s.split()\n",
    "print(s)\n",
    "l=[]\n",
    "for i in s:\n",
    "    v=(i[0].upper()+i[1:-1]+i[-1].upper())\n",
    "    l.append(v)\n",
    "print(l)"
   ]
  },
  {
   "cell_type": "code",
   "execution_count": 37,
   "id": "cdf05e71",
   "metadata": {},
   "outputs": [
    {
     "name": "stdout",
     "output_type": "stream",
     "text": [
      "[[1, 5], [2, 4]]\n",
      "0\n",
      "1\n",
      "0\n",
      "1\n"
     ]
    }
   ],
   "source": [
    "l=[1,2,3,4,5,6,7,8]\n",
    "target=6\n",
    "l1=[]\n",
    "l2=[]\n",
    "for i in range(len(l)):\n",
    "    for j in range(i+1,len(l)):\n",
    "        if target==l[i]+l[j]:\n",
    "            l1.append(l[i])\n",
    "            l1.append(l[j])\n",
    "            l2.append(l1)\n",
    "            l1=[]\n",
    "print(l2)\n",
    "for i in l2:\n",
    "    for j in range(len(i)):\n",
    "        print(j)"
   ]
  },
  {
   "cell_type": "code",
   "execution_count": 3,
   "id": "a32cd785",
   "metadata": {},
   "outputs": [
    {
     "name": "stdout",
     "output_type": "stream",
     "text": [
      "{'ravi': 32, 'rajnish': 15, 'sanjeev': 10, 'yash': 9, 'suraj': 2}\n"
     ]
    }
   ],
   "source": [
    "d={'ravi': 10, 'rajnish': 9, 'sanjeev': 15, 'yash': 2, 'suraj': 32}\n",
    "for k,v in d.items():\n",
    "    for i,j in d.items():\n",
    "        if d[k]>d[i]:\n",
    "            temp=d[k]\n",
    "            d[k]=d[i]\n",
    "            d[i]=temp\n",
    "print(d)"
   ]
  },
  {
   "cell_type": "code",
   "execution_count": 27,
   "id": "e88c8d72",
   "metadata": {},
   "outputs": [
    {
     "name": "stdout",
     "output_type": "stream",
     "text": [
      "siemanym\n",
      "s\n",
      "si\n",
      "si23e\n",
      "si23em\n",
      "si23ema\n",
      "si23eman\n",
      "si23eman45y\n",
      "si23eman45ym\n",
      "si23eman45ym\n"
     ]
    }
   ],
   "source": [
    "l='my23name45is'\n",
    "s=''\n",
    "for i in l:\n",
    "    if i.isalpha():\n",
    "        s=i+s\n",
    "print(s)\n",
    "ss=''\n",
    "for i in l:\n",
    "    if i.isalpha():\n",
    "        ss=ss+s[0]\n",
    "        print(ss)\n",
    "        s=s[1:]\n",
    "    else:\n",
    "        ss=ss+i\n",
    "print(ss)"
   ]
  },
  {
   "cell_type": "code",
   "execution_count": 28,
   "id": "b4ca1748",
   "metadata": {},
   "outputs": [
    {
     "name": "stdout",
     "output_type": "stream",
     "text": [
      "['Gfg', 'is', 'best', 'is', 'is', 'is', 'is', 'is', 'is', 'is', 'Gfg', 'Gfg', 'Gfg', 'Gfg', 'Gfg', 'Gfg', 'Gfg']\n"
     ]
    }
   ],
   "source": [
    "l=['Gfg', 'is', 'best']\n",
    "l2=[0, 1, 2,1,1,1,1,1,1,1,0,0,0,0,0,0,0]\n",
    "for i in range(len(l)):\n",
    "    for j in range(len(l2)):\n",
    "        if l2[j]==i:\n",
    "            l2[j]=l[i]\n",
    "print(l2)"
   ]
  },
  {
   "cell_type": "code",
   "execution_count": 32,
   "id": "fb59b68f",
   "metadata": {},
   "outputs": [
    {
     "name": "stdout",
     "output_type": "stream",
     "text": [
      "['Gfg', 'is', 'best', 'is', 'is', 'is', 'is', 'is', 'is', 'is', 'Gfg', 'Gfg', 'Gfg', 'Gfg', 'Gfg', 'Gfg', 'Gfg']\n"
     ]
    }
   ],
   "source": [
    "l=['Gfg', 'is', 'best']\n",
    "l2=[0, 1, 2,1,1,1,1,1,1,1,0,0,0,0,0,0,0]\n",
    "for i in l:\n",
    "    v=l.index(i)\n",
    "    for j in range(len(l2)):\n",
    "        if l2[j]==v:\n",
    "            l2[j]=i\n",
    "print(l2)"
   ]
  },
  {
   "cell_type": "code",
   "execution_count": 34,
   "id": "bba23ee6",
   "metadata": {},
   "outputs": [
    {
     "name": "stdout",
     "output_type": "stream",
     "text": [
      "['skeeg', 'rof', 'skeeg', 'si', 'tseb']\n"
     ]
    }
   ],
   "source": [
    "l= ['geeks', 'for', 'geeks', 'is', 'best']\n",
    "l1=[]\n",
    "for i in l:\n",
    "    v=i[::-1]\n",
    "    l1.append(v)\n",
    "print(l1)"
   ]
  },
  {
   "cell_type": "code",
   "execution_count": 35,
   "id": "2ef9840b",
   "metadata": {},
   "outputs": [
    {
     "name": "stdout",
     "output_type": "stream",
     "text": [
      "[(4, 5, 5, 4)]\n"
     ]
    }
   ],
   "source": [
    "lst = [(4, 5, 5, 4), (5, 4, 3)]\n",
    "k=5\n",
    "n=2\n",
    "l2=[]\n",
    "for i in lst:\n",
    "    if i.count(k)==n:\n",
    "        l2.append(i)\n",
    "print(l2)"
   ]
  },
  {
   "cell_type": "code",
   "execution_count": 36,
   "id": "65784ab7",
   "metadata": {},
   "outputs": [
    {
     "name": "stdout",
     "output_type": "stream",
     "text": [
      "[('a', 1), ('b', 2)]\n"
     ]
    }
   ],
   "source": [
    "l=['a','b']\n",
    "l1=[1,2]\n",
    "l2=[]\n",
    "for i in zip(l,l1):\n",
    "    l2.append(i)\n",
    "print(l2)"
   ]
  },
  {
   "cell_type": "code",
   "execution_count": 38,
   "id": "650dc5b9",
   "metadata": {},
   "outputs": [
    {
     "name": "stdout",
     "output_type": "stream",
     "text": [
      "[4, 6, 3]\n"
     ]
    }
   ],
   "source": [
    "lst = [4, 6, 4, 3, 3, 4, 3, 4, 6, 6]\n",
    "l1=[]\n",
    "for i in lst:\n",
    "    if lst.count(i)>2 and i not in l1:\n",
    "        l1.append(i)\n",
    "print(l1)"
   ]
  },
  {
   "cell_type": "code",
   "execution_count": 24,
   "id": "b2cb515f",
   "metadata": {},
   "outputs": [
    {
     "name": "stdout",
     "output_type": "stream",
     "text": [
      "aaaaabbbbbbccccdddddddhhh\n"
     ]
    }
   ],
   "source": [
    "s='a4b5c3d6h2'\n",
    "ss=''\n",
    "for i in s:\n",
    "    if i.isalpha():\n",
    "        ss=ss+i\n",
    "        prev=i\n",
    "    else:\n",
    "        d=int(i)\n",
    "        ss=ss+prev*d\n",
    "print(ss)"
   ]
  },
  {
   "cell_type": "code",
   "execution_count": 84,
   "id": "28b9d3ef",
   "metadata": {},
   "outputs": [
    {
     "name": "stdout",
     "output_type": "stream",
     "text": [
      "[{'name': 'Nikhil', 'age': 19}, {'name': 'Nandini', 'age': 20}, {'name': 'Manjeet', 'age': 20}]\n"
     ]
    }
   ],
   "source": [
    "li = [{\"name\": \"Nandini\", \"age\": 20},{\"name\": \"Manjeet\", \"age\": 20},{\"name\": \"Nikhil\", \"age\": 19}]\n",
    "lst=sorted(li,key=lambda i: i['age'])\n",
    "print(lst)"
   ]
  },
  {
   "cell_type": "code",
   "execution_count": 36,
   "id": "321cd69e",
   "metadata": {},
   "outputs": [
    {
     "name": "stdout",
     "output_type": "stream",
     "text": [
      "4321\n"
     ]
    }
   ],
   "source": [
    "s=1234\n",
    "rev=0\n",
    "while(s>0):\n",
    "    r=s%10\n",
    "    rev=rev*10+r\n",
    "    s=s//10\n",
    "print(rev)"
   ]
  },
  {
   "cell_type": "code",
   "execution_count": 39,
   "id": "ac969280",
   "metadata": {},
   "outputs": [
    {
     "name": "stdout",
     "output_type": "stream",
     "text": [
      "enter a number:3\n",
      "3\n",
      "6\n",
      "9\n",
      "12\n",
      "15\n",
      "18\n",
      "21\n",
      "24\n",
      "27\n",
      "30\n"
     ]
    }
   ],
   "source": [
    "n=int(input('enter a number:'))\n",
    "for i in range(1,11):\n",
    "    print(n*i)"
   ]
  },
  {
   "cell_type": "code",
   "execution_count": 76,
   "id": "a12f23ab",
   "metadata": {},
   "outputs": [
    {
     "name": "stdout",
     "output_type": "stream",
     "text": [
      "600\n"
     ]
    }
   ],
   "source": [
    "s={'a': 100, 'b':200, 'c':300}\n",
    "l=[]\n",
    "for i in s.values():\n",
    "    l.append(i)\n",
    "s=0\n",
    "for i in l:\n",
    "    s=s+i\n",
    "print(s)"
   ]
  },
  {
   "cell_type": "code",
   "execution_count": 1,
   "id": "b8d39365",
   "metadata": {},
   "outputs": [
    {
     "name": "stdout",
     "output_type": "stream",
     "text": [
      "[{'name': 'Nikhil', 'age': 19}, {'name': 'Nandini', 'age': 20}, {'name': 'Manjeet', 'age': 20}]\n"
     ]
    }
   ],
   "source": [
    "l = [{\"name\": \"Nandini\", \"age\": 20},{\"name\": \"Manjeet\", \"age\": 20},{\"name\": \"Nikhil\", \"age\": 19}]\n",
    "lst=sorted(l , key=lambda i:i['age'])\n",
    "print(lst)"
   ]
  },
  {
   "cell_type": "code",
   "execution_count": 5,
   "id": "5e1f38c1",
   "metadata": {},
   "outputs": [
    {
     "name": "stdout",
     "output_type": "stream",
     "text": [
      "[[5, 7, 9, 4, 0], [6, 7, 4, 3, 3], [9, 9, 6, 5, 5]]\n",
      "{0, 3, 4, 5, 6, 7, 9}\n"
     ]
    }
   ],
   "source": [
    "t = {\"Gfg\" : [5, 7, 9, 4, 0], \"is\" : [6, 7, 4, 3, 3], \"Best\" : [9, 9, 6, 5, 5]} \n",
    "mx=0\n",
    "lst=[]\n",
    "for i,j in t.items():\n",
    "    lst.append(j)\n",
    "print(lst)\n",
    "s=set()\n",
    "for i in lst:\n",
    "    for j in i:\n",
    "        s.add(j)\n",
    "print(s)"
   ]
  },
  {
   "cell_type": "code",
   "execution_count": 8,
   "id": "e85e11dc",
   "metadata": {},
   "outputs": [
    {
     "ename": "ModuleNotFoundError",
     "evalue": "No module named 'Celender'",
     "output_type": "error",
     "traceback": [
      "\u001b[1;31m---------------------------------------------------------------------------\u001b[0m",
      "\u001b[1;31mModuleNotFoundError\u001b[0m                       Traceback (most recent call last)",
      "\u001b[1;32m~\\AppData\\Local\\Temp\\ipykernel_1824\\302664111.py\u001b[0m in \u001b[0;36m<module>\u001b[1;34m\u001b[0m\n\u001b[1;32m----> 1\u001b[1;33m \u001b[1;32mimport\u001b[0m \u001b[0mCelender\u001b[0m\u001b[1;33m\u001b[0m\u001b[1;33m\u001b[0m\u001b[0m\n\u001b[0m\u001b[0;32m      2\u001b[0m \u001b[0mprint\u001b[0m\u001b[1;33m(\u001b[0m\u001b[0mc\u001b[0m\u001b[1;33m.\u001b[0m\u001b[0mCelender\u001b[0m\u001b[1;33m)\u001b[0m\u001b[1;33m\u001b[0m\u001b[1;33m\u001b[0m\u001b[0m\n",
      "\u001b[1;31mModuleNotFoundError\u001b[0m: No module named 'Celender'"
     ]
    }
   ],
   "source": []
  },
  {
   "cell_type": "code",
   "execution_count": 16,
   "id": "b8362ff0",
   "metadata": {},
   "outputs": [
    {
     "name": "stdout",
     "output_type": "stream",
     "text": [
      "{4: [4, 4, 4], 6: [6, 6], 2: [2, 2], 8: [8, 8], 5: [5]}\n"
     ]
    }
   ],
   "source": [
    "t = [4, 6, 6, 4, 2, 2, 4, 8, 5, 8]\n",
    "d={}\n",
    "for i in t:\n",
    "    if i in d:\n",
    "        d[i]=d[i]+[i]\n",
    "    else:\n",
    "        d[i]=[i]\n",
    "print(d)"
   ]
  },
  {
   "cell_type": "code",
   "execution_count": 29,
   "id": "a948391e",
   "metadata": {},
   "outputs": [
    {
     "name": "stdout",
     "output_type": "stream",
     "text": [
      "for\n"
     ]
    },
    {
     "ename": "TypeError",
     "evalue": "must be str, not int",
     "output_type": "error",
     "traceback": [
      "\u001b[1;31m---------------------------------------------------------------------------\u001b[0m",
      "\u001b[1;31mTypeError\u001b[0m                                 Traceback (most recent call last)",
      "\u001b[1;32m~\\AppData\\Local\\Temp\\ipykernel_1824\\2031125194.py\u001b[0m in \u001b[0;36m<module>\u001b[1;34m\u001b[0m\n\u001b[0;32m      7\u001b[0m \u001b[0mprint\u001b[0m\u001b[1;33m(\u001b[0m\u001b[0mss\u001b[0m\u001b[1;33m)\u001b[0m\u001b[1;33m\u001b[0m\u001b[1;33m\u001b[0m\u001b[0m\n\u001b[0;32m      8\u001b[0m \u001b[1;32mfor\u001b[0m \u001b[0mi\u001b[0m \u001b[1;32min\u001b[0m \u001b[0mss\u001b[0m\u001b[1;33m:\u001b[0m\u001b[1;33m\u001b[0m\u001b[1;33m\u001b[0m\u001b[0m\n\u001b[1;32m----> 9\u001b[1;33m     \u001b[0mv\u001b[0m\u001b[1;33m=\u001b[0m\u001b[0mss\u001b[0m\u001b[1;33m.\u001b[0m\u001b[0mindex\u001b[0m\u001b[1;33m(\u001b[0m\u001b[0mk\u001b[0m\u001b[1;33m)\u001b[0m\u001b[1;33m\u001b[0m\u001b[1;33m\u001b[0m\u001b[0m\n\u001b[0m\u001b[0;32m     10\u001b[0m \u001b[0mprint\u001b[0m\u001b[1;33m(\u001b[0m\u001b[0mv\u001b[0m\u001b[1;33m)\u001b[0m\u001b[1;33m\u001b[0m\u001b[1;33m\u001b[0m\u001b[0m\n",
      "\u001b[1;31mTypeError\u001b[0m: must be str, not int"
     ]
    }
   ],
   "source": [
    "str = 'geeksforgeeks'\n",
    "k=3\n",
    "ss=''\n",
    "for i in str:\n",
    "    if str.count(i)==1:\n",
    "        ss=ss+i\n",
    "print(ss)\n",
    "for i in ss:\n",
    "    v=ss.index(k)\n",
    "print(v)"
   ]
  },
  {
   "cell_type": "code",
   "execution_count": 14,
   "id": "e693c55e",
   "metadata": {},
   "outputs": [
    {
     "name": "stdout",
     "output_type": "stream",
     "text": [
      "['amazon', 'apple', 'facebook', 'google', 'leetcode']\n"
     ]
    }
   ],
   "source": [
    "words1 = [\"amazon\",\"apple\",\"facebook\",\"google\",\"leetcode\"]\n",
    "words2 = [\"e\",\"o\"]\n",
    "l=[]\n",
    "for i in words1:\n",
    "    if any(char in i for char in words2):\n",
    "        l.append(i)\n",
    "print(l)"
   ]
  },
  {
   "cell_type": "code",
   "execution_count": 15,
   "id": "55ad1d42",
   "metadata": {},
   "outputs": [
    {
     "name": "stdout",
     "output_type": "stream",
     "text": [
      "['amazon', 'apple', 'facebook', 'google', 'leetcode']\n"
     ]
    }
   ],
   "source": [
    "words1 = [\"amazon\", \"apple\", \"facebook\", \"google\", \"leetcode\"]\n",
    "words2 = [\"e\", \"o\"]\n",
    "\n",
    "result = []\n",
    "\n",
    "for word in words1:\n",
    "    if any(char in word for char in words2):\n",
    "        result.append(word)\n",
    "\n",
    "print(result)"
   ]
  },
  {
   "cell_type": "code",
   "execution_count": 58,
   "id": "50061726",
   "metadata": {},
   "outputs": [
    {
     "name": "stdout",
     "output_type": "stream",
     "text": [
      "0 b\n",
      "1 b\n",
      "2 b\n",
      "3 b\n",
      "4 b\n",
      "5 b\n",
      "6 b\n",
      "7 b\n",
      "8 b\n",
      "9 b\n",
      "10 b\n",
      "11 b\n",
      "12 b\n",
      "13 b\n",
      "1\n"
     ]
    }
   ],
   "source": [
    "s = \"bbbbbbbbbbbbbb\"\n",
    "\n",
    "char_set = set()\n",
    "start = 0\n",
    "max_length = 0\n",
    "for end, char in enumerate(s):\n",
    "    print(end,char)\n",
    "    while char in char_set:\n",
    "        char_set.remove(s[start])\n",
    "        start += 1\n",
    "\n",
    "    char_set.add(char)\n",
    "    max_length = max(max_length, end - start + 1)\n",
    "\n",
    "print(max_length)"
   ]
  },
  {
   "cell_type": "code",
   "execution_count": 52,
   "id": "cd952924",
   "metadata": {},
   "outputs": [
    {
     "name": "stdout",
     "output_type": "stream",
     "text": [
      "1\n"
     ]
    }
   ],
   "source": []
  },
  {
   "cell_type": "code",
   "execution_count": 57,
   "id": "b2964748",
   "metadata": {},
   "outputs": [
    {
     "name": "stdout",
     "output_type": "stream",
     "text": [
      "4\n"
     ]
    }
   ],
   "source": [
    "s = \"pwwkew\"\n",
    "ss=set(s)\n",
    "print(len(ss))"
   ]
  },
  {
   "cell_type": "code",
   "execution_count": 67,
   "id": "9422e1cd",
   "metadata": {},
   "outputs": [
    {
     "name": "stdout",
     "output_type": "stream",
     "text": [
      "[15, 11]\n"
     ]
    }
   ],
   "source": [
    "list=[[8,7],[6,5]]\n",
    "l=[p+q for p,q in list]\n",
    "print(l)"
   ]
  },
  {
   "cell_type": "code",
   "execution_count": 69,
   "id": "af97d734",
   "metadata": {},
   "outputs": [
    {
     "name": "stdout",
     "output_type": "stream",
     "text": [
      "%codi\n"
     ]
    }
   ],
   "source": [
    "s='codi'\n",
    "a=s.center(5,'%')\n",
    "print(a)"
   ]
  },
  {
   "cell_type": "code",
   "execution_count": 83,
   "id": "d40f4870",
   "metadata": {},
   "outputs": [
    {
     "name": "stdout",
     "output_type": "stream",
     "text": [
      "['bab', 'aba', 'bb', 'bab']\n"
     ]
    }
   ],
   "source": [
    "s = \"babadcsbbaba\"\n",
    "l=[]\n",
    "for i in range(len(s)):\n",
    "    for j in range(len(s)):\n",
    "        v=s[i:j]\n",
    "        if len(v)>1:\n",
    "            l.append(v)\n",
    "l1=[]\n",
    "for i in l:\n",
    "    if i==i[::-1]:\n",
    "        l1.append(i)\n",
    "print(l1)"
   ]
  },
  {
   "cell_type": "code",
   "execution_count": 93,
   "id": "f29f981c",
   "metadata": {},
   "outputs": [
    {
     "name": "stdout",
     "output_type": "stream",
     "text": [
      "321-\n"
     ]
    }
   ],
   "source": [
    "# x=120\n",
    "# rev=0\n",
    "# while(x>0):\n",
    "#     r=x%10\n",
    "#     rev=rev*10+r\n",
    "#     x=x//10\n",
    "# print(rev)\n",
    "x=-123\n",
    "x=str(x)\n",
    "x=(x[::-1])\n",
    "print(x)"
   ]
  },
  {
   "cell_type": "code",
   "execution_count": 101,
   "id": "3aa4089e",
   "metadata": {},
   "outputs": [
    {
     "name": "stdout",
     "output_type": "stream",
     "text": [
      "-321\n"
     ]
    }
   ],
   "source": [
    "x = -123\n",
    "s=str(x)\n",
    "if x<0:\n",
    "    revstr='-'+s[:0:-1]\n",
    "else:\n",
    "    revstr=s[::-1]\n",
    "print(revstr)"
   ]
  },
  {
   "cell_type": "code",
   "execution_count": 104,
   "id": "e4f74fd6",
   "metadata": {},
   "outputs": [
    {
     "ename": "SyntaxError",
     "evalue": "invalid syntax (4105630282.py, line 5)",
     "output_type": "error",
     "traceback": [
      "\u001b[1;36m  File \u001b[1;32m\"C:\\Users\\shivam kumar gupta\\AppData\\Local\\Temp\\ipykernel_1968\\4105630282.py\"\u001b[1;36m, line \u001b[1;32m5\u001b[0m\n\u001b[1;33m    Explanation: The only possible triplet does not sum up to 0.\u001b[0m\n\u001b[1;37m                     ^\u001b[0m\n\u001b[1;31mSyntaxError\u001b[0m\u001b[1;31m:\u001b[0m invalid syntax\n"
     ]
    }
   ],
   "source": [
    "Input: nums = [-1,0,1,2,-1,-4]\n",
    "Output: [[-1,-1,2],[-1,0,1]]\n",
    "Input: nums = [0,1,1]\n",
    "Output: []\n",
    "Explanation: The only possible triplet does not sum up to 0.\n",
    "Example 3:\n",
    "\n",
    "Input: nums = [0,0,0]\n",
    "Output: [[0,0,0]]\n",
    "Explanation: The only possible triplet sums up to 0."
   ]
  },
  {
   "cell_type": "code",
   "execution_count": 103,
   "id": "769ae584",
   "metadata": {},
   "outputs": [
    {
     "ename": "SyntaxError",
     "evalue": "invalid syntax (3221027821.py, line 1)",
     "output_type": "error",
     "traceback": [
      "\u001b[1;36m  File \u001b[1;32m\"C:\\Users\\shivam kumar gupta\\AppData\\Local\\Temp\\ipykernel_1968\\3221027821.py\"\u001b[1;36m, line \u001b[1;32m1\u001b[0m\n\u001b[1;33m    Input: nums = [-1,2,1,-4], target = 1\u001b[0m\n\u001b[1;37m                                      ^\u001b[0m\n\u001b[1;31mSyntaxError\u001b[0m\u001b[1;31m:\u001b[0m invalid syntax\n"
     ]
    }
   ],
   "source": [
    "Input: nums = [-1,2,1,-4], target = 1\n",
    "Output: 2\n",
    "Explanation: The sum that is closest to the target is 2. (-1 + 2 + 1 = 2).\n"
   ]
  },
  {
   "cell_type": "code",
   "execution_count": 1,
   "id": "e29a521a",
   "metadata": {},
   "outputs": [
    {
     "ename": "NameError",
     "evalue": "name 'n' is not defined",
     "output_type": "error",
     "traceback": [
      "\u001b[1;31m---------------------------------------------------------------------------\u001b[0m",
      "\u001b[1;31mNameError\u001b[0m                                 Traceback (most recent call last)",
      "\u001b[1;32m~\\AppData\\Local\\Temp\\ipykernel_12584\\501926892.py\u001b[0m in \u001b[0;36m<module>\u001b[1;34m\u001b[0m\n\u001b[1;32m----> 1\u001b[1;33m \u001b[0mInput\u001b[0m\u001b[1;33m:\u001b[0m \u001b[0mn\u001b[0m \u001b[1;33m=\u001b[0m \u001b[1;36m3\u001b[0m\u001b[1;33m\u001b[0m\u001b[1;33m\u001b[0m\u001b[0m\n\u001b[0m\u001b[0;32m      2\u001b[0m \u001b[0mOutput\u001b[0m\u001b[1;33m:\u001b[0m \u001b[1;33m[\u001b[0m\u001b[1;34m\"((()))\"\u001b[0m\u001b[1;33m,\u001b[0m\u001b[1;34m\"(()())\"\u001b[0m\u001b[1;33m,\u001b[0m\u001b[1;34m\"(())()\"\u001b[0m\u001b[1;33m,\u001b[0m\u001b[1;34m\"()(())\"\u001b[0m\u001b[1;33m,\u001b[0m\u001b[1;34m\"()()()\"\u001b[0m\u001b[1;33m]\u001b[0m\u001b[1;33m\u001b[0m\u001b[1;33m\u001b[0m\u001b[0m\n",
      "\u001b[1;31mNameError\u001b[0m: name 'n' is not defined"
     ]
    }
   ],
   "source": [
    "Input: n = 3\n",
    "Output: [\"((()))\",\"(()())\",\"(())()\",\"()(())\",\"()()()\"]"
   ]
  },
  {
   "cell_type": "code",
   "execution_count": 5,
   "id": "7aa5f6db",
   "metadata": {},
   "outputs": [
    {
     "name": "stdout",
     "output_type": "stream",
     "text": [
      "stno\tName\tMarks\tHyd\n",
      "10\trossume\t34.45\tsatn\n",
      "20\traju\t34545\tsdf\n"
     ]
    }
   ],
   "source": [
    "def disp(sno,sname,marks,city='sdf'):\n",
    "    print(\"{}\\t{}\\t{}\\t{}\".format(sno,sname,marks,city))\n",
    "print(\"stno\\tName\\tMarks\\tHyd\")\n",
    "disp(10,'rossume',34.45,'satn')\n",
    "disp(20,'raju',34545)"
   ]
  },
  {
   "cell_type": "code",
   "execution_count": 7,
   "id": "19cd95cc",
   "metadata": {},
   "outputs": [
    {
     "name": "stdout",
     "output_type": "stream",
     "text": [
      "Eno\tname\tsal\tcname\n",
      "10\tnaveen\t1.2\tibm\n",
      "30\trajubhai\t3000\tgiga\n"
     ]
    }
   ],
   "source": [
    "def dispinfo(eno=10,ename='naveen',sal=1.2,cname='ibm'):\n",
    "    print(\"{}\\t{}\\t{}\\t{}\".format(eno,ename,sal,cname))\n",
    "\n",
    "print('Eno\\tname\\tsal\\tcname')\n",
    "dispinfo()\n",
    "dispinfo(30,'rajubhai',3000,'giga')"
   ]
  },
  {
   "cell_type": "code",
   "execution_count": 10,
   "id": "871be4c8",
   "metadata": {},
   "outputs": [
    {
     "ename": "SyntaxError",
     "evalue": "non-default argument follows default argument (1823906304.py, line 1)",
     "output_type": "error",
     "traceback": [
      "\u001b[1;36m  File \u001b[1;32m\"C:\\Users\\shivam kumar gupta\\AppData\\Local\\Temp\\ipykernel_3676\\1823906304.py\"\u001b[1;36m, line \u001b[1;32m1\u001b[0m\n\u001b[1;33m    def areacircle(r,pi=3.14,sd):\u001b[0m\n\u001b[1;37m                               ^\u001b[0m\n\u001b[1;31mSyntaxError\u001b[0m\u001b[1;31m:\u001b[0m non-default argument follows default argument\n"
     ]
    }
   ],
   "source": [
    "def areacircle(r,pi=3.14):\n",
    "    ac=pi*r**2\n",
    "    print('radius={}'.format(r))\n",
    "    print('Area of circle={}'.format(ac))\n",
    "areacircle(3.4)\n",
    "areacircle(2)\n"
   ]
  },
  {
   "cell_type": "code",
   "execution_count": 1,
   "id": "dce6a30c",
   "metadata": {},
   "outputs": [],
   "source": [
    "import numpy as np"
   ]
  },
  {
   "cell_type": "code",
   "execution_count": 2,
   "id": "c5c6035d",
   "metadata": {},
   "outputs": [
    {
     "name": "stdout",
     "output_type": "stream",
     "text": [
      "[1 2 3 4 5 6]\n"
     ]
    }
   ],
   "source": [
    "a=np.array([1,2,3,4,5,6],np.int64)\n",
    "print(a)"
   ]
  },
  {
   "cell_type": "code",
   "execution_count": 5,
   "id": "62335123",
   "metadata": {},
   "outputs": [
    {
     "name": "stdout",
     "output_type": "stream",
     "text": [
      "[[ 1  2  3]\n",
      " [23 45 67]\n",
      " [44  5  5]] 9 (3, 3) 2\n"
     ]
    }
   ],
   "source": [
    "a=np.array([[1,2,3],[23,45,67],[44,5,5]])\n",
    "print(a,a.size,a.shape,a.ndim)"
   ]
  },
  {
   "cell_type": "code",
   "execution_count": 7,
   "id": "8610f940",
   "metadata": {},
   "outputs": [
    {
     "name": "stdout",
     "output_type": "stream",
     "text": [
      "[[b'' b'']\n",
      " [b'' b'']\n",
      " [b'' b'']]\n"
     ]
    }
   ],
   "source": [
    "v=np.zeros([3,2],dtype='S')\n",
    "print(v)"
   ]
  },
  {
   "cell_type": "code",
   "execution_count": 12,
   "id": "01144fa0",
   "metadata": {},
   "outputs": [
    {
     "name": "stdout",
     "output_type": "stream",
     "text": [
      "[[ 0  1  2]\n",
      " [ 3  4  5]\n",
      " [ 6  7  8]\n",
      " [ 9 10 11]]\n"
     ]
    }
   ],
   "source": [
    "rng=np.arange(12)\n",
    "v=rng.reshape(4,3)\n",
    "print(v)"
   ]
  },
  {
   "cell_type": "code",
   "execution_count": 15,
   "id": "b1987582",
   "metadata": {},
   "outputs": [
    {
     "name": "stdout",
     "output_type": "stream",
     "text": [
      "[[ 0  1  2  3]\n",
      " [ 4  5  6  7]\n",
      " [ 8  9 10 11]]\n"
     ]
    }
   ],
   "source": [
    "ls=np.arange(12)\n",
    "ls.resize(3,4)\n",
    "print(ls)"
   ]
  },
  {
   "cell_type": "code",
   "execution_count": 17,
   "id": "957628e8",
   "metadata": {},
   "outputs": [
    {
     "data": {
      "text/plain": [
       "array([1.        , 1.33333333, 1.66666667, 2.        , 2.33333333,\n",
       "       2.66666667, 3.        , 3.33333333, 3.66666667, 4.        ])"
      ]
     },
     "execution_count": 17,
     "metadata": {},
     "output_type": "execute_result"
    }
   ],
   "source": [
    "lsp=np.linspace(1,4,10)\n",
    "lsp"
   ]
  },
  {
   "cell_type": "code",
   "execution_count": 19,
   "id": "a005a278",
   "metadata": {},
   "outputs": [
    {
     "name": "stdout",
     "output_type": "stream",
     "text": [
      "[[6.23042070e-307 4.67296746e-307 1.69121096e-306 1.11260755e-306\n",
      "  4.45061032e-308 7.56599128e-307]\n",
      " [1.86920192e-306 6.23053614e-307 8.45593934e-307 7.56593017e-307\n",
      "  1.11258854e-306 1.11261502e-306]\n",
      " [1.42410839e-306 7.56597770e-307 6.23059726e-307 1.42419530e-306\n",
      "  7.56602523e-307 1.29061821e-306]\n",
      " [9.79110588e-307 8.34424766e-308 1.39071445e-307 1.33511562e-306\n",
      "  8.90103560e-307 1.42410974e-306]]\n"
     ]
    }
   ],
   "source": [
    "emp=np.empty((4,6))\n",
    "print(emp)"
   ]
  },
  {
   "cell_type": "code",
   "execution_count": 20,
   "id": "a33e8010",
   "metadata": {},
   "outputs": [
    {
     "name": "stdout",
     "output_type": "stream",
     "text": [
      "[[1. 0. 0. ... 0. 0. 0.]\n",
      " [0. 1. 0. ... 0. 0. 0.]\n",
      " [0. 0. 1. ... 0. 0. 0.]\n",
      " ...\n",
      " [0. 0. 0. ... 1. 0. 0.]\n",
      " [0. 0. 0. ... 0. 1. 0.]\n",
      " [0. 0. 0. ... 0. 0. 1.]]\n"
     ]
    }
   ],
   "source": [
    "v=np.identity(44)\n",
    "print(v)"
   ]
  },
  {
   "cell_type": "code",
   "execution_count": 23,
   "id": "90706c9f",
   "metadata": {},
   "outputs": [
    {
     "ename": "TypeError",
     "evalue": "_reshape_dispatcher() missing 1 required positional argument: 'newshape'",
     "output_type": "error",
     "traceback": [
      "\u001b[1;31m---------------------------------------------------------------------------\u001b[0m",
      "\u001b[1;31mTypeError\u001b[0m                                 Traceback (most recent call last)",
      "\u001b[1;32m~\\AppData\\Local\\Temp\\ipykernel_15284\\835053333.py\u001b[0m in \u001b[0;36m<module>\u001b[1;34m\u001b[0m\n\u001b[1;32m----> 1\u001b[1;33m \u001b[0mad\u001b[0m\u001b[1;33m=\u001b[0m\u001b[0mnp\u001b[0m\u001b[1;33m.\u001b[0m\u001b[0mreshape\u001b[0m\u001b[1;33m(\u001b[0m\u001b[1;33m(\u001b[0m\u001b[1;36m3\u001b[0m\u001b[1;33m,\u001b[0m\u001b[1;36m2\u001b[0m\u001b[1;33m)\u001b[0m\u001b[1;33m)\u001b[0m\u001b[1;33m\u001b[0m\u001b[1;33m\u001b[0m\u001b[0m\n\u001b[0m\u001b[0;32m      2\u001b[0m \u001b[0mprint\u001b[0m\u001b[1;33m(\u001b[0m\u001b[0mad\u001b[0m\u001b[1;33m)\u001b[0m\u001b[1;33m\u001b[0m\u001b[1;33m\u001b[0m\u001b[0m\n",
      "\u001b[1;32m<__array_function__ internals>\u001b[0m in \u001b[0;36mreshape\u001b[1;34m(*args, **kwargs)\u001b[0m\n",
      "\u001b[1;31mTypeError\u001b[0m: _reshape_dispatcher() missing 1 required positional argument: 'newshape'"
     ]
    }
   ],
   "source": [
    "ad=np.reshape((3,2))\n",
    "print(ad)"
   ]
  },
  {
   "cell_type": "code",
   "execution_count": 35,
   "id": "95dc9cfb",
   "metadata": {},
   "outputs": [
    {
     "name": "stdout",
     "output_type": "stream",
     "text": [
      "[23 45 67 34]\n"
     ]
    },
    {
     "data": {
      "text/plain": [
       "array([23, 45, 67, 34])"
      ]
     },
     "execution_count": 35,
     "metadata": {},
     "output_type": "execute_result"
    }
   ],
   "source": [
    "import numpy as np\n",
    "arr=np.array([[23,45],[67,34]])\n",
    "v=np.ravel(arr)\n",
    "print(v)"
   ]
  },
  {
   "cell_type": "code",
   "execution_count": null,
   "id": "4bf1bbc7",
   "metadata": {},
   "outputs": [],
   "source": []
  }
 ],
 "metadata": {
  "kernelspec": {
   "display_name": "Python 3 (ipykernel)",
   "language": "python",
   "name": "python3"
  },
  "language_info": {
   "codemirror_mode": {
    "name": "ipython",
    "version": 3
   },
   "file_extension": ".py",
   "mimetype": "text/x-python",
   "name": "python",
   "nbconvert_exporter": "python",
   "pygments_lexer": "ipython3",
   "version": "3.9.13"
  }
 },
 "nbformat": 4,
 "nbformat_minor": 5
}
