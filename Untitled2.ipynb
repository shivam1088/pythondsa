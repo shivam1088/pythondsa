{
 "cells": [
  {
   "cell_type": "code",
   "execution_count": 1,
   "id": "4e85ed76",
   "metadata": {},
   "outputs": [
    {
     "ename": "IndentationError",
     "evalue": "expected an indented block (3116506608.py, line 9)",
     "output_type": "error",
     "traceback": [
      "\u001b[1;36m  File \u001b[1;32m\"C:\\Users\\shivam kumar gupta\\AppData\\Local\\Temp\\ipykernel_4592\\3116506608.py\"\u001b[1;36m, line \u001b[1;32m9\u001b[0m\n\u001b[1;33m    if rev==orig:\u001b[0m\n\u001b[1;37m                 ^\u001b[0m\n\u001b[1;31mIndentationError\u001b[0m\u001b[1;31m:\u001b[0m expected an indented block\n"
     ]
    }
   ],
   "source": [
    "n=int(input(\"enter number:\"))\n",
    "rev=0\n",
    "sum=0\n",
    "s=len(str(n))\n",
    "for i in range(n):\n",
    "    rem=n%10\n",
    "    rev=rev*10+rem**s\n",
    "    n=n//10\n",
    "if rev==orig:\n",
    "    print"
   ]
  },
  {
   "cell_type": "code",
   "execution_count": null,
   "id": "797053a8",
   "metadata": {},
   "outputs": [],
   "source": [
    "lst=[2,5,2,4,1,42,4,1,4,56,67,4,2,6,36]\n",
    "for i in range(len(lst)):\n",
    "    for j in range(i,len(lst)):\n",
    "        temp=lst[i]\n",
    "        lst[i]=lst[j]\n",
    "        lst[j]=temp\n",
    "print(lst)"
   ]
  },
  {
   "cell_type": "code",
   "execution_count": 16,
   "id": "d884dd69",
   "metadata": {},
   "outputs": [
    {
     "name": "stdout",
     "output_type": "stream",
     "text": [
      "{15: 1, 6: 1, 7: 1, 10: 3, 12: 1, 20: 1, 28: 1}\n"
     ]
    }
   ],
   "source": [
    "from collections import Counter\n",
    "lst = [15, 6, 7, 10, 12, 20, 10, 28, 10]\n",
    "d={}\n",
    "for i in lst:\n",
    "    if i in d:\n",
    "        d[i]=d[i]+1\n",
    "    else:\n",
    "        d[i]=1\n",
    "print(d)"
   ]
  },
  {
   "cell_type": "code",
   "execution_count": 12,
   "id": "f4392e8a",
   "metadata": {},
   "outputs": [
    {
     "name": "stdout",
     "output_type": "stream",
     "text": [
      "15\n",
      "6\n",
      "7\n",
      "10\n",
      "12\n",
      "20\n",
      "10\n",
      "28\n",
      "10\n",
      "3\n"
     ]
    }
   ],
   "source": [
    "lst = [15, 6, 7, 10, 12, 20, 10, 28, 10]\n",
    "x=10\n",
    "count=0\n",
    "for i in lst:\n",
    "    print(i)\n",
    "    if i == x:\n",
    "        count=count+1\n",
    "print(count)"
   ]
  },
  {
   "cell_type": "code",
   "execution_count": 13,
   "id": "f2fc594e",
   "metadata": {},
   "outputs": [
    {
     "name": "stdout",
     "output_type": "stream",
     "text": [
      "3\n"
     ]
    }
   ],
   "source": [
    "lst = [15, 6, 7, 10, 12, 20, 10, 28, 10]\n",
    "l=10\n",
    "v=lst.count(l)\n",
    "print(v)"
   ]
  },
  {
   "cell_type": "code",
   "execution_count": 19,
   "id": "194f6858",
   "metadata": {},
   "outputs": [
    {
     "name": "stdout",
     "output_type": "stream",
     "text": [
      "9 6\n"
     ]
    }
   ],
   "source": [
    "t1 = [2, -7, -5,-34,-55,3,4,2,45,2,4,2,4, -64, -14]\n",
    "pos=0\n",
    "neg=0\n",
    "for i in t1:\n",
    "    if i>0:\n",
    "        pos=pos+1\n",
    "    else:\n",
    "        neg=neg+1\n",
    "print(pos,neg)"
   ]
  },
  {
   "cell_type": "code",
   "execution_count": 22,
   "id": "ee7fbcf8",
   "metadata": {},
   "outputs": [
    {
     "name": "stdout",
     "output_type": "stream",
     "text": [
      "[5, 6, 3, 9]\n"
     ]
    }
   ],
   "source": [
    "list = [5, 6, [], 3, [], [], 9]\n",
    "lst=[]\n",
    "for i in list:\n",
    "    if i!=[]:\n",
    "        lst.append(i)\n",
    "print(lst)"
   ]
  },
  {
   "cell_type": "code",
   "execution_count": 42,
   "id": "d50cf6e4",
   "metadata": {},
   "outputs": [
    {
     "ename": "TypeError",
     "evalue": "unhashable type: 'list'",
     "output_type": "error",
     "traceback": [
      "\u001b[1;31m---------------------------------------------------------------------------\u001b[0m",
      "\u001b[1;31mTypeError\u001b[0m                                 Traceback (most recent call last)",
      "\u001b[1;32m~\\AppData\\Local\\Temp\\ipykernel_18604\\2517548713.py\u001b[0m in \u001b[0;36m<module>\u001b[1;34m\u001b[0m\n\u001b[0;32m      4\u001b[0m \u001b[0md\u001b[0m\u001b[1;33m=\u001b[0m\u001b[1;33m{\u001b[0m\u001b[1;33m}\u001b[0m\u001b[1;33m\u001b[0m\u001b[1;33m\u001b[0m\u001b[0m\n\u001b[0;32m      5\u001b[0m \u001b[1;32mfor\u001b[0m \u001b[0mi\u001b[0m \u001b[1;32min\u001b[0m \u001b[0mlst1\u001b[0m\u001b[1;33m:\u001b[0m\u001b[1;33m\u001b[0m\u001b[1;33m\u001b[0m\u001b[0m\n\u001b[1;32m----> 6\u001b[1;33m     \u001b[0md\u001b[0m\u001b[1;33m[\u001b[0m\u001b[0mi\u001b[0m\u001b[1;33m]\u001b[0m\u001b[1;33m=\u001b[0m\u001b[1;33m{\u001b[0m\u001b[0mlst\u001b[0m\u001b[1;33m}\u001b[0m\u001b[1;33m\u001b[0m\u001b[1;33m\u001b[0m\u001b[0m\n\u001b[0m\u001b[0;32m      7\u001b[0m \u001b[0mprint\u001b[0m\u001b[1;33m(\u001b[0m\u001b[0md\u001b[0m\u001b[1;33m)\u001b[0m\u001b[1;33m\u001b[0m\u001b[1;33m\u001b[0m\u001b[0m\n",
      "\u001b[1;31mTypeError\u001b[0m: unhashable type: 'list'"
     ]
    }
   ],
   "source": [
    "lst = ['Gfg', 3, 'is', 8]\n",
    "lst1 = ['name', 'id'] \n",
    "#  [{‘name’: ‘Gfg’, ‘id’: 3}, {‘name’: ‘is’, ‘id’: 8}] \n",
    "d={}\n"
   ]
  },
  {
   "cell_type": "code",
   "execution_count": 45,
   "id": "fecce052",
   "metadata": {},
   "outputs": [
    {
     "name": "stdout",
     "output_type": "stream",
     "text": [
      "[{'name': 'Gfg', 'number': 3}, {'name': 'is', 'number': 8}, {'name': 'Best', 'number': 10}, {'name': 'for', 'number': 18}, {'name': 'Geeks', 'number': 33}]\n"
     ]
    }
   ],
   "source": [
    "lst = [\"Gfg\", 3, \"is\", 8, \"Best\", 10, \"for\", 18, \"Geeks\", 33]\n",
    "t = [\"name\", \"number\"]\n",
    "res=[]\n",
    "for i in zip(lst[::2],lst[1::2]):\n",
    "    res.append({t[0]:i[0],t[1]:i[1]})\n",
    "print(res)"
   ]
  },
  {
   "cell_type": "code",
   "execution_count": 52,
   "id": "1893e74f",
   "metadata": {},
   "outputs": [
    {
     "name": "stdout",
     "output_type": "stream",
     "text": [
      "[[6, 4, 1], [8, 7], [10, 8, 4]]\n"
     ]
    }
   ],
   "source": [
    "lst = [[4, 1, 6], [7, 8], [4, 10, 8]]\n",
    "res=[]\n",
    "for i in lst:\n",
    "    i.sort(reverse=True)\n",
    "    res.append(i)\n",
    "print(res)"
   ]
  },
  {
   "cell_type": "code",
   "execution_count": 1,
   "id": "d7896301",
   "metadata": {},
   "outputs": [
    {
     "name": "stdout",
     "output_type": "stream",
     "text": [
      "[[[4, 6], [5, 6]], [[2, 5], [4, 5]], [[6, 5], [7, 5]]]\n"
     ]
    }
   ],
   "source": [
    "lst = [[4, 5, 6], [2, 4, 5], [6, 7, 5]]\n",
    "res=[]\n",
    "for i in lst:\n",
    "    temp=[]\n",
    "    for j in range(len(i)-1):\n",
    "        temp.append([i[j],i[-1]])\n",
    "    res.append(temp)\n",
    "print(res)"
   ]
  },
  {
   "cell_type": "code",
   "execution_count": 68,
   "id": "dcd0a8e9",
   "metadata": {},
   "outputs": [
    {
     "name": "stdout",
     "output_type": "stream",
     "text": [
      "[2, 8, 4] 3\n"
     ]
    }
   ],
   "source": [
    "lst = [1, 2, 2, 5, 8, 4, 4, 8]\n",
    "l1=[]\n",
    "count=0\n",
    "for i in lst:\n",
    "    if lst.count(i)>1 and i not in l1:\n",
    "        count=count+1\n",
    "        l1.append(i)\n",
    "print(l1,count)"
   ]
  },
  {
   "cell_type": "code",
   "execution_count": 70,
   "id": "6436834e",
   "metadata": {},
   "outputs": [
    {
     "name": "stdout",
     "output_type": "stream",
     "text": [
      "[1, 3, 5, 6]\n",
      "90\n"
     ]
    }
   ],
   "source": [
    "lst=[1, 3, 5, 6, 3, 5, 6, 1]\n",
    "l=[]\n",
    "for i in lst:\n",
    "    if i not in l:\n",
    "        l.append(i)\n",
    "print(l)\n",
    "prod=1\n",
    "for i in l:\n",
    "    prod=prod*i\n",
    "print(prod)"
   ]
  },
  {
   "cell_type": "code",
   "execution_count": 89,
   "id": "7fa2884e",
   "metadata": {},
   "outputs": [
    {
     "name": "stdout",
     "output_type": "stream",
     "text": [
      "[4, 6, 3]\n"
     ]
    }
   ],
   "source": [
    "lst = [4, 6, 4,6,6, 3, 3, 4, 3, 4, 3, 8]\n",
    "k = 2 \n",
    "l=[]\n",
    "for i in lst:\n",
    "    if lst.count(i)>k and i not in l:\n",
    "        l.append(i)\n",
    "print(l)"
   ]
  },
  {
   "cell_type": "code",
   "execution_count": 2,
   "id": "9fbc5c3c",
   "metadata": {},
   "outputs": [
    {
     "name": "stdout",
     "output_type": "stream",
     "text": [
      "[[5, 6], [5, 7]]\n"
     ]
    }
   ],
   "source": [
    "l1 = [ [1, 2], [3, 4], [5, 6] ]\n",
    "l2 = [ [3, 4], [5, 7], [1, 2] ]\n",
    "res=[]\n",
    "for i in l1:\n",
    "    if i not in l2:\n",
    "        res.append(i)\n",
    "for j in l2:\n",
    "    if j not in l1:\n",
    "        res.append(j)\n",
    "print(res)"
   ]
  },
  {
   "cell_type": "code",
   "execution_count": 21,
   "id": "e3b4a898",
   "metadata": {
    "scrolled": true
   },
   "outputs": [
    {
     "name": "stdout",
     "output_type": "stream",
     "text": [
      "[[1, 4, 6], [7, 8], [4, 8, 10]]\n"
     ]
    }
   ],
   "source": [
    "lst=[[4, 1, 6], [7, 8], [4, 10, 8]]\n",
    "s=[]\n",
    "for i in lst:\n",
    "    i.sort()\n",
    "    s.append(i)\n",
    "print(s)"
   ]
  },
  {
   "cell_type": "code",
   "execution_count": 18,
   "id": "d1a54bf4",
   "metadata": {},
   "outputs": [
    {
     "name": "stdout",
     "output_type": "stream",
     "text": [
      "[[[4, 6], [5, 6]], [[2, 5], [4, 5]], [[6, 5], [7, 5]]]\n"
     ]
    }
   ],
   "source": [
    "lst=[[4, 5, 6], [2, 4, 5], [6, 7, 5]]\n",
    "res=[]\n",
    "for i in lst:\n",
    "    temp=[]\n",
    "    for j in range(len(i)-1):\n",
    "        temp.append([i[j],i[-1]])\n",
    "    res.append(temp)\n",
    "print(res)"
   ]
  },
  {
   "cell_type": "code",
   "execution_count": 22,
   "id": "64ca02d2",
   "metadata": {},
   "outputs": [
    {
     "name": "stdout",
     "output_type": "stream",
     "text": [
      "[1, 5] 2\n"
     ]
    }
   ],
   "source": [
    "list = [1, 2, 2, 5, 8, 4, 4, 8]\n",
    "l=[]\n",
    "c=0\n",
    "for i in list:\n",
    "    if list.count(i)==1 and i not in l:\n",
    "        c=c+1\n",
    "        l.append(i)\n",
    "print(l,c)"
   ]
  },
  {
   "cell_type": "code",
   "execution_count": 25,
   "id": "0a6376dd",
   "metadata": {},
   "outputs": [
    {
     "name": "stdout",
     "output_type": "stream",
     "text": [
      "[1, 3, 5, 6]\n",
      "90\n"
     ]
    }
   ],
   "source": [
    "lst = [1, 3, 5, 6, 3, 5, 6, 1]\n",
    "s=[]\n",
    "for i in lst:\n",
    "    if i not in s:\n",
    "        s.append(i)\n",
    "print(s)\n",
    "l=1\n",
    "for i in s:\n",
    "    l=l*i\n",
    "print(l)"
   ]
  },
  {
   "cell_type": "code",
   "execution_count": 35,
   "id": "3403971c",
   "metadata": {},
   "outputs": [
    {
     "name": "stdout",
     "output_type": "stream",
     "text": [
      "[('a', 1), ('b', 2)]\n"
     ]
    }
   ],
   "source": [
    "lst1=[\"a\",\"b\"]\n",
    "lst2=[1,2]\n",
    "l=[]\n",
    "for k,v in zip(lst1,lst2):\n",
    "    l.append((k,v))\n",
    "print(l)"
   ]
  },
  {
   "cell_type": "code",
   "execution_count": null,
   "id": "63e527bc",
   "metadata": {},
   "outputs": [],
   "source": [
    "lst = [(4, 5, 5, 4), (5, 4, 3)]\n",
    "k=5\n",
    "n=2\n",
    "res=[]\n",
    "for i in lst:\n",
    "    if i.count(k)==n:\n",
    "        i.append(lst)\n",
    "print()      "
   ]
  },
  {
   "cell_type": "code",
   "execution_count": 8,
   "id": "ec1de6de",
   "metadata": {},
   "outputs": [
    {
     "name": "stdout",
     "output_type": "stream",
     "text": [
      "[2, 3, 4, 5, 2]\n"
     ]
    }
   ],
   "source": [
    "l=[1, 1, 2, 3, 4, 5, 1, 2]\n",
    "# output=[23452]\n",
    "l1=[]\n",
    "for i in l:\n",
    "    if i!=1:\n",
    "        l1.append(i)\n",
    "print(l1)"
   ]
  },
  {
   "cell_type": "code",
   "execution_count": 19,
   "id": "304db83a",
   "metadata": {},
   "outputs": [
    {
     "name": "stdout",
     "output_type": "stream",
     "text": [
      "[(5, 5, 6, 9)]\n"
     ]
    }
   ],
   "source": [
    "lst=[(4, 5, 6, 3), (5, 5, 6, 9), (1, 3, 5, 6), (6, 6, 7, 8)]\n",
    "k=5\n",
    "l=[]\n",
    "for i in range(len(lst)):\n",
    "    if lst[i].count(k)>1:\n",
    "        l.append(lst[i])\n",
    "print(l)"
   ]
  },
  {
   "cell_type": "code",
   "execution_count": 27,
   "id": "ab5bc62f",
   "metadata": {},
   "outputs": [
    {
     "name": "stdout",
     "output_type": "stream",
     "text": [
      "[(4, 5, 6, 3), (1, 3, 5, 6), (6, 6, 7, 8)]\n"
     ]
    }
   ],
   "source": [
    "lst = [(4, 5, 6, 3), (5, 5, 6, 9), (1, 3, 5, 6), (6, 6, 7, 8)]\n",
    "l=[]\n",
    "k=5\n",
    "for i in lst:\n",
    "    skip=False\n",
    "    for j in range(len(i)-1):\n",
    "        if i[j]==k and i[j+1]==k:\n",
    "           skip=True\n",
    "           break\n",
    "    if not skip:\n",
    "        l.append(i)\n",
    "print(l)"
   ]
  },
  {
   "cell_type": "code",
   "execution_count": 31,
   "id": "40ba56b5",
   "metadata": {},
   "outputs": [
    {
     "name": "stdout",
     "output_type": "stream",
     "text": [
      "[(4, 5, 6, 4, 3), (3, 4, 9)]\n"
     ]
    }
   ],
   "source": [
    "lst = [(4, 5, 6, 4, 3), (4, 4, 0), (4, 0, 4), (3, 4, 9)]\n",
    "k=3\n",
    "n=1\n",
    "l1=[]\n",
    "for i in lst:\n",
    "    if i.count(k)==n:\n",
    "        l1.append(i)\n",
    "print(l1)"
   ]
  },
  {
   "cell_type": "code",
   "execution_count": 49,
   "id": "3a628195",
   "metadata": {},
   "outputs": [
    {
     "name": "stdout",
     "output_type": "stream",
     "text": [
      "1\n",
      "7\n",
      "3\n",
      "yes\n"
     ]
    }
   ],
   "source": [
    "n=371\n",
    "temp=n\n",
    "s=0\n",
    "while(n>0):\n",
    "    res=n%10\n",
    "    print(res)\n",
    "    rev=res**3\n",
    "    s=s+rev\n",
    "    print(s)\n",
    "    n=n//10\n",
    "if temp==s:\n",
    "    print('yes')\n",
    "else:\n",
    "    print('not')"
   ]
  },
  {
   "cell_type": "code",
   "execution_count": null,
   "id": "fdb8b6e6",
   "metadata": {},
   "outputs": [],
   "source": [
    "n=int(input('enter a number:'))\n",
    "temp=n\n",
    "s=0\n",
    "for i in range(n):\n",
    "    r=n%10\n",
    "    rev=r**3\n",
    "    s=s+rev\n",
    "    n=n//10\n",
    "print(s)"
   ]
  },
  {
   "cell_type": "code",
   "execution_count": null,
   "id": "a2cf751f",
   "metadata": {},
   "outputs": [],
   "source": [
    "s=\"geeks quiz practice code\"\n",
    "s=s.split()\n",
    "print(s)"
   ]
  },
  {
   "cell_type": "code",
   "execution_count": null,
   "id": "6d0440d0",
   "metadata": {},
   "outputs": [],
   "source": [
    "lst = [[4, 5, 6], [2, 4, 5], [6, 7, 5]]\n",
    "for i in lst:\n",
    "    i.sort()\n",
    "    lst.append(i)\n",
    "print(lst)"
   ]
  },
  {
   "cell_type": "code",
   "execution_count": 5,
   "id": "8e0eb919",
   "metadata": {},
   "outputs": [
    {
     "name": "stdout",
     "output_type": "stream",
     "text": [
      "enter a number:4\n",
      " * ** *** **** \n"
     ]
    }
   ],
   "source": [
    "n=int(input('enter a number:'))\n",
    "x=''\n",
    "for i in range(n+1):\n",
    "    x=x+'*'*i+' '\n",
    "print(x)"
   ]
  },
  {
   "cell_type": "code",
   "execution_count": 8,
   "id": "7c9eff9f",
   "metadata": {},
   "outputs": [
    {
     "name": "stdout",
     "output_type": "stream",
     "text": [
      "enter a number:5\n",
      "1\n",
      "2\n",
      "3\n",
      "4\n",
      "5\n",
      "6\n",
      "7\n",
      "five\n"
     ]
    }
   ],
   "source": [
    "n=int(input('enter a number:'))\n",
    "res=[]\n",
    "dict1={1:'one',2:'two',3:'three',4:'four',5:'five',6:'six',7:'seven'}\n",
    "for i in dict1:\n",
    "    print(i)\n",
    "    v=dict1[n]\n",
    "print(v)"
   ]
  },
  {
   "cell_type": "code",
   "execution_count": 11,
   "id": "e2304bfa",
   "metadata": {},
   "outputs": [
    {
     "name": "stdout",
     "output_type": "stream",
     "text": [
      "enter a number:10\n",
      "1\n",
      "1\n",
      "2\n",
      "3\n",
      "5\n",
      "8\n"
     ]
    }
   ],
   "source": [
    "n=int(input('enter a number:'))\n",
    "a=0\n",
    "b=0\n",
    "c=1\n",
    "while(c<n):\n",
    "    print(c)\n",
    "    a=b\n",
    "    b=c\n",
    "    c=a+b"
   ]
  },
  {
   "cell_type": "code",
   "execution_count": 15,
   "id": "fcea6ab6",
   "metadata": {},
   "outputs": [
    {
     "name": "stdout",
     "output_type": "stream",
     "text": [
      "enter a number:7\n",
      "1\n",
      "1\n",
      "2\n",
      "3\n",
      "5\n"
     ]
    }
   ],
   "source": [
    "n=int(input('enter a number:'))\n",
    "a=0\n",
    "b=0\n",
    "c=1\n",
    "for i in range(n):\n",
    "    if c<n:\n",
    "        print(c)\n",
    "        a=b\n",
    "        b=c\n",
    "        c=a+b"
   ]
  },
  {
   "cell_type": "code",
   "execution_count": 34,
   "id": "c567a5c1",
   "metadata": {},
   "outputs": [
    {
     "name": "stdout",
     "output_type": "stream",
     "text": [
      "{'a': 2, 'b': 2, 'c': 3, 'd': 2, 'e': 2, 'f': 3}\n"
     ]
    }
   ],
   "source": [
    "s='aabbcccdeesdfghjkff'\n",
    "d={}\n",
    "for i in s:\n",
    "    if i in d:\n",
    "        d[i]=d[i]+1\n",
    "    else:\n",
    "        d[i]=1\n",
    "# print(d)\n",
    "dd={}\n",
    "for k,v in d.items():\n",
    "#     print(k,v)\n",
    "    if v>1:\n",
    "        dd[k]=v\n",
    "print(dd)"
   ]
  },
  {
   "cell_type": "code",
   "execution_count": 35,
   "id": "967d36dd",
   "metadata": {},
   "outputs": [
    {
     "name": "stdout",
     "output_type": "stream",
     "text": [
      "{'abc': 4}\n"
     ]
    }
   ],
   "source": [
    "s='abcabcbdessdabcabc'\n",
    "target='abc'\n",
    "dd={}\n",
    "for i in range(len(s)):\n",
    "    for j in range(len(s)+1):\n",
    "        v=s[i:j]\n",
    "        if v==target:\n",
    "            if target in dd:\n",
    "                dd[target]=dd[target]+1\n",
    "            else:\n",
    "                dd[target]=1\n",
    "print(dd)"
   ]
  },
  {
   "cell_type": "code",
   "execution_count": 40,
   "id": "6d3ffec2",
   "metadata": {},
   "outputs": [
    {
     "name": "stdout",
     "output_type": "stream",
     "text": [
      "1a1b2c1d2s1b2c2b2a\n"
     ]
    }
   ],
   "source": [
    "s='abccdssbccbbaa'\n",
    "prev=s[0]\n",
    "count=1\n",
    "ss=''\n",
    "for i in range(1,len(s)):\n",
    "    if s[i]==prev:\n",
    "        count=count+1\n",
    "    else:\n",
    "        ss=ss+str(count)+prev\n",
    "        count=1\n",
    "        prev=s[i]\n",
    "ss=ss+str(count)+prev\n",
    "print(ss)"
   ]
  },
  {
   "cell_type": "code",
   "execution_count": 41,
   "id": "c2e85861",
   "metadata": {},
   "outputs": [
    {
     "name": "stdout",
     "output_type": "stream",
     "text": [
      "1a1b2c1d2s1b2c2b2a\n"
     ]
    }
   ],
   "source": [
    "s='abccdssbccbbaa'\n",
    "c=1\n",
    "ss=''\n",
    "for i in range(len(s)-1):\n",
    "    if s[i]==s[i+1]:\n",
    "        c=c+1\n",
    "    else:\n",
    "        ss=ss+str(c)+s[i]\n",
    "        c=1\n",
    "ss=ss+str(c)+s[i]\n",
    "print(ss)"
   ]
  },
  {
   "cell_type": "code",
   "execution_count": 2,
   "id": "7222ce41",
   "metadata": {},
   "outputs": [
    {
     "data": {
      "text/plain": [
       "0    22\n",
       "1    35\n",
       "2    58\n",
       "Name: Age, dtype: int64"
      ]
     },
     "execution_count": 2,
     "metadata": {},
     "output_type": "execute_result"
    }
   ],
   "source": [
    "import pandas as pd\n",
    "ages = pd.Series([22, 35, 58], name=\"Age\")\n",
    "ages"
   ]
  },
  {
   "cell_type": "code",
   "execution_count": 8,
   "id": "2de01a5b",
   "metadata": {},
   "outputs": [
    {
     "data": {
      "text/plain": [
       "count     3.000000\n",
       "mean     38.333333\n",
       "std      18.230012\n",
       "min      22.000000\n",
       "25%      28.500000\n",
       "50%      35.000000\n",
       "75%      46.500000\n",
       "max      58.000000\n",
       "Name: Age, dtype: float64"
      ]
     },
     "execution_count": 8,
     "metadata": {},
     "output_type": "execute_result"
    }
   ],
   "source": [
    "ages.describe()"
   ]
  },
  {
   "cell_type": "code",
   "execution_count": 9,
   "id": "bc9a8774",
   "metadata": {},
   "outputs": [
    {
     "name": "stdout",
     "output_type": "stream",
     "text": [
      "<class 'pandas.core.series.Series'>\n",
      "RangeIndex: 3 entries, 0 to 2\n",
      "Series name: Age\n",
      "Non-Null Count  Dtype\n",
      "--------------  -----\n",
      "3 non-null      int64\n",
      "dtypes: int64(1)\n",
      "memory usage: 152.0 bytes\n"
     ]
    }
   ],
   "source": [
    "ages.info()"
   ]
  },
  {
   "cell_type": "code",
   "execution_count": 10,
   "id": "36dcb05a",
   "metadata": {},
   "outputs": [],
   "source": [
    "ages.to_csv('ff.csv')"
   ]
  },
  {
   "cell_type": "code",
   "execution_count": 11,
   "id": "1e5dd4cf",
   "metadata": {},
   "outputs": [
    {
     "name": "stdout",
     "output_type": "stream",
     "text": [
      "C:\\Users\\shivam kumar gupta\n"
     ]
    }
   ],
   "source": [
    "import os\n",
    "print(os.getcwd())"
   ]
  },
  {
   "cell_type": "code",
   "execution_count": null,
   "id": "cbff517e",
   "metadata": {},
   "outputs": [],
   "source": []
  },
  {
   "cell_type": "code",
   "execution_count": 13,
   "id": "4aa9331d",
   "metadata": {},
   "outputs": [
    {
     "data": {
      "text/html": [
       "<div>\n",
       "<style scoped>\n",
       "    .dataframe tbody tr th:only-of-type {\n",
       "        vertical-align: middle;\n",
       "    }\n",
       "\n",
       "    .dataframe tbody tr th {\n",
       "        vertical-align: top;\n",
       "    }\n",
       "\n",
       "    .dataframe thead th {\n",
       "        text-align: right;\n",
       "    }\n",
       "</style>\n",
       "<table border=\"1\" class=\"dataframe\">\n",
       "  <thead>\n",
       "    <tr style=\"text-align: right;\">\n",
       "      <th></th>\n",
       "      <th>Unnamed: 0</th>\n",
       "      <th>Age</th>\n",
       "    </tr>\n",
       "  </thead>\n",
       "  <tbody>\n",
       "    <tr>\n",
       "      <th>0</th>\n",
       "      <td>0</td>\n",
       "      <td>22</td>\n",
       "    </tr>\n",
       "    <tr>\n",
       "      <th>1</th>\n",
       "      <td>1</td>\n",
       "      <td>35</td>\n",
       "    </tr>\n",
       "    <tr>\n",
       "      <th>2</th>\n",
       "      <td>2</td>\n",
       "      <td>58</td>\n",
       "    </tr>\n",
       "  </tbody>\n",
       "</table>\n",
       "</div>"
      ],
      "text/plain": [
       "   Unnamed: 0  Age\n",
       "0           0   22\n",
       "1           1   35\n",
       "2           2   58"
      ]
     },
     "execution_count": 13,
     "metadata": {},
     "output_type": "execute_result"
    }
   ],
   "source": [
    "data=pd.read_csv('C:\\\\Users\\\\shivam kumar gupta\\\\ff.csv')\n",
    "data"
   ]
  },
  {
   "cell_type": "code",
   "execution_count": 17,
   "id": "b439a177",
   "metadata": {},
   "outputs": [
    {
     "data": {
      "text/html": [
       "<div>\n",
       "<style scoped>\n",
       "    .dataframe tbody tr th:only-of-type {\n",
       "        vertical-align: middle;\n",
       "    }\n",
       "\n",
       "    .dataframe tbody tr th {\n",
       "        vertical-align: top;\n",
       "    }\n",
       "\n",
       "    .dataframe thead th {\n",
       "        text-align: right;\n",
       "    }\n",
       "</style>\n",
       "<table border=\"1\" class=\"dataframe\">\n",
       "  <thead>\n",
       "    <tr style=\"text-align: right;\">\n",
       "      <th></th>\n",
       "      <th>Unnamed: 0</th>\n",
       "      <th>Age</th>\n",
       "    </tr>\n",
       "  </thead>\n",
       "  <tbody>\n",
       "    <tr>\n",
       "      <th>0</th>\n",
       "      <td>0</td>\n",
       "      <td>22</td>\n",
       "    </tr>\n",
       "    <tr>\n",
       "      <th>1</th>\n",
       "      <td>1</td>\n",
       "      <td>35</td>\n",
       "    </tr>\n",
       "  </tbody>\n",
       "</table>\n",
       "</div>"
      ],
      "text/plain": [
       "   Unnamed: 0  Age\n",
       "0           0   22\n",
       "1           1   35"
      ]
     },
     "execution_count": 17,
     "metadata": {},
     "output_type": "execute_result"
    }
   ],
   "source": [
    "data.head(2)"
   ]
  },
  {
   "cell_type": "code",
   "execution_count": 21,
   "id": "4b741da4",
   "metadata": {},
   "outputs": [
    {
     "data": {
      "text/plain": [
       "(3,)"
      ]
     },
     "execution_count": 21,
     "metadata": {},
     "output_type": "execute_result"
    }
   ],
   "source": [
    "data['Age'].shape"
   ]
  },
  {
   "cell_type": "code",
   "execution_count": 23,
   "id": "12e69e02",
   "metadata": {},
   "outputs": [
    {
     "data": {
      "text/html": [
       "<div>\n",
       "<style scoped>\n",
       "    .dataframe tbody tr th:only-of-type {\n",
       "        vertical-align: middle;\n",
       "    }\n",
       "\n",
       "    .dataframe tbody tr th {\n",
       "        vertical-align: top;\n",
       "    }\n",
       "\n",
       "    .dataframe thead th {\n",
       "        text-align: right;\n",
       "    }\n",
       "</style>\n",
       "<table border=\"1\" class=\"dataframe\">\n",
       "  <thead>\n",
       "    <tr style=\"text-align: right;\">\n",
       "      <th></th>\n",
       "      <th>Age</th>\n",
       "    </tr>\n",
       "  </thead>\n",
       "  <tbody>\n",
       "    <tr>\n",
       "      <th>0</th>\n",
       "      <td>22</td>\n",
       "    </tr>\n",
       "    <tr>\n",
       "      <th>1</th>\n",
       "      <td>35</td>\n",
       "    </tr>\n",
       "    <tr>\n",
       "      <th>2</th>\n",
       "      <td>58</td>\n",
       "    </tr>\n",
       "  </tbody>\n",
       "</table>\n",
       "</div>"
      ],
      "text/plain": [
       "   Age\n",
       "0   22\n",
       "1   35\n",
       "2   58"
      ]
     },
     "execution_count": 23,
     "metadata": {},
     "output_type": "execute_result"
    }
   ],
   "source": [
    "agex=data[['Age']]\n",
    "agex"
   ]
  },
  {
   "cell_type": "code",
   "execution_count": 118,
   "id": "75f9b6e4",
   "metadata": {},
   "outputs": [
    {
     "data": {
      "image/png": "[encoded data removed]",
      "text/plain": [
       "<Figure size 640x480 with 1 Axes>"
      ]
     },
     "metadata": {},
     "output_type": "display_data"
    }
   ],
   "source": [
    "import matplotlib.pyplot as plt\n",
    "x=['python','java','c','c++']\n",
    "y=[60,30,40,50]\n",
    "plt.xlabel('languages')\n",
    "plt.ylabel('ranking system')\n",
    "plt.title('bar plot')\n",
    "c=['r','g','b','y']\n",
    "plt.bar(x,y,width=0.4,color=c,edgecolor='black',linestyle='-',alpha=0.9,label='wscubetech')\n",
    "plt.legend()\n",
    "plt.show()"
   ]
  },
  {
   "cell_type": "code",
   "execution_count": 42,
   "id": "8167fd75",
   "metadata": {},
   "outputs": [
    {
     "data": {
      "image/png": "[encoded data removed]",
      "text/plain": [
       "<Figure size 640x480 with 2 Axes>"
      ]
     },
     "metadata": {},
     "output_type": "display_data"
    }
   ],
   "source": [
    "x=[1,2,34,4,5,56]\n",
    "y=[10,20,30,40,5,16]\n",
    "sizes=[100,200,50,60,89,230]\n",
    "colors=['r','g','b','black','pink','m']\n",
    "plt.scatter(x,y,s=sizes,c=colors,edgecolor='g',cmap='viridis')\n",
    "plt.colorbar()\n",
    "plt.show()"
   ]
  },
  {
   "cell_type": "code",
   "execution_count": 83,
   "id": "03eecdc3",
   "metadata": {},
   "outputs": [
    {
     "data": {
      "image/png": "[encoded data removed]",
      "text/plain": [
       "<Figure size 640x480 with 1 Axes>"
      ]
     },
     "metadata": {},
     "output_type": "display_data"
    }
   ],
   "source": [
    "import numpy as np\n",
    "import random\n",
    "x=np.random.randint(10,60,50)\n",
    "l=[23,45,67,78,45,67]\n",
    "plt.hist(x,edgecolor='r',align='mid',histtype='step',orientation='vertical',rwidth=0.8,log=True,label='python')\n",
    "plt.legend()\n",
    "plt.title('wscubetech')\n",
    "plt.xlabel('python')\n",
    "plt.ylabel('rank')\n",
    "plt.show()"
   ]
  },
  {
   "cell_type": "code",
   "execution_count": 136,
   "id": "df353ce2",
   "metadata": {},
   "outputs": [
    {
     "data": {
      "image/png": "[encoded data removed]",
      "text/plain": [
       "<Figure size 640x480 with 1 Axes>"
      ]
     },
     "metadata": {},
     "output_type": "display_data"
    }
   ],
   "source": [
    "x=[10,20,30,40,50]\n",
    "y=['python','java','c','c++','R']\n",
    "ex=[0,0,0.2,0,0]\n",
    "c=['r','b','g','y','m']\n",
    "plt.pie(x,labels=y,explode=ex,colors=c,autopct='% 0.2f %%',shadow=False,radius=1,startangle=1,textprops={'fontsize':10},counterclock=False,center=(1,3))\n",
    "plt.show()"
   ]
  },
  {
   "cell_type": "code",
   "execution_count": 146,
   "id": "3c07943f",
   "metadata": {},
   "outputs": [
    {
     "data": {
      "image/png": "[encoded data removed]",
      "text/plain": [
       "<Figure size 640x480 with 1 Axes>"
      ]
     },
     "metadata": {},
     "output_type": "display_data"
    }
   ],
   "source": [
    "x=[1,2,3,4,5,6,3,5,56]\n",
    "y=[2,3,4,6,3,6,34,56,45]\n",
    "plt.stem(x,y,linefmt=':',bottom=2,orientation='horizontal')\n",
    "plt.show()"
   ]
  },
  {
   "cell_type": "code",
   "execution_count": 163,
   "id": "2eb497dc",
   "metadata": {},
   "outputs": [
    {
     "data": {
      "image/png": "[encoded data removed]",
      "text/plain": [
       "<Figure size 640x480 with 1 Axes>"
      ]
     },
     "metadata": {},
     "output_type": "display_data"
    }
   ],
   "source": [
    "x=[10,20,40,4,30,45,67,89]\n",
    "plt.boxplot(x,notch=False,vert=False,showmeans=True,whis=20,sym='g+',boxprops=dict(color='b'))\n",
    "plt.show()"
   ]
  },
  {
   "cell_type": "code",
   "execution_count": 172,
   "id": "203b2b8e",
   "metadata": {},
   "outputs": [
    {
     "name": "stderr",
     "output_type": "stream",
     "text": [
      "No artists with labels found to put in legend.  Note that artists whose label start with an underscore are ignored when legend() is called with no argument.\n"
     ]
    },
    {
     "data": {
      "image/png": "[encoded data removed]",
      "text/plain": [
       "<Figure size 640x480 with 1 Axes>"
      ]
     },
     "metadata": {},
     "output_type": "display_data"
    }
   ],
   "source": [
    "x=[12,34,56,7,7,34,78,34]\n",
    "area=[1,2,3,4,5,6,5,7]\n",
    "area1=[23,45,7,9,90,12,4,45]\n",
    "plt.stackplot(x,area,area1,color=['r','g','m'],baseline='wiggle')\n",
    "plt.legend()\n",
    "plt.show()"
   ]
  },
  {
   "cell_type": "code",
   "execution_count": 182,
   "id": "96476f05",
   "metadata": {},
   "outputs": [
    {
     "data": {
      "image/png": "[encoded data removed]",
      "text/plain": [
       "<Figure size 640x480 with 1 Axes>"
      ]
     },
     "metadata": {},
     "output_type": "display_data"
    }
   ],
   "source": [
    "x=[1,2,3,4,5]\n",
    "y=[10,20,30,40,50]\n",
    "plt.step(x,y,color='r',marker='*',ms=20,mfc='g',label='python')\n",
    "plt.legend()\n",
    "plt.show()"
   ]
  },
  {
   "cell_type": "code",
   "execution_count": 185,
   "id": "5533bc7c",
   "metadata": {},
   "outputs": [
    {
     "data": {
      "text/plain": [
       "[<matplotlib.lines.Line2D at 0x1f37c9f3c10>]"
      ]
     },
     "execution_count": 185,
     "metadata": {},
     "output_type": "execute_result"
    },
    {
     "data": {
      "image/png": "[encoded data removed]",
      "text/plain": [
       "<Figure size 640x480 with 1 Axes>"
      ]
     },
     "metadata": {},
     "output_type": "display_data"
    }
   ],
   "source": [
    "x=[1,2,3,4,5]\n",
    "y=[10,20,30,40,5]\n",
    "plt.plot(x,y,color='r',alpha=0.5,)"
   ]
  },
  {
   "cell_type": "code",
   "execution_count": 194,
   "id": "48498561",
   "metadata": {},
   "outputs": [
    {
     "data": {
      "image/png": "[encoded data removed]",
      "text/plain": [
       "<Figure size 640x480 with 3 Axes>"
      ]
     },
     "metadata": {},
     "output_type": "display_data"
    }
   ],
   "source": [
    "a=[1,2,3,4,45]\n",
    "b=[12,34,23,56,30]\n",
    "plt.subplot(2,2,1)\n",
    "plt.plot(a,b)\n",
    "plt.subplot(2,2,2)\n",
    "\n",
    "x1=['a','b','c']\n",
    "y1=[10,20,30]\n",
    "plt.subplot(2,2,3)\n",
    "plt.pie(y1,labels=x1)\n",
    "plt.show()"
   ]
  },
  {
   "cell_type": "code",
   "execution_count": 1,
   "id": "33c7b1a7",
   "metadata": {},
   "outputs": [],
   "source": [
    "import pandas as pd"
   ]
  },
  {
   "cell_type": "code",
   "execution_count": 4,
   "id": "1ec2a83d",
   "metadata": {},
   "outputs": [
    {
     "data": {
      "text/html": [
       "<div>\n",
       "<style scoped>\n",
       "    .dataframe tbody tr th:only-of-type {\n",
       "        vertical-align: middle;\n",
       "    }\n",
       "\n",
       "    .dataframe tbody tr th {\n",
       "        vertical-align: top;\n",
       "    }\n",
       "\n",
       "    .dataframe thead th {\n",
       "        text-align: right;\n",
       "    }\n",
       "</style>\n",
       "<table border=\"1\" class=\"dataframe\">\n",
       "  <thead>\n",
       "    <tr style=\"text-align: right;\">\n",
       "      <th></th>\n",
       "      <th>Date</th>\n",
       "      <th>Open</th>\n",
       "      <th>High</th>\n",
       "      <th>Low</th>\n",
       "      <th>Close</th>\n",
       "      <th>Adj Close</th>\n",
       "      <th>Volume</th>\n",
       "    </tr>\n",
       "  </thead>\n",
       "  <tbody>\n",
       "    <tr>\n",
       "      <th>0</th>\n",
       "      <td>1997-05-15</td>\n",
       "      <td>2.437500</td>\n",
       "      <td>2.500000</td>\n",
       "      <td>1.927083</td>\n",
       "      <td>1.958333</td>\n",
       "      <td>1.958333</td>\n",
       "      <td>72156000</td>\n",
       "    </tr>\n",
       "    <tr>\n",
       "      <th>1</th>\n",
       "      <td>1997-05-16</td>\n",
       "      <td>1.968750</td>\n",
       "      <td>1.979167</td>\n",
       "      <td>1.708333</td>\n",
       "      <td>1.729167</td>\n",
       "      <td>1.729167</td>\n",
       "      <td>14700000</td>\n",
       "    </tr>\n",
       "    <tr>\n",
       "      <th>2</th>\n",
       "      <td>1997-05-19</td>\n",
       "      <td>1.760417</td>\n",
       "      <td>1.770833</td>\n",
       "      <td>1.625000</td>\n",
       "      <td>1.708333</td>\n",
       "      <td>1.708333</td>\n",
       "      <td>6106800</td>\n",
       "    </tr>\n",
       "    <tr>\n",
       "      <th>3</th>\n",
       "      <td>1997-05-20</td>\n",
       "      <td>1.729167</td>\n",
       "      <td>1.750000</td>\n",
       "      <td>1.635417</td>\n",
       "      <td>1.635417</td>\n",
       "      <td>1.635417</td>\n",
       "      <td>5467200</td>\n",
       "    </tr>\n",
       "    <tr>\n",
       "      <th>4</th>\n",
       "      <td>1997-05-21</td>\n",
       "      <td>1.635417</td>\n",
       "      <td>1.645833</td>\n",
       "      <td>1.375000</td>\n",
       "      <td>1.427083</td>\n",
       "      <td>1.427083</td>\n",
       "      <td>18853200</td>\n",
       "    </tr>\n",
       "    <tr>\n",
       "      <th>...</th>\n",
       "      <td>...</td>\n",
       "      <td>...</td>\n",
       "      <td>...</td>\n",
       "      <td>...</td>\n",
       "      <td>...</td>\n",
       "      <td>...</td>\n",
       "      <td>...</td>\n",
       "    </tr>\n",
       "    <tr>\n",
       "      <th>6292</th>\n",
       "      <td>2022-05-16</td>\n",
       "      <td>2262.000000</td>\n",
       "      <td>2279.850098</td>\n",
       "      <td>2207.080078</td>\n",
       "      <td>2216.209961</td>\n",
       "      <td>2216.209961</td>\n",
       "      <td>3728300</td>\n",
       "    </tr>\n",
       "    <tr>\n",
       "      <th>6293</th>\n",
       "      <td>2022-05-17</td>\n",
       "      <td>2265.500000</td>\n",
       "      <td>2316.000000</td>\n",
       "      <td>2225.530029</td>\n",
       "      <td>2307.370117</td>\n",
       "      <td>2307.370117</td>\n",
       "      <td>3822400</td>\n",
       "    </tr>\n",
       "    <tr>\n",
       "      <th>6294</th>\n",
       "      <td>2022-05-18</td>\n",
       "      <td>2228.790039</td>\n",
       "      <td>2257.060059</td>\n",
       "      <td>2124.979980</td>\n",
       "      <td>2142.250000</td>\n",
       "      <td>2142.250000</td>\n",
       "      <td>5419000</td>\n",
       "    </tr>\n",
       "    <tr>\n",
       "      <th>6295</th>\n",
       "      <td>2022-05-19</td>\n",
       "      <td>2125.610107</td>\n",
       "      <td>2200.679932</td>\n",
       "      <td>2123.860107</td>\n",
       "      <td>2146.379883</td>\n",
       "      <td>2146.379883</td>\n",
       "      <td>4407100</td>\n",
       "    </tr>\n",
       "    <tr>\n",
       "      <th>6296</th>\n",
       "      <td>2022-05-20</td>\n",
       "      <td>2191.370117</td>\n",
       "      <td>2197.959961</td>\n",
       "      <td>2100.189941</td>\n",
       "      <td>2151.820068</td>\n",
       "      <td>2151.820068</td>\n",
       "      <td>4968200</td>\n",
       "    </tr>\n",
       "  </tbody>\n",
       "</table>\n",
       "<p>6297 rows × 7 columns</p>\n",
       "</div>"
      ],
      "text/plain": [
       "            Date         Open         High          Low        Close  \\\n",
       "0     1997-05-15     2.437500     2.500000     1.927083     1.958333   \n",
       "1     1997-05-16     1.968750     1.979167     1.708333     1.729167   \n",
       "2     1997-05-19     1.760417     1.770833     1.625000     1.708333   \n",
       "3     1997-05-20     1.729167     1.750000     1.635417     1.635417   \n",
       "4     1997-05-21     1.635417     1.645833     1.375000     1.427083   \n",
       "...          ...          ...          ...          ...          ...   \n",
       "6292  2022-05-16  2262.000000  2279.850098  2207.080078  2216.209961   \n",
       "6293  2022-05-17  2265.500000  2316.000000  2225.530029  2307.370117   \n",
       "6294  2022-05-18  2228.790039  2257.060059  2124.979980  2142.250000   \n",
       "6295  2022-05-19  2125.610107  2200.679932  2123.860107  2146.379883   \n",
       "6296  2022-05-20  2191.370117  2197.959961  2100.189941  2151.820068   \n",
       "\n",
       "        Adj Close    Volume  \n",
       "0        1.958333  72156000  \n",
       "1        1.729167  14700000  \n",
       "2        1.708333   6106800  \n",
       "3        1.635417   5467200  \n",
       "4        1.427083  18853200  \n",
       "...           ...       ...  \n",
       "6292  2216.209961   3728300  \n",
       "6293  2307.370117   3822400  \n",
       "6294  2142.250000   5419000  \n",
       "6295  2146.379883   4407100  \n",
       "6296  2151.820068   4968200  \n",
       "\n",
       "[6297 rows x 7 columns]"
      ]
     },
     "execution_count": 4,
     "metadata": {},
     "output_type": "execute_result"
    }
   ],
   "source": [
    "data=pd.read_csv('C:\\\\Users\\\\shivam kumar gupta\\\\Downloads\\\\Amazon.csv')\n",
    "data"
   ]
  },
  {
   "cell_type": "code",
   "execution_count": 5,
   "id": "bb9ac2c2",
   "metadata": {},
   "outputs": [
    {
     "name": "stdout",
     "output_type": "stream",
     "text": [
      "<class 'pandas.core.frame.DataFrame'>\n",
      "RangeIndex: 6297 entries, 0 to 6296\n",
      "Data columns (total 7 columns):\n",
      " #   Column     Non-Null Count  Dtype  \n",
      "---  ------     --------------  -----  \n",
      " 0   Date       6297 non-null   object \n",
      " 1   Open       6297 non-null   float64\n",
      " 2   High       6297 non-null   float64\n",
      " 3   Low        6297 non-null   float64\n",
      " 4   Close      6297 non-null   float64\n",
      " 5   Adj Close  6297 non-null   float64\n",
      " 6   Volume     6297 non-null   int64  \n",
      "dtypes: float64(5), int64(1), object(1)\n",
      "memory usage: 344.5+ KB\n"
     ]
    }
   ],
   "source": [
    "data.info()"
   ]
  },
  {
   "cell_type": "code",
   "execution_count": 6,
   "id": "12b2678d",
   "metadata": {},
   "outputs": [],
   "source": [
    "data['Open']=data['Open'].astype('float32')"
   ]
  },
  {
   "cell_type": "code",
   "execution_count": 7,
   "id": "14fa14cc",
   "metadata": {},
   "outputs": [
    {
     "name": "stdout",
     "output_type": "stream",
     "text": [
      "<class 'pandas.core.frame.DataFrame'>\n",
      "RangeIndex: 6297 entries, 0 to 6296\n",
      "Data columns (total 7 columns):\n",
      " #   Column     Non-Null Count  Dtype  \n",
      "---  ------     --------------  -----  \n",
      " 0   Date       6297 non-null   object \n",
      " 1   Open       6297 non-null   float32\n",
      " 2   High       6297 non-null   float64\n",
      " 3   Low        6297 non-null   float64\n",
      " 4   Close      6297 non-null   float64\n",
      " 5   Adj Close  6297 non-null   float64\n",
      " 6   Volume     6297 non-null   int64  \n",
      "dtypes: float32(1), float64(4), int64(1), object(1)\n",
      "memory usage: 319.9+ KB\n"
     ]
    }
   ],
   "source": [
    "data.info()"
   ]
  },
  {
   "cell_type": "code",
   "execution_count": 11,
   "id": "6b3dd522",
   "metadata": {},
   "outputs": [
    {
     "data": {
      "text/plain": [
       "0"
      ]
     },
     "execution_count": 11,
     "metadata": {},
     "output_type": "execute_result"
    }
   ],
   "source": [
    "data.duplicated().sum()"
   ]
  },
  {
   "cell_type": "code",
   "execution_count": 12,
   "id": "6706be2e",
   "metadata": {},
   "outputs": [
    {
     "data": {
      "text/plain": [
       "Date         0\n",
       "Open         0\n",
       "High         0\n",
       "Low          0\n",
       "Close        0\n",
       "Adj Close    0\n",
       "Volume       0\n",
       "dtype: int64"
      ]
     },
     "execution_count": 12,
     "metadata": {},
     "output_type": "execute_result"
    }
   ],
   "source": [
    "data.isnull().sum()"
   ]
  },
  {
   "cell_type": "code",
   "execution_count": 13,
   "id": "d3ed1fc0",
   "metadata": {},
   "outputs": [
    {
     "data": {
      "text/plain": [
       "Date         0\n",
       "Open         0\n",
       "High         0\n",
       "Low          0\n",
       "Close        0\n",
       "Adj Close    0\n",
       "Volume       0\n",
       "dtype: int64"
      ]
     },
     "execution_count": 13,
     "metadata": {},
     "output_type": "execute_result"
    }
   ],
   "source": [
    "data.isna().sum()"
   ]
  },
  {
   "cell_type": "code",
   "execution_count": 16,
   "id": "48db4a1c",
   "metadata": {},
   "outputs": [
    {
     "data": {
      "text/html": [
       "<div>\n",
       "<style scoped>\n",
       "    .dataframe tbody tr th:only-of-type {\n",
       "        vertical-align: middle;\n",
       "    }\n",
       "\n",
       "    .dataframe tbody tr th {\n",
       "        vertical-align: top;\n",
       "    }\n",
       "\n",
       "    .dataframe thead th {\n",
       "        text-align: right;\n",
       "    }\n",
       "</style>\n",
       "<table border=\"1\" class=\"dataframe\">\n",
       "  <thead>\n",
       "    <tr style=\"text-align: right;\">\n",
       "      <th></th>\n",
       "      <th>Date</th>\n",
       "      <th>Open</th>\n",
       "      <th>High</th>\n",
       "      <th>Low</th>\n",
       "      <th>Close</th>\n",
       "      <th>Adj Close</th>\n",
       "      <th>Volume</th>\n",
       "    </tr>\n",
       "  </thead>\n",
       "  <tbody>\n",
       "    <tr>\n",
       "      <th>3609</th>\n",
       "      <td>2011-09-16</td>\n",
       "      <td>227.570007</td>\n",
       "      <td>240.440002</td>\n",
       "      <td>226.740005</td>\n",
       "      <td>239.300003</td>\n",
       "      <td>239.300003</td>\n",
       "      <td>11753000</td>\n",
       "    </tr>\n",
       "    <tr>\n",
       "      <th>3610</th>\n",
       "      <td>2011-09-19</td>\n",
       "      <td>237.110001</td>\n",
       "      <td>244.000000</td>\n",
       "      <td>232.880005</td>\n",
       "      <td>241.690002</td>\n",
       "      <td>241.690002</td>\n",
       "      <td>8223300</td>\n",
       "    </tr>\n",
       "    <tr>\n",
       "      <th>3611</th>\n",
       "      <td>2011-09-20</td>\n",
       "      <td>240.800003</td>\n",
       "      <td>241.050003</td>\n",
       "      <td>231.029999</td>\n",
       "      <td>233.250000</td>\n",
       "      <td>233.250000</td>\n",
       "      <td>7385500</td>\n",
       "    </tr>\n",
       "    <tr>\n",
       "      <th>3612</th>\n",
       "      <td>2011-09-21</td>\n",
       "      <td>234.509995</td>\n",
       "      <td>240.520004</td>\n",
       "      <td>231.809998</td>\n",
       "      <td>231.869995</td>\n",
       "      <td>231.869995</td>\n",
       "      <td>5881500</td>\n",
       "    </tr>\n",
       "    <tr>\n",
       "      <th>3617</th>\n",
       "      <td>2011-09-28</td>\n",
       "      <td>226.350006</td>\n",
       "      <td>235.809998</td>\n",
       "      <td>225.600006</td>\n",
       "      <td>229.710007</td>\n",
       "      <td>229.710007</td>\n",
       "      <td>14436900</td>\n",
       "    </tr>\n",
       "    <tr>\n",
       "      <th>...</th>\n",
       "      <td>...</td>\n",
       "      <td>...</td>\n",
       "      <td>...</td>\n",
       "      <td>...</td>\n",
       "      <td>...</td>\n",
       "      <td>...</td>\n",
       "      <td>...</td>\n",
       "    </tr>\n",
       "    <tr>\n",
       "      <th>6292</th>\n",
       "      <td>2022-05-16</td>\n",
       "      <td>2262.000000</td>\n",
       "      <td>2279.850098</td>\n",
       "      <td>2207.080078</td>\n",
       "      <td>2216.209961</td>\n",
       "      <td>2216.209961</td>\n",
       "      <td>3728300</td>\n",
       "    </tr>\n",
       "    <tr>\n",
       "      <th>6293</th>\n",
       "      <td>2022-05-17</td>\n",
       "      <td>2265.500000</td>\n",
       "      <td>2316.000000</td>\n",
       "      <td>2225.530029</td>\n",
       "      <td>2307.370117</td>\n",
       "      <td>2307.370117</td>\n",
       "      <td>3822400</td>\n",
       "    </tr>\n",
       "    <tr>\n",
       "      <th>6294</th>\n",
       "      <td>2022-05-18</td>\n",
       "      <td>2228.790039</td>\n",
       "      <td>2257.060059</td>\n",
       "      <td>2124.979980</td>\n",
       "      <td>2142.250000</td>\n",
       "      <td>2142.250000</td>\n",
       "      <td>5419000</td>\n",
       "    </tr>\n",
       "    <tr>\n",
       "      <th>6295</th>\n",
       "      <td>2022-05-19</td>\n",
       "      <td>2125.610107</td>\n",
       "      <td>2200.679932</td>\n",
       "      <td>2123.860107</td>\n",
       "      <td>2146.379883</td>\n",
       "      <td>2146.379883</td>\n",
       "      <td>4407100</td>\n",
       "    </tr>\n",
       "    <tr>\n",
       "      <th>6296</th>\n",
       "      <td>2022-05-20</td>\n",
       "      <td>2191.370117</td>\n",
       "      <td>2197.959961</td>\n",
       "      <td>2100.189941</td>\n",
       "      <td>2151.820068</td>\n",
       "      <td>2151.820068</td>\n",
       "      <td>4968200</td>\n",
       "    </tr>\n",
       "  </tbody>\n",
       "</table>\n",
       "<p>2488 rows × 7 columns</p>\n",
       "</div>"
      ],
      "text/plain": [
       "            Date         Open         High          Low        Close  \\\n",
       "3609  2011-09-16   227.570007   240.440002   226.740005   239.300003   \n",
       "3610  2011-09-19   237.110001   244.000000   232.880005   241.690002   \n",
       "3611  2011-09-20   240.800003   241.050003   231.029999   233.250000   \n",
       "3612  2011-09-21   234.509995   240.520004   231.809998   231.869995   \n",
       "3617  2011-09-28   226.350006   235.809998   225.600006   229.710007   \n",
       "...          ...          ...          ...          ...          ...   \n",
       "6292  2022-05-16  2262.000000  2279.850098  2207.080078  2216.209961   \n",
       "6293  2022-05-17  2265.500000  2316.000000  2225.530029  2307.370117   \n",
       "6294  2022-05-18  2228.790039  2257.060059  2124.979980  2142.250000   \n",
       "6295  2022-05-19  2125.610107  2200.679932  2123.860107  2146.379883   \n",
       "6296  2022-05-20  2191.370117  2197.959961  2100.189941  2151.820068   \n",
       "\n",
       "        Adj Close    Volume  \n",
       "3609   239.300003  11753000  \n",
       "3610   241.690002   8223300  \n",
       "3611   233.250000   7385500  \n",
       "3612   231.869995   5881500  \n",
       "3617   229.710007  14436900  \n",
       "...           ...       ...  \n",
       "6292  2216.209961   3728300  \n",
       "6293  2307.370117   3822400  \n",
       "6294  2142.250000   5419000  \n",
       "6295  2146.379883   4407100  \n",
       "6296  2151.820068   4968200  \n",
       "\n",
       "[2488 rows x 7 columns]"
      ]
     },
     "execution_count": 16,
     "metadata": {},
     "output_type": "execute_result"
    }
   ],
   "source": [
    "data[data['Low']>225]"
   ]
  },
  {
   "cell_type": "code",
   "execution_count": 25,
   "id": "6814fa5a",
   "metadata": {},
   "outputs": [
    {
     "data": {
      "text/plain": [
       "count    6297.000000\n",
       "mean      571.812049\n",
       "std       921.105051\n",
       "min         1.312500\n",
       "25%        38.590000\n",
       "50%       115.519997\n",
       "75%       620.799988\n",
       "max      3696.790039\n",
       "Name: Low, dtype: float64"
      ]
     },
     "execution_count": 25,
     "metadata": {},
     "output_type": "execute_result"
    }
   ],
   "source": [
    "data.describe()"
   ]
  },
  {
   "cell_type": "code",
   "execution_count": 23,
   "id": "de08fe60",
   "metadata": {},
   "outputs": [
    {
     "data": {
      "text/plain": [
       "High\n",
       "2.500000          1.927083\n",
       "1.979167          1.708333\n",
       "1.770833          1.625000\n",
       "1.750000          1.635417\n",
       "1.645833          1.375000\n",
       "                  ...     \n",
       "2279.850098    2207.080078\n",
       "2316.000000    2225.530029\n",
       "2257.060059    2124.979980\n",
       "2200.679932    2123.860107\n",
       "2197.959961    2100.189941\n",
       "Name: Low, Length: 6297, dtype: float64"
      ]
     },
     "execution_count": 23,
     "metadata": {},
     "output_type": "execute_result"
    }
   ],
   "source": [
    "data=pd.read_csv('C:\\\\Users\\\\shivam kumar gupta\\\\Downloads\\\\Amazon.csv',usecols=['High','Low'],index_col='High').squeeze()\n",
    "data"
   ]
  },
  {
   "cell_type": "code",
   "execution_count": 24,
   "id": "9b98be43",
   "metadata": {},
   "outputs": [
    {
     "data": {
      "text/plain": [
       "3757.290039"
      ]
     },
     "execution_count": 24,
     "metadata": {},
     "output_type": "execute_result"
    }
   ],
   "source": [
    "data1=data.idxmax()\n",
    "data1"
   ]
  },
  {
   "cell_type": "code",
   "execution_count": 34,
   "id": "f1af2d4c",
   "metadata": {},
   "outputs": [
    {
     "data": {
      "text/plain": [
       "High\n",
       "3757.290039    3696.790039\n",
       "3748.000000    3693.399902\n",
       "3734.199951    3678.909912\n",
       "3762.149902    3675.719971\n",
       "3773.080078    3671.320068\n",
       "                  ...     \n",
       "1.489583          1.395833\n",
       "1.541667          1.375000\n",
       "1.645833          1.375000\n",
       "1.520833          1.333333\n",
       "1.447917          1.312500\n",
       "Name: Low, Length: 6297, dtype: float64"
      ]
     },
     "execution_count": 34,
     "metadata": {},
     "output_type": "execute_result"
    }
   ],
   "source": [
    "data.sort_values(ascending=False)"
   ]
  },
  {
   "cell_type": "code",
   "execution_count": 27,
   "id": "34263c97",
   "metadata": {},
   "outputs": [
    {
     "data": {
      "text/plain": [
       "1.447917"
      ]
     },
     "execution_count": 27,
     "metadata": {},
     "output_type": "execute_result"
    }
   ],
   "source": [
    "data2=data.idxmin()\n",
    "data2"
   ]
  },
  {
   "cell_type": "code",
   "execution_count": 28,
   "id": "a81bae34",
   "metadata": {},
   "outputs": [
    {
     "data": {
      "text/plain": [
       "1.3125"
      ]
     },
     "execution_count": 28,
     "metadata": {},
     "output_type": "execute_result"
    }
   ],
   "source": [
    "data[data2]"
   ]
  },
  {
   "cell_type": "code",
   "execution_count": 31,
   "id": "4d7c9981",
   "metadata": {},
   "outputs": [
    {
     "data": {
      "text/plain": [
       "571.8120486982688"
      ]
     },
     "execution_count": 31,
     "metadata": {},
     "output_type": "execute_result"
    }
   ],
   "source": [
    "data.mean()"
   ]
  },
  {
   "cell_type": "code",
   "execution_count": 36,
   "id": "c4b721f2",
   "metadata": {},
   "outputs": [
    {
     "data": {
      "text/plain": [
       "1.3125"
      ]
     },
     "execution_count": 36,
     "metadata": {},
     "output_type": "execute_result"
    }
   ],
   "source": [
    "data.min()"
   ]
  },
  {
   "cell_type": "code",
   "execution_count": 37,
   "id": "2d0c4f6b",
   "metadata": {},
   "outputs": [
    {
     "data": {
      "text/plain": [
       "3600700.4706530003"
      ]
     },
     "execution_count": 37,
     "metadata": {},
     "output_type": "execute_result"
    }
   ],
   "source": [
    "data.sum()"
   ]
  },
  {
   "cell_type": "code",
   "execution_count": 43,
   "id": "d8b88c5d",
   "metadata": {},
   "outputs": [
    {
     "data": {
      "text/plain": [
       "<bound method flex_method_SERIES.<locals>.flex_wrapper of High\n",
       "2.500000          1.927083\n",
       "1.979167          1.708333\n",
       "1.770833          1.625000\n",
       "1.750000          1.635417\n",
       "1.645833          1.375000\n",
       "                  ...     \n",
       "2279.850098    2207.080078\n",
       "2316.000000    2225.530029\n",
       "2257.060059    2124.979980\n",
       "2200.679932    2123.860107\n",
       "2197.959961    2100.189941\n",
       "Name: Low, Length: 6297, dtype: float64>"
      ]
     },
     "execution_count": 43,
     "metadata": {},
     "output_type": "execute_result"
    }
   ],
   "source": [
    "data.subtract"
   ]
  },
  {
   "cell_type": "code",
   "execution_count": 45,
   "id": "3c2e2f55",
   "metadata": {},
   "outputs": [
    {
     "data": {
      "text/plain": [
       "(6297, False)"
      ]
     },
     "execution_count": 45,
     "metadata": {},
     "output_type": "execute_result"
    }
   ],
   "source": [
    "data.size,data.is_unique"
   ]
  },
  {
   "cell_type": "code",
   "execution_count": 48,
   "id": "ac82e12a",
   "metadata": {},
   "outputs": [
    {
     "data": {
      "text/plain": [
       "False"
      ]
     },
     "execution_count": 48,
     "metadata": {},
     "output_type": "execute_result"
    }
   ],
   "source": [
    "data.is_unique"
   ]
  },
  {
   "cell_type": "code",
   "execution_count": 49,
   "id": "c7a45fec",
   "metadata": {},
   "outputs": [
    {
     "data": {
      "text/plain": [
       "array([1.92708300e+00, 1.70833300e+00, 1.62500000e+00, ...,\n",
       "       2.12497998e+03, 2.12386011e+03, 2.10018994e+03])"
      ]
     },
     "execution_count": 49,
     "metadata": {},
     "output_type": "execute_result"
    }
   ],
   "source": [
    "data.values"
   ]
  },
  {
   "cell_type": "code",
   "execution_count": 50,
   "id": "198337f0",
   "metadata": {},
   "outputs": [
    {
     "data": {
      "text/plain": [
       "numpy.ndarray"
      ]
     },
     "execution_count": 50,
     "metadata": {},
     "output_type": "execute_result"
    }
   ],
   "source": [
    "type(data.values)"
   ]
  },
  {
   "cell_type": "code",
   "execution_count": 51,
   "id": "d2c34c7c",
   "metadata": {},
   "outputs": [
    {
     "data": {
      "text/plain": [
       "Float64Index([        2.5,    1.979167,    1.770833,        1.75,    1.645833,\n",
       "                 1.447917,    1.520833,    1.645833,    1.635417,    1.541667,\n",
       "              ...\n",
       "                   2280.0, 2252.850098, 2203.120117, 2215.610107, 2263.679932,\n",
       "              2279.850098,      2316.0, 2257.060059, 2200.679932, 2197.959961],\n",
       "             dtype='float64', name='High', length=6297)"
      ]
     },
     "execution_count": 51,
     "metadata": {},
     "output_type": "execute_result"
    }
   ],
   "source": [
    "data.index"
   ]
  },
  {
   "cell_type": "code",
   "execution_count": 52,
   "id": "25582be7",
   "metadata": {},
   "outputs": [
    {
     "data": {
      "text/plain": [
       "pandas.core.indexes.numeric.Float64Index"
      ]
     },
     "execution_count": 52,
     "metadata": {},
     "output_type": "execute_result"
    }
   ],
   "source": [
    "type(data.index)"
   ]
  },
  {
   "cell_type": "code",
   "execution_count": 55,
   "id": "54fac30b",
   "metadata": {},
   "outputs": [
    {
     "data": {
      "text/plain": [
       "Monday            Apple\n",
       "Tuesday          Orange\n",
       "Wednesday          Plum\n",
       "Thursday          Grape\n",
       "Friday        Blueberry\n",
       "Monday       Watermelon\n",
       "dtype: object"
      ]
     },
     "execution_count": 55,
     "metadata": {},
     "output_type": "execute_result"
    }
   ],
   "source": [
    "fruits = [\"Apple\", \"Orange\", \"Plum\", \"Grape\", \"Blueberry\", \"Watermelon\"]\n",
    "weekdays = [\"Monday\", \"Tuesday\", \"Wednesday\", \"Thursday\", \"Friday\", \"Monday\"]\n",
    "v=pd.Series(data=fruits,index=weekdays)\n",
    "v"
   ]
  },
  {
   "cell_type": "code",
   "execution_count": 71,
   "id": "7012563c",
   "metadata": {},
   "outputs": [
    {
     "data": {
      "text/html": [
       "<div>\n",
       "<style scoped>\n",
       "    .dataframe tbody tr th:only-of-type {\n",
       "        vertical-align: middle;\n",
       "    }\n",
       "\n",
       "    .dataframe tbody tr th {\n",
       "        vertical-align: top;\n",
       "    }\n",
       "\n",
       "    .dataframe thead th {\n",
       "        text-align: right;\n",
       "    }\n",
       "</style>\n",
       "<table border=\"1\" class=\"dataframe\">\n",
       "  <thead>\n",
       "    <tr style=\"text-align: right;\">\n",
       "      <th></th>\n",
       "      <th>Date</th>\n",
       "      <th>Open</th>\n",
       "      <th>High</th>\n",
       "      <th>Low</th>\n",
       "      <th>Close</th>\n",
       "      <th>Adj Close</th>\n",
       "      <th>Volume</th>\n",
       "    </tr>\n",
       "  </thead>\n",
       "  <tbody>\n",
       "    <tr>\n",
       "      <th>6079</th>\n",
       "      <td>2021-07-13</td>\n",
       "      <td>3702.100098</td>\n",
       "      <td>3773.080078</td>\n",
       "      <td>3671.320068</td>\n",
       "      <td>3677.360107</td>\n",
       "      <td>3677.360107</td>\n",
       "      <td>3845900</td>\n",
       "    </tr>\n",
       "    <tr>\n",
       "      <th>6171</th>\n",
       "      <td>2021-11-19</td>\n",
       "      <td>3712.689941</td>\n",
       "      <td>3762.149902</td>\n",
       "      <td>3675.719971</td>\n",
       "      <td>3676.570068</td>\n",
       "      <td>3676.570068</td>\n",
       "      <td>4936700</td>\n",
       "    </tr>\n",
       "    <tr>\n",
       "      <th>6076</th>\n",
       "      <td>2021-07-08</td>\n",
       "      <td>3643.560059</td>\n",
       "      <td>3759.989990</td>\n",
       "      <td>3621.120117</td>\n",
       "      <td>3731.409912</td>\n",
       "      <td>3731.409912</td>\n",
       "      <td>5180600</td>\n",
       "    </tr>\n",
       "    <tr>\n",
       "      <th>6078</th>\n",
       "      <td>2021-07-12</td>\n",
       "      <td>3744.000000</td>\n",
       "      <td>3757.290039</td>\n",
       "      <td>3696.790039</td>\n",
       "      <td>3718.550049</td>\n",
       "      <td>3718.550049</td>\n",
       "      <td>2571600</td>\n",
       "    </tr>\n",
       "    <tr>\n",
       "      <th>6077</th>\n",
       "      <td>2021-07-09</td>\n",
       "      <td>3722.520020</td>\n",
       "      <td>3748.000000</td>\n",
       "      <td>3693.399902</td>\n",
       "      <td>3719.340088</td>\n",
       "      <td>3719.340088</td>\n",
       "      <td>3748200</td>\n",
       "    </tr>\n",
       "    <tr>\n",
       "      <th>...</th>\n",
       "      <td>...</td>\n",
       "      <td>...</td>\n",
       "      <td>...</td>\n",
       "      <td>...</td>\n",
       "      <td>...</td>\n",
       "      <td>...</td>\n",
       "      <td>...</td>\n",
       "    </tr>\n",
       "    <tr>\n",
       "      <th>6</th>\n",
       "      <td>1997-05-23</td>\n",
       "      <td>1.406250</td>\n",
       "      <td>1.520833</td>\n",
       "      <td>1.333333</td>\n",
       "      <td>1.500000</td>\n",
       "      <td>1.500000</td>\n",
       "      <td>15937200</td>\n",
       "    </tr>\n",
       "    <tr>\n",
       "      <th>30</th>\n",
       "      <td>1997-06-27</td>\n",
       "      <td>1.515625</td>\n",
       "      <td>1.515625</td>\n",
       "      <td>1.479167</td>\n",
       "      <td>1.489583</td>\n",
       "      <td>1.489583</td>\n",
       "      <td>1188000</td>\n",
       "    </tr>\n",
       "    <tr>\n",
       "      <th>10</th>\n",
       "      <td>1997-05-30</td>\n",
       "      <td>1.500000</td>\n",
       "      <td>1.510417</td>\n",
       "      <td>1.479167</td>\n",
       "      <td>1.500000</td>\n",
       "      <td>1.500000</td>\n",
       "      <td>2594400</td>\n",
       "    </tr>\n",
       "    <tr>\n",
       "      <th>13</th>\n",
       "      <td>1997-06-04</td>\n",
       "      <td>1.479167</td>\n",
       "      <td>1.489583</td>\n",
       "      <td>1.395833</td>\n",
       "      <td>1.416667</td>\n",
       "      <td>1.416667</td>\n",
       "      <td>3080400</td>\n",
       "    </tr>\n",
       "    <tr>\n",
       "      <th>5</th>\n",
       "      <td>1997-05-22</td>\n",
       "      <td>1.437500</td>\n",
       "      <td>1.447917</td>\n",
       "      <td>1.312500</td>\n",
       "      <td>1.395833</td>\n",
       "      <td>1.395833</td>\n",
       "      <td>11776800</td>\n",
       "    </tr>\n",
       "  </tbody>\n",
       "</table>\n",
       "<p>6297 rows × 7 columns</p>\n",
       "</div>"
      ],
      "text/plain": [
       "            Date         Open         High          Low        Close  \\\n",
       "6079  2021-07-13  3702.100098  3773.080078  3671.320068  3677.360107   \n",
       "6171  2021-11-19  3712.689941  3762.149902  3675.719971  3676.570068   \n",
       "6076  2021-07-08  3643.560059  3759.989990  3621.120117  3731.409912   \n",
       "6078  2021-07-12  3744.000000  3757.290039  3696.790039  3718.550049   \n",
       "6077  2021-07-09  3722.520020  3748.000000  3693.399902  3719.340088   \n",
       "...          ...          ...          ...          ...          ...   \n",
       "6     1997-05-23     1.406250     1.520833     1.333333     1.500000   \n",
       "30    1997-06-27     1.515625     1.515625     1.479167     1.489583   \n",
       "10    1997-05-30     1.500000     1.510417     1.479167     1.500000   \n",
       "13    1997-06-04     1.479167     1.489583     1.395833     1.416667   \n",
       "5     1997-05-22     1.437500     1.447917     1.312500     1.395833   \n",
       "\n",
       "        Adj Close    Volume  \n",
       "6079  3677.360107   3845900  \n",
       "6171  3676.570068   4936700  \n",
       "6076  3731.409912   5180600  \n",
       "6078  3718.550049   2571600  \n",
       "6077  3719.340088   3748200  \n",
       "...           ...       ...  \n",
       "6        1.500000  15937200  \n",
       "30       1.489583   1188000  \n",
       "10       1.500000   2594400  \n",
       "13       1.416667   3080400  \n",
       "5        1.395833  11776800  \n",
       "\n",
       "[6297 rows x 7 columns]"
      ]
     },
     "execution_count": 71,
     "metadata": {},
     "output_type": "execute_result"
    }
   ],
   "source": [
    "data.sort_values(by='High',ascending=False)"
   ]
  },
  {
   "cell_type": "code",
   "execution_count": 72,
   "id": "86011b48",
   "metadata": {},
   "outputs": [
    {
     "data": {
      "text/html": [
       "<div>\n",
       "<style scoped>\n",
       "    .dataframe tbody tr th:only-of-type {\n",
       "        vertical-align: middle;\n",
       "    }\n",
       "\n",
       "    .dataframe tbody tr th {\n",
       "        vertical-align: top;\n",
       "    }\n",
       "\n",
       "    .dataframe thead th {\n",
       "        text-align: right;\n",
       "    }\n",
       "</style>\n",
       "<table border=\"1\" class=\"dataframe\">\n",
       "  <thead>\n",
       "    <tr style=\"text-align: right;\">\n",
       "      <th></th>\n",
       "      <th>Date</th>\n",
       "      <th>Open</th>\n",
       "      <th>High</th>\n",
       "      <th>Low</th>\n",
       "      <th>Close</th>\n",
       "      <th>Adj Close</th>\n",
       "      <th>Volume</th>\n",
       "    </tr>\n",
       "  </thead>\n",
       "  <tbody>\n",
       "    <tr>\n",
       "      <th>0</th>\n",
       "      <td>1997-05-15</td>\n",
       "      <td>2.437500</td>\n",
       "      <td>2.500000</td>\n",
       "      <td>1.927083</td>\n",
       "      <td>1.958333</td>\n",
       "      <td>1.958333</td>\n",
       "      <td>72156000</td>\n",
       "    </tr>\n",
       "    <tr>\n",
       "      <th>1</th>\n",
       "      <td>1997-05-16</td>\n",
       "      <td>1.968750</td>\n",
       "      <td>1.979167</td>\n",
       "      <td>1.708333</td>\n",
       "      <td>1.729167</td>\n",
       "      <td>1.729167</td>\n",
       "      <td>14700000</td>\n",
       "    </tr>\n",
       "    <tr>\n",
       "      <th>2</th>\n",
       "      <td>1997-05-19</td>\n",
       "      <td>1.760417</td>\n",
       "      <td>1.770833</td>\n",
       "      <td>1.625000</td>\n",
       "      <td>1.708333</td>\n",
       "      <td>1.708333</td>\n",
       "      <td>6106800</td>\n",
       "    </tr>\n",
       "    <tr>\n",
       "      <th>3</th>\n",
       "      <td>1997-05-20</td>\n",
       "      <td>1.729167</td>\n",
       "      <td>1.750000</td>\n",
       "      <td>1.635417</td>\n",
       "      <td>1.635417</td>\n",
       "      <td>1.635417</td>\n",
       "      <td>5467200</td>\n",
       "    </tr>\n",
       "    <tr>\n",
       "      <th>4</th>\n",
       "      <td>1997-05-21</td>\n",
       "      <td>1.635417</td>\n",
       "      <td>1.645833</td>\n",
       "      <td>1.375000</td>\n",
       "      <td>1.427083</td>\n",
       "      <td>1.427083</td>\n",
       "      <td>18853200</td>\n",
       "    </tr>\n",
       "    <tr>\n",
       "      <th>...</th>\n",
       "      <td>...</td>\n",
       "      <td>...</td>\n",
       "      <td>...</td>\n",
       "      <td>...</td>\n",
       "      <td>...</td>\n",
       "      <td>...</td>\n",
       "      <td>...</td>\n",
       "    </tr>\n",
       "    <tr>\n",
       "      <th>6292</th>\n",
       "      <td>2022-05-16</td>\n",
       "      <td>2262.000000</td>\n",
       "      <td>2279.850098</td>\n",
       "      <td>2207.080078</td>\n",
       "      <td>2216.209961</td>\n",
       "      <td>2216.209961</td>\n",
       "      <td>3728300</td>\n",
       "    </tr>\n",
       "    <tr>\n",
       "      <th>6293</th>\n",
       "      <td>2022-05-17</td>\n",
       "      <td>2265.500000</td>\n",
       "      <td>2316.000000</td>\n",
       "      <td>2225.530029</td>\n",
       "      <td>2307.370117</td>\n",
       "      <td>2307.370117</td>\n",
       "      <td>3822400</td>\n",
       "    </tr>\n",
       "    <tr>\n",
       "      <th>6294</th>\n",
       "      <td>2022-05-18</td>\n",
       "      <td>2228.790039</td>\n",
       "      <td>2257.060059</td>\n",
       "      <td>2124.979980</td>\n",
       "      <td>2142.250000</td>\n",
       "      <td>2142.250000</td>\n",
       "      <td>5419000</td>\n",
       "    </tr>\n",
       "    <tr>\n",
       "      <th>6295</th>\n",
       "      <td>2022-05-19</td>\n",
       "      <td>2125.610107</td>\n",
       "      <td>2200.679932</td>\n",
       "      <td>2123.860107</td>\n",
       "      <td>2146.379883</td>\n",
       "      <td>2146.379883</td>\n",
       "      <td>4407100</td>\n",
       "    </tr>\n",
       "    <tr>\n",
       "      <th>6296</th>\n",
       "      <td>2022-05-20</td>\n",
       "      <td>2191.370117</td>\n",
       "      <td>2197.959961</td>\n",
       "      <td>2100.189941</td>\n",
       "      <td>2151.820068</td>\n",
       "      <td>2151.820068</td>\n",
       "      <td>4968200</td>\n",
       "    </tr>\n",
       "  </tbody>\n",
       "</table>\n",
       "<p>6297 rows × 7 columns</p>\n",
       "</div>"
      ],
      "text/plain": [
       "            Date         Open         High          Low        Close  \\\n",
       "0     1997-05-15     2.437500     2.500000     1.927083     1.958333   \n",
       "1     1997-05-16     1.968750     1.979167     1.708333     1.729167   \n",
       "2     1997-05-19     1.760417     1.770833     1.625000     1.708333   \n",
       "3     1997-05-20     1.729167     1.750000     1.635417     1.635417   \n",
       "4     1997-05-21     1.635417     1.645833     1.375000     1.427083   \n",
       "...          ...          ...          ...          ...          ...   \n",
       "6292  2022-05-16  2262.000000  2279.850098  2207.080078  2216.209961   \n",
       "6293  2022-05-17  2265.500000  2316.000000  2225.530029  2307.370117   \n",
       "6294  2022-05-18  2228.790039  2257.060059  2124.979980  2142.250000   \n",
       "6295  2022-05-19  2125.610107  2200.679932  2123.860107  2146.379883   \n",
       "6296  2022-05-20  2191.370117  2197.959961  2100.189941  2151.820068   \n",
       "\n",
       "        Adj Close    Volume  \n",
       "0        1.958333  72156000  \n",
       "1        1.729167  14700000  \n",
       "2        1.708333   6106800  \n",
       "3        1.635417   5467200  \n",
       "4        1.427083  18853200  \n",
       "...           ...       ...  \n",
       "6292  2216.209961   3728300  \n",
       "6293  2307.370117   3822400  \n",
       "6294  2142.250000   5419000  \n",
       "6295  2146.379883   4407100  \n",
       "6296  2151.820068   4968200  \n",
       "\n",
       "[6297 rows x 7 columns]"
      ]
     },
     "execution_count": 72,
     "metadata": {},
     "output_type": "execute_result"
    }
   ],
   "source": [
    "data.sort_index()"
   ]
  },
  {
   "cell_type": "code",
   "execution_count": 2,
   "id": "629679ba",
   "metadata": {},
   "outputs": [],
   "source": [
    "import numpy as np\n",
    "c = np.array([[[  0,  1,  2],  \n",
    "               [ 10, 12, 13]],\n",
    "              [[100, 101, 102],\n",
    "               [110, 112, 113]]])"
   ]
  },
  {
   "cell_type": "code",
   "execution_count": 98,
   "id": "208fec4d",
   "metadata": {},
   "outputs": [
    {
     "data": {
      "text/plain": [
       "102"
      ]
     },
     "execution_count": 98,
     "metadata": {},
     "output_type": "execute_result"
    }
   ],
   "source": [
    "c[1,0,2]"
   ]
  },
  {
   "cell_type": "code",
   "execution_count": 99,
   "id": "203f02c5",
   "metadata": {},
   "outputs": [
    {
     "data": {
      "text/plain": [
       "(2, 2, 3)"
      ]
     },
     "execution_count": 99,
     "metadata": {},
     "output_type": "execute_result"
    }
   ],
   "source": [
    "c.shape"
   ]
  },
  {
   "cell_type": "code",
   "execution_count": 100,
   "id": "c88ff4de",
   "metadata": {},
   "outputs": [
    {
     "data": {
      "text/plain": [
       "array([  0,   1,   2,  10,  12,  13, 100, 101, 102, 110, 112, 113])"
      ]
     },
     "execution_count": 100,
     "metadata": {},
     "output_type": "execute_result"
    }
   ],
   "source": [
    "c.ravel()"
   ]
  },
  {
   "cell_type": "code",
   "execution_count": 102,
   "id": "d01476e6",
   "metadata": {},
   "outputs": [
    {
     "data": {
      "text/plain": [
       "array([[  0,   1],\n",
       "       [  2,  10],\n",
       "       [ 12,  13],\n",
       "       [100, 101],\n",
       "       [102, 110],\n",
       "       [112, 113]])"
      ]
     },
     "execution_count": 102,
     "metadata": {},
     "output_type": "execute_result"
    }
   ],
   "source": [
    "c.reshape(6,2)"
   ]
  },
  {
   "cell_type": "code",
   "execution_count": 104,
   "id": "1b242182",
   "metadata": {},
   "outputs": [
    {
     "data": {
      "text/plain": [
       "(3, 2, 2)"
      ]
     },
     "execution_count": 104,
     "metadata": {},
     "output_type": "execute_result"
    }
   ],
   "source": [
    "c.T.shape"
   ]
  },
  {
   "cell_type": "code",
   "execution_count": 108,
   "id": "1e5ab412",
   "metadata": {},
   "outputs": [
    {
     "data": {
      "text/plain": [
       "array([[  0,   1,   2,  10,  12,  13],\n",
       "       [100, 101, 102, 110, 112, 113]])"
      ]
     },
     "execution_count": 108,
     "metadata": {},
     "output_type": "execute_result"
    }
   ],
   "source": [
    "c.resize((2,6))\n",
    "c"
   ]
  },
  {
   "cell_type": "code",
   "execution_count": 113,
   "id": "141c8536",
   "metadata": {},
   "outputs": [
    {
     "data": {
      "text/plain": [
       "array([[  0,   1,   2,  10,  12,  13],\n",
       "       [100, 101, 102, 110, 112, 113]])"
      ]
     },
     "execution_count": 113,
     "metadata": {},
     "output_type": "execute_result"
    }
   ],
   "source": [
    "np.vstack(c)"
   ]
  },
  {
   "cell_type": "code",
   "execution_count": 114,
   "id": "aaa2cf46",
   "metadata": {},
   "outputs": [
    {
     "data": {
      "text/plain": [
       "array([[  0,   1,   2,  10,  12,  13],\n",
       "       [100, 101, 102, 110, 112, 113]])"
      ]
     },
     "execution_count": 114,
     "metadata": {},
     "output_type": "execute_result"
    }
   ],
   "source": [
    "c"
   ]
  },
  {
   "cell_type": "code",
   "execution_count": 116,
   "id": "9d555619",
   "metadata": {},
   "outputs": [
    {
     "data": {
      "text/plain": [
       "[array([[  0,   1,   2,  10,  12,  13],\n",
       "        [100, 101, 102, 110, 112, 113]]),\n",
       " array([], shape=(0, 6), dtype=int32),\n",
       " array([], shape=(0, 6), dtype=int32)]"
      ]
     },
     "execution_count": 116,
     "metadata": {},
     "output_type": "execute_result"
    }
   ],
   "source": [
    "np.vsplit(c,(3,4))"
   ]
  },
  {
   "cell_type": "code",
   "execution_count": 10,
   "id": "62ab088d",
   "metadata": {},
   "outputs": [
    {
     "data": {
      "text/plain": [
       "array([[ 0,  1,  2,  3],\n",
       "       [ 4,  5,  6,  7],\n",
       "       [ 8,  9, 10, 11]])"
      ]
     },
     "execution_count": 10,
     "metadata": {},
     "output_type": "execute_result"
    }
   ],
   "source": [
    "b=np.arange(12).reshape(3,4)\n",
    "b"
   ]
  },
  {
   "cell_type": "code",
   "execution_count": 11,
   "id": "37975c30",
   "metadata": {},
   "outputs": [
    {
     "data": {
      "text/plain": [
       "array([12, 15, 18, 21])"
      ]
     },
     "execution_count": 11,
     "metadata": {},
     "output_type": "execute_result"
    }
   ],
   "source": [
    "b.sum(axis=0)"
   ]
  },
  {
   "cell_type": "code",
   "execution_count": 12,
   "id": "92f93bad",
   "metadata": {},
   "outputs": [
    {
     "data": {
      "text/plain": [
       "array([ 6, 22, 38])"
      ]
     },
     "execution_count": 12,
     "metadata": {},
     "output_type": "execute_result"
    }
   ],
   "source": [
    "b.sum(axis=1)"
   ]
  },
  {
   "cell_type": "code",
   "execution_count": 13,
   "id": "aac07e10",
   "metadata": {},
   "outputs": [],
   "source": [
    "b=np.arange(3)"
   ]
  },
  {
   "cell_type": "code",
   "execution_count": 15,
   "id": "eb3ae16f",
   "metadata": {},
   "outputs": [
    {
     "data": {
      "text/plain": [
       "array([1.        , 2.71828183, 7.3890561 ])"
      ]
     },
     "execution_count": 15,
     "metadata": {},
     "output_type": "execute_result"
    }
   ],
   "source": [
    "np.exp(b)"
   ]
  },
  {
   "cell_type": "code",
   "execution_count": 16,
   "id": "6e1d8c6c",
   "metadata": {},
   "outputs": [
    {
     "data": {
      "text/plain": [
       "array([0.        , 1.        , 1.41421356])"
      ]
     },
     "execution_count": 16,
     "metadata": {},
     "output_type": "execute_result"
    }
   ],
   "source": [
    "np.sqrt(b)"
   ]
  },
  {
   "cell_type": "code",
   "execution_count": 17,
   "id": "5d0d6a89",
   "metadata": {},
   "outputs": [
    {
     "data": {
      "text/plain": [
       "array([2., 0., 6.])"
      ]
     },
     "execution_count": 17,
     "metadata": {},
     "output_type": "execute_result"
    }
   ],
   "source": [
    "c=np.array([2.,-1., 4.])\n",
    "np.add(b,c)"
   ]
  },
  {
   "cell_type": "code",
   "execution_count": 18,
   "id": "d57255a7",
   "metadata": {},
   "outputs": [
    {
     "data": {
      "text/plain": [
       "(array([1, 2, 3]), array([  1, 100,   3]))"
      ]
     },
     "execution_count": 18,
     "metadata": {},
     "output_type": "execute_result"
    }
   ],
   "source": [
    "a=np.array([1,2,3])\n",
    "v=a.copy()\n",
    "v[1]=100\n",
    "a,v"
   ]
  },
  {
   "cell_type": "code",
   "execution_count": 19,
   "id": "5462e3b8",
   "metadata": {},
   "outputs": [
    {
     "data": {
      "text/plain": [
       "(array([  1, 200,   3]), array([  1, 200,   3]))"
      ]
     },
     "execution_count": 19,
     "metadata": {},
     "output_type": "execute_result"
    }
   ],
   "source": [
    "a=np.array([1,2,3])\n",
    "v=a.view()\n",
    "v[1]=200\n",
    "v,a"
   ]
  },
  {
   "cell_type": "code",
   "execution_count": 21,
   "id": "99d142b6",
   "metadata": {},
   "outputs": [
    {
     "data": {
      "text/plain": [
       "array([[1., 0., 0.],\n",
       "       [0., 1., 0.]])"
      ]
     },
     "execution_count": 21,
     "metadata": {},
     "output_type": "execute_result"
    }
   ],
   "source": [
    "v=np.eye(2,3)\n",
    "v"
   ]
  },
  {
   "cell_type": "code",
   "execution_count": 27,
   "id": "1ef896b5",
   "metadata": {},
   "outputs": [
    {
     "data": {
      "text/plain": [
       "array([[206158430258, 223338299442, 206158430253, 193273528376],\n",
       "       [219043332144, 206158430292, 249108103223, 214748364851],\n",
       "       [206158430266, 197568495665, 206158430262, 386547056690]],\n",
       "      dtype=int64)"
      ]
     },
     "execution_count": 27,
     "metadata": {},
     "output_type": "execute_result"
    }
   ],
   "source": [
    "v=np.empty((3,4),dtype='int64')\n",
    "v"
   ]
  },
  {
   "cell_type": "code",
   "execution_count": 31,
   "id": "b916ba0d",
   "metadata": {},
   "outputs": [
    {
     "data": {
      "text/plain": [
       "array([[3, 4],\n",
       "       [6, 7]])"
      ]
     },
     "execution_count": 31,
     "metadata": {},
     "output_type": "execute_result"
    }
   ],
   "source": [
    "j=np.array([[3,4],[6,7]])\n",
    "j"
   ]
  },
  {
   "cell_type": "code",
   "execution_count": 32,
   "id": "ce2c35f0",
   "metadata": {},
   "outputs": [
    {
     "data": {
      "text/plain": [
       "array([ 20.  ,  51.25,  82.5 , 113.75, 145.  ])"
      ]
     },
     "execution_count": 32,
     "metadata": {},
     "output_type": "execute_result"
    }
   ],
   "source": [
    "tt=np.linspace(20,145,5)\n",
    "tt"
   ]
  },
  {
   "cell_type": "code",
   "execution_count": 34,
   "id": "371a938d",
   "metadata": {},
   "outputs": [
    {
     "data": {
      "text/plain": [
       "4"
      ]
     },
     "execution_count": 34,
     "metadata": {},
     "output_type": "execute_result"
    }
   ],
   "source": [
    "ind=tt.argmax()\n",
    "ind"
   ]
  },
  {
   "cell_type": "code",
   "execution_count": 36,
   "id": "a6302e12",
   "metadata": {},
   "outputs": [
    {
     "data": {
      "text/plain": [
       "array([2, 1, 3, 3, 4])"
      ]
     },
     "execution_count": 36,
     "metadata": {},
     "output_type": "execute_result"
    }
   ],
   "source": [
    "a=np.arange(5)\n",
    "a[[0,0,2]]=[1,2,3]\n",
    "a"
   ]
  },
  {
   "cell_type": "code",
   "execution_count": 37,
   "id": "5b80bc68",
   "metadata": {},
   "outputs": [
    {
     "data": {
      "text/plain": [
       "array([1, 1, 3, 3, 4])"
      ]
     },
     "execution_count": 37,
     "metadata": {},
     "output_type": "execute_result"
    }
   ],
   "source": [
    "a=np.arange(5)\n",
    "a[[0,0,2]]+=1\n",
    "a"
   ]
  },
  {
   "cell_type": "code",
   "execution_count": 38,
   "id": "05840502",
   "metadata": {},
   "outputs": [
    {
     "data": {
      "text/plain": [
       "array([[ 0,  1,  2,  3],\n",
       "       [ 4,  5,  6,  7],\n",
       "       [ 8,  9, 10, 11]])"
      ]
     },
     "execution_count": 38,
     "metadata": {},
     "output_type": "execute_result"
    }
   ],
   "source": [
    "a = np.arange(12).reshape(3,4)\n",
    "a"
   ]
  },
  {
   "cell_type": "code",
   "execution_count": 39,
   "id": "6e0ed16d",
   "metadata": {},
   "outputs": [
    {
     "data": {
      "text/plain": [
       "array([[False, False, False, False],\n",
       "       [False,  True,  True,  True],\n",
       "       [ True,  True,  True,  True]])"
      ]
     },
     "execution_count": 39,
     "metadata": {},
     "output_type": "execute_result"
    }
   ],
   "source": [
    "b=a>4\n",
    "b"
   ]
  },
  {
   "cell_type": "code",
   "execution_count": 41,
   "id": "56644b51",
   "metadata": {},
   "outputs": [
    {
     "data": {
      "text/plain": [
       "array([[0, 1, 2, 3],\n",
       "       [4, 0, 0, 0],\n",
       "       [0, 0, 0, 0]])"
      ]
     },
     "execution_count": 41,
     "metadata": {},
     "output_type": "execute_result"
    }
   ],
   "source": [
    "a[b]=0\n",
    "a"
   ]
  },
  {
   "cell_type": "code",
   "execution_count": 47,
   "id": "04652498",
   "metadata": {},
   "outputs": [
    {
     "data": {
      "text/plain": [
       "array([ 4, 10])"
      ]
     },
     "execution_count": 47,
     "metadata": {},
     "output_type": "execute_result"
    }
   ],
   "source": [
    "a=np.arange(12).reshape(3,4)\n",
    "b1=np.array([False,True,True])\n",
    "b2=np.array([True,False,True,False])\n",
    "a[b1]\n",
    "a[b1,b2]"
   ]
  },
  {
   "cell_type": "code",
   "execution_count": 49,
   "id": "73a42a35",
   "metadata": {},
   "outputs": [
    {
     "data": {
      "text/plain": [
       "(2, 5, 3)"
      ]
     },
     "execution_count": 49,
     "metadata": {},
     "output_type": "execute_result"
    }
   ],
   "source": [
    "a=np.arange(30)\n",
    "b=a.reshape((2,-1,3))\n",
    "b.shape"
   ]
  },
  {
   "cell_type": "code",
   "execution_count": 51,
   "id": "d13d5e85",
   "metadata": {},
   "outputs": [
    {
     "data": {
      "text/plain": [
       "array([[0, 2, 4, 6, 8],\n",
       "       [0, 1, 2, 3, 4]])"
      ]
     },
     "execution_count": 51,
     "metadata": {},
     "output_type": "execute_result"
    }
   ],
   "source": [
    "x=np.arange(0,10,2)\n",
    "y=np.arange(5)\n",
    "m=np.vstack([x,y])\n",
    "m"
   ]
  },
  {
   "cell_type": "code",
   "execution_count": 52,
   "id": "cc82c954",
   "metadata": {},
   "outputs": [
    {
     "data": {
      "text/plain": [
       "(2, 5)"
      ]
     },
     "execution_count": 52,
     "metadata": {},
     "output_type": "execute_result"
    }
   ],
   "source": [
    "m.shape"
   ]
  },
  {
   "cell_type": "code",
   "execution_count": 55,
   "id": "e4fb52a2",
   "metadata": {},
   "outputs": [
    {
     "data": {
      "text/plain": [
       "True"
      ]
     },
     "execution_count": 55,
     "metadata": {},
     "output_type": "execute_result"
    }
   ],
   "source": [
    "import math\n",
    "a.size==math.prod(a.shape)"
   ]
  },
  {
   "cell_type": "code",
   "execution_count": 56,
   "id": "eeef1ebf",
   "metadata": {},
   "outputs": [
    {
     "data": {
      "text/plain": [
       "dtype('int32')"
      ]
     },
     "execution_count": 56,
     "metadata": {},
     "output_type": "execute_result"
    }
   ],
   "source": [
    "m.dtype"
   ]
  },
  {
   "cell_type": "code",
   "execution_count": 5,
   "id": "e676ffb3",
   "metadata": {},
   "outputs": [
    {
     "data": {
      "text/plain": [
       "array([1, 2, 3, 4, 5, 6, 7, 8])"
      ]
     },
     "execution_count": 5,
     "metadata": {},
     "output_type": "execute_result"
    }
   ],
   "source": [
    "a = np.array([1, 2, 3, 4])\n",
    "b = np.array([5, 6, 7, 8])\n",
    "v=np.concatenate((a,b))\n",
    "v"
   ]
  },
  {
   "cell_type": "code",
   "execution_count": 60,
   "id": "f766e347",
   "metadata": {},
   "outputs": [
    {
     "data": {
      "text/plain": [
       "array([1, 2, 3, 4, 5, 6, 7, 8])"
      ]
     },
     "execution_count": 60,
     "metadata": {},
     "output_type": "execute_result"
    }
   ],
   "source": [
    "vv=v[(v>3) | (v<8)]\n",
    "vv"
   ]
  },
  {
   "cell_type": "code",
   "execution_count": 62,
   "id": "25b6fdfc",
   "metadata": {},
   "outputs": [
    {
     "data": {
      "text/plain": [
       "(array([0, 1, 2, 3, 4, 5, 6, 7], dtype=int64),)"
      ]
     },
     "execution_count": 62,
     "metadata": {},
     "output_type": "execute_result"
    }
   ],
   "source": [
    "b=np.nonzero(vv<15)\n",
    "b"
   ]
  },
  {
   "cell_type": "code",
   "execution_count": 64,
   "id": "30163644",
   "metadata": {},
   "outputs": [
    {
     "data": {
      "text/plain": [
       "array([[ 1,  2,  3,  4,  5,  6,  7,  8,  9, 10, 11, 12],\n",
       "       [13, 14, 15, 16, 17, 18, 19, 20, 21, 22, 23, 24]])"
      ]
     },
     "execution_count": 64,
     "metadata": {},
     "output_type": "execute_result"
    }
   ],
   "source": [
    "x=np.arange(1,25).reshape(2,12)\n",
    "x"
   ]
  },
  {
   "cell_type": "code",
   "execution_count": 65,
   "id": "45bc0709",
   "metadata": {},
   "outputs": [
    {
     "data": {
      "text/plain": [
       "[array([[ 1,  2,  3,  4],\n",
       "        [13, 14, 15, 16]]),\n",
       " array([[ 5,  6,  7,  8],\n",
       "        [17, 18, 19, 20]]),\n",
       " array([[ 9, 10, 11, 12],\n",
       "        [21, 22, 23, 24]])]"
      ]
     },
     "execution_count": 65,
     "metadata": {},
     "output_type": "execute_result"
    }
   ],
   "source": [
    "np.hsplit(x,3)\n"
   ]
  },
  {
   "cell_type": "code",
   "execution_count": 67,
   "id": "01d74d51",
   "metadata": {},
   "outputs": [
    {
     "data": {
      "text/plain": [
       "(array([2, 3]), array([1, 1]))"
      ]
     },
     "execution_count": 67,
     "metadata": {},
     "output_type": "execute_result"
    }
   ],
   "source": [
    "data=np.array([1,2])\n",
    "ones=np.ones(2,dtype=int)\n",
    "data+ones,ones"
   ]
  },
  {
   "cell_type": "code",
   "execution_count": 68,
   "id": "26554353",
   "metadata": {},
   "outputs": [
    {
     "data": {
      "text/plain": [
       "array([[0, 2, 4, 6, 8],\n",
       "       [0, 1, 2, 3, 4]])"
      ]
     },
     "execution_count": 68,
     "metadata": {},
     "output_type": "execute_result"
    }
   ],
   "source": [
    "m"
   ]
  },
  {
   "cell_type": "code",
   "execution_count": 69,
   "id": "bbb9826f",
   "metadata": {},
   "outputs": [
    {
     "data": {
      "text/plain": [
       "array([1, 2, 3, 4])"
      ]
     },
     "execution_count": 69,
     "metadata": {},
     "output_type": "execute_result"
    }
   ],
   "source": [
    "a"
   ]
  },
  {
   "cell_type": "code",
   "execution_count": 70,
   "id": "19ce3b1b",
   "metadata": {},
   "outputs": [
    {
     "data": {
      "text/plain": [
       "array([4, 3, 2, 1])"
      ]
     },
     "execution_count": 70,
     "metadata": {},
     "output_type": "execute_result"
    }
   ],
   "source": [
    "np.flip(a)"
   ]
  },
  {
   "cell_type": "code",
   "execution_count": 9,
   "id": "07beb120",
   "metadata": {},
   "outputs": [
    {
     "data": {
      "text/plain": [
       "array([ 148.4131591 ,  403.42879349, 1096.63315843, 2980.95798704])"
      ]
     },
     "execution_count": 9,
     "metadata": {},
     "output_type": "execute_result"
    }
   ],
   "source": [
    "np.exp(b)"
   ]
  },
  {
   "cell_type": "code",
   "execution_count": 11,
   "id": "b5d187d8",
   "metadata": {},
   "outputs": [
    {
     "data": {
      "text/plain": [
       "array([0, 1, 2, 3], dtype=int64)"
      ]
     },
     "execution_count": 11,
     "metadata": {},
     "output_type": "execute_result"
    }
   ],
   "source": [
    "np.argsort(b)"
   ]
  },
  {
   "cell_type": "code",
   "execution_count": 12,
   "id": "5e3a712c",
   "metadata": {},
   "outputs": [
    {
     "data": {
      "text/plain": [
       "array([[0, 1],\n",
       "       [2, 3]])"
      ]
     },
     "execution_count": 12,
     "metadata": {},
     "output_type": "execute_result"
    }
   ],
   "source": [
    "a=np.arange(4).reshape(2,2)\n",
    "a"
   ]
  },
  {
   "cell_type": "code",
   "execution_count": 13,
   "id": "e8a61bb9",
   "metadata": {},
   "outputs": [
    {
     "data": {
      "text/plain": [
       "array([0, 3])"
      ]
     },
     "execution_count": 13,
     "metadata": {},
     "output_type": "execute_result"
    }
   ],
   "source": [
    "a.diagonal()"
   ]
  },
  {
   "cell_type": "code",
   "execution_count": 16,
   "id": "696d5bfc",
   "metadata": {},
   "outputs": [
    {
     "data": {
      "text/plain": [
       "array([1])"
      ]
     },
     "execution_count": 16,
     "metadata": {},
     "output_type": "execute_result"
    }
   ],
   "source": [
    "a.diagonal(1)"
   ]
  },
  {
   "cell_type": "code",
   "execution_count": 29,
   "id": "c105b0a8",
   "metadata": {},
   "outputs": [],
   "source": [
    "a=np.arange(8).reshape(2,2,2)"
   ]
  },
  {
   "cell_type": "code",
   "execution_count": 20,
   "id": "0b1e6888",
   "metadata": {},
   "outputs": [
    {
     "data": {
      "text/plain": [
       "<numpy.ndenumerate at 0x205cbac6c40>"
      ]
     },
     "execution_count": 20,
     "metadata": {},
     "output_type": "execute_result"
    }
   ],
   "source": [
    "v=np.ndenumerate(a)\n",
    "v"
   ]
  },
  {
   "cell_type": "code",
   "execution_count": 21,
   "id": "b4686a4d",
   "metadata": {},
   "outputs": [
    {
     "data": {
      "text/plain": [
       "array([[[0, 1],\n",
       "        [2, 3]],\n",
       "\n",
       "       [[4, 5],\n",
       "        [6, 7]]])"
      ]
     },
     "execution_count": 21,
     "metadata": {},
     "output_type": "execute_result"
    }
   ],
   "source": [
    "a"
   ]
  },
  {
   "cell_type": "code",
   "execution_count": 30,
   "id": "9e9dc4bd",
   "metadata": {},
   "outputs": [
    {
     "ename": "AttributeError",
     "evalue": "module 'numpy' has no attribute 'ustack'",
     "output_type": "error",
     "traceback": [
      "\u001b[1;31m---------------------------------------------------------------------------\u001b[0m",
      "\u001b[1;31mAttributeError\u001b[0m                            Traceback (most recent call last)",
      "\u001b[1;32m~\\AppData\\Local\\Temp\\ipykernel_33488\\645038495.py\u001b[0m in \u001b[0;36m<module>\u001b[1;34m\u001b[0m\n\u001b[1;32m----> 1\u001b[1;33m \u001b[0mnp\u001b[0m\u001b[1;33m.\u001b[0m\u001b[0mustack\u001b[0m\u001b[1;33m(\u001b[0m\u001b[0ma\u001b[0m\u001b[1;33m,\u001b[0m\u001b[1;36m2\u001b[0m\u001b[1;33m)\u001b[0m\u001b[1;33m\u001b[0m\u001b[1;33m\u001b[0m\u001b[0m\n\u001b[0m",
      "\u001b[1;32mE:\\Users\\shivam kumar gupta\\anaconda3\\lib\\site-packages\\numpy\\__init__.py\u001b[0m in \u001b[0;36m__getattr__\u001b[1;34m(attr)\u001b[0m\n\u001b[0;32m    311\u001b[0m                 \u001b[1;32mreturn\u001b[0m \u001b[0mTester\u001b[0m\u001b[1;33m\u001b[0m\u001b[1;33m\u001b[0m\u001b[0m\n\u001b[0;32m    312\u001b[0m \u001b[1;33m\u001b[0m\u001b[0m\n\u001b[1;32m--> 313\u001b[1;33m             raise AttributeError(\"module {!r} has no attribute \"\n\u001b[0m\u001b[0;32m    314\u001b[0m                                  \"{!r}\".format(__name__, attr))\n\u001b[0;32m    315\u001b[0m \u001b[1;33m\u001b[0m\u001b[0m\n",
      "\u001b[1;31mAttributeError\u001b[0m: module 'numpy' has no attribute 'ustack'"
     ]
    }
   ],
   "source": [
    "np.ustack(a,2)"
   ]
  },
  {
   "cell_type": "code",
   "execution_count": 35,
   "id": "9cba56c8",
   "metadata": {},
   "outputs": [
    {
     "data": {
      "text/plain": [
       "array([[5, 6, 7, 8, 5, 6, 7, 8],\n",
       "       [5, 6, 7, 8, 5, 6, 7, 8]])"
      ]
     },
     "execution_count": 35,
     "metadata": {},
     "output_type": "execute_result"
    }
   ],
   "source": [
    "b\n",
    "np.tile(b,(2,2))\n"
   ]
  },
  {
   "cell_type": "code",
   "execution_count": 37,
   "id": "44534f93",
   "metadata": {},
   "outputs": [
    {
     "data": {
      "text/plain": [
       "array([5, 5, 5, 5, 6, 6, 6, 6, 7, 7, 7, 7, 8, 8, 8, 8])"
      ]
     },
     "execution_count": 37,
     "metadata": {},
     "output_type": "execute_result"
    }
   ],
   "source": [
    "np.repeat(b,4)"
   ]
  },
  {
   "cell_type": "code",
   "execution_count": 38,
   "id": "b94307fc",
   "metadata": {},
   "outputs": [
    {
     "data": {
      "text/plain": [
       "array([5, 6, 7])"
      ]
     },
     "execution_count": 38,
     "metadata": {},
     "output_type": "execute_result"
    }
   ],
   "source": [
    "np.delete(b,3)"
   ]
  },
  {
   "cell_type": "code",
   "execution_count": 39,
   "id": "9ebc1a62",
   "metadata": {},
   "outputs": [
    {
     "data": {
      "text/plain": [
       "array([5, 6, 7, 8])"
      ]
     },
     "execution_count": 39,
     "metadata": {},
     "output_type": "execute_result"
    }
   ],
   "source": [
    "b"
   ]
  },
  {
   "cell_type": "code",
   "execution_count": 41,
   "id": "2b229511",
   "metadata": {},
   "outputs": [
    {
     "data": {
      "text/plain": [
       "array([5, 7, 8])"
      ]
     },
     "execution_count": 41,
     "metadata": {},
     "output_type": "execute_result"
    }
   ],
   "source": [
    "np.delete(b,1)"
   ]
  },
  {
   "cell_type": "code",
   "execution_count": 42,
   "id": "df90fd66",
   "metadata": {},
   "outputs": [
    {
     "data": {
      "text/plain": [
       "array([ 5,  6, 23, 45,  7,  8])"
      ]
     },
     "execution_count": 42,
     "metadata": {},
     "output_type": "execute_result"
    }
   ],
   "source": [
    "np.insert(b,2,[23,45])\n"
   ]
  },
  {
   "cell_type": "code",
   "execution_count": 52,
   "id": "9aecd21d",
   "metadata": {},
   "outputs": [],
   "source": [
    "v=np.append(b,34)\n",
    "v1=np.append(b,35)"
   ]
  },
  {
   "cell_type": "code",
   "execution_count": 54,
   "id": "208c54a9",
   "metadata": {},
   "outputs": [],
   "source": [
    "v3=np.append(v1,45)"
   ]
  },
  {
   "cell_type": "code",
   "execution_count": 55,
   "id": "f12b57fb",
   "metadata": {},
   "outputs": [
    {
     "data": {
      "text/plain": [
       "array([[ 5,  6,  7],\n",
       "       [ 8, 35, 45]])"
      ]
     },
     "execution_count": 55,
     "metadata": {},
     "output_type": "execute_result"
    }
   ],
   "source": [
    "np.resize(v3,(2,3))"
   ]
  },
  {
   "cell_type": "code",
   "execution_count": 58,
   "id": "6f346f91",
   "metadata": {},
   "outputs": [
    {
     "data": {
      "text/plain": [
       "array([1, 2, 3, 0, 2, 1])"
      ]
     },
     "execution_count": 58,
     "metadata": {},
     "output_type": "execute_result"
    }
   ],
   "source": [
    "a = np.array((0, 0, 0, 1, 2, 3, 0, 2, 1, 0))\n",
    "np.trim_zeros(a)\n"
   ]
  },
  {
   "cell_type": "code",
   "execution_count": 59,
   "id": "40687e5a",
   "metadata": {},
   "outputs": [
    {
     "data": {
      "text/plain": [
       "array([0, 1, 2, 3])"
      ]
     },
     "execution_count": 59,
     "metadata": {},
     "output_type": "execute_result"
    }
   ],
   "source": [
    "np.unique(a)"
   ]
  },
  {
   "cell_type": "code",
   "execution_count": 65,
   "id": "1619a5e7",
   "metadata": {},
   "outputs": [
    {
     "data": {
      "text/plain": [
       "array([1, 0, 0, 0, 0, 1, 2, 3, 0, 2, 1, 0, 0, 0])"
      ]
     },
     "execution_count": 65,
     "metadata": {},
     "output_type": "execute_result"
    }
   ],
   "source": [
    "np.pad(a,(2,),'wrap')"
   ]
  },
  {
   "cell_type": "code",
   "execution_count": 66,
   "id": "84240a93",
   "metadata": {},
   "outputs": [
    {
     "data": {
      "text/plain": [
       "array([8, 9, 0, 1, 2, 3, 4, 5, 6, 7])"
      ]
     },
     "execution_count": 66,
     "metadata": {},
     "output_type": "execute_result"
    }
   ],
   "source": [
    "x=np.arange(10)\n",
    "np.roll(x,2)"
   ]
  },
  {
   "cell_type": "code",
   "execution_count": 68,
   "id": "cdf365bd",
   "metadata": {},
   "outputs": [
    {
     "data": {
      "text/plain": [
       "array([  3,  15, 255], dtype=int32)"
      ]
     },
     "execution_count": 68,
     "metadata": {},
     "output_type": "execute_result"
    }
   ],
   "source": [
    "x1 = np.array([2, 5, 255])\n",
    "x2 = np.array([3, 14, 16])\n",
    "x1|x2"
   ]
  },
  {
   "cell_type": "code",
   "execution_count": 2,
   "id": "e497a835",
   "metadata": {},
   "outputs": [],
   "source": [
    "import pandas as pd"
   ]
  },
  {
   "cell_type": "code",
   "execution_count": 70,
   "id": "271d93b6",
   "metadata": {},
   "outputs": [
    {
     "data": {
      "text/plain": [
       "0    1.0\n",
       "1    3.0\n",
       "2    5.0\n",
       "3    NaN\n",
       "4    6.0\n",
       "5    8.0\n",
       "dtype: float64"
      ]
     },
     "execution_count": 70,
     "metadata": {},
     "output_type": "execute_result"
    }
   ],
   "source": [
    "s=pd.Series([1,3,5,np.nan,6,8])\n",
    "s"
   ]
  },
  {
   "cell_type": "code",
   "execution_count": 72,
   "id": "07eb13d0",
   "metadata": {},
   "outputs": [
    {
     "data": {
      "text/plain": [
       "DatetimeIndex(['2013-01-01', '2013-01-02', '2013-01-03', '2013-01-04',\n",
       "               '2013-01-05', '2013-01-06'],\n",
       "              dtype='datetime64[ns]', freq='D')"
      ]
     },
     "execution_count": 72,
     "metadata": {},
     "output_type": "execute_result"
    }
   ],
   "source": [
    "data=pd.date_range('20130101',periods=6)\n",
    "data"
   ]
  },
  {
   "cell_type": "code",
   "execution_count": 75,
   "id": "27a1a8b9",
   "metadata": {},
   "outputs": [
    {
     "data": {
      "text/html": [
       "<div>\n",
       "<style scoped>\n",
       "    .dataframe tbody tr th:only-of-type {\n",
       "        vertical-align: middle;\n",
       "    }\n",
       "\n",
       "    .dataframe tbody tr th {\n",
       "        vertical-align: top;\n",
       "    }\n",
       "\n",
       "    .dataframe thead th {\n",
       "        text-align: right;\n",
       "    }\n",
       "</style>\n",
       "<table border=\"1\" class=\"dataframe\">\n",
       "  <thead>\n",
       "    <tr style=\"text-align: right;\">\n",
       "      <th></th>\n",
       "      <th>A</th>\n",
       "      <th>B</th>\n",
       "      <th>C</th>\n",
       "      <th>D</th>\n",
       "    </tr>\n",
       "  </thead>\n",
       "  <tbody>\n",
       "    <tr>\n",
       "      <th>2013-01-01</th>\n",
       "      <td>-0.821057</td>\n",
       "      <td>0.602535</td>\n",
       "      <td>-1.161696</td>\n",
       "      <td>0.082297</td>\n",
       "    </tr>\n",
       "    <tr>\n",
       "      <th>2013-01-02</th>\n",
       "      <td>0.496160</td>\n",
       "      <td>0.546749</td>\n",
       "      <td>0.625332</td>\n",
       "      <td>-0.307847</td>\n",
       "    </tr>\n",
       "    <tr>\n",
       "      <th>2013-01-03</th>\n",
       "      <td>1.861569</td>\n",
       "      <td>-0.553981</td>\n",
       "      <td>0.510010</td>\n",
       "      <td>-0.774551</td>\n",
       "    </tr>\n",
       "    <tr>\n",
       "      <th>2013-01-04</th>\n",
       "      <td>0.785987</td>\n",
       "      <td>0.649812</td>\n",
       "      <td>0.016588</td>\n",
       "      <td>-0.249853</td>\n",
       "    </tr>\n",
       "    <tr>\n",
       "      <th>2013-01-05</th>\n",
       "      <td>-0.370847</td>\n",
       "      <td>2.914986</td>\n",
       "      <td>0.073291</td>\n",
       "      <td>1.239066</td>\n",
       "    </tr>\n",
       "    <tr>\n",
       "      <th>2013-01-06</th>\n",
       "      <td>0.215409</td>\n",
       "      <td>0.079357</td>\n",
       "      <td>0.561045</td>\n",
       "      <td>1.532362</td>\n",
       "    </tr>\n",
       "  </tbody>\n",
       "</table>\n",
       "</div>"
      ],
      "text/plain": [
       "                   A         B         C         D\n",
       "2013-01-01 -0.821057  0.602535 -1.161696  0.082297\n",
       "2013-01-02  0.496160  0.546749  0.625332 -0.307847\n",
       "2013-01-03  1.861569 -0.553981  0.510010 -0.774551\n",
       "2013-01-04  0.785987  0.649812  0.016588 -0.249853\n",
       "2013-01-05 -0.370847  2.914986  0.073291  1.239066\n",
       "2013-01-06  0.215409  0.079357  0.561045  1.532362"
      ]
     },
     "execution_count": 75,
     "metadata": {},
     "output_type": "execute_result"
    }
   ],
   "source": [
    "data=pd.date_range('20130101',periods=6)\n",
    "df=pd.DataFrame(np.random.randn(6,4),index=data,columns=list('ABCD'))\n",
    "df"
   ]
  },
  {
   "cell_type": "code",
   "execution_count": 76,
   "id": "6f751241",
   "metadata": {},
   "outputs": [],
   "source": [
    "df2 = pd.DataFrame(\n",
    "    {\n",
    "        \"A\": 1.0,\n",
    "        \"B\": pd.Timestamp(\"20130102\"),\n",
    "        \"C\": pd.Series(1, index=list(range(4)), dtype=\"float32\"),\n",
    "        \"D\": np.array([3] * 4, dtype=\"int32\"),\n",
    "        \"E\": pd.Categorical([\"test\", \"train\", \"test\", \"train\"]),\n",
    "        \"F\": \"foo\",\n",
    "    }\n",
    ")"
   ]
  },
  {
   "cell_type": "code",
   "execution_count": 77,
   "id": "35a19a42",
   "metadata": {},
   "outputs": [
    {
     "data": {
      "text/html": [
       "<div>\n",
       "<style scoped>\n",
       "    .dataframe tbody tr th:only-of-type {\n",
       "        vertical-align: middle;\n",
       "    }\n",
       "\n",
       "    .dataframe tbody tr th {\n",
       "        vertical-align: top;\n",
       "    }\n",
       "\n",
       "    .dataframe thead th {\n",
       "        text-align: right;\n",
       "    }\n",
       "</style>\n",
       "<table border=\"1\" class=\"dataframe\">\n",
       "  <thead>\n",
       "    <tr style=\"text-align: right;\">\n",
       "      <th></th>\n",
       "      <th>A</th>\n",
       "      <th>B</th>\n",
       "      <th>C</th>\n",
       "      <th>D</th>\n",
       "      <th>E</th>\n",
       "      <th>F</th>\n",
       "    </tr>\n",
       "  </thead>\n",
       "  <tbody>\n",
       "    <tr>\n",
       "      <th>0</th>\n",
       "      <td>1.0</td>\n",
       "      <td>2013-01-02</td>\n",
       "      <td>1.0</td>\n",
       "      <td>3</td>\n",
       "      <td>test</td>\n",
       "      <td>foo</td>\n",
       "    </tr>\n",
       "    <tr>\n",
       "      <th>1</th>\n",
       "      <td>1.0</td>\n",
       "      <td>2013-01-02</td>\n",
       "      <td>1.0</td>\n",
       "      <td>3</td>\n",
       "      <td>train</td>\n",
       "      <td>foo</td>\n",
       "    </tr>\n",
       "    <tr>\n",
       "      <th>2</th>\n",
       "      <td>1.0</td>\n",
       "      <td>2013-01-02</td>\n",
       "      <td>1.0</td>\n",
       "      <td>3</td>\n",
       "      <td>test</td>\n",
       "      <td>foo</td>\n",
       "    </tr>\n",
       "    <tr>\n",
       "      <th>3</th>\n",
       "      <td>1.0</td>\n",
       "      <td>2013-01-02</td>\n",
       "      <td>1.0</td>\n",
       "      <td>3</td>\n",
       "      <td>train</td>\n",
       "      <td>foo</td>\n",
       "    </tr>\n",
       "  </tbody>\n",
       "</table>\n",
       "</div>"
      ],
      "text/plain": [
       "     A          B    C  D      E    F\n",
       "0  1.0 2013-01-02  1.0  3   test  foo\n",
       "1  1.0 2013-01-02  1.0  3  train  foo\n",
       "2  1.0 2013-01-02  1.0  3   test  foo\n",
       "3  1.0 2013-01-02  1.0  3  train  foo"
      ]
     },
     "execution_count": 77,
     "metadata": {},
     "output_type": "execute_result"
    }
   ],
   "source": [
    "df2"
   ]
  },
  {
   "cell_type": "code",
   "execution_count": 78,
   "id": "d65e14dc",
   "metadata": {},
   "outputs": [
    {
     "data": {
      "text/plain": [
       "A           float64\n",
       "B    datetime64[ns]\n",
       "C           float32\n",
       "D             int32\n",
       "E          category\n",
       "F            object\n",
       "dtype: object"
      ]
     },
     "execution_count": 78,
     "metadata": {},
     "output_type": "execute_result"
    }
   ],
   "source": [
    "df2.dtypes"
   ]
  },
  {
   "cell_type": "code",
   "execution_count": 80,
   "id": "a672bb3c",
   "metadata": {},
   "outputs": [],
   "source": [
    "df2['A']=df2['A'].astype('float16')"
   ]
  },
  {
   "cell_type": "code",
   "execution_count": 81,
   "id": "b6264cfc",
   "metadata": {},
   "outputs": [
    {
     "name": "stdout",
     "output_type": "stream",
     "text": [
      "<class 'pandas.core.frame.DataFrame'>\n",
      "Int64Index: 4 entries, 0 to 3\n",
      "Data columns (total 6 columns):\n",
      " #   Column  Non-Null Count  Dtype         \n",
      "---  ------  --------------  -----         \n",
      " 0   A       4 non-null      float16       \n",
      " 1   B       4 non-null      datetime64[ns]\n",
      " 2   C       4 non-null      float32       \n",
      " 3   D       4 non-null      int32         \n",
      " 4   E       4 non-null      category      \n",
      " 5   F       4 non-null      object        \n",
      "dtypes: category(1), datetime64[ns](1), float16(1), float32(1), int32(1), object(1)\n",
      "memory usage: 264.0+ bytes\n"
     ]
    }
   ],
   "source": [
    "df2.info()"
   ]
  },
  {
   "cell_type": "code",
   "execution_count": 82,
   "id": "bcb2d0f8",
   "metadata": {},
   "outputs": [
    {
     "data": {
      "text/html": [
       "<div>\n",
       "<style scoped>\n",
       "    .dataframe tbody tr th:only-of-type {\n",
       "        vertical-align: middle;\n",
       "    }\n",
       "\n",
       "    .dataframe tbody tr th {\n",
       "        vertical-align: top;\n",
       "    }\n",
       "\n",
       "    .dataframe thead th {\n",
       "        text-align: right;\n",
       "    }\n",
       "</style>\n",
       "<table border=\"1\" class=\"dataframe\">\n",
       "  <thead>\n",
       "    <tr style=\"text-align: right;\">\n",
       "      <th></th>\n",
       "      <th>A</th>\n",
       "      <th>B</th>\n",
       "      <th>C</th>\n",
       "      <th>D</th>\n",
       "      <th>E</th>\n",
       "      <th>F</th>\n",
       "    </tr>\n",
       "  </thead>\n",
       "  <tbody>\n",
       "    <tr>\n",
       "      <th>0</th>\n",
       "      <td>1.0</td>\n",
       "      <td>2013-01-02</td>\n",
       "      <td>1.0</td>\n",
       "      <td>3</td>\n",
       "      <td>test</td>\n",
       "      <td>foo</td>\n",
       "    </tr>\n",
       "    <tr>\n",
       "      <th>1</th>\n",
       "      <td>1.0</td>\n",
       "      <td>2013-01-02</td>\n",
       "      <td>1.0</td>\n",
       "      <td>3</td>\n",
       "      <td>train</td>\n",
       "      <td>foo</td>\n",
       "    </tr>\n",
       "  </tbody>\n",
       "</table>\n",
       "</div>"
      ],
      "text/plain": [
       "     A          B    C  D      E    F\n",
       "0  1.0 2013-01-02  1.0  3   test  foo\n",
       "1  1.0 2013-01-02  1.0  3  train  foo"
      ]
     },
     "execution_count": 82,
     "metadata": {},
     "output_type": "execute_result"
    }
   ],
   "source": [
    "df2.head(2)"
   ]
  },
  {
   "cell_type": "code",
   "execution_count": 84,
   "id": "775e7555",
   "metadata": {},
   "outputs": [
    {
     "data": {
      "text/html": [
       "<div>\n",
       "<style scoped>\n",
       "    .dataframe tbody tr th:only-of-type {\n",
       "        vertical-align: middle;\n",
       "    }\n",
       "\n",
       "    .dataframe tbody tr th {\n",
       "        vertical-align: top;\n",
       "    }\n",
       "\n",
       "    .dataframe thead th {\n",
       "        text-align: right;\n",
       "    }\n",
       "</style>\n",
       "<table border=\"1\" class=\"dataframe\">\n",
       "  <thead>\n",
       "    <tr style=\"text-align: right;\">\n",
       "      <th></th>\n",
       "      <th>A</th>\n",
       "      <th>B</th>\n",
       "      <th>C</th>\n",
       "      <th>D</th>\n",
       "      <th>E</th>\n",
       "      <th>F</th>\n",
       "    </tr>\n",
       "  </thead>\n",
       "  <tbody>\n",
       "    <tr>\n",
       "      <th>0</th>\n",
       "      <td>1.0</td>\n",
       "      <td>2013-01-02</td>\n",
       "      <td>1.0</td>\n",
       "      <td>3</td>\n",
       "      <td>test</td>\n",
       "      <td>foo</td>\n",
       "    </tr>\n",
       "    <tr>\n",
       "      <th>1</th>\n",
       "      <td>1.0</td>\n",
       "      <td>2013-01-02</td>\n",
       "      <td>1.0</td>\n",
       "      <td>3</td>\n",
       "      <td>train</td>\n",
       "      <td>foo</td>\n",
       "    </tr>\n",
       "    <tr>\n",
       "      <th>2</th>\n",
       "      <td>1.0</td>\n",
       "      <td>2013-01-02</td>\n",
       "      <td>1.0</td>\n",
       "      <td>3</td>\n",
       "      <td>test</td>\n",
       "      <td>foo</td>\n",
       "    </tr>\n",
       "    <tr>\n",
       "      <th>3</th>\n",
       "      <td>1.0</td>\n",
       "      <td>2013-01-02</td>\n",
       "      <td>1.0</td>\n",
       "      <td>3</td>\n",
       "      <td>train</td>\n",
       "      <td>foo</td>\n",
       "    </tr>\n",
       "  </tbody>\n",
       "</table>\n",
       "</div>"
      ],
      "text/plain": [
       "     A          B    C  D      E    F\n",
       "0  1.0 2013-01-02  1.0  3   test  foo\n",
       "1  1.0 2013-01-02  1.0  3  train  foo\n",
       "2  1.0 2013-01-02  1.0  3   test  foo\n",
       "3  1.0 2013-01-02  1.0  3  train  foo"
      ]
     },
     "execution_count": 84,
     "metadata": {},
     "output_type": "execute_result"
    }
   ],
   "source": [
    "df2.tail()"
   ]
  },
  {
   "cell_type": "code",
   "execution_count": 85,
   "id": "c8c9dead",
   "metadata": {},
   "outputs": [
    {
     "data": {
      "text/plain": [
       "Int64Index([0, 1, 2, 3], dtype='int64')"
      ]
     },
     "execution_count": 85,
     "metadata": {},
     "output_type": "execute_result"
    }
   ],
   "source": [
    "df2.index"
   ]
  },
  {
   "cell_type": "code",
   "execution_count": 86,
   "id": "17e80a07",
   "metadata": {},
   "outputs": [
    {
     "data": {
      "text/plain": [
       "Index(['A', 'B', 'C', 'D', 'E', 'F'], dtype='object')"
      ]
     },
     "execution_count": 86,
     "metadata": {},
     "output_type": "execute_result"
    }
   ],
   "source": [
    "df2.columns"
   ]
  },
  {
   "cell_type": "code",
   "execution_count": 87,
   "id": "ea2c3e6d",
   "metadata": {},
   "outputs": [
    {
     "data": {
      "text/plain": [
       "array([[1.0, Timestamp('2013-01-02 00:00:00'), 1.0, 3, 'test', 'foo'],\n",
       "       [1.0, Timestamp('2013-01-02 00:00:00'), 1.0, 3, 'train', 'foo'],\n",
       "       [1.0, Timestamp('2013-01-02 00:00:00'), 1.0, 3, 'test', 'foo'],\n",
       "       [1.0, Timestamp('2013-01-02 00:00:00'), 1.0, 3, 'train', 'foo']],\n",
       "      dtype=object)"
      ]
     },
     "execution_count": 87,
     "metadata": {},
     "output_type": "execute_result"
    }
   ],
   "source": [
    "df2.to_numpy()"
   ]
  },
  {
   "cell_type": "code",
   "execution_count": 88,
   "id": "e3341e7b",
   "metadata": {},
   "outputs": [
    {
     "data": {
      "text/html": [
       "<div>\n",
       "<style scoped>\n",
       "    .dataframe tbody tr th:only-of-type {\n",
       "        vertical-align: middle;\n",
       "    }\n",
       "\n",
       "    .dataframe tbody tr th {\n",
       "        vertical-align: top;\n",
       "    }\n",
       "\n",
       "    .dataframe thead th {\n",
       "        text-align: right;\n",
       "    }\n",
       "</style>\n",
       "<table border=\"1\" class=\"dataframe\">\n",
       "  <thead>\n",
       "    <tr style=\"text-align: right;\">\n",
       "      <th></th>\n",
       "      <th>A</th>\n",
       "      <th>C</th>\n",
       "      <th>D</th>\n",
       "    </tr>\n",
       "  </thead>\n",
       "  <tbody>\n",
       "    <tr>\n",
       "      <th>count</th>\n",
       "      <td>4.0</td>\n",
       "      <td>4.0</td>\n",
       "      <td>4.0</td>\n",
       "    </tr>\n",
       "    <tr>\n",
       "      <th>mean</th>\n",
       "      <td>1.0</td>\n",
       "      <td>1.0</td>\n",
       "      <td>3.0</td>\n",
       "    </tr>\n",
       "    <tr>\n",
       "      <th>std</th>\n",
       "      <td>0.0</td>\n",
       "      <td>0.0</td>\n",
       "      <td>0.0</td>\n",
       "    </tr>\n",
       "    <tr>\n",
       "      <th>min</th>\n",
       "      <td>1.0</td>\n",
       "      <td>1.0</td>\n",
       "      <td>3.0</td>\n",
       "    </tr>\n",
       "    <tr>\n",
       "      <th>25%</th>\n",
       "      <td>1.0</td>\n",
       "      <td>1.0</td>\n",
       "      <td>3.0</td>\n",
       "    </tr>\n",
       "    <tr>\n",
       "      <th>50%</th>\n",
       "      <td>1.0</td>\n",
       "      <td>1.0</td>\n",
       "      <td>3.0</td>\n",
       "    </tr>\n",
       "    <tr>\n",
       "      <th>75%</th>\n",
       "      <td>1.0</td>\n",
       "      <td>1.0</td>\n",
       "      <td>3.0</td>\n",
       "    </tr>\n",
       "    <tr>\n",
       "      <th>max</th>\n",
       "      <td>1.0</td>\n",
       "      <td>1.0</td>\n",
       "      <td>3.0</td>\n",
       "    </tr>\n",
       "  </tbody>\n",
       "</table>\n",
       "</div>"
      ],
      "text/plain": [
       "         A    C    D\n",
       "count  4.0  4.0  4.0\n",
       "mean   1.0  1.0  3.0\n",
       "std    0.0  0.0  0.0\n",
       "min    1.0  1.0  3.0\n",
       "25%    1.0  1.0  3.0\n",
       "50%    1.0  1.0  3.0\n",
       "75%    1.0  1.0  3.0\n",
       "max    1.0  1.0  3.0"
      ]
     },
     "execution_count": 88,
     "metadata": {},
     "output_type": "execute_result"
    }
   ],
   "source": [
    "df2.describe()"
   ]
  },
  {
   "cell_type": "markdown",
   "id": "4ddd60ac",
   "metadata": {},
   "source": [
    "df2.T"
   ]
  },
  {
   "cell_type": "code",
   "execution_count": 90,
   "id": "11dbdffe",
   "metadata": {},
   "outputs": [
    {
     "data": {
      "text/html": [
       "<div>\n",
       "<style scoped>\n",
       "    .dataframe tbody tr th:only-of-type {\n",
       "        vertical-align: middle;\n",
       "    }\n",
       "\n",
       "    .dataframe tbody tr th {\n",
       "        vertical-align: top;\n",
       "    }\n",
       "\n",
       "    .dataframe thead th {\n",
       "        text-align: right;\n",
       "    }\n",
       "</style>\n",
       "<table border=\"1\" class=\"dataframe\">\n",
       "  <thead>\n",
       "    <tr style=\"text-align: right;\">\n",
       "      <th></th>\n",
       "      <th>0</th>\n",
       "      <th>1</th>\n",
       "      <th>2</th>\n",
       "      <th>3</th>\n",
       "    </tr>\n",
       "  </thead>\n",
       "  <tbody>\n",
       "    <tr>\n",
       "      <th>A</th>\n",
       "      <td>1.0</td>\n",
       "      <td>1.0</td>\n",
       "      <td>1.0</td>\n",
       "      <td>1.0</td>\n",
       "    </tr>\n",
       "    <tr>\n",
       "      <th>B</th>\n",
       "      <td>2013-01-02 00:00:00</td>\n",
       "      <td>2013-01-02 00:00:00</td>\n",
       "      <td>2013-01-02 00:00:00</td>\n",
       "      <td>2013-01-02 00:00:00</td>\n",
       "    </tr>\n",
       "    <tr>\n",
       "      <th>C</th>\n",
       "      <td>1.0</td>\n",
       "      <td>1.0</td>\n",
       "      <td>1.0</td>\n",
       "      <td>1.0</td>\n",
       "    </tr>\n",
       "    <tr>\n",
       "      <th>D</th>\n",
       "      <td>3</td>\n",
       "      <td>3</td>\n",
       "      <td>3</td>\n",
       "      <td>3</td>\n",
       "    </tr>\n",
       "    <tr>\n",
       "      <th>E</th>\n",
       "      <td>test</td>\n",
       "      <td>train</td>\n",
       "      <td>test</td>\n",
       "      <td>train</td>\n",
       "    </tr>\n",
       "    <tr>\n",
       "      <th>F</th>\n",
       "      <td>foo</td>\n",
       "      <td>foo</td>\n",
       "      <td>foo</td>\n",
       "      <td>foo</td>\n",
       "    </tr>\n",
       "  </tbody>\n",
       "</table>\n",
       "</div>"
      ],
      "text/plain": [
       "                     0                    1                    2  \\\n",
       "A                  1.0                  1.0                  1.0   \n",
       "B  2013-01-02 00:00:00  2013-01-02 00:00:00  2013-01-02 00:00:00   \n",
       "C                  1.0                  1.0                  1.0   \n",
       "D                    3                    3                    3   \n",
       "E                 test                train                 test   \n",
       "F                  foo                  foo                  foo   \n",
       "\n",
       "                     3  \n",
       "A                  1.0  \n",
       "B  2013-01-02 00:00:00  \n",
       "C                  1.0  \n",
       "D                    3  \n",
       "E                train  \n",
       "F                  foo  "
      ]
     },
     "execution_count": 90,
     "metadata": {},
     "output_type": "execute_result"
    }
   ],
   "source": [
    "df2.T"
   ]
  },
  {
   "cell_type": "code",
   "execution_count": 92,
   "id": "1632e3e4",
   "metadata": {},
   "outputs": [
    {
     "data": {
      "text/html": [
       "<div>\n",
       "<style scoped>\n",
       "    .dataframe tbody tr th:only-of-type {\n",
       "        vertical-align: middle;\n",
       "    }\n",
       "\n",
       "    .dataframe tbody tr th {\n",
       "        vertical-align: top;\n",
       "    }\n",
       "\n",
       "    .dataframe thead th {\n",
       "        text-align: right;\n",
       "    }\n",
       "</style>\n",
       "<table border=\"1\" class=\"dataframe\">\n",
       "  <thead>\n",
       "    <tr style=\"text-align: right;\">\n",
       "      <th></th>\n",
       "      <th>A</th>\n",
       "      <th>B</th>\n",
       "      <th>C</th>\n",
       "      <th>D</th>\n",
       "    </tr>\n",
       "  </thead>\n",
       "  <tbody>\n",
       "    <tr>\n",
       "      <th>2013-01-06</th>\n",
       "      <td>0.215409</td>\n",
       "      <td>0.079357</td>\n",
       "      <td>0.561045</td>\n",
       "      <td>1.532362</td>\n",
       "    </tr>\n",
       "    <tr>\n",
       "      <th>2013-01-05</th>\n",
       "      <td>-0.370847</td>\n",
       "      <td>2.914986</td>\n",
       "      <td>0.073291</td>\n",
       "      <td>1.239066</td>\n",
       "    </tr>\n",
       "    <tr>\n",
       "      <th>2013-01-04</th>\n",
       "      <td>0.785987</td>\n",
       "      <td>0.649812</td>\n",
       "      <td>0.016588</td>\n",
       "      <td>-0.249853</td>\n",
       "    </tr>\n",
       "    <tr>\n",
       "      <th>2013-01-03</th>\n",
       "      <td>1.861569</td>\n",
       "      <td>-0.553981</td>\n",
       "      <td>0.510010</td>\n",
       "      <td>-0.774551</td>\n",
       "    </tr>\n",
       "    <tr>\n",
       "      <th>2013-01-02</th>\n",
       "      <td>0.496160</td>\n",
       "      <td>0.546749</td>\n",
       "      <td>0.625332</td>\n",
       "      <td>-0.307847</td>\n",
       "    </tr>\n",
       "    <tr>\n",
       "      <th>2013-01-01</th>\n",
       "      <td>-0.821057</td>\n",
       "      <td>0.602535</td>\n",
       "      <td>-1.161696</td>\n",
       "      <td>0.082297</td>\n",
       "    </tr>\n",
       "  </tbody>\n",
       "</table>\n",
       "</div>"
      ],
      "text/plain": [
       "                   A         B         C         D\n",
       "2013-01-06  0.215409  0.079357  0.561045  1.532362\n",
       "2013-01-05 -0.370847  2.914986  0.073291  1.239066\n",
       "2013-01-04  0.785987  0.649812  0.016588 -0.249853\n",
       "2013-01-03  1.861569 -0.553981  0.510010 -0.774551\n",
       "2013-01-02  0.496160  0.546749  0.625332 -0.307847\n",
       "2013-01-01 -0.821057  0.602535 -1.161696  0.082297"
      ]
     },
     "execution_count": 92,
     "metadata": {},
     "output_type": "execute_result"
    }
   ],
   "source": [
    "df.sort_index(axis=0,ascending=False)"
   ]
  },
  {
   "cell_type": "code",
   "execution_count": 97,
   "id": "4636a816",
   "metadata": {},
   "outputs": [
    {
     "data": {
      "text/html": [
       "<div>\n",
       "<style scoped>\n",
       "    .dataframe tbody tr th:only-of-type {\n",
       "        vertical-align: middle;\n",
       "    }\n",
       "\n",
       "    .dataframe tbody tr th {\n",
       "        vertical-align: top;\n",
       "    }\n",
       "\n",
       "    .dataframe thead th {\n",
       "        text-align: right;\n",
       "    }\n",
       "</style>\n",
       "<table border=\"1\" class=\"dataframe\">\n",
       "  <thead>\n",
       "    <tr style=\"text-align: right;\">\n",
       "      <th></th>\n",
       "      <th>A</th>\n",
       "      <th>B</th>\n",
       "      <th>C</th>\n",
       "      <th>D</th>\n",
       "    </tr>\n",
       "  </thead>\n",
       "  <tbody>\n",
       "    <tr>\n",
       "      <th>2013-01-01</th>\n",
       "      <td>-0.821057</td>\n",
       "      <td>0.602535</td>\n",
       "      <td>-1.161696</td>\n",
       "      <td>0.082297</td>\n",
       "    </tr>\n",
       "    <tr>\n",
       "      <th>2013-01-04</th>\n",
       "      <td>0.785987</td>\n",
       "      <td>0.649812</td>\n",
       "      <td>0.016588</td>\n",
       "      <td>-0.249853</td>\n",
       "    </tr>\n",
       "    <tr>\n",
       "      <th>2013-01-05</th>\n",
       "      <td>-0.370847</td>\n",
       "      <td>2.914986</td>\n",
       "      <td>0.073291</td>\n",
       "      <td>1.239066</td>\n",
       "    </tr>\n",
       "    <tr>\n",
       "      <th>2013-01-03</th>\n",
       "      <td>1.861569</td>\n",
       "      <td>-0.553981</td>\n",
       "      <td>0.510010</td>\n",
       "      <td>-0.774551</td>\n",
       "    </tr>\n",
       "    <tr>\n",
       "      <th>2013-01-06</th>\n",
       "      <td>0.215409</td>\n",
       "      <td>0.079357</td>\n",
       "      <td>0.561045</td>\n",
       "      <td>1.532362</td>\n",
       "    </tr>\n",
       "    <tr>\n",
       "      <th>2013-01-02</th>\n",
       "      <td>0.496160</td>\n",
       "      <td>0.546749</td>\n",
       "      <td>0.625332</td>\n",
       "      <td>-0.307847</td>\n",
       "    </tr>\n",
       "  </tbody>\n",
       "</table>\n",
       "</div>"
      ],
      "text/plain": [
       "                   A         B         C         D\n",
       "2013-01-01 -0.821057  0.602535 -1.161696  0.082297\n",
       "2013-01-04  0.785987  0.649812  0.016588 -0.249853\n",
       "2013-01-05 -0.370847  2.914986  0.073291  1.239066\n",
       "2013-01-03  1.861569 -0.553981  0.510010 -0.774551\n",
       "2013-01-06  0.215409  0.079357  0.561045  1.532362\n",
       "2013-01-02  0.496160  0.546749  0.625332 -0.307847"
      ]
     },
     "execution_count": 97,
     "metadata": {},
     "output_type": "execute_result"
    }
   ],
   "source": [
    "df.sort_values(by='C')"
   ]
  },
  {
   "cell_type": "code",
   "execution_count": 99,
   "id": "a28b8af8",
   "metadata": {},
   "outputs": [
    {
     "data": {
      "text/html": [
       "<div>\n",
       "<style scoped>\n",
       "    .dataframe tbody tr th:only-of-type {\n",
       "        vertical-align: middle;\n",
       "    }\n",
       "\n",
       "    .dataframe tbody tr th {\n",
       "        vertical-align: top;\n",
       "    }\n",
       "\n",
       "    .dataframe thead th {\n",
       "        text-align: right;\n",
       "    }\n",
       "</style>\n",
       "<table border=\"1\" class=\"dataframe\">\n",
       "  <thead>\n",
       "    <tr style=\"text-align: right;\">\n",
       "      <th></th>\n",
       "      <th>A</th>\n",
       "      <th>B</th>\n",
       "      <th>C</th>\n",
       "      <th>D</th>\n",
       "    </tr>\n",
       "  </thead>\n",
       "  <tbody>\n",
       "    <tr>\n",
       "      <th>2013-01-01</th>\n",
       "      <td>-0.821057</td>\n",
       "      <td>0.602535</td>\n",
       "      <td>-1.161696</td>\n",
       "      <td>0.082297</td>\n",
       "    </tr>\n",
       "    <tr>\n",
       "      <th>2013-01-02</th>\n",
       "      <td>0.496160</td>\n",
       "      <td>0.546749</td>\n",
       "      <td>0.625332</td>\n",
       "      <td>-0.307847</td>\n",
       "    </tr>\n",
       "    <tr>\n",
       "      <th>2013-01-03</th>\n",
       "      <td>1.861569</td>\n",
       "      <td>-0.553981</td>\n",
       "      <td>0.510010</td>\n",
       "      <td>-0.774551</td>\n",
       "    </tr>\n",
       "  </tbody>\n",
       "</table>\n",
       "</div>"
      ],
      "text/plain": [
       "                   A         B         C         D\n",
       "2013-01-01 -0.821057  0.602535 -1.161696  0.082297\n",
       "2013-01-02  0.496160  0.546749  0.625332 -0.307847\n",
       "2013-01-03  1.861569 -0.553981  0.510010 -0.774551"
      ]
     },
     "execution_count": 99,
     "metadata": {},
     "output_type": "execute_result"
    }
   ],
   "source": [
    "df[0:3]"
   ]
  },
  {
   "cell_type": "code",
   "execution_count": 100,
   "id": "902c750d",
   "metadata": {},
   "outputs": [
    {
     "data": {
      "text/html": [
       "<div>\n",
       "<style scoped>\n",
       "    .dataframe tbody tr th:only-of-type {\n",
       "        vertical-align: middle;\n",
       "    }\n",
       "\n",
       "    .dataframe tbody tr th {\n",
       "        vertical-align: top;\n",
       "    }\n",
       "\n",
       "    .dataframe thead th {\n",
       "        text-align: right;\n",
       "    }\n",
       "</style>\n",
       "<table border=\"1\" class=\"dataframe\">\n",
       "  <thead>\n",
       "    <tr style=\"text-align: right;\">\n",
       "      <th></th>\n",
       "      <th>A</th>\n",
       "      <th>B</th>\n",
       "      <th>C</th>\n",
       "      <th>D</th>\n",
       "    </tr>\n",
       "  </thead>\n",
       "  <tbody>\n",
       "    <tr>\n",
       "      <th>2013-01-06</th>\n",
       "      <td>0.215409</td>\n",
       "      <td>0.079357</td>\n",
       "      <td>0.561045</td>\n",
       "      <td>1.532362</td>\n",
       "    </tr>\n",
       "    <tr>\n",
       "      <th>2013-01-05</th>\n",
       "      <td>-0.370847</td>\n",
       "      <td>2.914986</td>\n",
       "      <td>0.073291</td>\n",
       "      <td>1.239066</td>\n",
       "    </tr>\n",
       "    <tr>\n",
       "      <th>2013-01-04</th>\n",
       "      <td>0.785987</td>\n",
       "      <td>0.649812</td>\n",
       "      <td>0.016588</td>\n",
       "      <td>-0.249853</td>\n",
       "    </tr>\n",
       "    <tr>\n",
       "      <th>2013-01-03</th>\n",
       "      <td>1.861569</td>\n",
       "      <td>-0.553981</td>\n",
       "      <td>0.510010</td>\n",
       "      <td>-0.774551</td>\n",
       "    </tr>\n",
       "    <tr>\n",
       "      <th>2013-01-02</th>\n",
       "      <td>0.496160</td>\n",
       "      <td>0.546749</td>\n",
       "      <td>0.625332</td>\n",
       "      <td>-0.307847</td>\n",
       "    </tr>\n",
       "    <tr>\n",
       "      <th>2013-01-01</th>\n",
       "      <td>-0.821057</td>\n",
       "      <td>0.602535</td>\n",
       "      <td>-1.161696</td>\n",
       "      <td>0.082297</td>\n",
       "    </tr>\n",
       "  </tbody>\n",
       "</table>\n",
       "</div>"
      ],
      "text/plain": [
       "                   A         B         C         D\n",
       "2013-01-06  0.215409  0.079357  0.561045  1.532362\n",
       "2013-01-05 -0.370847  2.914986  0.073291  1.239066\n",
       "2013-01-04  0.785987  0.649812  0.016588 -0.249853\n",
       "2013-01-03  1.861569 -0.553981  0.510010 -0.774551\n",
       "2013-01-02  0.496160  0.546749  0.625332 -0.307847\n",
       "2013-01-01 -0.821057  0.602535 -1.161696  0.082297"
      ]
     },
     "execution_count": 100,
     "metadata": {},
     "output_type": "execute_result"
    }
   ],
   "source": [
    "df[::-1]"
   ]
  },
  {
   "cell_type": "code",
   "execution_count": 104,
   "id": "779ce64d",
   "metadata": {},
   "outputs": [
    {
     "data": {
      "text/html": [
       "<div>\n",
       "<style scoped>\n",
       "    .dataframe tbody tr th:only-of-type {\n",
       "        vertical-align: middle;\n",
       "    }\n",
       "\n",
       "    .dataframe tbody tr th {\n",
       "        vertical-align: top;\n",
       "    }\n",
       "\n",
       "    .dataframe thead th {\n",
       "        text-align: right;\n",
       "    }\n",
       "</style>\n",
       "<table border=\"1\" class=\"dataframe\">\n",
       "  <thead>\n",
       "    <tr style=\"text-align: right;\">\n",
       "      <th></th>\n",
       "      <th>A</th>\n",
       "      <th>B</th>\n",
       "      <th>C</th>\n",
       "      <th>D</th>\n",
       "    </tr>\n",
       "  </thead>\n",
       "  <tbody>\n",
       "    <tr>\n",
       "      <th>2013-01-03</th>\n",
       "      <td>1.861569</td>\n",
       "      <td>-0.553981</td>\n",
       "      <td>0.510010</td>\n",
       "      <td>-0.774551</td>\n",
       "    </tr>\n",
       "    <tr>\n",
       "      <th>2013-01-04</th>\n",
       "      <td>0.785987</td>\n",
       "      <td>0.649812</td>\n",
       "      <td>0.016588</td>\n",
       "      <td>-0.249853</td>\n",
       "    </tr>\n",
       "    <tr>\n",
       "      <th>2013-01-05</th>\n",
       "      <td>-0.370847</td>\n",
       "      <td>2.914986</td>\n",
       "      <td>0.073291</td>\n",
       "      <td>1.239066</td>\n",
       "    </tr>\n",
       "    <tr>\n",
       "      <th>2013-01-06</th>\n",
       "      <td>0.215409</td>\n",
       "      <td>0.079357</td>\n",
       "      <td>0.561045</td>\n",
       "      <td>1.532362</td>\n",
       "    </tr>\n",
       "  </tbody>\n",
       "</table>\n",
       "</div>"
      ],
      "text/plain": [
       "                   A         B         C         D\n",
       "2013-01-03  1.861569 -0.553981  0.510010 -0.774551\n",
       "2013-01-04  0.785987  0.649812  0.016588 -0.249853\n",
       "2013-01-05 -0.370847  2.914986  0.073291  1.239066\n",
       "2013-01-06  0.215409  0.079357  0.561045  1.532362"
      ]
     },
     "execution_count": 104,
     "metadata": {},
     "output_type": "execute_result"
    }
   ],
   "source": [
    "df.loc[data[2:]]"
   ]
  },
  {
   "cell_type": "code",
   "execution_count": 105,
   "id": "a14a3410",
   "metadata": {},
   "outputs": [
    {
     "data": {
      "text/html": [
       "<div>\n",
       "<style scoped>\n",
       "    .dataframe tbody tr th:only-of-type {\n",
       "        vertical-align: middle;\n",
       "    }\n",
       "\n",
       "    .dataframe tbody tr th {\n",
       "        vertical-align: top;\n",
       "    }\n",
       "\n",
       "    .dataframe thead th {\n",
       "        text-align: right;\n",
       "    }\n",
       "</style>\n",
       "<table border=\"1\" class=\"dataframe\">\n",
       "  <thead>\n",
       "    <tr style=\"text-align: right;\">\n",
       "      <th></th>\n",
       "      <th>A</th>\n",
       "      <th>B</th>\n",
       "    </tr>\n",
       "  </thead>\n",
       "  <tbody>\n",
       "    <tr>\n",
       "      <th>2013-01-01</th>\n",
       "      <td>-0.821057</td>\n",
       "      <td>0.602535</td>\n",
       "    </tr>\n",
       "    <tr>\n",
       "      <th>2013-01-02</th>\n",
       "      <td>0.496160</td>\n",
       "      <td>0.546749</td>\n",
       "    </tr>\n",
       "    <tr>\n",
       "      <th>2013-01-03</th>\n",
       "      <td>1.861569</td>\n",
       "      <td>-0.553981</td>\n",
       "    </tr>\n",
       "    <tr>\n",
       "      <th>2013-01-04</th>\n",
       "      <td>0.785987</td>\n",
       "      <td>0.649812</td>\n",
       "    </tr>\n",
       "    <tr>\n",
       "      <th>2013-01-05</th>\n",
       "      <td>-0.370847</td>\n",
       "      <td>2.914986</td>\n",
       "    </tr>\n",
       "    <tr>\n",
       "      <th>2013-01-06</th>\n",
       "      <td>0.215409</td>\n",
       "      <td>0.079357</td>\n",
       "    </tr>\n",
       "  </tbody>\n",
       "</table>\n",
       "</div>"
      ],
      "text/plain": [
       "                   A         B\n",
       "2013-01-01 -0.821057  0.602535\n",
       "2013-01-02  0.496160  0.546749\n",
       "2013-01-03  1.861569 -0.553981\n",
       "2013-01-04  0.785987  0.649812\n",
       "2013-01-05 -0.370847  2.914986\n",
       "2013-01-06  0.215409  0.079357"
      ]
     },
     "execution_count": 105,
     "metadata": {},
     "output_type": "execute_result"
    }
   ],
   "source": [
    "df.loc[:,['A','B']]"
   ]
  },
  {
   "cell_type": "code",
   "execution_count": 106,
   "id": "5a400ba7",
   "metadata": {},
   "outputs": [
    {
     "data": {
      "text/html": [
       "<div>\n",
       "<style scoped>\n",
       "    .dataframe tbody tr th:only-of-type {\n",
       "        vertical-align: middle;\n",
       "    }\n",
       "\n",
       "    .dataframe tbody tr th {\n",
       "        vertical-align: top;\n",
       "    }\n",
       "\n",
       "    .dataframe thead th {\n",
       "        text-align: right;\n",
       "    }\n",
       "</style>\n",
       "<table border=\"1\" class=\"dataframe\">\n",
       "  <thead>\n",
       "    <tr style=\"text-align: right;\">\n",
       "      <th></th>\n",
       "      <th>A</th>\n",
       "      <th>B</th>\n",
       "    </tr>\n",
       "  </thead>\n",
       "  <tbody>\n",
       "    <tr>\n",
       "      <th>2013-01-02</th>\n",
       "      <td>0.496160</td>\n",
       "      <td>0.546749</td>\n",
       "    </tr>\n",
       "    <tr>\n",
       "      <th>2013-01-03</th>\n",
       "      <td>1.861569</td>\n",
       "      <td>-0.553981</td>\n",
       "    </tr>\n",
       "    <tr>\n",
       "      <th>2013-01-04</th>\n",
       "      <td>0.785987</td>\n",
       "      <td>0.649812</td>\n",
       "    </tr>\n",
       "  </tbody>\n",
       "</table>\n",
       "</div>"
      ],
      "text/plain": [
       "                   A         B\n",
       "2013-01-02  0.496160  0.546749\n",
       "2013-01-03  1.861569 -0.553981\n",
       "2013-01-04  0.785987  0.649812"
      ]
     },
     "execution_count": 106,
     "metadata": {},
     "output_type": "execute_result"
    }
   ],
   "source": [
    "df.loc['20130102':'20130104',['A','B']]"
   ]
  },
  {
   "cell_type": "code",
   "execution_count": 107,
   "id": "d6d21722",
   "metadata": {},
   "outputs": [
    {
     "data": {
      "text/plain": [
       "-0.8210565133866496"
      ]
     },
     "execution_count": 107,
     "metadata": {},
     "output_type": "execute_result"
    }
   ],
   "source": [
    "df.loc[data[0],'A']"
   ]
  },
  {
   "cell_type": "code",
   "execution_count": 108,
   "id": "72c76a54",
   "metadata": {},
   "outputs": [
    {
     "data": {
      "text/html": [
       "<div>\n",
       "<style scoped>\n",
       "    .dataframe tbody tr th:only-of-type {\n",
       "        vertical-align: middle;\n",
       "    }\n",
       "\n",
       "    .dataframe tbody tr th {\n",
       "        vertical-align: top;\n",
       "    }\n",
       "\n",
       "    .dataframe thead th {\n",
       "        text-align: right;\n",
       "    }\n",
       "</style>\n",
       "<table border=\"1\" class=\"dataframe\">\n",
       "  <thead>\n",
       "    <tr style=\"text-align: right;\">\n",
       "      <th></th>\n",
       "      <th>A</th>\n",
       "      <th>B</th>\n",
       "      <th>C</th>\n",
       "      <th>D</th>\n",
       "    </tr>\n",
       "  </thead>\n",
       "  <tbody>\n",
       "    <tr>\n",
       "      <th>2013-01-01</th>\n",
       "      <td>-0.821057</td>\n",
       "      <td>0.602535</td>\n",
       "      <td>-1.161696</td>\n",
       "      <td>0.082297</td>\n",
       "    </tr>\n",
       "    <tr>\n",
       "      <th>2013-01-02</th>\n",
       "      <td>0.496160</td>\n",
       "      <td>0.546749</td>\n",
       "      <td>0.625332</td>\n",
       "      <td>-0.307847</td>\n",
       "    </tr>\n",
       "    <tr>\n",
       "      <th>2013-01-03</th>\n",
       "      <td>1.861569</td>\n",
       "      <td>-0.553981</td>\n",
       "      <td>0.510010</td>\n",
       "      <td>-0.774551</td>\n",
       "    </tr>\n",
       "    <tr>\n",
       "      <th>2013-01-04</th>\n",
       "      <td>0.785987</td>\n",
       "      <td>0.649812</td>\n",
       "      <td>0.016588</td>\n",
       "      <td>-0.249853</td>\n",
       "    </tr>\n",
       "    <tr>\n",
       "      <th>2013-01-05</th>\n",
       "      <td>-0.370847</td>\n",
       "      <td>2.914986</td>\n",
       "      <td>0.073291</td>\n",
       "      <td>1.239066</td>\n",
       "    </tr>\n",
       "    <tr>\n",
       "      <th>2013-01-06</th>\n",
       "      <td>0.215409</td>\n",
       "      <td>0.079357</td>\n",
       "      <td>0.561045</td>\n",
       "      <td>1.532362</td>\n",
       "    </tr>\n",
       "  </tbody>\n",
       "</table>\n",
       "</div>"
      ],
      "text/plain": [
       "                   A         B         C         D\n",
       "2013-01-01 -0.821057  0.602535 -1.161696  0.082297\n",
       "2013-01-02  0.496160  0.546749  0.625332 -0.307847\n",
       "2013-01-03  1.861569 -0.553981  0.510010 -0.774551\n",
       "2013-01-04  0.785987  0.649812  0.016588 -0.249853\n",
       "2013-01-05 -0.370847  2.914986  0.073291  1.239066\n",
       "2013-01-06  0.215409  0.079357  0.561045  1.532362"
      ]
     },
     "execution_count": 108,
     "metadata": {},
     "output_type": "execute_result"
    }
   ],
   "source": [
    "df"
   ]
  },
  {
   "cell_type": "code",
   "execution_count": 109,
   "id": "74838391",
   "metadata": {},
   "outputs": [
    {
     "data": {
      "text/html": [
       "<div>\n",
       "<style scoped>\n",
       "    .dataframe tbody tr th:only-of-type {\n",
       "        vertical-align: middle;\n",
       "    }\n",
       "\n",
       "    .dataframe tbody tr th {\n",
       "        vertical-align: top;\n",
       "    }\n",
       "\n",
       "    .dataframe thead th {\n",
       "        text-align: right;\n",
       "    }\n",
       "</style>\n",
       "<table border=\"1\" class=\"dataframe\">\n",
       "  <thead>\n",
       "    <tr style=\"text-align: right;\">\n",
       "      <th></th>\n",
       "      <th>B</th>\n",
       "      <th>C</th>\n",
       "    </tr>\n",
       "  </thead>\n",
       "  <tbody>\n",
       "    <tr>\n",
       "      <th>2013-01-02</th>\n",
       "      <td>0.546749</td>\n",
       "      <td>0.625332</td>\n",
       "    </tr>\n",
       "    <tr>\n",
       "      <th>2013-01-03</th>\n",
       "      <td>-0.553981</td>\n",
       "      <td>0.510010</td>\n",
       "    </tr>\n",
       "  </tbody>\n",
       "</table>\n",
       "</div>"
      ],
      "text/plain": [
       "                   B         C\n",
       "2013-01-02  0.546749  0.625332\n",
       "2013-01-03 -0.553981  0.510010"
      ]
     },
     "execution_count": 109,
     "metadata": {},
     "output_type": "execute_result"
    }
   ],
   "source": [
    "df.iloc[1:3,1:3]"
   ]
  },
  {
   "cell_type": "code",
   "execution_count": 118,
   "id": "05976528",
   "metadata": {},
   "outputs": [
    {
     "data": {
      "text/html": [
       "<div>\n",
       "<style scoped>\n",
       "    .dataframe tbody tr th:only-of-type {\n",
       "        vertical-align: middle;\n",
       "    }\n",
       "\n",
       "    .dataframe tbody tr th {\n",
       "        vertical-align: top;\n",
       "    }\n",
       "\n",
       "    .dataframe thead th {\n",
       "        text-align: right;\n",
       "    }\n",
       "</style>\n",
       "<table border=\"1\" class=\"dataframe\">\n",
       "  <thead>\n",
       "    <tr style=\"text-align: right;\">\n",
       "      <th></th>\n",
       "      <th>A</th>\n",
       "      <th>B</th>\n",
       "      <th>C</th>\n",
       "      <th>D</th>\n",
       "    </tr>\n",
       "  </thead>\n",
       "  <tbody>\n",
       "    <tr>\n",
       "      <th>2013-01-01</th>\n",
       "      <td>-0.821057</td>\n",
       "      <td>0.602535</td>\n",
       "      <td>-1.161696</td>\n",
       "      <td>0.082297</td>\n",
       "    </tr>\n",
       "    <tr>\n",
       "      <th>2013-01-02</th>\n",
       "      <td>0.496160</td>\n",
       "      <td>0.546749</td>\n",
       "      <td>0.625332</td>\n",
       "      <td>-0.307847</td>\n",
       "    </tr>\n",
       "    <tr>\n",
       "      <th>2013-01-03</th>\n",
       "      <td>1.861569</td>\n",
       "      <td>-0.553981</td>\n",
       "      <td>0.510010</td>\n",
       "      <td>-0.774551</td>\n",
       "    </tr>\n",
       "    <tr>\n",
       "      <th>2013-01-04</th>\n",
       "      <td>0.785987</td>\n",
       "      <td>0.649812</td>\n",
       "      <td>0.016588</td>\n",
       "      <td>-0.249853</td>\n",
       "    </tr>\n",
       "    <tr>\n",
       "      <th>2013-01-05</th>\n",
       "      <td>-0.370847</td>\n",
       "      <td>2.914986</td>\n",
       "      <td>0.073291</td>\n",
       "      <td>1.239066</td>\n",
       "    </tr>\n",
       "    <tr>\n",
       "      <th>2013-01-06</th>\n",
       "      <td>0.215409</td>\n",
       "      <td>0.079357</td>\n",
       "      <td>0.561045</td>\n",
       "      <td>1.532362</td>\n",
       "    </tr>\n",
       "  </tbody>\n",
       "</table>\n",
       "</div>"
      ],
      "text/plain": [
       "                   A         B         C         D\n",
       "2013-01-01 -0.821057  0.602535 -1.161696  0.082297\n",
       "2013-01-02  0.496160  0.546749  0.625332 -0.307847\n",
       "2013-01-03  1.861569 -0.553981  0.510010 -0.774551\n",
       "2013-01-04  0.785987  0.649812  0.016588 -0.249853\n",
       "2013-01-05 -0.370847  2.914986  0.073291  1.239066\n",
       "2013-01-06  0.215409  0.079357  0.561045  1.532362"
      ]
     },
     "execution_count": 118,
     "metadata": {},
     "output_type": "execute_result"
    }
   ],
   "source": [
    "df"
   ]
  },
  {
   "cell_type": "code",
   "execution_count": 134,
   "id": "5e25daed",
   "metadata": {},
   "outputs": [
    {
     "data": {
      "text/html": [
       "<div>\n",
       "<style scoped>\n",
       "    .dataframe tbody tr th:only-of-type {\n",
       "        vertical-align: middle;\n",
       "    }\n",
       "\n",
       "    .dataframe tbody tr th {\n",
       "        vertical-align: top;\n",
       "    }\n",
       "\n",
       "    .dataframe thead th {\n",
       "        text-align: right;\n",
       "    }\n",
       "</style>\n",
       "<table border=\"1\" class=\"dataframe\">\n",
       "  <thead>\n",
       "    <tr style=\"text-align: right;\">\n",
       "      <th></th>\n",
       "      <th>A</th>\n",
       "      <th>B</th>\n",
       "    </tr>\n",
       "  </thead>\n",
       "  <tbody>\n",
       "    <tr>\n",
       "      <th>2013-01-01</th>\n",
       "      <td>-0.821057</td>\n",
       "      <td>0.602535</td>\n",
       "    </tr>\n",
       "    <tr>\n",
       "      <th>2013-01-02</th>\n",
       "      <td>0.496160</td>\n",
       "      <td>0.546749</td>\n",
       "    </tr>\n",
       "    <tr>\n",
       "      <th>2013-01-03</th>\n",
       "      <td>1.861569</td>\n",
       "      <td>-0.553981</td>\n",
       "    </tr>\n",
       "    <tr>\n",
       "      <th>2013-01-04</th>\n",
       "      <td>0.785987</td>\n",
       "      <td>0.649812</td>\n",
       "    </tr>\n",
       "    <tr>\n",
       "      <th>2013-01-05</th>\n",
       "      <td>-0.370847</td>\n",
       "      <td>2.914986</td>\n",
       "    </tr>\n",
       "    <tr>\n",
       "      <th>2013-01-06</th>\n",
       "      <td>0.215409</td>\n",
       "      <td>0.079357</td>\n",
       "    </tr>\n",
       "  </tbody>\n",
       "</table>\n",
       "</div>"
      ],
      "text/plain": [
       "                   A         B\n",
       "2013-01-01 -0.821057  0.602535\n",
       "2013-01-02  0.496160  0.546749\n",
       "2013-01-03  1.861569 -0.553981\n",
       "2013-01-04  0.785987  0.649812\n",
       "2013-01-05 -0.370847  2.914986\n",
       "2013-01-06  0.215409  0.079357"
      ]
     },
     "execution_count": 134,
     "metadata": {},
     "output_type": "execute_result"
    }
   ],
   "source": [
    "df.loc[:,['A','B']]"
   ]
  },
  {
   "cell_type": "code",
   "execution_count": 136,
   "id": "337ccbba",
   "metadata": {},
   "outputs": [
    {
     "data": {
      "text/html": [
       "<div>\n",
       "<style scoped>\n",
       "    .dataframe tbody tr th:only-of-type {\n",
       "        vertical-align: middle;\n",
       "    }\n",
       "\n",
       "    .dataframe tbody tr th {\n",
       "        vertical-align: top;\n",
       "    }\n",
       "\n",
       "    .dataframe thead th {\n",
       "        text-align: right;\n",
       "    }\n",
       "</style>\n",
       "<table border=\"1\" class=\"dataframe\">\n",
       "  <thead>\n",
       "    <tr style=\"text-align: right;\">\n",
       "      <th></th>\n",
       "      <th>A</th>\n",
       "      <th>B</th>\n",
       "      <th>C</th>\n",
       "      <th>D</th>\n",
       "    </tr>\n",
       "  </thead>\n",
       "  <tbody>\n",
       "    <tr>\n",
       "      <th>2013-01-03</th>\n",
       "      <td>1.861569</td>\n",
       "      <td>-0.553981</td>\n",
       "      <td>0.51001</td>\n",
       "      <td>-0.774551</td>\n",
       "    </tr>\n",
       "  </tbody>\n",
       "</table>\n",
       "</div>"
      ],
      "text/plain": [
       "                   A         B        C         D\n",
       "2013-01-03  1.861569 -0.553981  0.51001 -0.774551"
      ]
     },
     "execution_count": 136,
     "metadata": {},
     "output_type": "execute_result"
    }
   ],
   "source": [
    "df[df['A']>1]"
   ]
  },
  {
   "cell_type": "code",
   "execution_count": 138,
   "id": "6cd735d7",
   "metadata": {},
   "outputs": [
    {
     "data": {
      "text/html": [
       "<div>\n",
       "<style scoped>\n",
       "    .dataframe tbody tr th:only-of-type {\n",
       "        vertical-align: middle;\n",
       "    }\n",
       "\n",
       "    .dataframe tbody tr th {\n",
       "        vertical-align: top;\n",
       "    }\n",
       "\n",
       "    .dataframe thead th {\n",
       "        text-align: right;\n",
       "    }\n",
       "</style>\n",
       "<table border=\"1\" class=\"dataframe\">\n",
       "  <thead>\n",
       "    <tr style=\"text-align: right;\">\n",
       "      <th></th>\n",
       "      <th>A</th>\n",
       "      <th>B</th>\n",
       "      <th>C</th>\n",
       "      <th>D</th>\n",
       "    </tr>\n",
       "  </thead>\n",
       "  <tbody>\n",
       "  </tbody>\n",
       "</table>\n",
       "</div>"
      ],
      "text/plain": [
       "Empty DataFrame\n",
       "Columns: [A, B, C, D]\n",
       "Index: []"
      ]
     },
     "execution_count": 138,
     "metadata": {},
     "output_type": "execute_result"
    }
   ],
   "source": [
    "df[df['A'].isin(['two','four'])]"
   ]
  },
  {
   "cell_type": "code",
   "execution_count": 139,
   "id": "a028047d",
   "metadata": {},
   "outputs": [
    {
     "data": {
      "text/plain": [
       "2013-01-02    1\n",
       "2013-01-03    2\n",
       "2013-01-04    3\n",
       "2013-01-05    4\n",
       "2013-01-06    5\n",
       "2013-01-07    6\n",
       "Freq: D, dtype: int64"
      ]
     },
     "execution_count": 139,
     "metadata": {},
     "output_type": "execute_result"
    }
   ],
   "source": [
    "s1=pd.Series([1,2,3,4,5,6],index=pd.date_range('20130102',periods=6))\n",
    "s1"
   ]
  },
  {
   "cell_type": "code",
   "execution_count": 142,
   "id": "a1c80699",
   "metadata": {},
   "outputs": [
    {
     "data": {
      "text/plain": [
       "array([5, 5, 5, 5, 5, 5])"
      ]
     },
     "execution_count": 142,
     "metadata": {},
     "output_type": "execute_result"
    }
   ],
   "source": [
    "v=df.loc[:,'A']=np.array([5]*len(df))\n",
    "v"
   ]
  },
  {
   "cell_type": "code",
   "execution_count": 145,
   "id": "64169f1e",
   "metadata": {},
   "outputs": [
    {
     "data": {
      "text/html": [
       "<div>\n",
       "<style scoped>\n",
       "    .dataframe tbody tr th:only-of-type {\n",
       "        vertical-align: middle;\n",
       "    }\n",
       "\n",
       "    .dataframe tbody tr th {\n",
       "        vertical-align: top;\n",
       "    }\n",
       "\n",
       "    .dataframe thead th {\n",
       "        text-align: right;\n",
       "    }\n",
       "</style>\n",
       "<table border=\"1\" class=\"dataframe\">\n",
       "  <thead>\n",
       "    <tr style=\"text-align: right;\">\n",
       "      <th></th>\n",
       "      <th>A</th>\n",
       "      <th>B</th>\n",
       "      <th>C</th>\n",
       "      <th>D</th>\n",
       "    </tr>\n",
       "  </thead>\n",
       "  <tbody>\n",
       "    <tr>\n",
       "      <th>2013-01-01</th>\n",
       "      <td>5</td>\n",
       "      <td>0.602535</td>\n",
       "      <td>-1.161696</td>\n",
       "      <td>0.082297</td>\n",
       "    </tr>\n",
       "    <tr>\n",
       "      <th>2013-01-02</th>\n",
       "      <td>5</td>\n",
       "      <td>0.546749</td>\n",
       "      <td>0.625332</td>\n",
       "      <td>-0.307847</td>\n",
       "    </tr>\n",
       "    <tr>\n",
       "      <th>2013-01-03</th>\n",
       "      <td>5</td>\n",
       "      <td>-0.553981</td>\n",
       "      <td>0.510010</td>\n",
       "      <td>-0.774551</td>\n",
       "    </tr>\n",
       "    <tr>\n",
       "      <th>2013-01-04</th>\n",
       "      <td>5</td>\n",
       "      <td>0.649812</td>\n",
       "      <td>0.016588</td>\n",
       "      <td>-0.249853</td>\n",
       "    </tr>\n",
       "    <tr>\n",
       "      <th>2013-01-05</th>\n",
       "      <td>5</td>\n",
       "      <td>2.914986</td>\n",
       "      <td>0.073291</td>\n",
       "      <td>1.239066</td>\n",
       "    </tr>\n",
       "    <tr>\n",
       "      <th>2013-01-06</th>\n",
       "      <td>5</td>\n",
       "      <td>0.079357</td>\n",
       "      <td>0.561045</td>\n",
       "      <td>1.532362</td>\n",
       "    </tr>\n",
       "  </tbody>\n",
       "</table>\n",
       "</div>"
      ],
      "text/plain": [
       "            A         B         C         D\n",
       "2013-01-01  5  0.602535 -1.161696  0.082297\n",
       "2013-01-02  5  0.546749  0.625332 -0.307847\n",
       "2013-01-03  5 -0.553981  0.510010 -0.774551\n",
       "2013-01-04  5  0.649812  0.016588 -0.249853\n",
       "2013-01-05  5  2.914986  0.073291  1.239066\n",
       "2013-01-06  5  0.079357  0.561045  1.532362"
      ]
     },
     "execution_count": 145,
     "metadata": {},
     "output_type": "execute_result"
    }
   ],
   "source": [
    "df.dropna(how='all')"
   ]
  },
  {
   "cell_type": "code",
   "execution_count": 146,
   "id": "cf32474c",
   "metadata": {},
   "outputs": [
    {
     "data": {
      "text/html": [
       "<div>\n",
       "<style scoped>\n",
       "    .dataframe tbody tr th:only-of-type {\n",
       "        vertical-align: middle;\n",
       "    }\n",
       "\n",
       "    .dataframe tbody tr th {\n",
       "        vertical-align: top;\n",
       "    }\n",
       "\n",
       "    .dataframe thead th {\n",
       "        text-align: right;\n",
       "    }\n",
       "</style>\n",
       "<table border=\"1\" class=\"dataframe\">\n",
       "  <thead>\n",
       "    <tr style=\"text-align: right;\">\n",
       "      <th></th>\n",
       "      <th>A</th>\n",
       "      <th>B</th>\n",
       "      <th>C</th>\n",
       "      <th>D</th>\n",
       "    </tr>\n",
       "  </thead>\n",
       "  <tbody>\n",
       "    <tr>\n",
       "      <th>2013-01-01</th>\n",
       "      <td>5</td>\n",
       "      <td>0.602535</td>\n",
       "      <td>-1.161696</td>\n",
       "      <td>0.082297</td>\n",
       "    </tr>\n",
       "    <tr>\n",
       "      <th>2013-01-02</th>\n",
       "      <td>5</td>\n",
       "      <td>0.546749</td>\n",
       "      <td>0.625332</td>\n",
       "      <td>-0.307847</td>\n",
       "    </tr>\n",
       "    <tr>\n",
       "      <th>2013-01-03</th>\n",
       "      <td>5</td>\n",
       "      <td>-0.553981</td>\n",
       "      <td>0.510010</td>\n",
       "      <td>-0.774551</td>\n",
       "    </tr>\n",
       "    <tr>\n",
       "      <th>2013-01-04</th>\n",
       "      <td>5</td>\n",
       "      <td>0.649812</td>\n",
       "      <td>0.016588</td>\n",
       "      <td>-0.249853</td>\n",
       "    </tr>\n",
       "    <tr>\n",
       "      <th>2013-01-05</th>\n",
       "      <td>5</td>\n",
       "      <td>2.914986</td>\n",
       "      <td>0.073291</td>\n",
       "      <td>1.239066</td>\n",
       "    </tr>\n",
       "    <tr>\n",
       "      <th>2013-01-06</th>\n",
       "      <td>5</td>\n",
       "      <td>0.079357</td>\n",
       "      <td>0.561045</td>\n",
       "      <td>1.532362</td>\n",
       "    </tr>\n",
       "  </tbody>\n",
       "</table>\n",
       "</div>"
      ],
      "text/plain": [
       "            A         B         C         D\n",
       "2013-01-01  5  0.602535 -1.161696  0.082297\n",
       "2013-01-02  5  0.546749  0.625332 -0.307847\n",
       "2013-01-03  5 -0.553981  0.510010 -0.774551\n",
       "2013-01-04  5  0.649812  0.016588 -0.249853\n",
       "2013-01-05  5  2.914986  0.073291  1.239066\n",
       "2013-01-06  5  0.079357  0.561045  1.532362"
      ]
     },
     "execution_count": 146,
     "metadata": {},
     "output_type": "execute_result"
    }
   ],
   "source": [
    "df.fillna(value=5)"
   ]
  },
  {
   "cell_type": "code",
   "execution_count": 149,
   "id": "2ae5d5d4",
   "metadata": {},
   "outputs": [
    {
     "data": {
      "text/plain": [
       "A    5.000000\n",
       "B    0.706576\n",
       "C    0.104095\n",
       "D    0.253579\n",
       "dtype: float64"
      ]
     },
     "execution_count": 149,
     "metadata": {},
     "output_type": "execute_result"
    }
   ],
   "source": [
    "df.mean()"
   ]
  },
  {
   "cell_type": "code",
   "execution_count": 151,
   "id": "eb9231f5",
   "metadata": {},
   "outputs": [
    {
     "data": {
      "text/plain": [
       "A    5.000000\n",
       "B    0.706576\n",
       "C    0.104095\n",
       "D    0.253579\n",
       "dtype: float64"
      ]
     },
     "execution_count": 151,
     "metadata": {},
     "output_type": "execute_result"
    }
   ],
   "source": [
    "df.mean(axis=0)"
   ]
  },
  {
   "cell_type": "code",
   "execution_count": 155,
   "id": "9a27fa2d",
   "metadata": {},
   "outputs": [
    {
     "data": {
      "text/plain": [
       "2013-01-01    NaN\n",
       "2013-01-02    NaN\n",
       "2013-01-03    1.0\n",
       "2013-01-04    3.0\n",
       "2013-01-05    5.0\n",
       "2013-01-06    NaN\n",
       "Freq: D, dtype: float64"
      ]
     },
     "execution_count": 155,
     "metadata": {},
     "output_type": "execute_result"
    }
   ],
   "source": [
    "s=pd.Series([1,3,5,np.nan,6,8],index=data).shift(2)\n",
    "s"
   ]
  },
  {
   "cell_type": "code",
   "execution_count": 163,
   "id": "2c5b0202",
   "metadata": {},
   "outputs": [
    {
     "data": {
      "text/plain": [
       "3"
      ]
     },
     "execution_count": 163,
     "metadata": {},
     "output_type": "execute_result"
    }
   ],
   "source": [
    "s.isna().sum()"
   ]
  },
  {
   "cell_type": "code",
   "execution_count": 164,
   "id": "702c16ea",
   "metadata": {},
   "outputs": [
    {
     "data": {
      "text/plain": [
       "3.0"
      ]
     },
     "execution_count": 164,
     "metadata": {},
     "output_type": "execute_result"
    }
   ],
   "source": [
    "s.mean()"
   ]
  },
  {
   "cell_type": "code",
   "execution_count": 165,
   "id": "b9c15599",
   "metadata": {},
   "outputs": [
    {
     "data": {
      "text/html": [
       "<div>\n",
       "<style scoped>\n",
       "    .dataframe tbody tr th:only-of-type {\n",
       "        vertical-align: middle;\n",
       "    }\n",
       "\n",
       "    .dataframe tbody tr th {\n",
       "        vertical-align: top;\n",
       "    }\n",
       "\n",
       "    .dataframe thead th {\n",
       "        text-align: right;\n",
       "    }\n",
       "</style>\n",
       "<table border=\"1\" class=\"dataframe\">\n",
       "  <thead>\n",
       "    <tr style=\"text-align: right;\">\n",
       "      <th></th>\n",
       "      <th>Date</th>\n",
       "      <th>Open</th>\n",
       "      <th>High</th>\n",
       "      <th>Low</th>\n",
       "      <th>Close</th>\n",
       "      <th>Adj Close</th>\n",
       "      <th>Volume</th>\n",
       "    </tr>\n",
       "  </thead>\n",
       "  <tbody>\n",
       "    <tr>\n",
       "      <th>0</th>\n",
       "      <td>1997-05-15</td>\n",
       "      <td>2.437500</td>\n",
       "      <td>2.500000</td>\n",
       "      <td>1.927083</td>\n",
       "      <td>1.958333</td>\n",
       "      <td>1.958333</td>\n",
       "      <td>72156000</td>\n",
       "    </tr>\n",
       "    <tr>\n",
       "      <th>1</th>\n",
       "      <td>1997-05-16</td>\n",
       "      <td>1.968750</td>\n",
       "      <td>1.979167</td>\n",
       "      <td>1.708333</td>\n",
       "      <td>1.729167</td>\n",
       "      <td>1.729167</td>\n",
       "      <td>14700000</td>\n",
       "    </tr>\n",
       "    <tr>\n",
       "      <th>2</th>\n",
       "      <td>1997-05-19</td>\n",
       "      <td>1.760417</td>\n",
       "      <td>1.770833</td>\n",
       "      <td>1.625000</td>\n",
       "      <td>1.708333</td>\n",
       "      <td>1.708333</td>\n",
       "      <td>6106800</td>\n",
       "    </tr>\n",
       "    <tr>\n",
       "      <th>3</th>\n",
       "      <td>1997-05-20</td>\n",
       "      <td>1.729167</td>\n",
       "      <td>1.750000</td>\n",
       "      <td>1.635417</td>\n",
       "      <td>1.635417</td>\n",
       "      <td>1.635417</td>\n",
       "      <td>5467200</td>\n",
       "    </tr>\n",
       "    <tr>\n",
       "      <th>4</th>\n",
       "      <td>1997-05-21</td>\n",
       "      <td>1.635417</td>\n",
       "      <td>1.645833</td>\n",
       "      <td>1.375000</td>\n",
       "      <td>1.427083</td>\n",
       "      <td>1.427083</td>\n",
       "      <td>18853200</td>\n",
       "    </tr>\n",
       "    <tr>\n",
       "      <th>...</th>\n",
       "      <td>...</td>\n",
       "      <td>...</td>\n",
       "      <td>...</td>\n",
       "      <td>...</td>\n",
       "      <td>...</td>\n",
       "      <td>...</td>\n",
       "      <td>...</td>\n",
       "    </tr>\n",
       "    <tr>\n",
       "      <th>6292</th>\n",
       "      <td>2022-05-16</td>\n",
       "      <td>2262.000000</td>\n",
       "      <td>2279.850098</td>\n",
       "      <td>2207.080078</td>\n",
       "      <td>2216.209961</td>\n",
       "      <td>2216.209961</td>\n",
       "      <td>3728300</td>\n",
       "    </tr>\n",
       "    <tr>\n",
       "      <th>6293</th>\n",
       "      <td>2022-05-17</td>\n",
       "      <td>2265.500000</td>\n",
       "      <td>2316.000000</td>\n",
       "      <td>2225.530029</td>\n",
       "      <td>2307.370117</td>\n",
       "      <td>2307.370117</td>\n",
       "      <td>3822400</td>\n",
       "    </tr>\n",
       "    <tr>\n",
       "      <th>6294</th>\n",
       "      <td>2022-05-18</td>\n",
       "      <td>2228.790039</td>\n",
       "      <td>2257.060059</td>\n",
       "      <td>2124.979980</td>\n",
       "      <td>2142.250000</td>\n",
       "      <td>2142.250000</td>\n",
       "      <td>5419000</td>\n",
       "    </tr>\n",
       "    <tr>\n",
       "      <th>6295</th>\n",
       "      <td>2022-05-19</td>\n",
       "      <td>2125.610107</td>\n",
       "      <td>2200.679932</td>\n",
       "      <td>2123.860107</td>\n",
       "      <td>2146.379883</td>\n",
       "      <td>2146.379883</td>\n",
       "      <td>4407100</td>\n",
       "    </tr>\n",
       "    <tr>\n",
       "      <th>6296</th>\n",
       "      <td>2022-05-20</td>\n",
       "      <td>2191.370117</td>\n",
       "      <td>2197.959961</td>\n",
       "      <td>2100.189941</td>\n",
       "      <td>2151.820068</td>\n",
       "      <td>2151.820068</td>\n",
       "      <td>4968200</td>\n",
       "    </tr>\n",
       "  </tbody>\n",
       "</table>\n",
       "<p>6297 rows × 7 columns</p>\n",
       "</div>"
      ],
      "text/plain": [
       "            Date         Open         High          Low        Close  \\\n",
       "0     1997-05-15     2.437500     2.500000     1.927083     1.958333   \n",
       "1     1997-05-16     1.968750     1.979167     1.708333     1.729167   \n",
       "2     1997-05-19     1.760417     1.770833     1.625000     1.708333   \n",
       "3     1997-05-20     1.729167     1.750000     1.635417     1.635417   \n",
       "4     1997-05-21     1.635417     1.645833     1.375000     1.427083   \n",
       "...          ...          ...          ...          ...          ...   \n",
       "6292  2022-05-16  2262.000000  2279.850098  2207.080078  2216.209961   \n",
       "6293  2022-05-17  2265.500000  2316.000000  2225.530029  2307.370117   \n",
       "6294  2022-05-18  2228.790039  2257.060059  2124.979980  2142.250000   \n",
       "6295  2022-05-19  2125.610107  2200.679932  2123.860107  2146.379883   \n",
       "6296  2022-05-20  2191.370117  2197.959961  2100.189941  2151.820068   \n",
       "\n",
       "        Adj Close    Volume  \n",
       "0        1.958333  72156000  \n",
       "1        1.729167  14700000  \n",
       "2        1.708333   6106800  \n",
       "3        1.635417   5467200  \n",
       "4        1.427083  18853200  \n",
       "...           ...       ...  \n",
       "6292  2216.209961   3728300  \n",
       "6293  2307.370117   3822400  \n",
       "6294  2142.250000   5419000  \n",
       "6295  2146.379883   4407100  \n",
       "6296  2151.820068   4968200  \n",
       "\n",
       "[6297 rows x 7 columns]"
      ]
     },
     "execution_count": 165,
     "metadata": {},
     "output_type": "execute_result"
    }
   ],
   "source": [
    "data=pd.read_csv('C:\\\\Users\\\\shivam kumar gupta\\\\Downloads\\\\Amazon.csv')\n",
    "data"
   ]
  },
  {
   "cell_type": "code",
   "execution_count": 166,
   "id": "4dd7df80",
   "metadata": {},
   "outputs": [
    {
     "name": "stdout",
     "output_type": "stream",
     "text": [
      "<class 'pandas.core.frame.DataFrame'>\n",
      "DatetimeIndex: 6 entries, 2013-01-01 to 2013-01-06\n",
      "Freq: D\n",
      "Data columns (total 4 columns):\n",
      " #   Column  Non-Null Count  Dtype  \n",
      "---  ------  --------------  -----  \n",
      " 0   A       6 non-null      int32  \n",
      " 1   B       6 non-null      float64\n",
      " 2   C       6 non-null      float64\n",
      " 3   D       6 non-null      float64\n",
      "dtypes: float64(3), int32(1)\n",
      "memory usage: 388.0 bytes\n"
     ]
    }
   ],
   "source": [
    "df.info()"
   ]
  },
  {
   "cell_type": "code",
   "execution_count": 167,
   "id": "e7f43dd6",
   "metadata": {},
   "outputs": [
    {
     "data": {
      "text/plain": [
       "A    0\n",
       "B    0\n",
       "C    0\n",
       "D    0\n",
       "dtype: int64"
      ]
     },
     "execution_count": 167,
     "metadata": {},
     "output_type": "execute_result"
    }
   ],
   "source": [
    "df.isnull().sum()"
   ]
  },
  {
   "cell_type": "code",
   "execution_count": 168,
   "id": "5666b37f",
   "metadata": {},
   "outputs": [
    {
     "data": {
      "text/plain": [
       "0"
      ]
     },
     "execution_count": 168,
     "metadata": {},
     "output_type": "execute_result"
    }
   ],
   "source": [
    "df.duplicated().sum()"
   ]
  },
  {
   "cell_type": "code",
   "execution_count": 169,
   "id": "366be5af",
   "metadata": {},
   "outputs": [
    {
     "data": {
      "text/html": [
       "<div>\n",
       "<style scoped>\n",
       "    .dataframe tbody tr th:only-of-type {\n",
       "        vertical-align: middle;\n",
       "    }\n",
       "\n",
       "    .dataframe tbody tr th {\n",
       "        vertical-align: top;\n",
       "    }\n",
       "\n",
       "    .dataframe thead th {\n",
       "        text-align: right;\n",
       "    }\n",
       "</style>\n",
       "<table border=\"1\" class=\"dataframe\">\n",
       "  <thead>\n",
       "    <tr style=\"text-align: right;\">\n",
       "      <th></th>\n",
       "      <th>A</th>\n",
       "      <th>B</th>\n",
       "      <th>C</th>\n",
       "      <th>D</th>\n",
       "    </tr>\n",
       "  </thead>\n",
       "  <tbody>\n",
       "    <tr>\n",
       "      <th>2013-01-01</th>\n",
       "      <td>NaN</td>\n",
       "      <td>NaN</td>\n",
       "      <td>NaN</td>\n",
       "      <td>NaN</td>\n",
       "    </tr>\n",
       "    <tr>\n",
       "      <th>2013-01-02</th>\n",
       "      <td>NaN</td>\n",
       "      <td>NaN</td>\n",
       "      <td>NaN</td>\n",
       "      <td>NaN</td>\n",
       "    </tr>\n",
       "    <tr>\n",
       "      <th>2013-01-03</th>\n",
       "      <td>4.0</td>\n",
       "      <td>-1.553981</td>\n",
       "      <td>-0.489990</td>\n",
       "      <td>-1.774551</td>\n",
       "    </tr>\n",
       "    <tr>\n",
       "      <th>2013-01-04</th>\n",
       "      <td>2.0</td>\n",
       "      <td>-2.350188</td>\n",
       "      <td>-2.983412</td>\n",
       "      <td>-3.249853</td>\n",
       "    </tr>\n",
       "    <tr>\n",
       "      <th>2013-01-05</th>\n",
       "      <td>0.0</td>\n",
       "      <td>-2.085014</td>\n",
       "      <td>-4.926709</td>\n",
       "      <td>-3.760934</td>\n",
       "    </tr>\n",
       "    <tr>\n",
       "      <th>2013-01-06</th>\n",
       "      <td>NaN</td>\n",
       "      <td>NaN</td>\n",
       "      <td>NaN</td>\n",
       "      <td>NaN</td>\n",
       "    </tr>\n",
       "  </tbody>\n",
       "</table>\n",
       "</div>"
      ],
      "text/plain": [
       "              A         B         C         D\n",
       "2013-01-01  NaN       NaN       NaN       NaN\n",
       "2013-01-02  NaN       NaN       NaN       NaN\n",
       "2013-01-03  4.0 -1.553981 -0.489990 -1.774551\n",
       "2013-01-04  2.0 -2.350188 -2.983412 -3.249853\n",
       "2013-01-05  0.0 -2.085014 -4.926709 -3.760934\n",
       "2013-01-06  NaN       NaN       NaN       NaN"
      ]
     },
     "execution_count": 169,
     "metadata": {},
     "output_type": "execute_result"
    }
   ],
   "source": [
    "df.sub(s,axis='index')"
   ]
  },
  {
   "cell_type": "code",
   "execution_count": 171,
   "id": "b4595855",
   "metadata": {},
   "outputs": [
    {
     "data": {
      "text/html": [
       "<div>\n",
       "<style scoped>\n",
       "    .dataframe tbody tr th:only-of-type {\n",
       "        vertical-align: middle;\n",
       "    }\n",
       "\n",
       "    .dataframe tbody tr th {\n",
       "        vertical-align: top;\n",
       "    }\n",
       "\n",
       "    .dataframe thead th {\n",
       "        text-align: right;\n",
       "    }\n",
       "</style>\n",
       "<table border=\"1\" class=\"dataframe\">\n",
       "  <thead>\n",
       "    <tr style=\"text-align: right;\">\n",
       "      <th></th>\n",
       "      <th>Date</th>\n",
       "      <th>Open</th>\n",
       "      <th>High</th>\n",
       "      <th>Low</th>\n",
       "      <th>Close</th>\n",
       "      <th>Adj Close</th>\n",
       "      <th>Volume</th>\n",
       "    </tr>\n",
       "  </thead>\n",
       "  <tbody>\n",
       "    <tr>\n",
       "      <th>0</th>\n",
       "      <td>1997-05-15</td>\n",
       "      <td>2.437500</td>\n",
       "      <td>2.500000</td>\n",
       "      <td>1.927083</td>\n",
       "      <td>1.958333</td>\n",
       "      <td>1.958333</td>\n",
       "      <td>72156000</td>\n",
       "    </tr>\n",
       "    <tr>\n",
       "      <th>1</th>\n",
       "      <td>1997-05-16</td>\n",
       "      <td>1.968750</td>\n",
       "      <td>1.979167</td>\n",
       "      <td>1.708333</td>\n",
       "      <td>1.729167</td>\n",
       "      <td>1.729167</td>\n",
       "      <td>14700000</td>\n",
       "    </tr>\n",
       "    <tr>\n",
       "      <th>2</th>\n",
       "      <td>1997-05-19</td>\n",
       "      <td>1.760417</td>\n",
       "      <td>1.770833</td>\n",
       "      <td>1.625000</td>\n",
       "      <td>1.708333</td>\n",
       "      <td>1.708333</td>\n",
       "      <td>6106800</td>\n",
       "    </tr>\n",
       "    <tr>\n",
       "      <th>3</th>\n",
       "      <td>1997-05-20</td>\n",
       "      <td>1.729167</td>\n",
       "      <td>1.750000</td>\n",
       "      <td>1.635417</td>\n",
       "      <td>1.635417</td>\n",
       "      <td>1.635417</td>\n",
       "      <td>5467200</td>\n",
       "    </tr>\n",
       "    <tr>\n",
       "      <th>4</th>\n",
       "      <td>1997-05-21</td>\n",
       "      <td>1.635417</td>\n",
       "      <td>1.645833</td>\n",
       "      <td>1.375000</td>\n",
       "      <td>1.427083</td>\n",
       "      <td>1.427083</td>\n",
       "      <td>18853200</td>\n",
       "    </tr>\n",
       "    <tr>\n",
       "      <th>...</th>\n",
       "      <td>...</td>\n",
       "      <td>...</td>\n",
       "      <td>...</td>\n",
       "      <td>...</td>\n",
       "      <td>...</td>\n",
       "      <td>...</td>\n",
       "      <td>...</td>\n",
       "    </tr>\n",
       "    <tr>\n",
       "      <th>6292</th>\n",
       "      <td>2022-05-16</td>\n",
       "      <td>2262.000000</td>\n",
       "      <td>2279.850098</td>\n",
       "      <td>2207.080078</td>\n",
       "      <td>2216.209961</td>\n",
       "      <td>2216.209961</td>\n",
       "      <td>3728300</td>\n",
       "    </tr>\n",
       "    <tr>\n",
       "      <th>6293</th>\n",
       "      <td>2022-05-17</td>\n",
       "      <td>2265.500000</td>\n",
       "      <td>2316.000000</td>\n",
       "      <td>2225.530029</td>\n",
       "      <td>2307.370117</td>\n",
       "      <td>2307.370117</td>\n",
       "      <td>3822400</td>\n",
       "    </tr>\n",
       "    <tr>\n",
       "      <th>6294</th>\n",
       "      <td>2022-05-18</td>\n",
       "      <td>2228.790039</td>\n",
       "      <td>2257.060059</td>\n",
       "      <td>2124.979980</td>\n",
       "      <td>2142.250000</td>\n",
       "      <td>2142.250000</td>\n",
       "      <td>5419000</td>\n",
       "    </tr>\n",
       "    <tr>\n",
       "      <th>6295</th>\n",
       "      <td>2022-05-19</td>\n",
       "      <td>2125.610107</td>\n",
       "      <td>2200.679932</td>\n",
       "      <td>2123.860107</td>\n",
       "      <td>2146.379883</td>\n",
       "      <td>2146.379883</td>\n",
       "      <td>4407100</td>\n",
       "    </tr>\n",
       "    <tr>\n",
       "      <th>6296</th>\n",
       "      <td>2022-05-20</td>\n",
       "      <td>2191.370117</td>\n",
       "      <td>2197.959961</td>\n",
       "      <td>2100.189941</td>\n",
       "      <td>2151.820068</td>\n",
       "      <td>2151.820068</td>\n",
       "      <td>4968200</td>\n",
       "    </tr>\n",
       "  </tbody>\n",
       "</table>\n",
       "<p>6297 rows × 7 columns</p>\n",
       "</div>"
      ],
      "text/plain": [
       "            Date         Open         High          Low        Close  \\\n",
       "0     1997-05-15     2.437500     2.500000     1.927083     1.958333   \n",
       "1     1997-05-16     1.968750     1.979167     1.708333     1.729167   \n",
       "2     1997-05-19     1.760417     1.770833     1.625000     1.708333   \n",
       "3     1997-05-20     1.729167     1.750000     1.635417     1.635417   \n",
       "4     1997-05-21     1.635417     1.645833     1.375000     1.427083   \n",
       "...          ...          ...          ...          ...          ...   \n",
       "6292  2022-05-16  2262.000000  2279.850098  2207.080078  2216.209961   \n",
       "6293  2022-05-17  2265.500000  2316.000000  2225.530029  2307.370117   \n",
       "6294  2022-05-18  2228.790039  2257.060059  2124.979980  2142.250000   \n",
       "6295  2022-05-19  2125.610107  2200.679932  2123.860107  2146.379883   \n",
       "6296  2022-05-20  2191.370117  2197.959961  2100.189941  2151.820068   \n",
       "\n",
       "        Adj Close    Volume  \n",
       "0        1.958333  72156000  \n",
       "1        1.729167  14700000  \n",
       "2        1.708333   6106800  \n",
       "3        1.635417   5467200  \n",
       "4        1.427083  18853200  \n",
       "...           ...       ...  \n",
       "6292  2216.209961   3728300  \n",
       "6293  2307.370117   3822400  \n",
       "6294  2142.250000   5419000  \n",
       "6295  2146.379883   4407100  \n",
       "6296  2151.820068   4968200  \n",
       "\n",
       "[6297 rows x 7 columns]"
      ]
     },
     "execution_count": 171,
     "metadata": {},
     "output_type": "execute_result"
    }
   ],
   "source": [
    "data"
   ]
  },
  {
   "cell_type": "code",
   "execution_count": 176,
   "id": "7689bc42",
   "metadata": {},
   "outputs": [
    {
     "data": {
      "text/plain": [
       "0       a\n",
       "1       b\n",
       "2       c\n",
       "3    aaba\n",
       "4    baca\n",
       "5     NaN\n",
       "6    caba\n",
       "7     dog\n",
       "8     cat\n",
       "dtype: object"
      ]
     },
     "execution_count": 176,
     "metadata": {},
     "output_type": "execute_result"
    }
   ],
   "source": [
    "s = pd.Series([\"A\", \"B\", \"C\", \"Aaba\", \"Baca\", np.nan, \"CABA\", \"dog\", \"cat\"])\n",
    "s.str.lower()\n"
   ]
  },
  {
   "cell_type": "code",
   "execution_count": 177,
   "id": "78e316d4",
   "metadata": {},
   "outputs": [
    {
     "data": {
      "text/html": [
       "<div>\n",
       "<style scoped>\n",
       "    .dataframe tbody tr th:only-of-type {\n",
       "        vertical-align: middle;\n",
       "    }\n",
       "\n",
       "    .dataframe tbody tr th {\n",
       "        vertical-align: top;\n",
       "    }\n",
       "\n",
       "    .dataframe thead th {\n",
       "        text-align: right;\n",
       "    }\n",
       "</style>\n",
       "<table border=\"1\" class=\"dataframe\">\n",
       "  <thead>\n",
       "    <tr style=\"text-align: right;\">\n",
       "      <th></th>\n",
       "      <th>0</th>\n",
       "      <th>1</th>\n",
       "      <th>2</th>\n",
       "      <th>3</th>\n",
       "    </tr>\n",
       "  </thead>\n",
       "  <tbody>\n",
       "    <tr>\n",
       "      <th>0</th>\n",
       "      <td>1.857677</td>\n",
       "      <td>0.553930</td>\n",
       "      <td>0.692656</td>\n",
       "      <td>-0.584135</td>\n",
       "    </tr>\n",
       "    <tr>\n",
       "      <th>1</th>\n",
       "      <td>-0.758824</td>\n",
       "      <td>-0.701123</td>\n",
       "      <td>0.007201</td>\n",
       "      <td>-0.343893</td>\n",
       "    </tr>\n",
       "    <tr>\n",
       "      <th>2</th>\n",
       "      <td>0.092658</td>\n",
       "      <td>0.789489</td>\n",
       "      <td>-0.165813</td>\n",
       "      <td>-1.419538</td>\n",
       "    </tr>\n",
       "    <tr>\n",
       "      <th>3</th>\n",
       "      <td>-0.760590</td>\n",
       "      <td>-0.543639</td>\n",
       "      <td>-0.193641</td>\n",
       "      <td>-1.115969</td>\n",
       "    </tr>\n",
       "    <tr>\n",
       "      <th>4</th>\n",
       "      <td>0.047876</td>\n",
       "      <td>1.914917</td>\n",
       "      <td>-1.132661</td>\n",
       "      <td>-0.884864</td>\n",
       "    </tr>\n",
       "    <tr>\n",
       "      <th>5</th>\n",
       "      <td>-0.601364</td>\n",
       "      <td>1.710853</td>\n",
       "      <td>0.005309</td>\n",
       "      <td>-0.770204</td>\n",
       "    </tr>\n",
       "    <tr>\n",
       "      <th>6</th>\n",
       "      <td>1.695851</td>\n",
       "      <td>2.100938</td>\n",
       "      <td>-0.094898</td>\n",
       "      <td>0.840561</td>\n",
       "    </tr>\n",
       "    <tr>\n",
       "      <th>7</th>\n",
       "      <td>0.936385</td>\n",
       "      <td>0.099578</td>\n",
       "      <td>-0.605547</td>\n",
       "      <td>-0.224220</td>\n",
       "    </tr>\n",
       "    <tr>\n",
       "      <th>8</th>\n",
       "      <td>0.827698</td>\n",
       "      <td>-1.183411</td>\n",
       "      <td>0.494018</td>\n",
       "      <td>-0.396244</td>\n",
       "    </tr>\n",
       "    <tr>\n",
       "      <th>9</th>\n",
       "      <td>-0.332567</td>\n",
       "      <td>-1.715138</td>\n",
       "      <td>0.342841</td>\n",
       "      <td>0.692198</td>\n",
       "    </tr>\n",
       "  </tbody>\n",
       "</table>\n",
       "</div>"
      ],
      "text/plain": [
       "          0         1         2         3\n",
       "0  1.857677  0.553930  0.692656 -0.584135\n",
       "1 -0.758824 -0.701123  0.007201 -0.343893\n",
       "2  0.092658  0.789489 -0.165813 -1.419538\n",
       "3 -0.760590 -0.543639 -0.193641 -1.115969\n",
       "4  0.047876  1.914917 -1.132661 -0.884864\n",
       "5 -0.601364  1.710853  0.005309 -0.770204\n",
       "6  1.695851  2.100938 -0.094898  0.840561\n",
       "7  0.936385  0.099578 -0.605547 -0.224220\n",
       "8  0.827698 -1.183411  0.494018 -0.396244\n",
       "9 -0.332567 -1.715138  0.342841  0.692198"
      ]
     },
     "execution_count": 177,
     "metadata": {},
     "output_type": "execute_result"
    }
   ],
   "source": [
    "df=pd.DataFrame(np.random.randn(10,4))\n",
    "df"
   ]
  },
  {
   "cell_type": "code",
   "execution_count": 181,
   "id": "0608756d",
   "metadata": {},
   "outputs": [
    {
     "data": {
      "text/plain": [
       "[          0         1         2         3\n",
       " 3 -0.760590 -0.543639 -0.193641 -1.115969\n",
       " 4  0.047876  1.914917 -1.132661 -0.884864\n",
       " 5 -0.601364  1.710853  0.005309 -0.770204\n",
       " 6  1.695851  2.100938 -0.094898  0.840561]"
      ]
     },
     "execution_count": 181,
     "metadata": {},
     "output_type": "execute_result"
    }
   ],
   "source": [
    "pieces=[df[3:7]]\n",
    "pieces"
   ]
  },
  {
   "cell_type": "code",
   "execution_count": 180,
   "id": "01aa5ad0",
   "metadata": {},
   "outputs": [
    {
     "data": {
      "text/html": [
       "<div>\n",
       "<style scoped>\n",
       "    .dataframe tbody tr th:only-of-type {\n",
       "        vertical-align: middle;\n",
       "    }\n",
       "\n",
       "    .dataframe tbody tr th {\n",
       "        vertical-align: top;\n",
       "    }\n",
       "\n",
       "    .dataframe thead th {\n",
       "        text-align: right;\n",
       "    }\n",
       "</style>\n",
       "<table border=\"1\" class=\"dataframe\">\n",
       "  <thead>\n",
       "    <tr style=\"text-align: right;\">\n",
       "      <th></th>\n",
       "      <th>0</th>\n",
       "      <th>1</th>\n",
       "      <th>2</th>\n",
       "      <th>3</th>\n",
       "    </tr>\n",
       "  </thead>\n",
       "  <tbody>\n",
       "    <tr>\n",
       "      <th>0</th>\n",
       "      <td>1.857677</td>\n",
       "      <td>0.553930</td>\n",
       "      <td>0.692656</td>\n",
       "      <td>-0.584135</td>\n",
       "    </tr>\n",
       "    <tr>\n",
       "      <th>1</th>\n",
       "      <td>-0.758824</td>\n",
       "      <td>-0.701123</td>\n",
       "      <td>0.007201</td>\n",
       "      <td>-0.343893</td>\n",
       "    </tr>\n",
       "    <tr>\n",
       "      <th>2</th>\n",
       "      <td>0.092658</td>\n",
       "      <td>0.789489</td>\n",
       "      <td>-0.165813</td>\n",
       "      <td>-1.419538</td>\n",
       "    </tr>\n",
       "  </tbody>\n",
       "</table>\n",
       "</div>"
      ],
      "text/plain": [
       "          0         1         2         3\n",
       "0  1.857677  0.553930  0.692656 -0.584135\n",
       "1 -0.758824 -0.701123  0.007201 -0.343893\n",
       "2  0.092658  0.789489 -0.165813 -1.419538"
      ]
     },
     "execution_count": 180,
     "metadata": {},
     "output_type": "execute_result"
    }
   ],
   "source": [
    "pd.concat(pieces)"
   ]
  },
  {
   "cell_type": "code",
   "execution_count": 182,
   "id": "c24ee038",
   "metadata": {},
   "outputs": [
    {
     "data": {
      "text/html": [
       "<div>\n",
       "<style scoped>\n",
       "    .dataframe tbody tr th:only-of-type {\n",
       "        vertical-align: middle;\n",
       "    }\n",
       "\n",
       "    .dataframe tbody tr th {\n",
       "        vertical-align: top;\n",
       "    }\n",
       "\n",
       "    .dataframe thead th {\n",
       "        text-align: right;\n",
       "    }\n",
       "</style>\n",
       "<table border=\"1\" class=\"dataframe\">\n",
       "  <thead>\n",
       "    <tr style=\"text-align: right;\">\n",
       "      <th></th>\n",
       "      <th>Date</th>\n",
       "      <th>Open</th>\n",
       "      <th>High</th>\n",
       "      <th>Low</th>\n",
       "      <th>Close</th>\n",
       "      <th>Adj Close</th>\n",
       "      <th>Volume</th>\n",
       "    </tr>\n",
       "  </thead>\n",
       "  <tbody>\n",
       "    <tr>\n",
       "      <th>0</th>\n",
       "      <td>1997-05-15</td>\n",
       "      <td>2.437500</td>\n",
       "      <td>2.500000</td>\n",
       "      <td>1.927083</td>\n",
       "      <td>1.958333</td>\n",
       "      <td>1.958333</td>\n",
       "      <td>72156000</td>\n",
       "    </tr>\n",
       "    <tr>\n",
       "      <th>1</th>\n",
       "      <td>1997-05-16</td>\n",
       "      <td>1.968750</td>\n",
       "      <td>1.979167</td>\n",
       "      <td>1.708333</td>\n",
       "      <td>1.729167</td>\n",
       "      <td>1.729167</td>\n",
       "      <td>14700000</td>\n",
       "    </tr>\n",
       "    <tr>\n",
       "      <th>2</th>\n",
       "      <td>1997-05-19</td>\n",
       "      <td>1.760417</td>\n",
       "      <td>1.770833</td>\n",
       "      <td>1.625000</td>\n",
       "      <td>1.708333</td>\n",
       "      <td>1.708333</td>\n",
       "      <td>6106800</td>\n",
       "    </tr>\n",
       "    <tr>\n",
       "      <th>3</th>\n",
       "      <td>1997-05-20</td>\n",
       "      <td>1.729167</td>\n",
       "      <td>1.750000</td>\n",
       "      <td>1.635417</td>\n",
       "      <td>1.635417</td>\n",
       "      <td>1.635417</td>\n",
       "      <td>5467200</td>\n",
       "    </tr>\n",
       "    <tr>\n",
       "      <th>4</th>\n",
       "      <td>1997-05-21</td>\n",
       "      <td>1.635417</td>\n",
       "      <td>1.645833</td>\n",
       "      <td>1.375000</td>\n",
       "      <td>1.427083</td>\n",
       "      <td>1.427083</td>\n",
       "      <td>18853200</td>\n",
       "    </tr>\n",
       "    <tr>\n",
       "      <th>...</th>\n",
       "      <td>...</td>\n",
       "      <td>...</td>\n",
       "      <td>...</td>\n",
       "      <td>...</td>\n",
       "      <td>...</td>\n",
       "      <td>...</td>\n",
       "      <td>...</td>\n",
       "    </tr>\n",
       "    <tr>\n",
       "      <th>6292</th>\n",
       "      <td>2022-05-16</td>\n",
       "      <td>2262.000000</td>\n",
       "      <td>2279.850098</td>\n",
       "      <td>2207.080078</td>\n",
       "      <td>2216.209961</td>\n",
       "      <td>2216.209961</td>\n",
       "      <td>3728300</td>\n",
       "    </tr>\n",
       "    <tr>\n",
       "      <th>6293</th>\n",
       "      <td>2022-05-17</td>\n",
       "      <td>2265.500000</td>\n",
       "      <td>2316.000000</td>\n",
       "      <td>2225.530029</td>\n",
       "      <td>2307.370117</td>\n",
       "      <td>2307.370117</td>\n",
       "      <td>3822400</td>\n",
       "    </tr>\n",
       "    <tr>\n",
       "      <th>6294</th>\n",
       "      <td>2022-05-18</td>\n",
       "      <td>2228.790039</td>\n",
       "      <td>2257.060059</td>\n",
       "      <td>2124.979980</td>\n",
       "      <td>2142.250000</td>\n",
       "      <td>2142.250000</td>\n",
       "      <td>5419000</td>\n",
       "    </tr>\n",
       "    <tr>\n",
       "      <th>6295</th>\n",
       "      <td>2022-05-19</td>\n",
       "      <td>2125.610107</td>\n",
       "      <td>2200.679932</td>\n",
       "      <td>2123.860107</td>\n",
       "      <td>2146.379883</td>\n",
       "      <td>2146.379883</td>\n",
       "      <td>4407100</td>\n",
       "    </tr>\n",
       "    <tr>\n",
       "      <th>6296</th>\n",
       "      <td>2022-05-20</td>\n",
       "      <td>2191.370117</td>\n",
       "      <td>2197.959961</td>\n",
       "      <td>2100.189941</td>\n",
       "      <td>2151.820068</td>\n",
       "      <td>2151.820068</td>\n",
       "      <td>4968200</td>\n",
       "    </tr>\n",
       "  </tbody>\n",
       "</table>\n",
       "<p>6297 rows × 7 columns</p>\n",
       "</div>"
      ],
      "text/plain": [
       "            Date         Open         High          Low        Close  \\\n",
       "0     1997-05-15     2.437500     2.500000     1.927083     1.958333   \n",
       "1     1997-05-16     1.968750     1.979167     1.708333     1.729167   \n",
       "2     1997-05-19     1.760417     1.770833     1.625000     1.708333   \n",
       "3     1997-05-20     1.729167     1.750000     1.635417     1.635417   \n",
       "4     1997-05-21     1.635417     1.645833     1.375000     1.427083   \n",
       "...          ...          ...          ...          ...          ...   \n",
       "6292  2022-05-16  2262.000000  2279.850098  2207.080078  2216.209961   \n",
       "6293  2022-05-17  2265.500000  2316.000000  2225.530029  2307.370117   \n",
       "6294  2022-05-18  2228.790039  2257.060059  2124.979980  2142.250000   \n",
       "6295  2022-05-19  2125.610107  2200.679932  2123.860107  2146.379883   \n",
       "6296  2022-05-20  2191.370117  2197.959961  2100.189941  2151.820068   \n",
       "\n",
       "        Adj Close    Volume  \n",
       "0        1.958333  72156000  \n",
       "1        1.729167  14700000  \n",
       "2        1.708333   6106800  \n",
       "3        1.635417   5467200  \n",
       "4        1.427083  18853200  \n",
       "...           ...       ...  \n",
       "6292  2216.209961   3728300  \n",
       "6293  2307.370117   3822400  \n",
       "6294  2142.250000   5419000  \n",
       "6295  2146.379883   4407100  \n",
       "6296  2151.820068   4968200  \n",
       "\n",
       "[6297 rows x 7 columns]"
      ]
     },
     "execution_count": 182,
     "metadata": {},
     "output_type": "execute_result"
    }
   ],
   "source": [
    "data"
   ]
  },
  {
   "cell_type": "code",
   "execution_count": 191,
   "id": "149fbefc",
   "metadata": {},
   "outputs": [
    {
     "data": {
      "text/html": [
       "<div>\n",
       "<style scoped>\n",
       "    .dataframe tbody tr th:only-of-type {\n",
       "        vertical-align: middle;\n",
       "    }\n",
       "\n",
       "    .dataframe tbody tr th {\n",
       "        vertical-align: top;\n",
       "    }\n",
       "\n",
       "    .dataframe thead th {\n",
       "        text-align: right;\n",
       "    }\n",
       "</style>\n",
       "<table border=\"1\" class=\"dataframe\">\n",
       "  <thead>\n",
       "    <tr style=\"text-align: right;\">\n",
       "      <th></th>\n",
       "      <th></th>\n",
       "      <th>Open</th>\n",
       "      <th>Close</th>\n",
       "    </tr>\n",
       "    <tr>\n",
       "      <th>Low</th>\n",
       "      <th>High</th>\n",
       "      <th></th>\n",
       "      <th></th>\n",
       "    </tr>\n",
       "  </thead>\n",
       "  <tbody>\n",
       "    <tr>\n",
       "      <th>1.312500</th>\n",
       "      <th>1.447917</th>\n",
       "      <td>1.437500</td>\n",
       "      <td>1.395833</td>\n",
       "    </tr>\n",
       "    <tr>\n",
       "      <th>1.333333</th>\n",
       "      <th>1.520833</th>\n",
       "      <td>1.406250</td>\n",
       "      <td>1.500000</td>\n",
       "    </tr>\n",
       "    <tr>\n",
       "      <th rowspan=\"2\" valign=\"top\">1.375000</th>\n",
       "      <th>1.541667</th>\n",
       "      <td>1.416667</td>\n",
       "      <td>1.541667</td>\n",
       "    </tr>\n",
       "    <tr>\n",
       "      <th>1.645833</th>\n",
       "      <td>1.635417</td>\n",
       "      <td>1.427083</td>\n",
       "    </tr>\n",
       "    <tr>\n",
       "      <th>1.395833</th>\n",
       "      <th>1.489583</th>\n",
       "      <td>1.479167</td>\n",
       "      <td>1.416667</td>\n",
       "    </tr>\n",
       "    <tr>\n",
       "      <th>...</th>\n",
       "      <th>...</th>\n",
       "      <td>...</td>\n",
       "      <td>...</td>\n",
       "    </tr>\n",
       "    <tr>\n",
       "      <th>3671.320068</th>\n",
       "      <th>3773.080078</th>\n",
       "      <td>3702.100098</td>\n",
       "      <td>3677.360107</td>\n",
       "    </tr>\n",
       "    <tr>\n",
       "      <th>3675.719971</th>\n",
       "      <th>3762.149902</th>\n",
       "      <td>3712.689941</td>\n",
       "      <td>3676.570068</td>\n",
       "    </tr>\n",
       "    <tr>\n",
       "      <th>3678.909912</th>\n",
       "      <th>3734.199951</th>\n",
       "      <td>3717.379883</td>\n",
       "      <td>3696.580078</td>\n",
       "    </tr>\n",
       "    <tr>\n",
       "      <th>3693.399902</th>\n",
       "      <th>3748.000000</th>\n",
       "      <td>3722.520020</td>\n",
       "      <td>3719.340088</td>\n",
       "    </tr>\n",
       "    <tr>\n",
       "      <th>3696.790039</th>\n",
       "      <th>3757.290039</th>\n",
       "      <td>3744.000000</td>\n",
       "      <td>3718.550049</td>\n",
       "    </tr>\n",
       "  </tbody>\n",
       "</table>\n",
       "<p>6287 rows × 2 columns</p>\n",
       "</div>"
      ],
      "text/plain": [
       "                                Open        Close\n",
       "Low         High                                 \n",
       "1.312500    1.447917        1.437500     1.395833\n",
       "1.333333    1.520833        1.406250     1.500000\n",
       "1.375000    1.541667        1.416667     1.541667\n",
       "            1.645833        1.635417     1.427083\n",
       "1.395833    1.489583        1.479167     1.416667\n",
       "...                              ...          ...\n",
       "3671.320068 3773.080078  3702.100098  3677.360107\n",
       "3675.719971 3762.149902  3712.689941  3676.570068\n",
       "3678.909912 3734.199951  3717.379883  3696.580078\n",
       "3693.399902 3748.000000  3722.520020  3719.340088\n",
       "3696.790039 3757.290039  3744.000000  3718.550049\n",
       "\n",
       "[6287 rows x 2 columns]"
      ]
     },
     "execution_count": 191,
     "metadata": {},
     "output_type": "execute_result"
    }
   ],
   "source": [
    "data.groupby(['Low','High']).agg({'Open':'mean','Close':'sum'})"
   ]
  },
  {
   "cell_type": "code",
   "execution_count": 194,
   "id": "b492466f",
   "metadata": {},
   "outputs": [
    {
     "data": {
      "text/html": [
       "<div>\n",
       "<style scoped>\n",
       "    .dataframe tbody tr th:only-of-type {\n",
       "        vertical-align: middle;\n",
       "    }\n",
       "\n",
       "    .dataframe tbody tr th {\n",
       "        vertical-align: top;\n",
       "    }\n",
       "\n",
       "    .dataframe thead th {\n",
       "        text-align: right;\n",
       "    }\n",
       "</style>\n",
       "<table border=\"1\" class=\"dataframe\">\n",
       "  <thead>\n",
       "    <tr style=\"text-align: right;\">\n",
       "      <th>Low</th>\n",
       "      <th>1.312500</th>\n",
       "      <th>1.333333</th>\n",
       "      <th>1.375000</th>\n",
       "      <th>1.395833</th>\n",
       "      <th>1.458333</th>\n",
       "      <th>1.479167</th>\n",
       "      <th>1.489583</th>\n",
       "      <th>1.494792</th>\n",
       "      <th>1.500000</th>\n",
       "      <th>1.505208</th>\n",
       "      <th>...</th>\n",
       "      <th>3620.919922</th>\n",
       "      <th>3621.120117</th>\n",
       "      <th>3622.040039</th>\n",
       "      <th>3647.250000</th>\n",
       "      <th>3660.830078</th>\n",
       "      <th>3671.320068</th>\n",
       "      <th>3675.719971</th>\n",
       "      <th>3678.909912</th>\n",
       "      <th>3693.399902</th>\n",
       "      <th>3696.790039</th>\n",
       "    </tr>\n",
       "  </thead>\n",
       "  <tbody>\n",
       "    <tr>\n",
       "      <th>Adj Close</th>\n",
       "      <td>1.395833e+00</td>\n",
       "      <td>1.500000e+00</td>\n",
       "      <td>1.484375e+00</td>\n",
       "      <td>1.416667e+00</td>\n",
       "      <td>1.583333e+00</td>\n",
       "      <td>1.503720e+00</td>\n",
       "      <td>1.510417e+00</td>\n",
       "      <td>1.505208e+00</td>\n",
       "      <td>1.514323e+00</td>\n",
       "      <td>1.510417e+00</td>\n",
       "      <td>...</td>\n",
       "      <td>3.631200e+03</td>\n",
       "      <td>3.731410e+03</td>\n",
       "      <td>3.656640e+03</td>\n",
       "      <td>3.699820e+03</td>\n",
       "      <td>3.681680e+03</td>\n",
       "      <td>3.677360e+03</td>\n",
       "      <td>3.676570e+03</td>\n",
       "      <td>3.696580e+03</td>\n",
       "      <td>3.719340e+03</td>\n",
       "      <td>3.718550e+03</td>\n",
       "    </tr>\n",
       "    <tr>\n",
       "      <th>Close</th>\n",
       "      <td>1.395833e+00</td>\n",
       "      <td>1.500000e+00</td>\n",
       "      <td>1.484375e+00</td>\n",
       "      <td>1.416667e+00</td>\n",
       "      <td>1.583333e+00</td>\n",
       "      <td>1.503720e+00</td>\n",
       "      <td>1.510417e+00</td>\n",
       "      <td>1.505208e+00</td>\n",
       "      <td>1.514323e+00</td>\n",
       "      <td>1.510417e+00</td>\n",
       "      <td>...</td>\n",
       "      <td>3.631200e+03</td>\n",
       "      <td>3.731410e+03</td>\n",
       "      <td>3.656640e+03</td>\n",
       "      <td>3.699820e+03</td>\n",
       "      <td>3.681680e+03</td>\n",
       "      <td>3.677360e+03</td>\n",
       "      <td>3.676570e+03</td>\n",
       "      <td>3.696580e+03</td>\n",
       "      <td>3.719340e+03</td>\n",
       "      <td>3.718550e+03</td>\n",
       "    </tr>\n",
       "    <tr>\n",
       "      <th>High</th>\n",
       "      <td>1.447917e+00</td>\n",
       "      <td>1.520833e+00</td>\n",
       "      <td>1.593750e+00</td>\n",
       "      <td>1.489583e+00</td>\n",
       "      <td>1.645833e+00</td>\n",
       "      <td>1.537947e+00</td>\n",
       "      <td>1.526042e+00</td>\n",
       "      <td>1.598958e+00</td>\n",
       "      <td>1.537760e+00</td>\n",
       "      <td>1.520833e+00</td>\n",
       "      <td>...</td>\n",
       "      <td>3.695400e+03</td>\n",
       "      <td>3.759990e+03</td>\n",
       "      <td>3.666110e+03</td>\n",
       "      <td>3.712080e+03</td>\n",
       "      <td>3.717660e+03</td>\n",
       "      <td>3.773080e+03</td>\n",
       "      <td>3.762150e+03</td>\n",
       "      <td>3.734200e+03</td>\n",
       "      <td>3.748000e+03</td>\n",
       "      <td>3.757290e+03</td>\n",
       "    </tr>\n",
       "    <tr>\n",
       "      <th>Open</th>\n",
       "      <td>1.437500e+00</td>\n",
       "      <td>1.406250e+00</td>\n",
       "      <td>1.526042e+00</td>\n",
       "      <td>1.479167e+00</td>\n",
       "      <td>1.510417e+00</td>\n",
       "      <td>1.520833e+00</td>\n",
       "      <td>1.526042e+00</td>\n",
       "      <td>1.598958e+00</td>\n",
       "      <td>1.518229e+00</td>\n",
       "      <td>1.520833e+00</td>\n",
       "      <td>...</td>\n",
       "      <td>3.694200e+03</td>\n",
       "      <td>3.643560e+03</td>\n",
       "      <td>3.640000e+03</td>\n",
       "      <td>3.673170e+03</td>\n",
       "      <td>3.708850e+03</td>\n",
       "      <td>3.702100e+03</td>\n",
       "      <td>3.712690e+03</td>\n",
       "      <td>3.717380e+03</td>\n",
       "      <td>3.722520e+03</td>\n",
       "      <td>3.744000e+03</td>\n",
       "    </tr>\n",
       "    <tr>\n",
       "      <th>Volume</th>\n",
       "      <td>1.177680e+07</td>\n",
       "      <td>1.593720e+07</td>\n",
       "      <td>1.226280e+07</td>\n",
       "      <td>3.080400e+06</td>\n",
       "      <td>8.697600e+06</td>\n",
       "      <td>1.854857e+06</td>\n",
       "      <td>2.106000e+06</td>\n",
       "      <td>4.706400e+06</td>\n",
       "      <td>1.861800e+06</td>\n",
       "      <td>3.189600e+06</td>\n",
       "      <td>...</td>\n",
       "      <td>3.185300e+06</td>\n",
       "      <td>5.180600e+06</td>\n",
       "      <td>2.436300e+06</td>\n",
       "      <td>2.900100e+06</td>\n",
       "      <td>3.296600e+06</td>\n",
       "      <td>3.845900e+06</td>\n",
       "      <td>4.936700e+06</td>\n",
       "      <td>5.328100e+06</td>\n",
       "      <td>3.748200e+06</td>\n",
       "      <td>2.571600e+06</td>\n",
       "    </tr>\n",
       "  </tbody>\n",
       "</table>\n",
       "<p>5 rows × 5550 columns</p>\n",
       "</div>"
      ],
      "text/plain": [
       "Low         1.312500      1.333333      1.375000      1.395833     \\\n",
       "Adj Close  1.395833e+00  1.500000e+00  1.484375e+00  1.416667e+00   \n",
       "Close      1.395833e+00  1.500000e+00  1.484375e+00  1.416667e+00   \n",
       "High       1.447917e+00  1.520833e+00  1.593750e+00  1.489583e+00   \n",
       "Open       1.437500e+00  1.406250e+00  1.526042e+00  1.479167e+00   \n",
       "Volume     1.177680e+07  1.593720e+07  1.226280e+07  3.080400e+06   \n",
       "\n",
       "Low         1.458333      1.479167      1.489583      1.494792     \\\n",
       "Adj Close  1.583333e+00  1.503720e+00  1.510417e+00  1.505208e+00   \n",
       "Close      1.583333e+00  1.503720e+00  1.510417e+00  1.505208e+00   \n",
       "High       1.645833e+00  1.537947e+00  1.526042e+00  1.598958e+00   \n",
       "Open       1.510417e+00  1.520833e+00  1.526042e+00  1.598958e+00   \n",
       "Volume     8.697600e+06  1.854857e+06  2.106000e+06  4.706400e+06   \n",
       "\n",
       "Low         1.500000      1.505208     ...   3620.919922   3621.120117  \\\n",
       "Adj Close  1.514323e+00  1.510417e+00  ...  3.631200e+03  3.731410e+03   \n",
       "Close      1.514323e+00  1.510417e+00  ...  3.631200e+03  3.731410e+03   \n",
       "High       1.537760e+00  1.520833e+00  ...  3.695400e+03  3.759990e+03   \n",
       "Open       1.518229e+00  1.520833e+00  ...  3.694200e+03  3.643560e+03   \n",
       "Volume     1.861800e+06  3.189600e+06  ...  3.185300e+06  5.180600e+06   \n",
       "\n",
       "Low         3622.040039   3647.250000   3660.830078   3671.320068  \\\n",
       "Adj Close  3.656640e+03  3.699820e+03  3.681680e+03  3.677360e+03   \n",
       "Close      3.656640e+03  3.699820e+03  3.681680e+03  3.677360e+03   \n",
       "High       3.666110e+03  3.712080e+03  3.717660e+03  3.773080e+03   \n",
       "Open       3.640000e+03  3.673170e+03  3.708850e+03  3.702100e+03   \n",
       "Volume     2.436300e+06  2.900100e+06  3.296600e+06  3.845900e+06   \n",
       "\n",
       "Low         3675.719971   3678.909912   3693.399902   3696.790039  \n",
       "Adj Close  3.676570e+03  3.696580e+03  3.719340e+03  3.718550e+03  \n",
       "Close      3.676570e+03  3.696580e+03  3.719340e+03  3.718550e+03  \n",
       "High       3.762150e+03  3.734200e+03  3.748000e+03  3.757290e+03  \n",
       "Open       3.712690e+03  3.717380e+03  3.722520e+03  3.744000e+03  \n",
       "Volume     4.936700e+06  5.328100e+06  3.748200e+06  2.571600e+06  \n",
       "\n",
       "[5 rows x 5550 columns]"
      ]
     },
     "execution_count": 194,
     "metadata": {},
     "output_type": "execute_result"
    }
   ],
   "source": [
    "pd.pivot_table(data,columns=['Low'])"
   ]
  },
  {
   "cell_type": "code",
   "execution_count": 198,
   "id": "750dcaee",
   "metadata": {},
   "outputs": [
    {
     "data": {
      "text/plain": [
       "Date        Open         High         Low          Close        Adj Close    Volume  \n",
       "1997-05-15  2.437500     2.500000     1.927083     1.958333     1.958333     72156000    1\n",
       "2014-02-03  358.980011   360.850006   340.100006   346.149994   346.149994   10280800    1\n",
       "2014-01-30  393.769989   406.250000   387.700012   403.010010   403.010010   10473900    1\n",
       "2014-01-29  392.160004   392.850006   383.239990   384.200012   384.200012   3382300     1\n",
       "2014-01-28  387.399994   394.739990   387.119995   394.429993   394.429993   2894500     1\n",
       "                                                                                        ..\n",
       "2005-09-15  43.200001    43.590000    42.650002    42.709999    42.709999    4587900     1\n",
       "2005-09-14  43.880001    44.730000    42.820000    43.099998    43.099998    6318000     1\n",
       "2005-09-13  44.169998    44.380001    43.439999    43.930000    43.930000    4505200     1\n",
       "2005-09-12  42.720001    44.959999    42.689999    44.500000    44.500000    8779400     1\n",
       "2022-05-20  2191.370117  2197.959961  2100.189941  2151.820068  2151.820068  4968200     1\n",
       "Length: 6297, dtype: int64"
      ]
     },
     "execution_count": 198,
     "metadata": {},
     "output_type": "execute_result"
    }
   ],
   "source": [
    "data.value_counts()"
   ]
  },
  {
   "cell_type": "code",
   "execution_count": 199,
   "id": "2d034ed8",
   "metadata": {},
   "outputs": [
    {
     "data": {
      "text/html": [
       "<div>\n",
       "<style scoped>\n",
       "    .dataframe tbody tr th:only-of-type {\n",
       "        vertical-align: middle;\n",
       "    }\n",
       "\n",
       "    .dataframe tbody tr th {\n",
       "        vertical-align: top;\n",
       "    }\n",
       "\n",
       "    .dataframe thead th {\n",
       "        text-align: right;\n",
       "    }\n",
       "</style>\n",
       "<table border=\"1\" class=\"dataframe\">\n",
       "  <thead>\n",
       "    <tr style=\"text-align: right;\">\n",
       "      <th></th>\n",
       "      <th>Date</th>\n",
       "      <th>Open</th>\n",
       "      <th>High</th>\n",
       "      <th>Low</th>\n",
       "      <th>Close</th>\n",
       "      <th>Adj Close</th>\n",
       "      <th>Volume</th>\n",
       "    </tr>\n",
       "  </thead>\n",
       "  <tbody>\n",
       "    <tr>\n",
       "      <th>0</th>\n",
       "      <td>1997-05-15</td>\n",
       "      <td>33.5</td>\n",
       "      <td>17.0</td>\n",
       "      <td>1.479167</td>\n",
       "      <td>1.510417</td>\n",
       "      <td>1.510417</td>\n",
       "      <td>2913600.0</td>\n",
       "    </tr>\n",
       "    <tr>\n",
       "      <th>1</th>\n",
       "      <td>1997-05-16</td>\n",
       "      <td>NaN</td>\n",
       "      <td>37.0</td>\n",
       "      <td>15.000000</td>\n",
       "      <td>NaN</td>\n",
       "      <td>NaN</td>\n",
       "      <td>NaN</td>\n",
       "    </tr>\n",
       "    <tr>\n",
       "      <th>2</th>\n",
       "      <td>1997-05-19</td>\n",
       "      <td>NaN</td>\n",
       "      <td>NaN</td>\n",
       "      <td>76.000000</td>\n",
       "      <td>NaN</td>\n",
       "      <td>NaN</td>\n",
       "      <td>NaN</td>\n",
       "    </tr>\n",
       "    <tr>\n",
       "      <th>3</th>\n",
       "      <td>1997-05-20</td>\n",
       "      <td>NaN</td>\n",
       "      <td>NaN</td>\n",
       "      <td>NaN</td>\n",
       "      <td>NaN</td>\n",
       "      <td>NaN</td>\n",
       "      <td>NaN</td>\n",
       "    </tr>\n",
       "    <tr>\n",
       "      <th>4</th>\n",
       "      <td>1997-05-21</td>\n",
       "      <td>NaN</td>\n",
       "      <td>NaN</td>\n",
       "      <td>NaN</td>\n",
       "      <td>NaN</td>\n",
       "      <td>NaN</td>\n",
       "      <td>NaN</td>\n",
       "    </tr>\n",
       "    <tr>\n",
       "      <th>...</th>\n",
       "      <td>...</td>\n",
       "      <td>...</td>\n",
       "      <td>...</td>\n",
       "      <td>...</td>\n",
       "      <td>...</td>\n",
       "      <td>...</td>\n",
       "      <td>...</td>\n",
       "    </tr>\n",
       "    <tr>\n",
       "      <th>6292</th>\n",
       "      <td>2022-05-16</td>\n",
       "      <td>NaN</td>\n",
       "      <td>NaN</td>\n",
       "      <td>NaN</td>\n",
       "      <td>NaN</td>\n",
       "      <td>NaN</td>\n",
       "      <td>NaN</td>\n",
       "    </tr>\n",
       "    <tr>\n",
       "      <th>6293</th>\n",
       "      <td>2022-05-17</td>\n",
       "      <td>NaN</td>\n",
       "      <td>NaN</td>\n",
       "      <td>NaN</td>\n",
       "      <td>NaN</td>\n",
       "      <td>NaN</td>\n",
       "      <td>NaN</td>\n",
       "    </tr>\n",
       "    <tr>\n",
       "      <th>6294</th>\n",
       "      <td>2022-05-18</td>\n",
       "      <td>NaN</td>\n",
       "      <td>NaN</td>\n",
       "      <td>NaN</td>\n",
       "      <td>NaN</td>\n",
       "      <td>NaN</td>\n",
       "      <td>NaN</td>\n",
       "    </tr>\n",
       "    <tr>\n",
       "      <th>6295</th>\n",
       "      <td>2022-05-19</td>\n",
       "      <td>NaN</td>\n",
       "      <td>NaN</td>\n",
       "      <td>NaN</td>\n",
       "      <td>NaN</td>\n",
       "      <td>NaN</td>\n",
       "      <td>NaN</td>\n",
       "    </tr>\n",
       "    <tr>\n",
       "      <th>6296</th>\n",
       "      <td>2022-05-20</td>\n",
       "      <td>NaN</td>\n",
       "      <td>NaN</td>\n",
       "      <td>NaN</td>\n",
       "      <td>NaN</td>\n",
       "      <td>NaN</td>\n",
       "      <td>NaN</td>\n",
       "    </tr>\n",
       "  </tbody>\n",
       "</table>\n",
       "<p>6297 rows × 7 columns</p>\n",
       "</div>"
      ],
      "text/plain": [
       "            Date  Open  High        Low     Close  Adj Close     Volume\n",
       "0     1997-05-15  33.5  17.0   1.479167  1.510417   1.510417  2913600.0\n",
       "1     1997-05-16   NaN  37.0  15.000000       NaN        NaN        NaN\n",
       "2     1997-05-19   NaN   NaN  76.000000       NaN        NaN        NaN\n",
       "3     1997-05-20   NaN   NaN        NaN       NaN        NaN        NaN\n",
       "4     1997-05-21   NaN   NaN        NaN       NaN        NaN        NaN\n",
       "...          ...   ...   ...        ...       ...        ...        ...\n",
       "6292  2022-05-16   NaN   NaN        NaN       NaN        NaN        NaN\n",
       "6293  2022-05-17   NaN   NaN        NaN       NaN        NaN        NaN\n",
       "6294  2022-05-18   NaN   NaN        NaN       NaN        NaN        NaN\n",
       "6295  2022-05-19   NaN   NaN        NaN       NaN        NaN        NaN\n",
       "6296  2022-05-20   NaN   NaN        NaN       NaN        NaN        NaN\n",
       "\n",
       "[6297 rows x 7 columns]"
      ]
     },
     "execution_count": 199,
     "metadata": {},
     "output_type": "execute_result"
    }
   ],
   "source": [
    "data.mode()"
   ]
  },
  {
   "cell_type": "code",
   "execution_count": 202,
   "id": "8dd719e7",
   "metadata": {},
   "outputs": [
    {
     "data": {
      "text/html": [
       "<div>\n",
       "<style scoped>\n",
       "    .dataframe tbody tr th:only-of-type {\n",
       "        vertical-align: middle;\n",
       "    }\n",
       "\n",
       "    .dataframe tbody tr th {\n",
       "        vertical-align: top;\n",
       "    }\n",
       "\n",
       "    .dataframe thead th {\n",
       "        text-align: right;\n",
       "    }\n",
       "</style>\n",
       "<table border=\"1\" class=\"dataframe\">\n",
       "  <thead>\n",
       "    <tr style=\"text-align: right;\">\n",
       "      <th></th>\n",
       "      <th>Date</th>\n",
       "      <th>Open</th>\n",
       "      <th>High</th>\n",
       "      <th>Low</th>\n",
       "      <th>Close</th>\n",
       "      <th>Adj Close</th>\n",
       "      <th>Volume</th>\n",
       "    </tr>\n",
       "  </thead>\n",
       "  <tbody>\n",
       "    <tr>\n",
       "      <th>0</th>\n",
       "      <td>1997-05-15</td>\n",
       "      <td>2.437500e+00</td>\n",
       "      <td>2.500000e+00</td>\n",
       "      <td>1.927083e+00</td>\n",
       "      <td>1.958333e+00</td>\n",
       "      <td>1.958333e+00</td>\n",
       "      <td>72156000</td>\n",
       "    </tr>\n",
       "    <tr>\n",
       "      <th>1</th>\n",
       "      <td>1997-05-151997-05-16</td>\n",
       "      <td>4.406250e+00</td>\n",
       "      <td>4.479167e+00</td>\n",
       "      <td>3.635416e+00</td>\n",
       "      <td>3.687500e+00</td>\n",
       "      <td>3.687500e+00</td>\n",
       "      <td>86856000</td>\n",
       "    </tr>\n",
       "    <tr>\n",
       "      <th>2</th>\n",
       "      <td>1997-05-151997-05-161997-05-19</td>\n",
       "      <td>6.166667e+00</td>\n",
       "      <td>6.250000e+00</td>\n",
       "      <td>5.260416e+00</td>\n",
       "      <td>5.395833e+00</td>\n",
       "      <td>5.395833e+00</td>\n",
       "      <td>92962800</td>\n",
       "    </tr>\n",
       "    <tr>\n",
       "      <th>3</th>\n",
       "      <td>1997-05-151997-05-161997-05-191997-05-20</td>\n",
       "      <td>7.895834e+00</td>\n",
       "      <td>8.000000e+00</td>\n",
       "      <td>6.895833e+00</td>\n",
       "      <td>7.031250e+00</td>\n",
       "      <td>7.031250e+00</td>\n",
       "      <td>98430000</td>\n",
       "    </tr>\n",
       "    <tr>\n",
       "      <th>4</th>\n",
       "      <td>1997-05-151997-05-161997-05-191997-05-201997-0...</td>\n",
       "      <td>9.531251e+00</td>\n",
       "      <td>9.645833e+00</td>\n",
       "      <td>8.270833e+00</td>\n",
       "      <td>8.458333e+00</td>\n",
       "      <td>8.458333e+00</td>\n",
       "      <td>117283200</td>\n",
       "    </tr>\n",
       "    <tr>\n",
       "      <th>...</th>\n",
       "      <td>...</td>\n",
       "      <td>...</td>\n",
       "      <td>...</td>\n",
       "      <td>...</td>\n",
       "      <td>...</td>\n",
       "      <td>...</td>\n",
       "      <td>...</td>\n",
       "    </tr>\n",
       "    <tr>\n",
       "      <th>6292</th>\n",
       "      <td>1997-05-151997-05-161997-05-191997-05-201997-0...</td>\n",
       "      <td>3.638192e+06</td>\n",
       "      <td>3.679398e+06</td>\n",
       "      <td>3.592126e+06</td>\n",
       "      <td>3.636427e+06</td>\n",
       "      <td>3.636427e+06</td>\n",
       "      <td>45642019700</td>\n",
       "    </tr>\n",
       "    <tr>\n",
       "      <th>6293</th>\n",
       "      <td>1997-05-151997-05-161997-05-191997-05-201997-0...</td>\n",
       "      <td>3.640458e+06</td>\n",
       "      <td>3.681714e+06</td>\n",
       "      <td>3.594351e+06</td>\n",
       "      <td>3.638734e+06</td>\n",
       "      <td>3.638734e+06</td>\n",
       "      <td>45645842100</td>\n",
       "    </tr>\n",
       "    <tr>\n",
       "      <th>6294</th>\n",
       "      <td>1997-05-151997-05-161997-05-191997-05-201997-0...</td>\n",
       "      <td>3.642687e+06</td>\n",
       "      <td>3.683971e+06</td>\n",
       "      <td>3.596476e+06</td>\n",
       "      <td>3.640876e+06</td>\n",
       "      <td>3.640876e+06</td>\n",
       "      <td>45651261100</td>\n",
       "    </tr>\n",
       "    <tr>\n",
       "      <th>6295</th>\n",
       "      <td>1997-05-151997-05-161997-05-191997-05-201997-0...</td>\n",
       "      <td>3.644812e+06</td>\n",
       "      <td>3.686171e+06</td>\n",
       "      <td>3.598600e+06</td>\n",
       "      <td>3.643023e+06</td>\n",
       "      <td>3.643023e+06</td>\n",
       "      <td>45655668200</td>\n",
       "    </tr>\n",
       "    <tr>\n",
       "      <th>6296</th>\n",
       "      <td>1997-05-151997-05-161997-05-191997-05-201997-0...</td>\n",
       "      <td>3.647004e+06</td>\n",
       "      <td>3.688369e+06</td>\n",
       "      <td>3.600700e+06</td>\n",
       "      <td>3.645174e+06</td>\n",
       "      <td>3.645174e+06</td>\n",
       "      <td>45660636400</td>\n",
       "    </tr>\n",
       "  </tbody>\n",
       "</table>\n",
       "<p>6297 rows × 7 columns</p>\n",
       "</div>"
      ],
      "text/plain": [
       "                                                   Date          Open  \\\n",
       "0                                            1997-05-15  2.437500e+00   \n",
       "1                                  1997-05-151997-05-16  4.406250e+00   \n",
       "2                        1997-05-151997-05-161997-05-19  6.166667e+00   \n",
       "3              1997-05-151997-05-161997-05-191997-05-20  7.895834e+00   \n",
       "4     1997-05-151997-05-161997-05-191997-05-201997-0...  9.531251e+00   \n",
       "...                                                 ...           ...   \n",
       "6292  1997-05-151997-05-161997-05-191997-05-201997-0...  3.638192e+06   \n",
       "6293  1997-05-151997-05-161997-05-191997-05-201997-0...  3.640458e+06   \n",
       "6294  1997-05-151997-05-161997-05-191997-05-201997-0...  3.642687e+06   \n",
       "6295  1997-05-151997-05-161997-05-191997-05-201997-0...  3.644812e+06   \n",
       "6296  1997-05-151997-05-161997-05-191997-05-201997-0...  3.647004e+06   \n",
       "\n",
       "              High           Low         Close     Adj Close       Volume  \n",
       "0     2.500000e+00  1.927083e+00  1.958333e+00  1.958333e+00     72156000  \n",
       "1     4.479167e+00  3.635416e+00  3.687500e+00  3.687500e+00     86856000  \n",
       "2     6.250000e+00  5.260416e+00  5.395833e+00  5.395833e+00     92962800  \n",
       "3     8.000000e+00  6.895833e+00  7.031250e+00  7.031250e+00     98430000  \n",
       "4     9.645833e+00  8.270833e+00  8.458333e+00  8.458333e+00    117283200  \n",
       "...            ...           ...           ...           ...          ...  \n",
       "6292  3.679398e+06  3.592126e+06  3.636427e+06  3.636427e+06  45642019700  \n",
       "6293  3.681714e+06  3.594351e+06  3.638734e+06  3.638734e+06  45645842100  \n",
       "6294  3.683971e+06  3.596476e+06  3.640876e+06  3.640876e+06  45651261100  \n",
       "6295  3.686171e+06  3.598600e+06  3.643023e+06  3.643023e+06  45655668200  \n",
       "6296  3.688369e+06  3.600700e+06  3.645174e+06  3.645174e+06  45660636400  \n",
       "\n",
       "[6297 rows x 7 columns]"
      ]
     },
     "execution_count": 202,
     "metadata": {},
     "output_type": "execute_result"
    }
   ],
   "source": [
    "data.apply(np.cumsum)"
   ]
  },
  {
   "cell_type": "code",
   "execution_count": 206,
   "id": "dbcd3fe0",
   "metadata": {},
   "outputs": [
    {
     "data": {
      "text/plain": [
       "Date         1997-05-151997-05-161997-05-191997-05-201997-0...\n",
       "Open                                            3647003.519614\n",
       "High                                            3688369.201181\n",
       "Low                                             3600700.470653\n",
       "Close                                           3645174.457856\n",
       "Adj Close                                       3645174.457856\n",
       "Volume                                             45660636400\n",
       "dtype: object"
      ]
     },
     "execution_count": 206,
     "metadata": {},
     "output_type": "execute_result"
    }
   ],
   "source": [
    "data.apply(np.sum)"
   ]
  },
  {
   "cell_type": "code",
   "execution_count": 208,
   "id": "b59c1d4d",
   "metadata": {},
   "outputs": [
    {
     "name": "stderr",
     "output_type": "stream",
     "text": [
      "C:\\Users\\shivam kumar gupta\\AppData\\Local\\Temp\\ipykernel_33488\\1597950029.py:1: FutureWarning: Dropping of nuisance columns in DataFrame reductions (with 'numeric_only=None') is deprecated; in a future version this will raise TypeError.  Select only valid columns before calling the reduction.\n",
      "  data.apply('mean',axis=1)\n"
     ]
    },
    {
     "data": {
      "text/plain": [
       "0       1.202600e+07\n",
       "1       2.450002e+06\n",
       "2       1.017801e+06\n",
       "3       9.112014e+05\n",
       "4       3.142201e+06\n",
       "            ...     \n",
       "6292    6.232469e+05\n",
       "6293    6.389703e+05\n",
       "6294    9.049826e+05\n",
       "6295    7.363072e+05\n",
       "6296    8.298322e+05\n",
       "Length: 6297, dtype: float64"
      ]
     },
     "execution_count": 208,
     "metadata": {},
     "output_type": "execute_result"
    }
   ],
   "source": [
    "data.apply('mean',axis=1)"
   ]
  },
  {
   "cell_type": "code",
   "execution_count": 209,
   "id": "52a43ad8",
   "metadata": {},
   "outputs": [
    {
     "data": {
      "text/html": [
       "<div>\n",
       "<style scoped>\n",
       "    .dataframe tbody tr th:only-of-type {\n",
       "        vertical-align: middle;\n",
       "    }\n",
       "\n",
       "    .dataframe tbody tr th {\n",
       "        vertical-align: top;\n",
       "    }\n",
       "\n",
       "    .dataframe thead th {\n",
       "        text-align: right;\n",
       "    }\n",
       "</style>\n",
       "<table border=\"1\" class=\"dataframe\">\n",
       "  <thead>\n",
       "    <tr style=\"text-align: right;\">\n",
       "      <th></th>\n",
       "      <th>A</th>\n",
       "      <th>B</th>\n",
       "    </tr>\n",
       "  </thead>\n",
       "  <tbody>\n",
       "    <tr>\n",
       "      <th>0</th>\n",
       "      <td>4</td>\n",
       "      <td>9</td>\n",
       "    </tr>\n",
       "    <tr>\n",
       "      <th>1</th>\n",
       "      <td>4</td>\n",
       "      <td>9</td>\n",
       "    </tr>\n",
       "    <tr>\n",
       "      <th>2</th>\n",
       "      <td>4</td>\n",
       "      <td>9</td>\n",
       "    </tr>\n",
       "  </tbody>\n",
       "</table>\n",
       "</div>"
      ],
      "text/plain": [
       "   A  B\n",
       "0  4  9\n",
       "1  4  9\n",
       "2  4  9"
      ]
     },
     "execution_count": 209,
     "metadata": {},
     "output_type": "execute_result"
    }
   ],
   "source": [
    "df = pd.DataFrame([[4, 9]] * 3, columns=['A', 'B'])\n",
    "df"
   ]
  },
  {
   "cell_type": "code",
   "execution_count": 210,
   "id": "65451ca7",
   "metadata": {},
   "outputs": [
    {
     "data": {
      "text/html": [
       "<div>\n",
       "<style scoped>\n",
       "    .dataframe tbody tr th:only-of-type {\n",
       "        vertical-align: middle;\n",
       "    }\n",
       "\n",
       "    .dataframe tbody tr th {\n",
       "        vertical-align: top;\n",
       "    }\n",
       "\n",
       "    .dataframe thead th {\n",
       "        text-align: right;\n",
       "    }\n",
       "</style>\n",
       "<table border=\"1\" class=\"dataframe\">\n",
       "  <thead>\n",
       "    <tr style=\"text-align: right;\">\n",
       "      <th></th>\n",
       "      <th>A</th>\n",
       "      <th>B</th>\n",
       "    </tr>\n",
       "  </thead>\n",
       "  <tbody>\n",
       "    <tr>\n",
       "      <th>0</th>\n",
       "      <td>2.0</td>\n",
       "      <td>3.0</td>\n",
       "    </tr>\n",
       "    <tr>\n",
       "      <th>1</th>\n",
       "      <td>2.0</td>\n",
       "      <td>3.0</td>\n",
       "    </tr>\n",
       "    <tr>\n",
       "      <th>2</th>\n",
       "      <td>2.0</td>\n",
       "      <td>3.0</td>\n",
       "    </tr>\n",
       "  </tbody>\n",
       "</table>\n",
       "</div>"
      ],
      "text/plain": [
       "     A    B\n",
       "0  2.0  3.0\n",
       "1  2.0  3.0\n",
       "2  2.0  3.0"
      ]
     },
     "execution_count": 210,
     "metadata": {},
     "output_type": "execute_result"
    }
   ],
   "source": [
    "df.apply(np.sqrt)"
   ]
  },
  {
   "cell_type": "code",
   "execution_count": 211,
   "id": "779baafe",
   "metadata": {},
   "outputs": [
    {
     "data": {
      "text/plain": [
       "A    12\n",
       "B    27\n",
       "dtype: int64"
      ]
     },
     "execution_count": 211,
     "metadata": {},
     "output_type": "execute_result"
    }
   ],
   "source": [
    "df.apply(np.sum)"
   ]
  },
  {
   "cell_type": "code",
   "execution_count": 213,
   "id": "709c4b36",
   "metadata": {},
   "outputs": [
    {
     "data": {
      "text/plain": [
       "0    13\n",
       "1    13\n",
       "2    13\n",
       "dtype: int64"
      ]
     },
     "execution_count": 213,
     "metadata": {},
     "output_type": "execute_result"
    }
   ],
   "source": [
    "df.apply(np.sum,axis=1)"
   ]
  },
  {
   "cell_type": "code",
   "execution_count": 215,
   "id": "76156104",
   "metadata": {},
   "outputs": [
    {
     "data": {
      "text/plain": [
       "0    [1, 2]\n",
       "1    [1, 2]\n",
       "2    [1, 2]\n",
       "dtype: object"
      ]
     },
     "execution_count": 215,
     "metadata": {},
     "output_type": "execute_result"
    }
   ],
   "source": [
    "df.apply(lambda x:[1,2],axis=1)"
   ]
  },
  {
   "cell_type": "code",
   "execution_count": 217,
   "id": "0cd9fec5",
   "metadata": {},
   "outputs": [
    {
     "data": {
      "text/html": [
       "<div>\n",
       "<style scoped>\n",
       "    .dataframe tbody tr th:only-of-type {\n",
       "        vertical-align: middle;\n",
       "    }\n",
       "\n",
       "    .dataframe tbody tr th {\n",
       "        vertical-align: top;\n",
       "    }\n",
       "\n",
       "    .dataframe thead th {\n",
       "        text-align: right;\n",
       "    }\n",
       "</style>\n",
       "<table border=\"1\" class=\"dataframe\">\n",
       "  <thead>\n",
       "    <tr style=\"text-align: right;\">\n",
       "      <th></th>\n",
       "      <th>0</th>\n",
       "      <th>1</th>\n",
       "    </tr>\n",
       "  </thead>\n",
       "  <tbody>\n",
       "    <tr>\n",
       "      <th>0</th>\n",
       "      <td>1.000</td>\n",
       "      <td>2.120</td>\n",
       "    </tr>\n",
       "    <tr>\n",
       "      <th>1</th>\n",
       "      <td>3.356</td>\n",
       "      <td>4.567</td>\n",
       "    </tr>\n",
       "  </tbody>\n",
       "</table>\n",
       "</div>"
      ],
      "text/plain": [
       "       0      1\n",
       "0  1.000  2.120\n",
       "1  3.356  4.567"
      ]
     },
     "execution_count": 217,
     "metadata": {},
     "output_type": "execute_result"
    }
   ],
   "source": [
    "df = pd.DataFrame([[1, 2.12], [3.356, 4.567]])\n",
    "df"
   ]
  },
  {
   "cell_type": "code",
   "execution_count": 3,
   "id": "8b9506ce",
   "metadata": {},
   "outputs": [
    {
     "data": {
      "text/html": [
       "<div>\n",
       "<style scoped>\n",
       "    .dataframe tbody tr th:only-of-type {\n",
       "        vertical-align: middle;\n",
       "    }\n",
       "\n",
       "    .dataframe tbody tr th {\n",
       "        vertical-align: top;\n",
       "    }\n",
       "\n",
       "    .dataframe thead th {\n",
       "        text-align: right;\n",
       "    }\n",
       "</style>\n",
       "<table border=\"1\" class=\"dataframe\">\n",
       "  <thead>\n",
       "    <tr style=\"text-align: right;\">\n",
       "      <th></th>\n",
       "      <th>Date</th>\n",
       "      <th>Open</th>\n",
       "      <th>High</th>\n",
       "      <th>Low</th>\n",
       "      <th>Close</th>\n",
       "      <th>Adj Close</th>\n",
       "      <th>Volume</th>\n",
       "    </tr>\n",
       "  </thead>\n",
       "  <tbody>\n",
       "    <tr>\n",
       "      <th>0</th>\n",
       "      <td>1997-05-15</td>\n",
       "      <td>2.437500</td>\n",
       "      <td>2.500000</td>\n",
       "      <td>1.927083</td>\n",
       "      <td>1.958333</td>\n",
       "      <td>1.958333</td>\n",
       "      <td>72156000</td>\n",
       "    </tr>\n",
       "    <tr>\n",
       "      <th>1</th>\n",
       "      <td>1997-05-16</td>\n",
       "      <td>1.968750</td>\n",
       "      <td>1.979167</td>\n",
       "      <td>1.708333</td>\n",
       "      <td>1.729167</td>\n",
       "      <td>1.729167</td>\n",
       "      <td>14700000</td>\n",
       "    </tr>\n",
       "    <tr>\n",
       "      <th>2</th>\n",
       "      <td>1997-05-19</td>\n",
       "      <td>1.760417</td>\n",
       "      <td>1.770833</td>\n",
       "      <td>1.625000</td>\n",
       "      <td>1.708333</td>\n",
       "      <td>1.708333</td>\n",
       "      <td>6106800</td>\n",
       "    </tr>\n",
       "    <tr>\n",
       "      <th>3</th>\n",
       "      <td>1997-05-20</td>\n",
       "      <td>1.729167</td>\n",
       "      <td>1.750000</td>\n",
       "      <td>1.635417</td>\n",
       "      <td>1.635417</td>\n",
       "      <td>1.635417</td>\n",
       "      <td>5467200</td>\n",
       "    </tr>\n",
       "    <tr>\n",
       "      <th>4</th>\n",
       "      <td>1997-05-21</td>\n",
       "      <td>1.635417</td>\n",
       "      <td>1.645833</td>\n",
       "      <td>1.375000</td>\n",
       "      <td>1.427083</td>\n",
       "      <td>1.427083</td>\n",
       "      <td>18853200</td>\n",
       "    </tr>\n",
       "    <tr>\n",
       "      <th>...</th>\n",
       "      <td>...</td>\n",
       "      <td>...</td>\n",
       "      <td>...</td>\n",
       "      <td>...</td>\n",
       "      <td>...</td>\n",
       "      <td>...</td>\n",
       "      <td>...</td>\n",
       "    </tr>\n",
       "    <tr>\n",
       "      <th>6292</th>\n",
       "      <td>2022-05-16</td>\n",
       "      <td>2262.000000</td>\n",
       "      <td>2279.850098</td>\n",
       "      <td>2207.080078</td>\n",
       "      <td>2216.209961</td>\n",
       "      <td>2216.209961</td>\n",
       "      <td>3728300</td>\n",
       "    </tr>\n",
       "    <tr>\n",
       "      <th>6293</th>\n",
       "      <td>2022-05-17</td>\n",
       "      <td>2265.500000</td>\n",
       "      <td>2316.000000</td>\n",
       "      <td>2225.530029</td>\n",
       "      <td>2307.370117</td>\n",
       "      <td>2307.370117</td>\n",
       "      <td>3822400</td>\n",
       "    </tr>\n",
       "    <tr>\n",
       "      <th>6294</th>\n",
       "      <td>2022-05-18</td>\n",
       "      <td>2228.790039</td>\n",
       "      <td>2257.060059</td>\n",
       "      <td>2124.979980</td>\n",
       "      <td>2142.250000</td>\n",
       "      <td>2142.250000</td>\n",
       "      <td>5419000</td>\n",
       "    </tr>\n",
       "    <tr>\n",
       "      <th>6295</th>\n",
       "      <td>2022-05-19</td>\n",
       "      <td>2125.610107</td>\n",
       "      <td>2200.679932</td>\n",
       "      <td>2123.860107</td>\n",
       "      <td>2146.379883</td>\n",
       "      <td>2146.379883</td>\n",
       "      <td>4407100</td>\n",
       "    </tr>\n",
       "    <tr>\n",
       "      <th>6296</th>\n",
       "      <td>2022-05-20</td>\n",
       "      <td>2191.370117</td>\n",
       "      <td>2197.959961</td>\n",
       "      <td>2100.189941</td>\n",
       "      <td>2151.820068</td>\n",
       "      <td>2151.820068</td>\n",
       "      <td>4968200</td>\n",
       "    </tr>\n",
       "  </tbody>\n",
       "</table>\n",
       "<p>6297 rows × 7 columns</p>\n",
       "</div>"
      ],
      "text/plain": [
       "            Date         Open         High          Low        Close  \\\n",
       "0     1997-05-15     2.437500     2.500000     1.927083     1.958333   \n",
       "1     1997-05-16     1.968750     1.979167     1.708333     1.729167   \n",
       "2     1997-05-19     1.760417     1.770833     1.625000     1.708333   \n",
       "3     1997-05-20     1.729167     1.750000     1.635417     1.635417   \n",
       "4     1997-05-21     1.635417     1.645833     1.375000     1.427083   \n",
       "...          ...          ...          ...          ...          ...   \n",
       "6292  2022-05-16  2262.000000  2279.850098  2207.080078  2216.209961   \n",
       "6293  2022-05-17  2265.500000  2316.000000  2225.530029  2307.370117   \n",
       "6294  2022-05-18  2228.790039  2257.060059  2124.979980  2142.250000   \n",
       "6295  2022-05-19  2125.610107  2200.679932  2123.860107  2146.379883   \n",
       "6296  2022-05-20  2191.370117  2197.959961  2100.189941  2151.820068   \n",
       "\n",
       "        Adj Close    Volume  \n",
       "0        1.958333  72156000  \n",
       "1        1.729167  14700000  \n",
       "2        1.708333   6106800  \n",
       "3        1.635417   5467200  \n",
       "4        1.427083  18853200  \n",
       "...           ...       ...  \n",
       "6292  2216.209961   3728300  \n",
       "6293  2307.370117   3822400  \n",
       "6294  2142.250000   5419000  \n",
       "6295  2146.379883   4407100  \n",
       "6296  2151.820068   4968200  \n",
       "\n",
       "[6297 rows x 7 columns]"
      ]
     },
     "execution_count": 3,
     "metadata": {},
     "output_type": "execute_result"
    }
   ],
   "source": [
    "data=pd.read_csv('C:\\\\Users\\\\shivam kumar gupta\\\\Downloads\\\\Amazon.csv')\n",
    "data"
   ]
  },
  {
   "cell_type": "code",
   "execution_count": 4,
   "id": "b307346b",
   "metadata": {},
   "outputs": [
    {
     "data": {
      "text/plain": [
       "Index(['Date', 'Open', 'High', 'Low', 'Close', 'Adj Close', 'Volume'], dtype='object')"
      ]
     },
     "execution_count": 4,
     "metadata": {},
     "output_type": "execute_result"
    }
   ],
   "source": [
    "data.columns"
   ]
  },
  {
   "cell_type": "code",
   "execution_count": 5,
   "id": "2c270988",
   "metadata": {},
   "outputs": [
    {
     "data": {
      "text/plain": [
       "RangeIndex(start=0, stop=6297, step=1)"
      ]
     },
     "execution_count": 5,
     "metadata": {},
     "output_type": "execute_result"
    }
   ],
   "source": [
    "data.index"
   ]
  },
  {
   "cell_type": "code",
   "execution_count": 6,
   "id": "b8f7e1e0",
   "metadata": {},
   "outputs": [
    {
     "data": {
      "text/plain": [
       "array([['1997-05-15', 2.4375, 2.5, ..., 1.958333, 1.958333, 72156000],\n",
       "       ['1997-05-16', 1.96875, 1.979167, ..., 1.729167, 1.729167,\n",
       "        14700000],\n",
       "       ['1997-05-19', 1.760417, 1.770833, ..., 1.708333, 1.708333,\n",
       "        6106800],\n",
       "       ...,\n",
       "       ['2022-05-18', 2228.790039, 2257.060059, ..., 2142.25, 2142.25,\n",
       "        5419000],\n",
       "       ['2022-05-19', 2125.610107, 2200.679932, ..., 2146.379883,\n",
       "        2146.379883, 4407100],\n",
       "       ['2022-05-20', 2191.370117, 2197.959961, ..., 2151.820068,\n",
       "        2151.820068, 4968200]], dtype=object)"
      ]
     },
     "execution_count": 6,
     "metadata": {},
     "output_type": "execute_result"
    }
   ],
   "source": [
    "data.to_numpy()"
   ]
  },
  {
   "cell_type": "code",
   "execution_count": 7,
   "id": "f062d129",
   "metadata": {},
   "outputs": [
    {
     "data": {
      "text/plain": [
       "Date          object\n",
       "Open         float64\n",
       "High         float64\n",
       "Low          float64\n",
       "Close        float64\n",
       "Adj Close    float64\n",
       "Volume         int64\n",
       "dtype: object"
      ]
     },
     "execution_count": 7,
     "metadata": {},
     "output_type": "execute_result"
    }
   ],
   "source": [
    "data.dtypes"
   ]
  },
  {
   "cell_type": "code",
   "execution_count": 8,
   "id": "c70b3933",
   "metadata": {},
   "outputs": [
    {
     "data": {
      "text/html": [
       "<div>\n",
       "<style scoped>\n",
       "    .dataframe tbody tr th:only-of-type {\n",
       "        vertical-align: middle;\n",
       "    }\n",
       "\n",
       "    .dataframe tbody tr th {\n",
       "        vertical-align: top;\n",
       "    }\n",
       "\n",
       "    .dataframe thead th {\n",
       "        text-align: right;\n",
       "    }\n",
       "</style>\n",
       "<table border=\"1\" class=\"dataframe\">\n",
       "  <thead>\n",
       "    <tr style=\"text-align: right;\">\n",
       "      <th></th>\n",
       "      <th>Open</th>\n",
       "      <th>High</th>\n",
       "      <th>Low</th>\n",
       "      <th>Close</th>\n",
       "      <th>Adj Close</th>\n",
       "      <th>Volume</th>\n",
       "    </tr>\n",
       "  </thead>\n",
       "  <tbody>\n",
       "    <tr>\n",
       "      <th>count</th>\n",
       "      <td>6297.000000</td>\n",
       "      <td>6297.000000</td>\n",
       "      <td>6297.000000</td>\n",
       "      <td>6297.000000</td>\n",
       "      <td>6297.000000</td>\n",
       "      <td>6.297000e+03</td>\n",
       "    </tr>\n",
       "    <tr>\n",
       "      <th>mean</th>\n",
       "      <td>579.165241</td>\n",
       "      <td>585.734350</td>\n",
       "      <td>571.812049</td>\n",
       "      <td>578.874775</td>\n",
       "      <td>578.874775</td>\n",
       "      <td>7.251173e+06</td>\n",
       "    </tr>\n",
       "    <tr>\n",
       "      <th>std</th>\n",
       "      <td>932.832876</td>\n",
       "      <td>943.056593</td>\n",
       "      <td>921.105051</td>\n",
       "      <td>931.982802</td>\n",
       "      <td>931.982802</td>\n",
       "      <td>7.092000e+06</td>\n",
       "    </tr>\n",
       "    <tr>\n",
       "      <th>min</th>\n",
       "      <td>1.406250</td>\n",
       "      <td>1.447917</td>\n",
       "      <td>1.312500</td>\n",
       "      <td>1.395833</td>\n",
       "      <td>1.395833</td>\n",
       "      <td>4.872000e+05</td>\n",
       "    </tr>\n",
       "    <tr>\n",
       "      <th>25%</th>\n",
       "      <td>39.130001</td>\n",
       "      <td>39.919998</td>\n",
       "      <td>38.590000</td>\n",
       "      <td>39.180000</td>\n",
       "      <td>39.180000</td>\n",
       "      <td>3.520200e+06</td>\n",
       "    </tr>\n",
       "    <tr>\n",
       "      <th>50%</th>\n",
       "      <td>117.370003</td>\n",
       "      <td>118.870003</td>\n",
       "      <td>115.519997</td>\n",
       "      <td>117.389999</td>\n",
       "      <td>117.389999</td>\n",
       "      <td>5.405400e+06</td>\n",
       "    </tr>\n",
       "    <tr>\n",
       "      <th>75%</th>\n",
       "      <td>626.169983</td>\n",
       "      <td>636.549988</td>\n",
       "      <td>620.799988</td>\n",
       "      <td>628.349976</td>\n",
       "      <td>628.349976</td>\n",
       "      <td>8.205600e+06</td>\n",
       "    </tr>\n",
       "    <tr>\n",
       "      <th>max</th>\n",
       "      <td>3744.000000</td>\n",
       "      <td>3773.080078</td>\n",
       "      <td>3696.790039</td>\n",
       "      <td>3731.409912</td>\n",
       "      <td>3731.409912</td>\n",
       "      <td>1.043292e+08</td>\n",
       "    </tr>\n",
       "  </tbody>\n",
       "</table>\n",
       "</div>"
      ],
      "text/plain": [
       "              Open         High          Low        Close    Adj Close  \\\n",
       "count  6297.000000  6297.000000  6297.000000  6297.000000  6297.000000   \n",
       "mean    579.165241   585.734350   571.812049   578.874775   578.874775   \n",
       "std     932.832876   943.056593   921.105051   931.982802   931.982802   \n",
       "min       1.406250     1.447917     1.312500     1.395833     1.395833   \n",
       "25%      39.130001    39.919998    38.590000    39.180000    39.180000   \n",
       "50%     117.370003   118.870003   115.519997   117.389999   117.389999   \n",
       "75%     626.169983   636.549988   620.799988   628.349976   628.349976   \n",
       "max    3744.000000  3773.080078  3696.790039  3731.409912  3731.409912   \n",
       "\n",
       "             Volume  \n",
       "count  6.297000e+03  \n",
       "mean   7.251173e+06  \n",
       "std    7.092000e+06  \n",
       "min    4.872000e+05  \n",
       "25%    3.520200e+06  \n",
       "50%    5.405400e+06  \n",
       "75%    8.205600e+06  \n",
       "max    1.043292e+08  "
      ]
     },
     "execution_count": 8,
     "metadata": {},
     "output_type": "execute_result"
    }
   ],
   "source": [
    "data.describe()"
   ]
  },
  {
   "cell_type": "code",
   "execution_count": 9,
   "id": "52e2b2a3",
   "metadata": {},
   "outputs": [
    {
     "data": {
      "text/html": [
       "<div>\n",
       "<style scoped>\n",
       "    .dataframe tbody tr th:only-of-type {\n",
       "        vertical-align: middle;\n",
       "    }\n",
       "\n",
       "    .dataframe tbody tr th {\n",
       "        vertical-align: top;\n",
       "    }\n",
       "\n",
       "    .dataframe thead th {\n",
       "        text-align: right;\n",
       "    }\n",
       "</style>\n",
       "<table border=\"1\" class=\"dataframe\">\n",
       "  <thead>\n",
       "    <tr style=\"text-align: right;\">\n",
       "      <th></th>\n",
       "      <th>0</th>\n",
       "      <th>1</th>\n",
       "      <th>2</th>\n",
       "      <th>3</th>\n",
       "      <th>4</th>\n",
       "      <th>5</th>\n",
       "      <th>6</th>\n",
       "      <th>7</th>\n",
       "      <th>8</th>\n",
       "      <th>9</th>\n",
       "      <th>...</th>\n",
       "      <th>6287</th>\n",
       "      <th>6288</th>\n",
       "      <th>6289</th>\n",
       "      <th>6290</th>\n",
       "      <th>6291</th>\n",
       "      <th>6292</th>\n",
       "      <th>6293</th>\n",
       "      <th>6294</th>\n",
       "      <th>6295</th>\n",
       "      <th>6296</th>\n",
       "    </tr>\n",
       "  </thead>\n",
       "  <tbody>\n",
       "    <tr>\n",
       "      <th>Date</th>\n",
       "      <td>1997-05-15</td>\n",
       "      <td>1997-05-16</td>\n",
       "      <td>1997-05-19</td>\n",
       "      <td>1997-05-20</td>\n",
       "      <td>1997-05-21</td>\n",
       "      <td>1997-05-22</td>\n",
       "      <td>1997-05-23</td>\n",
       "      <td>1997-05-27</td>\n",
       "      <td>1997-05-28</td>\n",
       "      <td>1997-05-29</td>\n",
       "      <td>...</td>\n",
       "      <td>2022-05-09</td>\n",
       "      <td>2022-05-10</td>\n",
       "      <td>2022-05-11</td>\n",
       "      <td>2022-05-12</td>\n",
       "      <td>2022-05-13</td>\n",
       "      <td>2022-05-16</td>\n",
       "      <td>2022-05-17</td>\n",
       "      <td>2022-05-18</td>\n",
       "      <td>2022-05-19</td>\n",
       "      <td>2022-05-20</td>\n",
       "    </tr>\n",
       "    <tr>\n",
       "      <th>Open</th>\n",
       "      <td>2.4375</td>\n",
       "      <td>1.96875</td>\n",
       "      <td>1.760417</td>\n",
       "      <td>1.729167</td>\n",
       "      <td>1.635417</td>\n",
       "      <td>1.4375</td>\n",
       "      <td>1.40625</td>\n",
       "      <td>1.510417</td>\n",
       "      <td>1.625</td>\n",
       "      <td>1.541667</td>\n",
       "      <td>...</td>\n",
       "      <td>2226.25</td>\n",
       "      <td>2225.0</td>\n",
       "      <td>2162.070068</td>\n",
       "      <td>2055.0</td>\n",
       "      <td>2181.379883</td>\n",
       "      <td>2262.0</td>\n",
       "      <td>2265.5</td>\n",
       "      <td>2228.790039</td>\n",
       "      <td>2125.610107</td>\n",
       "      <td>2191.370117</td>\n",
       "    </tr>\n",
       "    <tr>\n",
       "      <th>High</th>\n",
       "      <td>2.5</td>\n",
       "      <td>1.979167</td>\n",
       "      <td>1.770833</td>\n",
       "      <td>1.75</td>\n",
       "      <td>1.645833</td>\n",
       "      <td>1.447917</td>\n",
       "      <td>1.520833</td>\n",
       "      <td>1.645833</td>\n",
       "      <td>1.635417</td>\n",
       "      <td>1.541667</td>\n",
       "      <td>...</td>\n",
       "      <td>2280.0</td>\n",
       "      <td>2252.850098</td>\n",
       "      <td>2203.120117</td>\n",
       "      <td>2215.610107</td>\n",
       "      <td>2263.679932</td>\n",
       "      <td>2279.850098</td>\n",
       "      <td>2316.0</td>\n",
       "      <td>2257.060059</td>\n",
       "      <td>2200.679932</td>\n",
       "      <td>2197.959961</td>\n",
       "    </tr>\n",
       "    <tr>\n",
       "      <th>Low</th>\n",
       "      <td>1.927083</td>\n",
       "      <td>1.708333</td>\n",
       "      <td>1.625</td>\n",
       "      <td>1.635417</td>\n",
       "      <td>1.375</td>\n",
       "      <td>1.3125</td>\n",
       "      <td>1.333333</td>\n",
       "      <td>1.458333</td>\n",
       "      <td>1.53125</td>\n",
       "      <td>1.479167</td>\n",
       "      <td>...</td>\n",
       "      <td>2159.139893</td>\n",
       "      <td>2143.419922</td>\n",
       "      <td>2088.570068</td>\n",
       "      <td>2048.110107</td>\n",
       "      <td>2156.0</td>\n",
       "      <td>2207.080078</td>\n",
       "      <td>2225.530029</td>\n",
       "      <td>2124.97998</td>\n",
       "      <td>2123.860107</td>\n",
       "      <td>2100.189941</td>\n",
       "    </tr>\n",
       "    <tr>\n",
       "      <th>Close</th>\n",
       "      <td>1.958333</td>\n",
       "      <td>1.729167</td>\n",
       "      <td>1.708333</td>\n",
       "      <td>1.635417</td>\n",
       "      <td>1.427083</td>\n",
       "      <td>1.395833</td>\n",
       "      <td>1.5</td>\n",
       "      <td>1.583333</td>\n",
       "      <td>1.53125</td>\n",
       "      <td>1.505208</td>\n",
       "      <td>...</td>\n",
       "      <td>2175.780029</td>\n",
       "      <td>2177.179932</td>\n",
       "      <td>2107.439941</td>\n",
       "      <td>2138.610107</td>\n",
       "      <td>2261.100098</td>\n",
       "      <td>2216.209961</td>\n",
       "      <td>2307.370117</td>\n",
       "      <td>2142.25</td>\n",
       "      <td>2146.379883</td>\n",
       "      <td>2151.820068</td>\n",
       "    </tr>\n",
       "    <tr>\n",
       "      <th>Adj Close</th>\n",
       "      <td>1.958333</td>\n",
       "      <td>1.729167</td>\n",
       "      <td>1.708333</td>\n",
       "      <td>1.635417</td>\n",
       "      <td>1.427083</td>\n",
       "      <td>1.395833</td>\n",
       "      <td>1.5</td>\n",
       "      <td>1.583333</td>\n",
       "      <td>1.53125</td>\n",
       "      <td>1.505208</td>\n",
       "      <td>...</td>\n",
       "      <td>2175.780029</td>\n",
       "      <td>2177.179932</td>\n",
       "      <td>2107.439941</td>\n",
       "      <td>2138.610107</td>\n",
       "      <td>2261.100098</td>\n",
       "      <td>2216.209961</td>\n",
       "      <td>2307.370117</td>\n",
       "      <td>2142.25</td>\n",
       "      <td>2146.379883</td>\n",
       "      <td>2151.820068</td>\n",
       "    </tr>\n",
       "    <tr>\n",
       "      <th>Volume</th>\n",
       "      <td>72156000</td>\n",
       "      <td>14700000</td>\n",
       "      <td>6106800</td>\n",
       "      <td>5467200</td>\n",
       "      <td>18853200</td>\n",
       "      <td>11776800</td>\n",
       "      <td>15937200</td>\n",
       "      <td>8697600</td>\n",
       "      <td>4574400</td>\n",
       "      <td>3472800</td>\n",
       "      <td>...</td>\n",
       "      <td>6406200</td>\n",
       "      <td>5271700</td>\n",
       "      <td>5485200</td>\n",
       "      <td>6601300</td>\n",
       "      <td>4676700</td>\n",
       "      <td>3728300</td>\n",
       "      <td>3822400</td>\n",
       "      <td>5419000</td>\n",
       "      <td>4407100</td>\n",
       "      <td>4968200</td>\n",
       "    </tr>\n",
       "  </tbody>\n",
       "</table>\n",
       "<p>7 rows × 6297 columns</p>\n",
       "</div>"
      ],
      "text/plain": [
       "                 0           1           2           3           4     \\\n",
       "Date       1997-05-15  1997-05-16  1997-05-19  1997-05-20  1997-05-21   \n",
       "Open           2.4375     1.96875    1.760417    1.729167    1.635417   \n",
       "High              2.5    1.979167    1.770833        1.75    1.645833   \n",
       "Low          1.927083    1.708333       1.625    1.635417       1.375   \n",
       "Close        1.958333    1.729167    1.708333    1.635417    1.427083   \n",
       "Adj Close    1.958333    1.729167    1.708333    1.635417    1.427083   \n",
       "Volume       72156000    14700000     6106800     5467200    18853200   \n",
       "\n",
       "                 5           6           7           8           9     ...  \\\n",
       "Date       1997-05-22  1997-05-23  1997-05-27  1997-05-28  1997-05-29  ...   \n",
       "Open           1.4375     1.40625    1.510417       1.625    1.541667  ...   \n",
       "High         1.447917    1.520833    1.645833    1.635417    1.541667  ...   \n",
       "Low            1.3125    1.333333    1.458333     1.53125    1.479167  ...   \n",
       "Close        1.395833         1.5    1.583333     1.53125    1.505208  ...   \n",
       "Adj Close    1.395833         1.5    1.583333     1.53125    1.505208  ...   \n",
       "Volume       11776800    15937200     8697600     4574400     3472800  ...   \n",
       "\n",
       "                  6287         6288         6289         6290         6291  \\\n",
       "Date        2022-05-09   2022-05-10   2022-05-11   2022-05-12   2022-05-13   \n",
       "Open           2226.25       2225.0  2162.070068       2055.0  2181.379883   \n",
       "High            2280.0  2252.850098  2203.120117  2215.610107  2263.679932   \n",
       "Low        2159.139893  2143.419922  2088.570068  2048.110107       2156.0   \n",
       "Close      2175.780029  2177.179932  2107.439941  2138.610107  2261.100098   \n",
       "Adj Close  2175.780029  2177.179932  2107.439941  2138.610107  2261.100098   \n",
       "Volume         6406200      5271700      5485200      6601300      4676700   \n",
       "\n",
       "                  6292         6293         6294         6295         6296  \n",
       "Date        2022-05-16   2022-05-17   2022-05-18   2022-05-19   2022-05-20  \n",
       "Open            2262.0       2265.5  2228.790039  2125.610107  2191.370117  \n",
       "High       2279.850098       2316.0  2257.060059  2200.679932  2197.959961  \n",
       "Low        2207.080078  2225.530029   2124.97998  2123.860107  2100.189941  \n",
       "Close      2216.209961  2307.370117      2142.25  2146.379883  2151.820068  \n",
       "Adj Close  2216.209961  2307.370117      2142.25  2146.379883  2151.820068  \n",
       "Volume         3728300      3822400      5419000      4407100      4968200  \n",
       "\n",
       "[7 rows x 6297 columns]"
      ]
     },
     "execution_count": 9,
     "metadata": {},
     "output_type": "execute_result"
    }
   ],
   "source": [
    "data.T"
   ]
  },
  {
   "cell_type": "code",
   "execution_count": 10,
   "id": "cdb3f9bb",
   "metadata": {},
   "outputs": [
    {
     "data": {
      "text/html": [
       "<div>\n",
       "<style scoped>\n",
       "    .dataframe tbody tr th:only-of-type {\n",
       "        vertical-align: middle;\n",
       "    }\n",
       "\n",
       "    .dataframe tbody tr th {\n",
       "        vertical-align: top;\n",
       "    }\n",
       "\n",
       "    .dataframe thead th {\n",
       "        text-align: right;\n",
       "    }\n",
       "</style>\n",
       "<table border=\"1\" class=\"dataframe\">\n",
       "  <thead>\n",
       "    <tr style=\"text-align: right;\">\n",
       "      <th></th>\n",
       "      <th>Date</th>\n",
       "      <th>Open</th>\n",
       "      <th>High</th>\n",
       "      <th>Low</th>\n",
       "      <th>Close</th>\n",
       "      <th>Adj Close</th>\n",
       "      <th>Volume</th>\n",
       "    </tr>\n",
       "  </thead>\n",
       "  <tbody>\n",
       "    <tr>\n",
       "      <th>0</th>\n",
       "      <td>1997-05-15</td>\n",
       "      <td>2.437500</td>\n",
       "      <td>2.500000</td>\n",
       "      <td>1.927083</td>\n",
       "      <td>1.958333</td>\n",
       "      <td>1.958333</td>\n",
       "      <td>72156000</td>\n",
       "    </tr>\n",
       "    <tr>\n",
       "      <th>1</th>\n",
       "      <td>1997-05-16</td>\n",
       "      <td>1.968750</td>\n",
       "      <td>1.979167</td>\n",
       "      <td>1.708333</td>\n",
       "      <td>1.729167</td>\n",
       "      <td>1.729167</td>\n",
       "      <td>14700000</td>\n",
       "    </tr>\n",
       "    <tr>\n",
       "      <th>2</th>\n",
       "      <td>1997-05-19</td>\n",
       "      <td>1.760417</td>\n",
       "      <td>1.770833</td>\n",
       "      <td>1.625000</td>\n",
       "      <td>1.708333</td>\n",
       "      <td>1.708333</td>\n",
       "      <td>6106800</td>\n",
       "    </tr>\n",
       "    <tr>\n",
       "      <th>3</th>\n",
       "      <td>1997-05-20</td>\n",
       "      <td>1.729167</td>\n",
       "      <td>1.750000</td>\n",
       "      <td>1.635417</td>\n",
       "      <td>1.635417</td>\n",
       "      <td>1.635417</td>\n",
       "      <td>5467200</td>\n",
       "    </tr>\n",
       "    <tr>\n",
       "      <th>4</th>\n",
       "      <td>1997-05-21</td>\n",
       "      <td>1.635417</td>\n",
       "      <td>1.645833</td>\n",
       "      <td>1.375000</td>\n",
       "      <td>1.427083</td>\n",
       "      <td>1.427083</td>\n",
       "      <td>18853200</td>\n",
       "    </tr>\n",
       "    <tr>\n",
       "      <th>...</th>\n",
       "      <td>...</td>\n",
       "      <td>...</td>\n",
       "      <td>...</td>\n",
       "      <td>...</td>\n",
       "      <td>...</td>\n",
       "      <td>...</td>\n",
       "      <td>...</td>\n",
       "    </tr>\n",
       "    <tr>\n",
       "      <th>6292</th>\n",
       "      <td>2022-05-16</td>\n",
       "      <td>2262.000000</td>\n",
       "      <td>2279.850098</td>\n",
       "      <td>2207.080078</td>\n",
       "      <td>2216.209961</td>\n",
       "      <td>2216.209961</td>\n",
       "      <td>3728300</td>\n",
       "    </tr>\n",
       "    <tr>\n",
       "      <th>6293</th>\n",
       "      <td>2022-05-17</td>\n",
       "      <td>2265.500000</td>\n",
       "      <td>2316.000000</td>\n",
       "      <td>2225.530029</td>\n",
       "      <td>2307.370117</td>\n",
       "      <td>2307.370117</td>\n",
       "      <td>3822400</td>\n",
       "    </tr>\n",
       "    <tr>\n",
       "      <th>6294</th>\n",
       "      <td>2022-05-18</td>\n",
       "      <td>2228.790039</td>\n",
       "      <td>2257.060059</td>\n",
       "      <td>2124.979980</td>\n",
       "      <td>2142.250000</td>\n",
       "      <td>2142.250000</td>\n",
       "      <td>5419000</td>\n",
       "    </tr>\n",
       "    <tr>\n",
       "      <th>6295</th>\n",
       "      <td>2022-05-19</td>\n",
       "      <td>2125.610107</td>\n",
       "      <td>2200.679932</td>\n",
       "      <td>2123.860107</td>\n",
       "      <td>2146.379883</td>\n",
       "      <td>2146.379883</td>\n",
       "      <td>4407100</td>\n",
       "    </tr>\n",
       "    <tr>\n",
       "      <th>6296</th>\n",
       "      <td>2022-05-20</td>\n",
       "      <td>2191.370117</td>\n",
       "      <td>2197.959961</td>\n",
       "      <td>2100.189941</td>\n",
       "      <td>2151.820068</td>\n",
       "      <td>2151.820068</td>\n",
       "      <td>4968200</td>\n",
       "    </tr>\n",
       "  </tbody>\n",
       "</table>\n",
       "<p>6297 rows × 7 columns</p>\n",
       "</div>"
      ],
      "text/plain": [
       "            Date         Open         High          Low        Close  \\\n",
       "0     1997-05-15     2.437500     2.500000     1.927083     1.958333   \n",
       "1     1997-05-16     1.968750     1.979167     1.708333     1.729167   \n",
       "2     1997-05-19     1.760417     1.770833     1.625000     1.708333   \n",
       "3     1997-05-20     1.729167     1.750000     1.635417     1.635417   \n",
       "4     1997-05-21     1.635417     1.645833     1.375000     1.427083   \n",
       "...          ...          ...          ...          ...          ...   \n",
       "6292  2022-05-16  2262.000000  2279.850098  2207.080078  2216.209961   \n",
       "6293  2022-05-17  2265.500000  2316.000000  2225.530029  2307.370117   \n",
       "6294  2022-05-18  2228.790039  2257.060059  2124.979980  2142.250000   \n",
       "6295  2022-05-19  2125.610107  2200.679932  2123.860107  2146.379883   \n",
       "6296  2022-05-20  2191.370117  2197.959961  2100.189941  2151.820068   \n",
       "\n",
       "        Adj Close    Volume  \n",
       "0        1.958333  72156000  \n",
       "1        1.729167  14700000  \n",
       "2        1.708333   6106800  \n",
       "3        1.635417   5467200  \n",
       "4        1.427083  18853200  \n",
       "...           ...       ...  \n",
       "6292  2216.209961   3728300  \n",
       "6293  2307.370117   3822400  \n",
       "6294  2142.250000   5419000  \n",
       "6295  2146.379883   4407100  \n",
       "6296  2151.820068   4968200  \n",
       "\n",
       "[6297 rows x 7 columns]"
      ]
     },
     "execution_count": 10,
     "metadata": {},
     "output_type": "execute_result"
    }
   ],
   "source": [
    "data.sort_index()"
   ]
  },
  {
   "cell_type": "code",
   "execution_count": 11,
   "id": "0d55a757",
   "metadata": {},
   "outputs": [
    {
     "data": {
      "text/html": [
       "<div>\n",
       "<style scoped>\n",
       "    .dataframe tbody tr th:only-of-type {\n",
       "        vertical-align: middle;\n",
       "    }\n",
       "\n",
       "    .dataframe tbody tr th {\n",
       "        vertical-align: top;\n",
       "    }\n",
       "\n",
       "    .dataframe thead th {\n",
       "        text-align: right;\n",
       "    }\n",
       "</style>\n",
       "<table border=\"1\" class=\"dataframe\">\n",
       "  <thead>\n",
       "    <tr style=\"text-align: right;\">\n",
       "      <th></th>\n",
       "      <th>Date</th>\n",
       "      <th>Open</th>\n",
       "      <th>High</th>\n",
       "      <th>Low</th>\n",
       "      <th>Close</th>\n",
       "      <th>Adj Close</th>\n",
       "      <th>Volume</th>\n",
       "    </tr>\n",
       "  </thead>\n",
       "  <tbody>\n",
       "    <tr>\n",
       "      <th>5</th>\n",
       "      <td>1997-05-22</td>\n",
       "      <td>1.437500</td>\n",
       "      <td>1.447917</td>\n",
       "      <td>1.312500</td>\n",
       "      <td>1.395833</td>\n",
       "      <td>1.395833</td>\n",
       "      <td>11776800</td>\n",
       "    </tr>\n",
       "    <tr>\n",
       "      <th>6</th>\n",
       "      <td>1997-05-23</td>\n",
       "      <td>1.406250</td>\n",
       "      <td>1.520833</td>\n",
       "      <td>1.333333</td>\n",
       "      <td>1.500000</td>\n",
       "      <td>1.500000</td>\n",
       "      <td>15937200</td>\n",
       "    </tr>\n",
       "    <tr>\n",
       "      <th>4</th>\n",
       "      <td>1997-05-21</td>\n",
       "      <td>1.635417</td>\n",
       "      <td>1.645833</td>\n",
       "      <td>1.375000</td>\n",
       "      <td>1.427083</td>\n",
       "      <td>1.427083</td>\n",
       "      <td>18853200</td>\n",
       "    </tr>\n",
       "    <tr>\n",
       "      <th>14</th>\n",
       "      <td>1997-06-05</td>\n",
       "      <td>1.416667</td>\n",
       "      <td>1.541667</td>\n",
       "      <td>1.375000</td>\n",
       "      <td>1.541667</td>\n",
       "      <td>1.541667</td>\n",
       "      <td>5672400</td>\n",
       "    </tr>\n",
       "    <tr>\n",
       "      <th>13</th>\n",
       "      <td>1997-06-04</td>\n",
       "      <td>1.479167</td>\n",
       "      <td>1.489583</td>\n",
       "      <td>1.395833</td>\n",
       "      <td>1.416667</td>\n",
       "      <td>1.416667</td>\n",
       "      <td>3080400</td>\n",
       "    </tr>\n",
       "    <tr>\n",
       "      <th>...</th>\n",
       "      <td>...</td>\n",
       "      <td>...</td>\n",
       "      <td>...</td>\n",
       "      <td>...</td>\n",
       "      <td>...</td>\n",
       "      <td>...</td>\n",
       "      <td>...</td>\n",
       "    </tr>\n",
       "    <tr>\n",
       "      <th>6079</th>\n",
       "      <td>2021-07-13</td>\n",
       "      <td>3702.100098</td>\n",
       "      <td>3773.080078</td>\n",
       "      <td>3671.320068</td>\n",
       "      <td>3677.360107</td>\n",
       "      <td>3677.360107</td>\n",
       "      <td>3845900</td>\n",
       "    </tr>\n",
       "    <tr>\n",
       "      <th>6171</th>\n",
       "      <td>2021-11-19</td>\n",
       "      <td>3712.689941</td>\n",
       "      <td>3762.149902</td>\n",
       "      <td>3675.719971</td>\n",
       "      <td>3676.570068</td>\n",
       "      <td>3676.570068</td>\n",
       "      <td>4936700</td>\n",
       "    </tr>\n",
       "    <tr>\n",
       "      <th>6075</th>\n",
       "      <td>2021-07-07</td>\n",
       "      <td>3717.379883</td>\n",
       "      <td>3734.199951</td>\n",
       "      <td>3678.909912</td>\n",
       "      <td>3696.580078</td>\n",
       "      <td>3696.580078</td>\n",
       "      <td>5328100</td>\n",
       "    </tr>\n",
       "    <tr>\n",
       "      <th>6077</th>\n",
       "      <td>2021-07-09</td>\n",
       "      <td>3722.520020</td>\n",
       "      <td>3748.000000</td>\n",
       "      <td>3693.399902</td>\n",
       "      <td>3719.340088</td>\n",
       "      <td>3719.340088</td>\n",
       "      <td>3748200</td>\n",
       "    </tr>\n",
       "    <tr>\n",
       "      <th>6078</th>\n",
       "      <td>2021-07-12</td>\n",
       "      <td>3744.000000</td>\n",
       "      <td>3757.290039</td>\n",
       "      <td>3696.790039</td>\n",
       "      <td>3718.550049</td>\n",
       "      <td>3718.550049</td>\n",
       "      <td>2571600</td>\n",
       "    </tr>\n",
       "  </tbody>\n",
       "</table>\n",
       "<p>6297 rows × 7 columns</p>\n",
       "</div>"
      ],
      "text/plain": [
       "            Date         Open         High          Low        Close  \\\n",
       "5     1997-05-22     1.437500     1.447917     1.312500     1.395833   \n",
       "6     1997-05-23     1.406250     1.520833     1.333333     1.500000   \n",
       "4     1997-05-21     1.635417     1.645833     1.375000     1.427083   \n",
       "14    1997-06-05     1.416667     1.541667     1.375000     1.541667   \n",
       "13    1997-06-04     1.479167     1.489583     1.395833     1.416667   \n",
       "...          ...          ...          ...          ...          ...   \n",
       "6079  2021-07-13  3702.100098  3773.080078  3671.320068  3677.360107   \n",
       "6171  2021-11-19  3712.689941  3762.149902  3675.719971  3676.570068   \n",
       "6075  2021-07-07  3717.379883  3734.199951  3678.909912  3696.580078   \n",
       "6077  2021-07-09  3722.520020  3748.000000  3693.399902  3719.340088   \n",
       "6078  2021-07-12  3744.000000  3757.290039  3696.790039  3718.550049   \n",
       "\n",
       "        Adj Close    Volume  \n",
       "5        1.395833  11776800  \n",
       "6        1.500000  15937200  \n",
       "4        1.427083  18853200  \n",
       "14       1.541667   5672400  \n",
       "13       1.416667   3080400  \n",
       "...           ...       ...  \n",
       "6079  3677.360107   3845900  \n",
       "6171  3676.570068   4936700  \n",
       "6075  3696.580078   5328100  \n",
       "6077  3719.340088   3748200  \n",
       "6078  3718.550049   2571600  \n",
       "\n",
       "[6297 rows x 7 columns]"
      ]
     },
     "execution_count": 11,
     "metadata": {},
     "output_type": "execute_result"
    }
   ],
   "source": [
    "data.sort_values(by='Low')"
   ]
  },
  {
   "cell_type": "code",
   "execution_count": 15,
   "id": "714521da",
   "metadata": {},
   "outputs": [
    {
     "data": {
      "text/html": [
       "<div>\n",
       "<style scoped>\n",
       "    .dataframe tbody tr th:only-of-type {\n",
       "        vertical-align: middle;\n",
       "    }\n",
       "\n",
       "    .dataframe tbody tr th {\n",
       "        vertical-align: top;\n",
       "    }\n",
       "\n",
       "    .dataframe thead th {\n",
       "        text-align: right;\n",
       "    }\n",
       "</style>\n",
       "<table border=\"1\" class=\"dataframe\">\n",
       "  <thead>\n",
       "    <tr style=\"text-align: right;\">\n",
       "      <th></th>\n",
       "      <th>Date</th>\n",
       "      <th>Open</th>\n",
       "      <th>High</th>\n",
       "      <th>Low</th>\n",
       "      <th>Close</th>\n",
       "      <th>Adj Close</th>\n",
       "      <th>Volume</th>\n",
       "    </tr>\n",
       "  </thead>\n",
       "  <tbody>\n",
       "    <tr>\n",
       "      <th>0</th>\n",
       "      <td>1997-05-15</td>\n",
       "      <td>2.437500</td>\n",
       "      <td>2.500000</td>\n",
       "      <td>1.927083</td>\n",
       "      <td>1.958333</td>\n",
       "      <td>1.958333</td>\n",
       "      <td>72156000</td>\n",
       "    </tr>\n",
       "    <tr>\n",
       "      <th>1</th>\n",
       "      <td>1997-05-16</td>\n",
       "      <td>1.968750</td>\n",
       "      <td>1.979167</td>\n",
       "      <td>1.708333</td>\n",
       "      <td>1.729167</td>\n",
       "      <td>1.729167</td>\n",
       "      <td>14700000</td>\n",
       "    </tr>\n",
       "    <tr>\n",
       "      <th>2</th>\n",
       "      <td>1997-05-19</td>\n",
       "      <td>1.760417</td>\n",
       "      <td>1.770833</td>\n",
       "      <td>1.625000</td>\n",
       "      <td>1.708333</td>\n",
       "      <td>1.708333</td>\n",
       "      <td>6106800</td>\n",
       "    </tr>\n",
       "    <tr>\n",
       "      <th>3</th>\n",
       "      <td>1997-05-20</td>\n",
       "      <td>1.729167</td>\n",
       "      <td>1.750000</td>\n",
       "      <td>1.635417</td>\n",
       "      <td>1.635417</td>\n",
       "      <td>1.635417</td>\n",
       "      <td>5467200</td>\n",
       "    </tr>\n",
       "    <tr>\n",
       "      <th>4</th>\n",
       "      <td>1997-05-21</td>\n",
       "      <td>1.635417</td>\n",
       "      <td>1.645833</td>\n",
       "      <td>1.375000</td>\n",
       "      <td>1.427083</td>\n",
       "      <td>1.427083</td>\n",
       "      <td>18853200</td>\n",
       "    </tr>\n",
       "    <tr>\n",
       "      <th>...</th>\n",
       "      <td>...</td>\n",
       "      <td>...</td>\n",
       "      <td>...</td>\n",
       "      <td>...</td>\n",
       "      <td>...</td>\n",
       "      <td>...</td>\n",
       "      <td>...</td>\n",
       "    </tr>\n",
       "    <tr>\n",
       "      <th>6292</th>\n",
       "      <td>2022-05-16</td>\n",
       "      <td>2262.000000</td>\n",
       "      <td>2279.850098</td>\n",
       "      <td>2207.080078</td>\n",
       "      <td>2216.209961</td>\n",
       "      <td>2216.209961</td>\n",
       "      <td>3728300</td>\n",
       "    </tr>\n",
       "    <tr>\n",
       "      <th>6293</th>\n",
       "      <td>2022-05-17</td>\n",
       "      <td>2265.500000</td>\n",
       "      <td>2316.000000</td>\n",
       "      <td>2225.530029</td>\n",
       "      <td>2307.370117</td>\n",
       "      <td>2307.370117</td>\n",
       "      <td>3822400</td>\n",
       "    </tr>\n",
       "    <tr>\n",
       "      <th>6294</th>\n",
       "      <td>2022-05-18</td>\n",
       "      <td>2228.790039</td>\n",
       "      <td>2257.060059</td>\n",
       "      <td>2124.979980</td>\n",
       "      <td>2142.250000</td>\n",
       "      <td>2142.250000</td>\n",
       "      <td>5419000</td>\n",
       "    </tr>\n",
       "    <tr>\n",
       "      <th>6295</th>\n",
       "      <td>2022-05-19</td>\n",
       "      <td>2125.610107</td>\n",
       "      <td>2200.679932</td>\n",
       "      <td>2123.860107</td>\n",
       "      <td>2146.379883</td>\n",
       "      <td>2146.379883</td>\n",
       "      <td>4407100</td>\n",
       "    </tr>\n",
       "    <tr>\n",
       "      <th>6296</th>\n",
       "      <td>2022-05-20</td>\n",
       "      <td>2191.370117</td>\n",
       "      <td>2197.959961</td>\n",
       "      <td>2100.189941</td>\n",
       "      <td>2151.820068</td>\n",
       "      <td>2151.820068</td>\n",
       "      <td>4968200</td>\n",
       "    </tr>\n",
       "  </tbody>\n",
       "</table>\n",
       "<p>6297 rows × 7 columns</p>\n",
       "</div>"
      ],
      "text/plain": [
       "            Date         Open         High          Low        Close  \\\n",
       "0     1997-05-15     2.437500     2.500000     1.927083     1.958333   \n",
       "1     1997-05-16     1.968750     1.979167     1.708333     1.729167   \n",
       "2     1997-05-19     1.760417     1.770833     1.625000     1.708333   \n",
       "3     1997-05-20     1.729167     1.750000     1.635417     1.635417   \n",
       "4     1997-05-21     1.635417     1.645833     1.375000     1.427083   \n",
       "...          ...          ...          ...          ...          ...   \n",
       "6292  2022-05-16  2262.000000  2279.850098  2207.080078  2216.209961   \n",
       "6293  2022-05-17  2265.500000  2316.000000  2225.530029  2307.370117   \n",
       "6294  2022-05-18  2228.790039  2257.060059  2124.979980  2142.250000   \n",
       "6295  2022-05-19  2125.610107  2200.679932  2123.860107  2146.379883   \n",
       "6296  2022-05-20  2191.370117  2197.959961  2100.189941  2151.820068   \n",
       "\n",
       "        Adj Close    Volume  \n",
       "0        1.958333  72156000  \n",
       "1        1.729167  14700000  \n",
       "2        1.708333   6106800  \n",
       "3        1.635417   5467200  \n",
       "4        1.427083  18853200  \n",
       "...           ...       ...  \n",
       "6292  2216.209961   3728300  \n",
       "6293  2307.370117   3822400  \n",
       "6294  2142.250000   5419000  \n",
       "6295  2146.379883   4407100  \n",
       "6296  2151.820068   4968200  \n",
       "\n",
       "[6297 rows x 7 columns]"
      ]
     },
     "execution_count": 15,
     "metadata": {},
     "output_type": "execute_result"
    }
   ],
   "source": [
    "data.sort_index(axis=0,ascending=True)"
   ]
  },
  {
   "cell_type": "code",
   "execution_count": 17,
   "id": "2d1c4b56",
   "metadata": {},
   "outputs": [
    {
     "data": {
      "text/html": [
       "<div>\n",
       "<style scoped>\n",
       "    .dataframe tbody tr th:only-of-type {\n",
       "        vertical-align: middle;\n",
       "    }\n",
       "\n",
       "    .dataframe tbody tr th {\n",
       "        vertical-align: top;\n",
       "    }\n",
       "\n",
       "    .dataframe thead th {\n",
       "        text-align: right;\n",
       "    }\n",
       "</style>\n",
       "<table border=\"1\" class=\"dataframe\">\n",
       "  <thead>\n",
       "    <tr style=\"text-align: right;\">\n",
       "      <th></th>\n",
       "      <th>Date</th>\n",
       "      <th>Open</th>\n",
       "      <th>High</th>\n",
       "      <th>Low</th>\n",
       "      <th>Close</th>\n",
       "      <th>Adj Close</th>\n",
       "      <th>Volume</th>\n",
       "    </tr>\n",
       "  </thead>\n",
       "  <tbody>\n",
       "    <tr>\n",
       "      <th>5</th>\n",
       "      <td>1997-05-22</td>\n",
       "      <td>1.437500</td>\n",
       "      <td>1.447917</td>\n",
       "      <td>1.312500</td>\n",
       "      <td>1.395833</td>\n",
       "      <td>1.395833</td>\n",
       "      <td>11776800</td>\n",
       "    </tr>\n",
       "    <tr>\n",
       "      <th>13</th>\n",
       "      <td>1997-06-04</td>\n",
       "      <td>1.479167</td>\n",
       "      <td>1.489583</td>\n",
       "      <td>1.395833</td>\n",
       "      <td>1.416667</td>\n",
       "      <td>1.416667</td>\n",
       "      <td>3080400</td>\n",
       "    </tr>\n",
       "    <tr>\n",
       "      <th>4</th>\n",
       "      <td>1997-05-21</td>\n",
       "      <td>1.635417</td>\n",
       "      <td>1.645833</td>\n",
       "      <td>1.375000</td>\n",
       "      <td>1.427083</td>\n",
       "      <td>1.427083</td>\n",
       "      <td>18853200</td>\n",
       "    </tr>\n",
       "    <tr>\n",
       "      <th>12</th>\n",
       "      <td>1997-06-03</td>\n",
       "      <td>1.531250</td>\n",
       "      <td>1.531250</td>\n",
       "      <td>1.479167</td>\n",
       "      <td>1.479167</td>\n",
       "      <td>1.479167</td>\n",
       "      <td>1183200</td>\n",
       "    </tr>\n",
       "    <tr>\n",
       "      <th>30</th>\n",
       "      <td>1997-06-27</td>\n",
       "      <td>1.515625</td>\n",
       "      <td>1.515625</td>\n",
       "      <td>1.479167</td>\n",
       "      <td>1.489583</td>\n",
       "      <td>1.489583</td>\n",
       "      <td>1188000</td>\n",
       "    </tr>\n",
       "    <tr>\n",
       "      <th>...</th>\n",
       "      <td>...</td>\n",
       "      <td>...</td>\n",
       "      <td>...</td>\n",
       "      <td>...</td>\n",
       "      <td>...</td>\n",
       "      <td>...</td>\n",
       "      <td>...</td>\n",
       "    </tr>\n",
       "    <tr>\n",
       "      <th>6075</th>\n",
       "      <td>2021-07-07</td>\n",
       "      <td>3717.379883</td>\n",
       "      <td>3734.199951</td>\n",
       "      <td>3678.909912</td>\n",
       "      <td>3696.580078</td>\n",
       "      <td>3696.580078</td>\n",
       "      <td>5328100</td>\n",
       "    </tr>\n",
       "    <tr>\n",
       "      <th>6088</th>\n",
       "      <td>2021-07-26</td>\n",
       "      <td>3673.169922</td>\n",
       "      <td>3712.080078</td>\n",
       "      <td>3647.250000</td>\n",
       "      <td>3699.820068</td>\n",
       "      <td>3699.820068</td>\n",
       "      <td>2900100</td>\n",
       "    </tr>\n",
       "    <tr>\n",
       "      <th>6078</th>\n",
       "      <td>2021-07-12</td>\n",
       "      <td>3744.000000</td>\n",
       "      <td>3757.290039</td>\n",
       "      <td>3696.790039</td>\n",
       "      <td>3718.550049</td>\n",
       "      <td>3718.550049</td>\n",
       "      <td>2571600</td>\n",
       "    </tr>\n",
       "    <tr>\n",
       "      <th>6077</th>\n",
       "      <td>2021-07-09</td>\n",
       "      <td>3722.520020</td>\n",
       "      <td>3748.000000</td>\n",
       "      <td>3693.399902</td>\n",
       "      <td>3719.340088</td>\n",
       "      <td>3719.340088</td>\n",
       "      <td>3748200</td>\n",
       "    </tr>\n",
       "    <tr>\n",
       "      <th>6076</th>\n",
       "      <td>2021-07-08</td>\n",
       "      <td>3643.560059</td>\n",
       "      <td>3759.989990</td>\n",
       "      <td>3621.120117</td>\n",
       "      <td>3731.409912</td>\n",
       "      <td>3731.409912</td>\n",
       "      <td>5180600</td>\n",
       "    </tr>\n",
       "  </tbody>\n",
       "</table>\n",
       "<p>6297 rows × 7 columns</p>\n",
       "</div>"
      ],
      "text/plain": [
       "            Date         Open         High          Low        Close  \\\n",
       "5     1997-05-22     1.437500     1.447917     1.312500     1.395833   \n",
       "13    1997-06-04     1.479167     1.489583     1.395833     1.416667   \n",
       "4     1997-05-21     1.635417     1.645833     1.375000     1.427083   \n",
       "12    1997-06-03     1.531250     1.531250     1.479167     1.479167   \n",
       "30    1997-06-27     1.515625     1.515625     1.479167     1.489583   \n",
       "...          ...          ...          ...          ...          ...   \n",
       "6075  2021-07-07  3717.379883  3734.199951  3678.909912  3696.580078   \n",
       "6088  2021-07-26  3673.169922  3712.080078  3647.250000  3699.820068   \n",
       "6078  2021-07-12  3744.000000  3757.290039  3696.790039  3718.550049   \n",
       "6077  2021-07-09  3722.520020  3748.000000  3693.399902  3719.340088   \n",
       "6076  2021-07-08  3643.560059  3759.989990  3621.120117  3731.409912   \n",
       "\n",
       "        Adj Close    Volume  \n",
       "5        1.395833  11776800  \n",
       "13       1.416667   3080400  \n",
       "4        1.427083  18853200  \n",
       "12       1.479167   1183200  \n",
       "30       1.489583   1188000  \n",
       "...           ...       ...  \n",
       "6075  3696.580078   5328100  \n",
       "6088  3699.820068   2900100  \n",
       "6078  3718.550049   2571600  \n",
       "6077  3719.340088   3748200  \n",
       "6076  3731.409912   5180600  \n",
       "\n",
       "[6297 rows x 7 columns]"
      ]
     },
     "execution_count": 17,
     "metadata": {},
     "output_type": "execute_result"
    }
   ],
   "source": [
    "data.sort_values(by='Close')"
   ]
  },
  {
   "cell_type": "code",
   "execution_count": 24,
   "id": "bfdbe993",
   "metadata": {},
   "outputs": [
    {
     "data": {
      "text/html": [
       "<div>\n",
       "<style scoped>\n",
       "    .dataframe tbody tr th:only-of-type {\n",
       "        vertical-align: middle;\n",
       "    }\n",
       "\n",
       "    .dataframe tbody tr th {\n",
       "        vertical-align: top;\n",
       "    }\n",
       "\n",
       "    .dataframe thead th {\n",
       "        text-align: right;\n",
       "    }\n",
       "</style>\n",
       "<table border=\"1\" class=\"dataframe\">\n",
       "  <thead>\n",
       "    <tr style=\"text-align: right;\">\n",
       "      <th></th>\n",
       "      <th>Open</th>\n",
       "      <th>Low</th>\n",
       "    </tr>\n",
       "  </thead>\n",
       "  <tbody>\n",
       "    <tr>\n",
       "      <th>1</th>\n",
       "      <td>1.968750</td>\n",
       "      <td>1.708333</td>\n",
       "    </tr>\n",
       "    <tr>\n",
       "      <th>2</th>\n",
       "      <td>1.760417</td>\n",
       "      <td>1.625000</td>\n",
       "    </tr>\n",
       "    <tr>\n",
       "      <th>5</th>\n",
       "      <td>1.437500</td>\n",
       "      <td>1.312500</td>\n",
       "    </tr>\n",
       "  </tbody>\n",
       "</table>\n",
       "</div>"
      ],
      "text/plain": [
       "       Open       Low\n",
       "1  1.968750  1.708333\n",
       "2  1.760417  1.625000\n",
       "5  1.437500  1.312500"
      ]
     },
     "execution_count": 24,
     "metadata": {},
     "output_type": "execute_result"
    }
   ],
   "source": [
    "data.loc[[1,2,5],['Open','Low']]"
   ]
  },
  {
   "cell_type": "code",
   "execution_count": 27,
   "id": "274a8afc",
   "metadata": {},
   "outputs": [
    {
     "data": {
      "text/html": [
       "<div>\n",
       "<style scoped>\n",
       "    .dataframe tbody tr th:only-of-type {\n",
       "        vertical-align: middle;\n",
       "    }\n",
       "\n",
       "    .dataframe tbody tr th {\n",
       "        vertical-align: top;\n",
       "    }\n",
       "\n",
       "    .dataframe thead th {\n",
       "        text-align: right;\n",
       "    }\n",
       "</style>\n",
       "<table border=\"1\" class=\"dataframe\">\n",
       "  <thead>\n",
       "    <tr style=\"text-align: right;\">\n",
       "      <th></th>\n",
       "      <th>Open</th>\n",
       "    </tr>\n",
       "  </thead>\n",
       "  <tbody>\n",
       "    <tr>\n",
       "      <th>2</th>\n",
       "      <td>1.760417</td>\n",
       "    </tr>\n",
       "    <tr>\n",
       "      <th>5</th>\n",
       "      <td>1.437500</td>\n",
       "    </tr>\n",
       "    <tr>\n",
       "      <th>7</th>\n",
       "      <td>1.510417</td>\n",
       "    </tr>\n",
       "    <tr>\n",
       "      <th>8</th>\n",
       "      <td>1.625000</td>\n",
       "    </tr>\n",
       "    <tr>\n",
       "      <th>9</th>\n",
       "      <td>1.541667</td>\n",
       "    </tr>\n",
       "  </tbody>\n",
       "</table>\n",
       "</div>"
      ],
      "text/plain": [
       "       Open\n",
       "2  1.760417\n",
       "5  1.437500\n",
       "7  1.510417\n",
       "8  1.625000\n",
       "9  1.541667"
      ]
     },
     "execution_count": 27,
     "metadata": {},
     "output_type": "execute_result"
    }
   ],
   "source": [
    "data.loc[[2,5,7,8,9],['Open']]"
   ]
  },
  {
   "cell_type": "code",
   "execution_count": 30,
   "id": "b2504d42",
   "metadata": {},
   "outputs": [
    {
     "data": {
      "text/html": [
       "<div>\n",
       "<style scoped>\n",
       "    .dataframe tbody tr th:only-of-type {\n",
       "        vertical-align: middle;\n",
       "    }\n",
       "\n",
       "    .dataframe tbody tr th {\n",
       "        vertical-align: top;\n",
       "    }\n",
       "\n",
       "    .dataframe thead th {\n",
       "        text-align: right;\n",
       "    }\n",
       "</style>\n",
       "<table border=\"1\" class=\"dataframe\">\n",
       "  <thead>\n",
       "    <tr style=\"text-align: right;\">\n",
       "      <th></th>\n",
       "      <th>Open</th>\n",
       "      <th>Close</th>\n",
       "    </tr>\n",
       "  </thead>\n",
       "  <tbody>\n",
       "    <tr>\n",
       "      <th>892</th>\n",
       "      <td>29.750000</td>\n",
       "      <td>28.000000</td>\n",
       "    </tr>\n",
       "    <tr>\n",
       "      <th>893</th>\n",
       "      <td>26.000000</td>\n",
       "      <td>25.031250</td>\n",
       "    </tr>\n",
       "    <tr>\n",
       "      <th>894</th>\n",
       "      <td>25.125000</td>\n",
       "      <td>26.937500</td>\n",
       "    </tr>\n",
       "    <tr>\n",
       "      <th>895</th>\n",
       "      <td>24.750000</td>\n",
       "      <td>24.687500</td>\n",
       "    </tr>\n",
       "    <tr>\n",
       "      <th>896</th>\n",
       "      <td>24.937500</td>\n",
       "      <td>24.625000</td>\n",
       "    </tr>\n",
       "    <tr>\n",
       "      <th>...</th>\n",
       "      <td>...</td>\n",
       "      <td>...</td>\n",
       "    </tr>\n",
       "    <tr>\n",
       "      <th>6292</th>\n",
       "      <td>2262.000000</td>\n",
       "      <td>2216.209961</td>\n",
       "    </tr>\n",
       "    <tr>\n",
       "      <th>6293</th>\n",
       "      <td>2265.500000</td>\n",
       "      <td>2307.370117</td>\n",
       "    </tr>\n",
       "    <tr>\n",
       "      <th>6294</th>\n",
       "      <td>2228.790039</td>\n",
       "      <td>2142.250000</td>\n",
       "    </tr>\n",
       "    <tr>\n",
       "      <th>6295</th>\n",
       "      <td>2125.610107</td>\n",
       "      <td>2146.379883</td>\n",
       "    </tr>\n",
       "    <tr>\n",
       "      <th>6296</th>\n",
       "      <td>2191.370117</td>\n",
       "      <td>2151.820068</td>\n",
       "    </tr>\n",
       "  </tbody>\n",
       "</table>\n",
       "<p>5405 rows × 2 columns</p>\n",
       "</div>"
      ],
      "text/plain": [
       "             Open        Close\n",
       "892     29.750000    28.000000\n",
       "893     26.000000    25.031250\n",
       "894     25.125000    26.937500\n",
       "895     24.750000    24.687500\n",
       "896     24.937500    24.625000\n",
       "...           ...          ...\n",
       "6292  2262.000000  2216.209961\n",
       "6293  2265.500000  2307.370117\n",
       "6294  2228.790039  2142.250000\n",
       "6295  2125.610107  2146.379883\n",
       "6296  2191.370117  2151.820068\n",
       "\n",
       "[5405 rows x 2 columns]"
      ]
     },
     "execution_count": 30,
     "metadata": {},
     "output_type": "execute_result"
    }
   ],
   "source": [
    "data.iloc[892:,[1,4]]"
   ]
  },
  {
   "cell_type": "code",
   "execution_count": 32,
   "id": "ca91aeea",
   "metadata": {},
   "outputs": [
    {
     "data": {
      "text/html": [
       "<div>\n",
       "<style scoped>\n",
       "    .dataframe tbody tr th:only-of-type {\n",
       "        vertical-align: middle;\n",
       "    }\n",
       "\n",
       "    .dataframe tbody tr th {\n",
       "        vertical-align: top;\n",
       "    }\n",
       "\n",
       "    .dataframe thead th {\n",
       "        text-align: right;\n",
       "    }\n",
       "</style>\n",
       "<table border=\"1\" class=\"dataframe\">\n",
       "  <thead>\n",
       "    <tr style=\"text-align: right;\">\n",
       "      <th></th>\n",
       "      <th>Date</th>\n",
       "      <th>Open</th>\n",
       "      <th>High</th>\n",
       "      <th>Low</th>\n",
       "      <th>Close</th>\n",
       "      <th>Adj Close</th>\n",
       "      <th>Volume</th>\n",
       "    </tr>\n",
       "  </thead>\n",
       "  <tbody>\n",
       "    <tr>\n",
       "      <th>4179</th>\n",
       "      <td>2013-12-23</td>\n",
       "      <td>403.690002</td>\n",
       "      <td>405.000000</td>\n",
       "      <td>399.200012</td>\n",
       "      <td>402.920013</td>\n",
       "      <td>402.920013</td>\n",
       "      <td>2659500</td>\n",
       "    </tr>\n",
       "    <tr>\n",
       "      <th>4180</th>\n",
       "      <td>2013-12-24</td>\n",
       "      <td>402.519989</td>\n",
       "      <td>403.720001</td>\n",
       "      <td>396.369995</td>\n",
       "      <td>399.200012</td>\n",
       "      <td>399.200012</td>\n",
       "      <td>1380400</td>\n",
       "    </tr>\n",
       "    <tr>\n",
       "      <th>4181</th>\n",
       "      <td>2013-12-26</td>\n",
       "      <td>401.790009</td>\n",
       "      <td>404.519989</td>\n",
       "      <td>396.809998</td>\n",
       "      <td>404.390015</td>\n",
       "      <td>404.390015</td>\n",
       "      <td>1868500</td>\n",
       "    </tr>\n",
       "    <tr>\n",
       "      <th>4182</th>\n",
       "      <td>2013-12-27</td>\n",
       "      <td>404.649994</td>\n",
       "      <td>405.630005</td>\n",
       "      <td>396.250000</td>\n",
       "      <td>398.079987</td>\n",
       "      <td>398.079987</td>\n",
       "      <td>1986900</td>\n",
       "    </tr>\n",
       "    <tr>\n",
       "      <th>4190</th>\n",
       "      <td>2014-01-09</td>\n",
       "      <td>403.709991</td>\n",
       "      <td>406.890015</td>\n",
       "      <td>398.440002</td>\n",
       "      <td>401.010010</td>\n",
       "      <td>401.010010</td>\n",
       "      <td>2103000</td>\n",
       "    </tr>\n",
       "    <tr>\n",
       "      <th>...</th>\n",
       "      <td>...</td>\n",
       "      <td>...</td>\n",
       "      <td>...</td>\n",
       "      <td>...</td>\n",
       "      <td>...</td>\n",
       "      <td>...</td>\n",
       "      <td>...</td>\n",
       "    </tr>\n",
       "    <tr>\n",
       "      <th>6292</th>\n",
       "      <td>2022-05-16</td>\n",
       "      <td>2262.000000</td>\n",
       "      <td>2279.850098</td>\n",
       "      <td>2207.080078</td>\n",
       "      <td>2216.209961</td>\n",
       "      <td>2216.209961</td>\n",
       "      <td>3728300</td>\n",
       "    </tr>\n",
       "    <tr>\n",
       "      <th>6293</th>\n",
       "      <td>2022-05-17</td>\n",
       "      <td>2265.500000</td>\n",
       "      <td>2316.000000</td>\n",
       "      <td>2225.530029</td>\n",
       "      <td>2307.370117</td>\n",
       "      <td>2307.370117</td>\n",
       "      <td>3822400</td>\n",
       "    </tr>\n",
       "    <tr>\n",
       "      <th>6294</th>\n",
       "      <td>2022-05-18</td>\n",
       "      <td>2228.790039</td>\n",
       "      <td>2257.060059</td>\n",
       "      <td>2124.979980</td>\n",
       "      <td>2142.250000</td>\n",
       "      <td>2142.250000</td>\n",
       "      <td>5419000</td>\n",
       "    </tr>\n",
       "    <tr>\n",
       "      <th>6295</th>\n",
       "      <td>2022-05-19</td>\n",
       "      <td>2125.610107</td>\n",
       "      <td>2200.679932</td>\n",
       "      <td>2123.860107</td>\n",
       "      <td>2146.379883</td>\n",
       "      <td>2146.379883</td>\n",
       "      <td>4407100</td>\n",
       "    </tr>\n",
       "    <tr>\n",
       "      <th>6296</th>\n",
       "      <td>2022-05-20</td>\n",
       "      <td>2191.370117</td>\n",
       "      <td>2197.959961</td>\n",
       "      <td>2100.189941</td>\n",
       "      <td>2151.820068</td>\n",
       "      <td>2151.820068</td>\n",
       "      <td>4968200</td>\n",
       "    </tr>\n",
       "  </tbody>\n",
       "</table>\n",
       "<p>1792 rows × 7 columns</p>\n",
       "</div>"
      ],
      "text/plain": [
       "            Date         Open         High          Low        Close  \\\n",
       "4179  2013-12-23   403.690002   405.000000   399.200012   402.920013   \n",
       "4180  2013-12-24   402.519989   403.720001   396.369995   399.200012   \n",
       "4181  2013-12-26   401.790009   404.519989   396.809998   404.390015   \n",
       "4182  2013-12-27   404.649994   405.630005   396.250000   398.079987   \n",
       "4190  2014-01-09   403.709991   406.890015   398.440002   401.010010   \n",
       "...          ...          ...          ...          ...          ...   \n",
       "6292  2022-05-16  2262.000000  2279.850098  2207.080078  2216.209961   \n",
       "6293  2022-05-17  2265.500000  2316.000000  2225.530029  2307.370117   \n",
       "6294  2022-05-18  2228.790039  2257.060059  2124.979980  2142.250000   \n",
       "6295  2022-05-19  2125.610107  2200.679932  2123.860107  2146.379883   \n",
       "6296  2022-05-20  2191.370117  2197.959961  2100.189941  2151.820068   \n",
       "\n",
       "        Adj Close   Volume  \n",
       "4179   402.920013  2659500  \n",
       "4180   399.200012  1380400  \n",
       "4181   404.390015  1868500  \n",
       "4182   398.079987  1986900  \n",
       "4190   401.010010  2103000  \n",
       "...           ...      ...  \n",
       "6292  2216.209961  3728300  \n",
       "6293  2307.370117  3822400  \n",
       "6294  2142.250000  5419000  \n",
       "6295  2146.379883  4407100  \n",
       "6296  2151.820068  4968200  \n",
       "\n",
       "[1792 rows x 7 columns]"
      ]
     },
     "execution_count": 32,
     "metadata": {},
     "output_type": "execute_result"
    }
   ],
   "source": [
    "data[data['Open']>400]"
   ]
  },
  {
   "cell_type": "code",
   "execution_count": 33,
   "id": "8d127b5b",
   "metadata": {},
   "outputs": [
    {
     "data": {
      "text/html": [
       "<div>\n",
       "<style scoped>\n",
       "    .dataframe tbody tr th:only-of-type {\n",
       "        vertical-align: middle;\n",
       "    }\n",
       "\n",
       "    .dataframe tbody tr th {\n",
       "        vertical-align: top;\n",
       "    }\n",
       "\n",
       "    .dataframe thead th {\n",
       "        text-align: right;\n",
       "    }\n",
       "</style>\n",
       "<table border=\"1\" class=\"dataframe\">\n",
       "  <thead>\n",
       "    <tr style=\"text-align: right;\">\n",
       "      <th></th>\n",
       "      <th>Date</th>\n",
       "      <th>Open</th>\n",
       "      <th>High</th>\n",
       "      <th>Low</th>\n",
       "      <th>Close</th>\n",
       "      <th>Adj Close</th>\n",
       "      <th>Volume</th>\n",
       "    </tr>\n",
       "  </thead>\n",
       "  <tbody>\n",
       "    <tr>\n",
       "      <th>0</th>\n",
       "      <td>False</td>\n",
       "      <td>False</td>\n",
       "      <td>False</td>\n",
       "      <td>False</td>\n",
       "      <td>False</td>\n",
       "      <td>False</td>\n",
       "      <td>False</td>\n",
       "    </tr>\n",
       "    <tr>\n",
       "      <th>1</th>\n",
       "      <td>False</td>\n",
       "      <td>False</td>\n",
       "      <td>False</td>\n",
       "      <td>False</td>\n",
       "      <td>False</td>\n",
       "      <td>False</td>\n",
       "      <td>False</td>\n",
       "    </tr>\n",
       "    <tr>\n",
       "      <th>2</th>\n",
       "      <td>False</td>\n",
       "      <td>False</td>\n",
       "      <td>False</td>\n",
       "      <td>False</td>\n",
       "      <td>False</td>\n",
       "      <td>False</td>\n",
       "      <td>False</td>\n",
       "    </tr>\n",
       "    <tr>\n",
       "      <th>3</th>\n",
       "      <td>False</td>\n",
       "      <td>False</td>\n",
       "      <td>False</td>\n",
       "      <td>False</td>\n",
       "      <td>False</td>\n",
       "      <td>False</td>\n",
       "      <td>False</td>\n",
       "    </tr>\n",
       "    <tr>\n",
       "      <th>4</th>\n",
       "      <td>False</td>\n",
       "      <td>False</td>\n",
       "      <td>False</td>\n",
       "      <td>False</td>\n",
       "      <td>False</td>\n",
       "      <td>False</td>\n",
       "      <td>False</td>\n",
       "    </tr>\n",
       "    <tr>\n",
       "      <th>...</th>\n",
       "      <td>...</td>\n",
       "      <td>...</td>\n",
       "      <td>...</td>\n",
       "      <td>...</td>\n",
       "      <td>...</td>\n",
       "      <td>...</td>\n",
       "      <td>...</td>\n",
       "    </tr>\n",
       "    <tr>\n",
       "      <th>6292</th>\n",
       "      <td>False</td>\n",
       "      <td>False</td>\n",
       "      <td>False</td>\n",
       "      <td>False</td>\n",
       "      <td>False</td>\n",
       "      <td>False</td>\n",
       "      <td>False</td>\n",
       "    </tr>\n",
       "    <tr>\n",
       "      <th>6293</th>\n",
       "      <td>False</td>\n",
       "      <td>False</td>\n",
       "      <td>False</td>\n",
       "      <td>False</td>\n",
       "      <td>False</td>\n",
       "      <td>False</td>\n",
       "      <td>False</td>\n",
       "    </tr>\n",
       "    <tr>\n",
       "      <th>6294</th>\n",
       "      <td>False</td>\n",
       "      <td>False</td>\n",
       "      <td>False</td>\n",
       "      <td>False</td>\n",
       "      <td>False</td>\n",
       "      <td>False</td>\n",
       "      <td>False</td>\n",
       "    </tr>\n",
       "    <tr>\n",
       "      <th>6295</th>\n",
       "      <td>False</td>\n",
       "      <td>False</td>\n",
       "      <td>False</td>\n",
       "      <td>False</td>\n",
       "      <td>False</td>\n",
       "      <td>False</td>\n",
       "      <td>False</td>\n",
       "    </tr>\n",
       "    <tr>\n",
       "      <th>6296</th>\n",
       "      <td>False</td>\n",
       "      <td>False</td>\n",
       "      <td>False</td>\n",
       "      <td>False</td>\n",
       "      <td>False</td>\n",
       "      <td>False</td>\n",
       "      <td>False</td>\n",
       "    </tr>\n",
       "  </tbody>\n",
       "</table>\n",
       "<p>6297 rows × 7 columns</p>\n",
       "</div>"
      ],
      "text/plain": [
       "       Date   Open   High    Low  Close  Adj Close  Volume\n",
       "0     False  False  False  False  False      False   False\n",
       "1     False  False  False  False  False      False   False\n",
       "2     False  False  False  False  False      False   False\n",
       "3     False  False  False  False  False      False   False\n",
       "4     False  False  False  False  False      False   False\n",
       "...     ...    ...    ...    ...    ...        ...     ...\n",
       "6292  False  False  False  False  False      False   False\n",
       "6293  False  False  False  False  False      False   False\n",
       "6294  False  False  False  False  False      False   False\n",
       "6295  False  False  False  False  False      False   False\n",
       "6296  False  False  False  False  False      False   False\n",
       "\n",
       "[6297 rows x 7 columns]"
      ]
     },
     "execution_count": 33,
     "metadata": {},
     "output_type": "execute_result"
    }
   ],
   "source": [
    "data.isin(['Open','Low'])"
   ]
  },
  {
   "cell_type": "code",
   "execution_count": 34,
   "id": "1bac8b19",
   "metadata": {},
   "outputs": [
    {
     "data": {
      "text/plain": [
       "Date         1997-05-151997-05-161997-05-191997-05-201997-0...\n",
       "Open                                            3647003.519614\n",
       "High                                            3688369.201181\n",
       "Low                                             3600700.470653\n",
       "Close                                           3645174.457856\n",
       "Adj Close                                       3645174.457856\n",
       "Volume                                             45660636400\n",
       "dtype: object"
      ]
     },
     "execution_count": 34,
     "metadata": {},
     "output_type": "execute_result"
    }
   ],
   "source": [
    "data.dropna().sum()"
   ]
  },
  {
   "cell_type": "code",
   "execution_count": 40,
   "id": "69726967",
   "metadata": {},
   "outputs": [
    {
     "data": {
      "text/html": [
       "<div>\n",
       "<style scoped>\n",
       "    .dataframe tbody tr th:only-of-type {\n",
       "        vertical-align: middle;\n",
       "    }\n",
       "\n",
       "    .dataframe tbody tr th {\n",
       "        vertical-align: top;\n",
       "    }\n",
       "\n",
       "    .dataframe thead th {\n",
       "        text-align: right;\n",
       "    }\n",
       "</style>\n",
       "<table border=\"1\" class=\"dataframe\">\n",
       "  <thead>\n",
       "    <tr style=\"text-align: right;\">\n",
       "      <th></th>\n",
       "      <th>Date</th>\n",
       "      <th>Open</th>\n",
       "      <th>High</th>\n",
       "      <th>Low</th>\n",
       "      <th>Close</th>\n",
       "      <th>Adj Close</th>\n",
       "      <th>Volume</th>\n",
       "    </tr>\n",
       "  </thead>\n",
       "  <tbody>\n",
       "    <tr>\n",
       "      <th>0</th>\n",
       "      <td>1997-05-15</td>\n",
       "      <td>2.437500</td>\n",
       "      <td>2.500000</td>\n",
       "      <td>1.927083</td>\n",
       "      <td>1.958333</td>\n",
       "      <td>1.958333</td>\n",
       "      <td>72156000</td>\n",
       "    </tr>\n",
       "    <tr>\n",
       "      <th>1</th>\n",
       "      <td>1997-05-16</td>\n",
       "      <td>1.968750</td>\n",
       "      <td>1.979167</td>\n",
       "      <td>1.708333</td>\n",
       "      <td>1.729167</td>\n",
       "      <td>1.729167</td>\n",
       "      <td>14700000</td>\n",
       "    </tr>\n",
       "    <tr>\n",
       "      <th>2</th>\n",
       "      <td>1997-05-19</td>\n",
       "      <td>1.760417</td>\n",
       "      <td>1.770833</td>\n",
       "      <td>1.625000</td>\n",
       "      <td>1.708333</td>\n",
       "      <td>1.708333</td>\n",
       "      <td>6106800</td>\n",
       "    </tr>\n",
       "    <tr>\n",
       "      <th>3</th>\n",
       "      <td>1997-05-20</td>\n",
       "      <td>1.729167</td>\n",
       "      <td>1.750000</td>\n",
       "      <td>1.635417</td>\n",
       "      <td>1.635417</td>\n",
       "      <td>1.635417</td>\n",
       "      <td>5467200</td>\n",
       "    </tr>\n",
       "    <tr>\n",
       "      <th>4</th>\n",
       "      <td>1997-05-21</td>\n",
       "      <td>1.635417</td>\n",
       "      <td>1.645833</td>\n",
       "      <td>1.375000</td>\n",
       "      <td>1.427083</td>\n",
       "      <td>1.427083</td>\n",
       "      <td>18853200</td>\n",
       "    </tr>\n",
       "    <tr>\n",
       "      <th>...</th>\n",
       "      <td>...</td>\n",
       "      <td>...</td>\n",
       "      <td>...</td>\n",
       "      <td>...</td>\n",
       "      <td>...</td>\n",
       "      <td>...</td>\n",
       "      <td>...</td>\n",
       "    </tr>\n",
       "    <tr>\n",
       "      <th>6292</th>\n",
       "      <td>2022-05-16</td>\n",
       "      <td>2262.000000</td>\n",
       "      <td>2279.850098</td>\n",
       "      <td>2207.080078</td>\n",
       "      <td>2216.209961</td>\n",
       "      <td>2216.209961</td>\n",
       "      <td>3728300</td>\n",
       "    </tr>\n",
       "    <tr>\n",
       "      <th>6293</th>\n",
       "      <td>2022-05-17</td>\n",
       "      <td>2265.500000</td>\n",
       "      <td>2316.000000</td>\n",
       "      <td>2225.530029</td>\n",
       "      <td>2307.370117</td>\n",
       "      <td>2307.370117</td>\n",
       "      <td>3822400</td>\n",
       "    </tr>\n",
       "    <tr>\n",
       "      <th>6294</th>\n",
       "      <td>2022-05-18</td>\n",
       "      <td>2228.790039</td>\n",
       "      <td>2257.060059</td>\n",
       "      <td>2124.979980</td>\n",
       "      <td>2142.250000</td>\n",
       "      <td>2142.250000</td>\n",
       "      <td>5419000</td>\n",
       "    </tr>\n",
       "    <tr>\n",
       "      <th>6295</th>\n",
       "      <td>2022-05-19</td>\n",
       "      <td>2125.610107</td>\n",
       "      <td>2200.679932</td>\n",
       "      <td>2123.860107</td>\n",
       "      <td>2146.379883</td>\n",
       "      <td>2146.379883</td>\n",
       "      <td>4407100</td>\n",
       "    </tr>\n",
       "    <tr>\n",
       "      <th>6296</th>\n",
       "      <td>2022-05-20</td>\n",
       "      <td>2191.370117</td>\n",
       "      <td>2197.959961</td>\n",
       "      <td>2100.189941</td>\n",
       "      <td>2151.820068</td>\n",
       "      <td>2151.820068</td>\n",
       "      <td>4968200</td>\n",
       "    </tr>\n",
       "  </tbody>\n",
       "</table>\n",
       "<p>6297 rows × 7 columns</p>\n",
       "</div>"
      ],
      "text/plain": [
       "            Date         Open         High          Low        Close  \\\n",
       "0     1997-05-15     2.437500     2.500000     1.927083     1.958333   \n",
       "1     1997-05-16     1.968750     1.979167     1.708333     1.729167   \n",
       "2     1997-05-19     1.760417     1.770833     1.625000     1.708333   \n",
       "3     1997-05-20     1.729167     1.750000     1.635417     1.635417   \n",
       "4     1997-05-21     1.635417     1.645833     1.375000     1.427083   \n",
       "...          ...          ...          ...          ...          ...   \n",
       "6292  2022-05-16  2262.000000  2279.850098  2207.080078  2216.209961   \n",
       "6293  2022-05-17  2265.500000  2316.000000  2225.530029  2307.370117   \n",
       "6294  2022-05-18  2228.790039  2257.060059  2124.979980  2142.250000   \n",
       "6295  2022-05-19  2125.610107  2200.679932  2123.860107  2146.379883   \n",
       "6296  2022-05-20  2191.370117  2197.959961  2100.189941  2151.820068   \n",
       "\n",
       "        Adj Close    Volume  \n",
       "0        1.958333  72156000  \n",
       "1        1.729167  14700000  \n",
       "2        1.708333   6106800  \n",
       "3        1.635417   5467200  \n",
       "4        1.427083  18853200  \n",
       "...           ...       ...  \n",
       "6292  2216.209961   3728300  \n",
       "6293  2307.370117   3822400  \n",
       "6294  2142.250000   5419000  \n",
       "6295  2146.379883   4407100  \n",
       "6296  2151.820068   4968200  \n",
       "\n",
       "[6297 rows x 7 columns]"
      ]
     },
     "execution_count": 40,
     "metadata": {},
     "output_type": "execute_result"
    }
   ],
   "source": [
    "data.dropna(thresh=3)"
   ]
  },
  {
   "cell_type": "code",
   "execution_count": 41,
   "id": "2e7c1373",
   "metadata": {},
   "outputs": [
    {
     "data": {
      "text/html": [
       "<div>\n",
       "<style scoped>\n",
       "    .dataframe tbody tr th:only-of-type {\n",
       "        vertical-align: middle;\n",
       "    }\n",
       "\n",
       "    .dataframe tbody tr th {\n",
       "        vertical-align: top;\n",
       "    }\n",
       "\n",
       "    .dataframe thead th {\n",
       "        text-align: right;\n",
       "    }\n",
       "</style>\n",
       "<table border=\"1\" class=\"dataframe\">\n",
       "  <thead>\n",
       "    <tr style=\"text-align: right;\">\n",
       "      <th></th>\n",
       "      <th>Date</th>\n",
       "      <th>Open</th>\n",
       "      <th>High</th>\n",
       "      <th>Low</th>\n",
       "      <th>Close</th>\n",
       "      <th>Adj Close</th>\n",
       "      <th>Volume</th>\n",
       "    </tr>\n",
       "  </thead>\n",
       "  <tbody>\n",
       "    <tr>\n",
       "      <th>0</th>\n",
       "      <td>1997-05-15</td>\n",
       "      <td>2.437500</td>\n",
       "      <td>2.500000</td>\n",
       "      <td>1.927083</td>\n",
       "      <td>1.958333</td>\n",
       "      <td>1.958333</td>\n",
       "      <td>72156000</td>\n",
       "    </tr>\n",
       "    <tr>\n",
       "      <th>1</th>\n",
       "      <td>1997-05-16</td>\n",
       "      <td>1.968750</td>\n",
       "      <td>1.979167</td>\n",
       "      <td>1.708333</td>\n",
       "      <td>1.729167</td>\n",
       "      <td>1.729167</td>\n",
       "      <td>14700000</td>\n",
       "    </tr>\n",
       "    <tr>\n",
       "      <th>2</th>\n",
       "      <td>1997-05-19</td>\n",
       "      <td>1.760417</td>\n",
       "      <td>1.770833</td>\n",
       "      <td>1.625000</td>\n",
       "      <td>1.708333</td>\n",
       "      <td>1.708333</td>\n",
       "      <td>6106800</td>\n",
       "    </tr>\n",
       "    <tr>\n",
       "      <th>3</th>\n",
       "      <td>1997-05-20</td>\n",
       "      <td>1.729167</td>\n",
       "      <td>1.750000</td>\n",
       "      <td>1.635417</td>\n",
       "      <td>1.635417</td>\n",
       "      <td>1.635417</td>\n",
       "      <td>5467200</td>\n",
       "    </tr>\n",
       "    <tr>\n",
       "      <th>4</th>\n",
       "      <td>1997-05-21</td>\n",
       "      <td>1.635417</td>\n",
       "      <td>1.645833</td>\n",
       "      <td>1.375000</td>\n",
       "      <td>1.427083</td>\n",
       "      <td>1.427083</td>\n",
       "      <td>18853200</td>\n",
       "    </tr>\n",
       "    <tr>\n",
       "      <th>...</th>\n",
       "      <td>...</td>\n",
       "      <td>...</td>\n",
       "      <td>...</td>\n",
       "      <td>...</td>\n",
       "      <td>...</td>\n",
       "      <td>...</td>\n",
       "      <td>...</td>\n",
       "    </tr>\n",
       "    <tr>\n",
       "      <th>6292</th>\n",
       "      <td>2022-05-16</td>\n",
       "      <td>2262.000000</td>\n",
       "      <td>2279.850098</td>\n",
       "      <td>2207.080078</td>\n",
       "      <td>2216.209961</td>\n",
       "      <td>2216.209961</td>\n",
       "      <td>3728300</td>\n",
       "    </tr>\n",
       "    <tr>\n",
       "      <th>6293</th>\n",
       "      <td>2022-05-17</td>\n",
       "      <td>2265.500000</td>\n",
       "      <td>2316.000000</td>\n",
       "      <td>2225.530029</td>\n",
       "      <td>2307.370117</td>\n",
       "      <td>2307.370117</td>\n",
       "      <td>3822400</td>\n",
       "    </tr>\n",
       "    <tr>\n",
       "      <th>6294</th>\n",
       "      <td>2022-05-18</td>\n",
       "      <td>2228.790039</td>\n",
       "      <td>2257.060059</td>\n",
       "      <td>2124.979980</td>\n",
       "      <td>2142.250000</td>\n",
       "      <td>2142.250000</td>\n",
       "      <td>5419000</td>\n",
       "    </tr>\n",
       "    <tr>\n",
       "      <th>6295</th>\n",
       "      <td>2022-05-19</td>\n",
       "      <td>2125.610107</td>\n",
       "      <td>2200.679932</td>\n",
       "      <td>2123.860107</td>\n",
       "      <td>2146.379883</td>\n",
       "      <td>2146.379883</td>\n",
       "      <td>4407100</td>\n",
       "    </tr>\n",
       "    <tr>\n",
       "      <th>6296</th>\n",
       "      <td>2022-05-20</td>\n",
       "      <td>2191.370117</td>\n",
       "      <td>2197.959961</td>\n",
       "      <td>2100.189941</td>\n",
       "      <td>2151.820068</td>\n",
       "      <td>2151.820068</td>\n",
       "      <td>4968200</td>\n",
       "    </tr>\n",
       "  </tbody>\n",
       "</table>\n",
       "<p>6297 rows × 7 columns</p>\n",
       "</div>"
      ],
      "text/plain": [
       "            Date         Open         High          Low        Close  \\\n",
       "0     1997-05-15     2.437500     2.500000     1.927083     1.958333   \n",
       "1     1997-05-16     1.968750     1.979167     1.708333     1.729167   \n",
       "2     1997-05-19     1.760417     1.770833     1.625000     1.708333   \n",
       "3     1997-05-20     1.729167     1.750000     1.635417     1.635417   \n",
       "4     1997-05-21     1.635417     1.645833     1.375000     1.427083   \n",
       "...          ...          ...          ...          ...          ...   \n",
       "6292  2022-05-16  2262.000000  2279.850098  2207.080078  2216.209961   \n",
       "6293  2022-05-17  2265.500000  2316.000000  2225.530029  2307.370117   \n",
       "6294  2022-05-18  2228.790039  2257.060059  2124.979980  2142.250000   \n",
       "6295  2022-05-19  2125.610107  2200.679932  2123.860107  2146.379883   \n",
       "6296  2022-05-20  2191.370117  2197.959961  2100.189941  2151.820068   \n",
       "\n",
       "        Adj Close    Volume  \n",
       "0        1.958333  72156000  \n",
       "1        1.729167  14700000  \n",
       "2        1.708333   6106800  \n",
       "3        1.635417   5467200  \n",
       "4        1.427083  18853200  \n",
       "...           ...       ...  \n",
       "6292  2216.209961   3728300  \n",
       "6293  2307.370117   3822400  \n",
       "6294  2142.250000   5419000  \n",
       "6295  2146.379883   4407100  \n",
       "6296  2151.820068   4968200  \n",
       "\n",
       "[6297 rows x 7 columns]"
      ]
     },
     "execution_count": 41,
     "metadata": {},
     "output_type": "execute_result"
    }
   ],
   "source": [
    "data.dropna(subset=['Open','Low'])"
   ]
  },
  {
   "cell_type": "code",
   "execution_count": 43,
   "id": "95ce6b2a",
   "metadata": {},
   "outputs": [
    {
     "data": {
      "text/html": [
       "<div>\n",
       "<style scoped>\n",
       "    .dataframe tbody tr th:only-of-type {\n",
       "        vertical-align: middle;\n",
       "    }\n",
       "\n",
       "    .dataframe tbody tr th {\n",
       "        vertical-align: top;\n",
       "    }\n",
       "\n",
       "    .dataframe thead th {\n",
       "        text-align: right;\n",
       "    }\n",
       "</style>\n",
       "<table border=\"1\" class=\"dataframe\">\n",
       "  <thead>\n",
       "    <tr style=\"text-align: right;\">\n",
       "      <th></th>\n",
       "      <th>Date</th>\n",
       "      <th>Open</th>\n",
       "      <th>High</th>\n",
       "      <th>Low</th>\n",
       "      <th>Close</th>\n",
       "      <th>Adj Close</th>\n",
       "      <th>Volume</th>\n",
       "    </tr>\n",
       "  </thead>\n",
       "  <tbody>\n",
       "    <tr>\n",
       "      <th>0</th>\n",
       "      <td>1997-05-15</td>\n",
       "      <td>2.437500</td>\n",
       "      <td>2.500000</td>\n",
       "      <td>1.927083</td>\n",
       "      <td>1.958333</td>\n",
       "      <td>1.958333</td>\n",
       "      <td>72156000</td>\n",
       "    </tr>\n",
       "    <tr>\n",
       "      <th>1</th>\n",
       "      <td>1997-05-16</td>\n",
       "      <td>1.968750</td>\n",
       "      <td>1.979167</td>\n",
       "      <td>1.708333</td>\n",
       "      <td>1.729167</td>\n",
       "      <td>1.729167</td>\n",
       "      <td>14700000</td>\n",
       "    </tr>\n",
       "    <tr>\n",
       "      <th>2</th>\n",
       "      <td>1997-05-19</td>\n",
       "      <td>1.760417</td>\n",
       "      <td>1.770833</td>\n",
       "      <td>1.625000</td>\n",
       "      <td>1.708333</td>\n",
       "      <td>1.708333</td>\n",
       "      <td>6106800</td>\n",
       "    </tr>\n",
       "    <tr>\n",
       "      <th>3</th>\n",
       "      <td>1997-05-20</td>\n",
       "      <td>1.729167</td>\n",
       "      <td>1.750000</td>\n",
       "      <td>1.635417</td>\n",
       "      <td>1.635417</td>\n",
       "      <td>1.635417</td>\n",
       "      <td>5467200</td>\n",
       "    </tr>\n",
       "    <tr>\n",
       "      <th>4</th>\n",
       "      <td>1997-05-21</td>\n",
       "      <td>1.635417</td>\n",
       "      <td>1.645833</td>\n",
       "      <td>1.375000</td>\n",
       "      <td>1.427083</td>\n",
       "      <td>1.427083</td>\n",
       "      <td>18853200</td>\n",
       "    </tr>\n",
       "    <tr>\n",
       "      <th>...</th>\n",
       "      <td>...</td>\n",
       "      <td>...</td>\n",
       "      <td>...</td>\n",
       "      <td>...</td>\n",
       "      <td>...</td>\n",
       "      <td>...</td>\n",
       "      <td>...</td>\n",
       "    </tr>\n",
       "    <tr>\n",
       "      <th>6292</th>\n",
       "      <td>2022-05-16</td>\n",
       "      <td>2262.000000</td>\n",
       "      <td>2279.850098</td>\n",
       "      <td>2207.080078</td>\n",
       "      <td>2216.209961</td>\n",
       "      <td>2216.209961</td>\n",
       "      <td>3728300</td>\n",
       "    </tr>\n",
       "    <tr>\n",
       "      <th>6293</th>\n",
       "      <td>2022-05-17</td>\n",
       "      <td>2265.500000</td>\n",
       "      <td>2316.000000</td>\n",
       "      <td>2225.530029</td>\n",
       "      <td>2307.370117</td>\n",
       "      <td>2307.370117</td>\n",
       "      <td>3822400</td>\n",
       "    </tr>\n",
       "    <tr>\n",
       "      <th>6294</th>\n",
       "      <td>2022-05-18</td>\n",
       "      <td>2228.790039</td>\n",
       "      <td>2257.060059</td>\n",
       "      <td>2124.979980</td>\n",
       "      <td>2142.250000</td>\n",
       "      <td>2142.250000</td>\n",
       "      <td>5419000</td>\n",
       "    </tr>\n",
       "    <tr>\n",
       "      <th>6295</th>\n",
       "      <td>2022-05-19</td>\n",
       "      <td>2125.610107</td>\n",
       "      <td>2200.679932</td>\n",
       "      <td>2123.860107</td>\n",
       "      <td>2146.379883</td>\n",
       "      <td>2146.379883</td>\n",
       "      <td>4407100</td>\n",
       "    </tr>\n",
       "    <tr>\n",
       "      <th>6296</th>\n",
       "      <td>2022-05-20</td>\n",
       "      <td>2191.370117</td>\n",
       "      <td>2197.959961</td>\n",
       "      <td>2100.189941</td>\n",
       "      <td>2151.820068</td>\n",
       "      <td>2151.820068</td>\n",
       "      <td>4968200</td>\n",
       "    </tr>\n",
       "  </tbody>\n",
       "</table>\n",
       "<p>6297 rows × 7 columns</p>\n",
       "</div>"
      ],
      "text/plain": [
       "            Date         Open         High          Low        Close  \\\n",
       "0     1997-05-15     2.437500     2.500000     1.927083     1.958333   \n",
       "1     1997-05-16     1.968750     1.979167     1.708333     1.729167   \n",
       "2     1997-05-19     1.760417     1.770833     1.625000     1.708333   \n",
       "3     1997-05-20     1.729167     1.750000     1.635417     1.635417   \n",
       "4     1997-05-21     1.635417     1.645833     1.375000     1.427083   \n",
       "...          ...          ...          ...          ...          ...   \n",
       "6292  2022-05-16  2262.000000  2279.850098  2207.080078  2216.209961   \n",
       "6293  2022-05-17  2265.500000  2316.000000  2225.530029  2307.370117   \n",
       "6294  2022-05-18  2228.790039  2257.060059  2124.979980  2142.250000   \n",
       "6295  2022-05-19  2125.610107  2200.679932  2123.860107  2146.379883   \n",
       "6296  2022-05-20  2191.370117  2197.959961  2100.189941  2151.820068   \n",
       "\n",
       "        Adj Close    Volume  \n",
       "0        1.958333  72156000  \n",
       "1        1.729167  14700000  \n",
       "2        1.708333   6106800  \n",
       "3        1.635417   5467200  \n",
       "4        1.427083  18853200  \n",
       "...           ...       ...  \n",
       "6292  2216.209961   3728300  \n",
       "6293  2307.370117   3822400  \n",
       "6294  2142.250000   5419000  \n",
       "6295  2146.379883   4407100  \n",
       "6296  2151.820068   4968200  \n",
       "\n",
       "[6297 rows x 7 columns]"
      ]
     },
     "execution_count": 43,
     "metadata": {},
     "output_type": "execute_result"
    }
   ],
   "source": [
    "data.fillna(method='ffill')"
   ]
  },
  {
   "cell_type": "code",
   "execution_count": 44,
   "id": "36489c00",
   "metadata": {},
   "outputs": [
    {
     "data": {
      "text/plain": [
       "0          2.437500\n",
       "1          1.968750\n",
       "2          1.760417\n",
       "3          1.729167\n",
       "4          1.635417\n",
       "           ...     \n",
       "6292    2262.000000\n",
       "6293    2265.500000\n",
       "6294    2228.790039\n",
       "6295    2125.610107\n",
       "6296    2191.370117\n",
       "Name: Open, Length: 6297, dtype: float64"
      ]
     },
     "execution_count": 44,
     "metadata": {},
     "output_type": "execute_result"
    }
   ],
   "source": [
    "data['Open']"
   ]
  },
  {
   "cell_type": "code",
   "execution_count": 45,
   "id": "626ccecf",
   "metadata": {},
   "outputs": [
    {
     "data": {
      "text/html": [
       "<div>\n",
       "<style scoped>\n",
       "    .dataframe tbody tr th:only-of-type {\n",
       "        vertical-align: middle;\n",
       "    }\n",
       "\n",
       "    .dataframe tbody tr th {\n",
       "        vertical-align: top;\n",
       "    }\n",
       "\n",
       "    .dataframe thead th {\n",
       "        text-align: right;\n",
       "    }\n",
       "</style>\n",
       "<table border=\"1\" class=\"dataframe\">\n",
       "  <thead>\n",
       "    <tr style=\"text-align: right;\">\n",
       "      <th></th>\n",
       "      <th>Date</th>\n",
       "      <th>Open</th>\n",
       "      <th>High</th>\n",
       "      <th>Low</th>\n",
       "      <th>Close</th>\n",
       "      <th>Adj Close</th>\n",
       "      <th>Volume</th>\n",
       "    </tr>\n",
       "  </thead>\n",
       "  <tbody>\n",
       "    <tr>\n",
       "      <th>0</th>\n",
       "      <td>1997-05-15</td>\n",
       "      <td>2.437500</td>\n",
       "      <td>2.500000</td>\n",
       "      <td>1.927083</td>\n",
       "      <td>1.958333</td>\n",
       "      <td>1.958333</td>\n",
       "      <td>72156000</td>\n",
       "    </tr>\n",
       "    <tr>\n",
       "      <th>1</th>\n",
       "      <td>1997-05-16</td>\n",
       "      <td>1.968750</td>\n",
       "      <td>1.979167</td>\n",
       "      <td>1.708333</td>\n",
       "      <td>1.729167</td>\n",
       "      <td>1.729167</td>\n",
       "      <td>14700000</td>\n",
       "    </tr>\n",
       "    <tr>\n",
       "      <th>2</th>\n",
       "      <td>1997-05-19</td>\n",
       "      <td>1.760417</td>\n",
       "      <td>1.770833</td>\n",
       "      <td>1.625000</td>\n",
       "      <td>1.708333</td>\n",
       "      <td>1.708333</td>\n",
       "      <td>6106800</td>\n",
       "    </tr>\n",
       "  </tbody>\n",
       "</table>\n",
       "</div>"
      ],
      "text/plain": [
       "         Date      Open      High       Low     Close  Adj Close    Volume\n",
       "0  1997-05-15  2.437500  2.500000  1.927083  1.958333   1.958333  72156000\n",
       "1  1997-05-16  1.968750  1.979167  1.708333  1.729167   1.729167  14700000\n",
       "2  1997-05-19  1.760417  1.770833  1.625000  1.708333   1.708333   6106800"
      ]
     },
     "execution_count": 45,
     "metadata": {},
     "output_type": "execute_result"
    }
   ],
   "source": [
    "data[0:3]"
   ]
  },
  {
   "cell_type": "code",
   "execution_count": 46,
   "id": "40b20c2a",
   "metadata": {},
   "outputs": [
    {
     "data": {
      "text/plain": [
       "2013-01-02    1\n",
       "2013-01-03    2\n",
       "2013-01-04    3\n",
       "2013-01-05    4\n",
       "2013-01-06    4\n",
       "2013-01-07    6\n",
       "Freq: D, dtype: int64"
      ]
     },
     "execution_count": 46,
     "metadata": {},
     "output_type": "execute_result"
    }
   ],
   "source": [
    "s1=pd.Series([1,2,3,4,4,6],index=pd.date_range('20130102',periods=6))\n",
    "s1"
   ]
  },
  {
   "cell_type": "code",
   "execution_count": 48,
   "id": "1418eec0",
   "metadata": {},
   "outputs": [
    {
     "data": {
      "text/plain": [
       "2013-01-02    False\n",
       "2013-01-03    False\n",
       "2013-01-04    False\n",
       "2013-01-05    False\n",
       "2013-01-06     True\n",
       "2013-01-07    False\n",
       "Freq: D, dtype: bool"
      ]
     },
     "execution_count": 48,
     "metadata": {},
     "output_type": "execute_result"
    }
   ],
   "source": [
    "s1.duplicated()"
   ]
  },
  {
   "cell_type": "code",
   "execution_count": 49,
   "id": "737e4a73",
   "metadata": {},
   "outputs": [
    {
     "data": {
      "text/plain": [
       "2013-01-02    False\n",
       "2013-01-03    False\n",
       "2013-01-04    False\n",
       "2013-01-05    False\n",
       "2013-01-06    False\n",
       "2013-01-07    False\n",
       "Freq: D, dtype: bool"
      ]
     },
     "execution_count": 49,
     "metadata": {},
     "output_type": "execute_result"
    }
   ],
   "source": [
    "pd.isna(s1)"
   ]
  },
  {
   "cell_type": "code",
   "execution_count": 52,
   "id": "298adc7a",
   "metadata": {},
   "outputs": [
    {
     "data": {
      "text/html": [
       "<div>\n",
       "<style scoped>\n",
       "    .dataframe tbody tr th:only-of-type {\n",
       "        vertical-align: middle;\n",
       "    }\n",
       "\n",
       "    .dataframe tbody tr th {\n",
       "        vertical-align: top;\n",
       "    }\n",
       "\n",
       "    .dataframe thead th {\n",
       "        text-align: right;\n",
       "    }\n",
       "</style>\n",
       "<table border=\"1\" class=\"dataframe\">\n",
       "  <thead>\n",
       "    <tr style=\"text-align: right;\">\n",
       "      <th></th>\n",
       "      <th>A</th>\n",
       "      <th>B</th>\n",
       "    </tr>\n",
       "  </thead>\n",
       "  <tbody>\n",
       "    <tr>\n",
       "      <th>0</th>\n",
       "      <td>0</td>\n",
       "      <td>1</td>\n",
       "    </tr>\n",
       "    <tr>\n",
       "      <th>1</th>\n",
       "      <td>1</td>\n",
       "      <td>2</td>\n",
       "    </tr>\n",
       "    <tr>\n",
       "      <th>2</th>\n",
       "      <td>2</td>\n",
       "      <td>3</td>\n",
       "    </tr>\n",
       "  </tbody>\n",
       "</table>\n",
       "</div>"
      ],
      "text/plain": [
       "   A  B\n",
       "0  0  1\n",
       "1  1  2\n",
       "2  2  3"
      ]
     },
     "execution_count": 52,
     "metadata": {},
     "output_type": "execute_result"
    }
   ],
   "source": [
    "df = pd.DataFrame({'A': range(3), 'B': range(1, 4)})\n",
    "df"
   ]
  },
  {
   "cell_type": "code",
   "execution_count": 53,
   "id": "ab17a942",
   "metadata": {},
   "outputs": [
    {
     "data": {
      "text/html": [
       "<div>\n",
       "<style scoped>\n",
       "    .dataframe tbody tr th:only-of-type {\n",
       "        vertical-align: middle;\n",
       "    }\n",
       "\n",
       "    .dataframe tbody tr th {\n",
       "        vertical-align: top;\n",
       "    }\n",
       "\n",
       "    .dataframe thead th {\n",
       "        text-align: right;\n",
       "    }\n",
       "</style>\n",
       "<table border=\"1\" class=\"dataframe\">\n",
       "  <thead>\n",
       "    <tr style=\"text-align: right;\">\n",
       "      <th></th>\n",
       "      <th>A</th>\n",
       "      <th>B</th>\n",
       "    </tr>\n",
       "  </thead>\n",
       "  <tbody>\n",
       "    <tr>\n",
       "      <th>0</th>\n",
       "      <td>1</td>\n",
       "      <td>2</td>\n",
       "    </tr>\n",
       "    <tr>\n",
       "      <th>1</th>\n",
       "      <td>2</td>\n",
       "      <td>3</td>\n",
       "    </tr>\n",
       "    <tr>\n",
       "      <th>2</th>\n",
       "      <td>3</td>\n",
       "      <td>4</td>\n",
       "    </tr>\n",
       "  </tbody>\n",
       "</table>\n",
       "</div>"
      ],
      "text/plain": [
       "   A  B\n",
       "0  1  2\n",
       "1  2  3\n",
       "2  3  4"
      ]
     },
     "execution_count": 53,
     "metadata": {},
     "output_type": "execute_result"
    }
   ],
   "source": [
    "df.transform(lambda x:x+1)"
   ]
  },
  {
   "cell_type": "code",
   "execution_count": 55,
   "id": "4ca51937",
   "metadata": {},
   "outputs": [
    {
     "data": {
      "text/html": [
       "<div>\n",
       "<style scoped>\n",
       "    .dataframe tbody tr th:only-of-type {\n",
       "        vertical-align: middle;\n",
       "    }\n",
       "\n",
       "    .dataframe tbody tr th {\n",
       "        vertical-align: top;\n",
       "    }\n",
       "\n",
       "    .dataframe thead tr th {\n",
       "        text-align: left;\n",
       "    }\n",
       "</style>\n",
       "<table border=\"1\" class=\"dataframe\">\n",
       "  <thead>\n",
       "    <tr>\n",
       "      <th></th>\n",
       "      <th colspan=\"2\" halign=\"left\">A</th>\n",
       "      <th colspan=\"2\" halign=\"left\">B</th>\n",
       "    </tr>\n",
       "    <tr>\n",
       "      <th></th>\n",
       "      <th>sqrt</th>\n",
       "      <th>exp</th>\n",
       "      <th>sqrt</th>\n",
       "      <th>exp</th>\n",
       "    </tr>\n",
       "  </thead>\n",
       "  <tbody>\n",
       "    <tr>\n",
       "      <th>0</th>\n",
       "      <td>0.000000</td>\n",
       "      <td>1.000000</td>\n",
       "      <td>1.000000</td>\n",
       "      <td>2.718282</td>\n",
       "    </tr>\n",
       "    <tr>\n",
       "      <th>1</th>\n",
       "      <td>1.000000</td>\n",
       "      <td>2.718282</td>\n",
       "      <td>1.414214</td>\n",
       "      <td>7.389056</td>\n",
       "    </tr>\n",
       "    <tr>\n",
       "      <th>2</th>\n",
       "      <td>1.414214</td>\n",
       "      <td>7.389056</td>\n",
       "      <td>1.732051</td>\n",
       "      <td>20.085537</td>\n",
       "    </tr>\n",
       "  </tbody>\n",
       "</table>\n",
       "</div>"
      ],
      "text/plain": [
       "          A                   B           \n",
       "       sqrt       exp      sqrt        exp\n",
       "0  0.000000  1.000000  1.000000   2.718282\n",
       "1  1.000000  2.718282  1.414214   7.389056\n",
       "2  1.414214  7.389056  1.732051  20.085537"
      ]
     },
     "execution_count": 55,
     "metadata": {},
     "output_type": "execute_result"
    }
   ],
   "source": [
    "import numpy as np\n",
    "df.transform([np.sqrt,np.exp])"
   ]
  },
  {
   "cell_type": "code",
   "execution_count": 56,
   "id": "2d540040",
   "metadata": {},
   "outputs": [
    {
     "data": {
      "text/html": [
       "<div>\n",
       "<style scoped>\n",
       "    .dataframe tbody tr th:only-of-type {\n",
       "        vertical-align: middle;\n",
       "    }\n",
       "\n",
       "    .dataframe tbody tr th {\n",
       "        vertical-align: top;\n",
       "    }\n",
       "\n",
       "    .dataframe thead th {\n",
       "        text-align: right;\n",
       "    }\n",
       "</style>\n",
       "<table border=\"1\" class=\"dataframe\">\n",
       "  <thead>\n",
       "    <tr style=\"text-align: right;\">\n",
       "      <th></th>\n",
       "      <th>Date</th>\n",
       "      <th>Data</th>\n",
       "    </tr>\n",
       "  </thead>\n",
       "  <tbody>\n",
       "    <tr>\n",
       "      <th>0</th>\n",
       "      <td>2015-05-08</td>\n",
       "      <td>5</td>\n",
       "    </tr>\n",
       "    <tr>\n",
       "      <th>1</th>\n",
       "      <td>2015-05-07</td>\n",
       "      <td>8</td>\n",
       "    </tr>\n",
       "    <tr>\n",
       "      <th>2</th>\n",
       "      <td>2015-05-06</td>\n",
       "      <td>6</td>\n",
       "    </tr>\n",
       "    <tr>\n",
       "      <th>3</th>\n",
       "      <td>2015-05-05</td>\n",
       "      <td>1</td>\n",
       "    </tr>\n",
       "    <tr>\n",
       "      <th>4</th>\n",
       "      <td>2015-05-08</td>\n",
       "      <td>50</td>\n",
       "    </tr>\n",
       "    <tr>\n",
       "      <th>5</th>\n",
       "      <td>2015-05-07</td>\n",
       "      <td>100</td>\n",
       "    </tr>\n",
       "    <tr>\n",
       "      <th>6</th>\n",
       "      <td>2015-05-06</td>\n",
       "      <td>60</td>\n",
       "    </tr>\n",
       "    <tr>\n",
       "      <th>7</th>\n",
       "      <td>2015-05-05</td>\n",
       "      <td>120</td>\n",
       "    </tr>\n",
       "  </tbody>\n",
       "</table>\n",
       "</div>"
      ],
      "text/plain": [
       "         Date  Data\n",
       "0  2015-05-08     5\n",
       "1  2015-05-07     8\n",
       "2  2015-05-06     6\n",
       "3  2015-05-05     1\n",
       "4  2015-05-08    50\n",
       "5  2015-05-07   100\n",
       "6  2015-05-06    60\n",
       "7  2015-05-05   120"
      ]
     },
     "execution_count": 56,
     "metadata": {},
     "output_type": "execute_result"
    }
   ],
   "source": [
    "df = pd.DataFrame({\n",
    "    \"Date\": [\n",
    "        \"2015-05-08\", \"2015-05-07\", \"2015-05-06\", \"2015-05-05\",\n",
    "        \"2015-05-08\", \"2015-05-07\", \"2015-05-06\", \"2015-05-05\"],\n",
    "    \"Data\": [5, 8, 6, 1, 50, 100, 60, 120],\n",
    "})\n",
    "df"
   ]
  },
  {
   "cell_type": "code",
   "execution_count": 57,
   "id": "522da313",
   "metadata": {},
   "outputs": [
    {
     "data": {
      "text/plain": [
       "0     55\n",
       "1    108\n",
       "2     66\n",
       "3    121\n",
       "4     55\n",
       "5    108\n",
       "6     66\n",
       "7    121\n",
       "Name: Data, dtype: int64"
      ]
     },
     "execution_count": 57,
     "metadata": {},
     "output_type": "execute_result"
    }
   ],
   "source": [
    "df.groupby('Date')['Data'].transform('sum')"
   ]
  },
  {
   "cell_type": "code",
   "execution_count": 64,
   "id": "482125ac",
   "metadata": {},
   "outputs": [
    {
     "name": "stderr",
     "output_type": "stream",
     "text": [
      "C:\\Users\\shivam kumar gupta\\AppData\\Local\\Temp\\ipykernel_27372\\1999208918.py:1: FutureWarning: Dropping of nuisance columns in rolling operations is deprecated; in a future version this will raise TypeError. Select only valid columns before calling the operation. Dropped columns were Index(['Date'], dtype='object')\n",
      "  v=df.rolling(2).sum()\n"
     ]
    },
    {
     "data": {
      "text/html": [
       "<div>\n",
       "<style scoped>\n",
       "    .dataframe tbody tr th:only-of-type {\n",
       "        vertical-align: middle;\n",
       "    }\n",
       "\n",
       "    .dataframe tbody tr th {\n",
       "        vertical-align: top;\n",
       "    }\n",
       "\n",
       "    .dataframe thead th {\n",
       "        text-align: right;\n",
       "    }\n",
       "</style>\n",
       "<table border=\"1\" class=\"dataframe\">\n",
       "  <thead>\n",
       "    <tr style=\"text-align: right;\">\n",
       "      <th></th>\n",
       "      <th>Data</th>\n",
       "    </tr>\n",
       "  </thead>\n",
       "  <tbody>\n",
       "    <tr>\n",
       "      <th>0</th>\n",
       "      <td>NaN</td>\n",
       "    </tr>\n",
       "    <tr>\n",
       "      <th>1</th>\n",
       "      <td>13.0</td>\n",
       "    </tr>\n",
       "    <tr>\n",
       "      <th>2</th>\n",
       "      <td>14.0</td>\n",
       "    </tr>\n",
       "    <tr>\n",
       "      <th>3</th>\n",
       "      <td>7.0</td>\n",
       "    </tr>\n",
       "    <tr>\n",
       "      <th>4</th>\n",
       "      <td>51.0</td>\n",
       "    </tr>\n",
       "    <tr>\n",
       "      <th>5</th>\n",
       "      <td>150.0</td>\n",
       "    </tr>\n",
       "    <tr>\n",
       "      <th>6</th>\n",
       "      <td>160.0</td>\n",
       "    </tr>\n",
       "    <tr>\n",
       "      <th>7</th>\n",
       "      <td>180.0</td>\n",
       "    </tr>\n",
       "  </tbody>\n",
       "</table>\n",
       "</div>"
      ],
      "text/plain": [
       "    Data\n",
       "0    NaN\n",
       "1   13.0\n",
       "2   14.0\n",
       "3    7.0\n",
       "4   51.0\n",
       "5  150.0\n",
       "6  160.0\n",
       "7  180.0"
      ]
     },
     "execution_count": 64,
     "metadata": {},
     "output_type": "execute_result"
    }
   ],
   "source": [
    "v=df.rolling(2).sum()\n",
    "v"
   ]
  },
  {
   "cell_type": "code",
   "execution_count": 2,
   "id": "ccc9cec1",
   "metadata": {},
   "outputs": [],
   "source": [
    "import matplotlib.pyplot as plt"
   ]
  },
  {
   "cell_type": "code",
   "execution_count": 5,
   "id": "6adfeda4",
   "metadata": {},
   "outputs": [
    {
     "data": {
      "image/png": "[encoded data removed]",
      "text/plain": [
       "<Figure size 640x480 with 1 Axes>"
      ]
     },
     "metadata": {},
     "output_type": "display_data"
    }
   ],
   "source": [
    "x=['A','B','C','D','E']\n",
    "y=[10,20,30,40,5]\n",
    "plt.xlabel('languges')\n",
    "plt.ylabel('rank')\n",
    "plt.title('sdkjfhkjhf')\n",
    "plt.bar(x,y,color='y',align='center',width=0.4,edgecolor='b',linewidth=6,linestyle=':',label='popularity')\n",
    "plt.legend()\n",
    "plt.show()"
   ]
  },
  {
   "cell_type": "code",
   "execution_count": 11,
   "id": "cecee56f",
   "metadata": {},
   "outputs": [
    {
     "data": {
      "image/png": "[encoded data removed]",
      "text/plain": [
       "<Figure size 640x480 with 1 Axes>"
      ]
     },
     "metadata": {},
     "output_type": "display_data"
    }
   ],
   "source": [
    "l=[12,3,56,78,89]\n",
    "l1=[34,2256,3344,6734,78]\n",
    "plt.scatter(l,l1,marker='*')\n",
    "plt.show()"
   ]
  },
  {
   "cell_type": "code",
   "execution_count": 40,
   "id": "61e023f7",
   "metadata": {},
   "outputs": [
    {
     "data": {
      "image/png": "[encoded data removed]",
      "text/plain": [
       "<Figure size 640x480 with 1 Axes>"
      ]
     },
     "metadata": {},
     "output_type": "display_data"
    }
   ],
   "source": [
    "l=[12,435,56,2,3,652,566,238]\n",
    "plt.hist(l,bins=20,edgecolor='r',align='mid',histtype='bar',orientation='horizontal',rwidth=0.18,log=True,label='line',color='r')\n",
    "plt.legend()\n",
    "plt.show()"
   ]
  },
  {
   "cell_type": "code",
   "execution_count": 60,
   "id": "a5acd52b",
   "metadata": {},
   "outputs": [
    {
     "data": {
      "image/png": "[encoded data removed]",
      "text/plain": [
       "<Figure size 640x480 with 1 Axes>"
      ]
     },
     "metadata": {},
     "output_type": "display_data"
    }
   ],
   "source": [
    "x=[10,20,30,40,50,60]\n",
    "y=['c','c++','java','python','R','cotlin']\n",
    "plt.pie(x,labels=y,shadow=True,rotatelabels=True,textprops={'fontsize':15},center=(1,4),counterclock=False,wedgeprops={'linewidth':False})\n",
    "plt.show()"
   ]
  },
  {
   "cell_type": "code",
   "execution_count": 68,
   "id": "9953b4ca",
   "metadata": {},
   "outputs": [
    {
     "data": {
      "image/png": "[encoded data removed]",
      "text/plain": [
       "<Figure size 640x480 with 1 Axes>"
      ]
     },
     "metadata": {},
     "output_type": "display_data"
    }
   ],
   "source": [
    "x=[1,2,3,4,5,6,7,8]\n",
    "y=[23,45,2,67,4,7,8,66]\n",
    "plt.stem(x,y,linefmt=':',bottom=11)\n",
    "\n",
    "plt.show()"
   ]
  },
  {
   "cell_type": "code",
   "execution_count": 79,
   "id": "ddd0e2f9",
   "metadata": {},
   "outputs": [
    {
     "data": {
      "image/png": "[encoded data removed]",
      "text/plain": [
       "<Figure size 640x480 with 1 Axes>"
      ]
     },
     "metadata": {},
     "output_type": "display_data"
    }
   ],
   "source": [
    "x=[10,20,30,40,333,20,55,20]\n",
    "plt.boxplot(x,sym='g+',boxprops=dict(color='r'),capprops=dict(color='b'))\n",
    "plt.show()"
   ]
  },
  {
   "cell_type": "code",
   "execution_count": 82,
   "id": "33a3fb0f",
   "metadata": {},
   "outputs": [
    {
     "name": "stderr",
     "output_type": "stream",
     "text": [
      "E:\\Users\\shivam kumar gupta\\anaconda3\\lib\\site-packages\\seaborn\\_decorators.py:36: FutureWarning: Pass the following variables as keyword args: x, y. From version 0.12, the only valid positional argument will be `data`, and passing other arguments without an explicit keyword will result in an error or misinterpretation.\n",
      "  warnings.warn(\n"
     ]
    },
    {
     "data": {
      "image/png": "[encoded data removed]",
      "text/plain": [
       "<Figure size 640x480 with 1 Axes>"
      ]
     },
     "metadata": {},
     "output_type": "display_data"
    }
   ],
   "source": [
    "import seaborn as sns\n",
    "import matplotlib.pyplot as plt\n",
    "x7=[12,34,465,23,5,2]\n",
    "x1=[2,3,5,6,7,5]\n",
    "sns.lineplot(x7,x1)\n",
    "plt.show()"
   ]
  },
  {
   "cell_type": "code",
   "execution_count": 91,
   "id": "47455d60",
   "metadata": {},
   "outputs": [
    {
     "data": {
      "image/png": "[encoded data removed]",
      "text/plain": [
       "<Figure size 640x480 with 1 Axes>"
      ]
     },
     "metadata": {},
     "output_type": "display_data"
    }
   ],
   "source": [
    "import seaborn as sns\n",
    "x7=[12,34,465,23,5,2]\n",
    "x1=[2,3,5,6,7,5]\n",
    "plt.plot(x7,x1)\n",
    "plt.show()"
   ]
  },
  {
   "cell_type": "code",
   "execution_count": 94,
   "id": "ff52ee9a",
   "metadata": {},
   "outputs": [
    {
     "data": {
      "text/html": [
       "<div>\n",
       "<style scoped>\n",
       "    .dataframe tbody tr th:only-of-type {\n",
       "        vertical-align: middle;\n",
       "    }\n",
       "\n",
       "    .dataframe tbody tr th {\n",
       "        vertical-align: top;\n",
       "    }\n",
       "\n",
       "    .dataframe thead th {\n",
       "        text-align: right;\n",
       "    }\n",
       "</style>\n",
       "<table border=\"1\" class=\"dataframe\">\n",
       "  <thead>\n",
       "    <tr style=\"text-align: right;\">\n",
       "      <th></th>\n",
       "      <th>Date</th>\n",
       "      <th>Open</th>\n",
       "      <th>High</th>\n",
       "      <th>Low</th>\n",
       "      <th>Close</th>\n",
       "      <th>Adj Close</th>\n",
       "      <th>Volume</th>\n",
       "    </tr>\n",
       "  </thead>\n",
       "  <tbody>\n",
       "    <tr>\n",
       "      <th>0</th>\n",
       "      <td>1997-05-15</td>\n",
       "      <td>2.437500</td>\n",
       "      <td>2.500000</td>\n",
       "      <td>1.927083</td>\n",
       "      <td>1.958333</td>\n",
       "      <td>1.958333</td>\n",
       "      <td>72156000</td>\n",
       "    </tr>\n",
       "    <tr>\n",
       "      <th>1</th>\n",
       "      <td>1997-05-16</td>\n",
       "      <td>1.968750</td>\n",
       "      <td>1.979167</td>\n",
       "      <td>1.708333</td>\n",
       "      <td>1.729167</td>\n",
       "      <td>1.729167</td>\n",
       "      <td>14700000</td>\n",
       "    </tr>\n",
       "    <tr>\n",
       "      <th>2</th>\n",
       "      <td>1997-05-19</td>\n",
       "      <td>1.760417</td>\n",
       "      <td>1.770833</td>\n",
       "      <td>1.625000</td>\n",
       "      <td>1.708333</td>\n",
       "      <td>1.708333</td>\n",
       "      <td>6106800</td>\n",
       "    </tr>\n",
       "    <tr>\n",
       "      <th>3</th>\n",
       "      <td>1997-05-20</td>\n",
       "      <td>1.729167</td>\n",
       "      <td>1.750000</td>\n",
       "      <td>1.635417</td>\n",
       "      <td>1.635417</td>\n",
       "      <td>1.635417</td>\n",
       "      <td>5467200</td>\n",
       "    </tr>\n",
       "    <tr>\n",
       "      <th>4</th>\n",
       "      <td>1997-05-21</td>\n",
       "      <td>1.635417</td>\n",
       "      <td>1.645833</td>\n",
       "      <td>1.375000</td>\n",
       "      <td>1.427083</td>\n",
       "      <td>1.427083</td>\n",
       "      <td>18853200</td>\n",
       "    </tr>\n",
       "    <tr>\n",
       "      <th>...</th>\n",
       "      <td>...</td>\n",
       "      <td>...</td>\n",
       "      <td>...</td>\n",
       "      <td>...</td>\n",
       "      <td>...</td>\n",
       "      <td>...</td>\n",
       "      <td>...</td>\n",
       "    </tr>\n",
       "    <tr>\n",
       "      <th>6292</th>\n",
       "      <td>2022-05-16</td>\n",
       "      <td>2262.000000</td>\n",
       "      <td>2279.850098</td>\n",
       "      <td>2207.080078</td>\n",
       "      <td>2216.209961</td>\n",
       "      <td>2216.209961</td>\n",
       "      <td>3728300</td>\n",
       "    </tr>\n",
       "    <tr>\n",
       "      <th>6293</th>\n",
       "      <td>2022-05-17</td>\n",
       "      <td>2265.500000</td>\n",
       "      <td>2316.000000</td>\n",
       "      <td>2225.530029</td>\n",
       "      <td>2307.370117</td>\n",
       "      <td>2307.370117</td>\n",
       "      <td>3822400</td>\n",
       "    </tr>\n",
       "    <tr>\n",
       "      <th>6294</th>\n",
       "      <td>2022-05-18</td>\n",
       "      <td>2228.790039</td>\n",
       "      <td>2257.060059</td>\n",
       "      <td>2124.979980</td>\n",
       "      <td>2142.250000</td>\n",
       "      <td>2142.250000</td>\n",
       "      <td>5419000</td>\n",
       "    </tr>\n",
       "    <tr>\n",
       "      <th>6295</th>\n",
       "      <td>2022-05-19</td>\n",
       "      <td>2125.610107</td>\n",
       "      <td>2200.679932</td>\n",
       "      <td>2123.860107</td>\n",
       "      <td>2146.379883</td>\n",
       "      <td>2146.379883</td>\n",
       "      <td>4407100</td>\n",
       "    </tr>\n",
       "    <tr>\n",
       "      <th>6296</th>\n",
       "      <td>2022-05-20</td>\n",
       "      <td>2191.370117</td>\n",
       "      <td>2197.959961</td>\n",
       "      <td>2100.189941</td>\n",
       "      <td>2151.820068</td>\n",
       "      <td>2151.820068</td>\n",
       "      <td>4968200</td>\n",
       "    </tr>\n",
       "  </tbody>\n",
       "</table>\n",
       "<p>6297 rows × 7 columns</p>\n",
       "</div>"
      ],
      "text/plain": [
       "            Date         Open         High          Low        Close  \\\n",
       "0     1997-05-15     2.437500     2.500000     1.927083     1.958333   \n",
       "1     1997-05-16     1.968750     1.979167     1.708333     1.729167   \n",
       "2     1997-05-19     1.760417     1.770833     1.625000     1.708333   \n",
       "3     1997-05-20     1.729167     1.750000     1.635417     1.635417   \n",
       "4     1997-05-21     1.635417     1.645833     1.375000     1.427083   \n",
       "...          ...          ...          ...          ...          ...   \n",
       "6292  2022-05-16  2262.000000  2279.850098  2207.080078  2216.209961   \n",
       "6293  2022-05-17  2265.500000  2316.000000  2225.530029  2307.370117   \n",
       "6294  2022-05-18  2228.790039  2257.060059  2124.979980  2142.250000   \n",
       "6295  2022-05-19  2125.610107  2200.679932  2123.860107  2146.379883   \n",
       "6296  2022-05-20  2191.370117  2197.959961  2100.189941  2151.820068   \n",
       "\n",
       "        Adj Close    Volume  \n",
       "0        1.958333  72156000  \n",
       "1        1.729167  14700000  \n",
       "2        1.708333   6106800  \n",
       "3        1.635417   5467200  \n",
       "4        1.427083  18853200  \n",
       "...           ...       ...  \n",
       "6292  2216.209961   3728300  \n",
       "6293  2307.370117   3822400  \n",
       "6294  2142.250000   5419000  \n",
       "6295  2146.379883   4407100  \n",
       "6296  2151.820068   4968200  \n",
       "\n",
       "[6297 rows x 7 columns]"
      ]
     },
     "execution_count": 94,
     "metadata": {},
     "output_type": "execute_result"
    }
   ],
   "source": [
    "import pandas as pd\n",
    "data=pd.read_csv('C:\\\\Users\\\\shivam kumar gupta\\\\Downloads\\\\Amazon.csv')\n",
    "data"
   ]
  },
  {
   "cell_type": "code",
   "execution_count": 109,
   "id": "67a24d74",
   "metadata": {},
   "outputs": [
    {
     "name": "stderr",
     "output_type": "stream",
     "text": [
      "E:\\Users\\shivam kumar gupta\\anaconda3\\lib\\site-packages\\seaborn\\distributions.py:2619: FutureWarning: `distplot` is a deprecated function and will be removed in a future version. Please adapt your code to use either `displot` (a figure-level function with similar flexibility) or `histplot` (an axes-level function for histograms).\n",
      "  warnings.warn(msg, FutureWarning)\n",
      "E:\\Users\\shivam kumar gupta\\anaconda3\\lib\\site-packages\\seaborn\\distributions.py:2103: FutureWarning: The `axis` variable is no longer used and will be removed. Instead, assign variables directly to `x` or `y`.\n",
      "  warnings.warn(msg, FutureWarning)\n"
     ]
    },
    {
     "data": {
      "text/plain": [
       "<AxesSubplot:xlabel='Low', ylabel='Density'>"
      ]
     },
     "execution_count": 109,
     "metadata": {},
     "output_type": "execute_result"
    },
    {
     "data": {
      "image/png": "[encoded data removed]",
      "text/plain": [
       "<Figure size 640x480 with 1 Axes>"
      ]
     },
     "metadata": {},
     "output_type": "display_data"
    }
   ],
   "source": [
    "sns.distplot(data['Low'],kde=True,rug=True)"
   ]
  },
  {
   "cell_type": "code",
   "execution_count": null,
   "id": "5eb8eea3",
   "metadata": {},
   "outputs": [],
   "source": []
  }
 ],
 "metadata": {
  "kernelspec": {
   "display_name": "Python 3 (ipykernel)",
   "language": "python",
   "name": "python3"
  },
  "language_info": {
   "codemirror_mode": {
    "name": "ipython",
    "version": 3
   },
   "file_extension": ".py",
   "mimetype": "text/x-python",
   "name": "python",
   "nbconvert_exporter": "python",
   "pygments_lexer": "ipython3",
   "version": "3.9.13"
  }
 },
 "nbformat": 4,
 "nbformat_minor": 5
}
